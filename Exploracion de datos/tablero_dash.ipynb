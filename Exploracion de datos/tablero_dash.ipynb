{
 "cells": [
  {
   "cell_type": "code",
   "execution_count": 1,
   "metadata": {},
   "outputs": [],
   "source": [
    "# Librerias utiles\n",
    "import pandas as pd \n",
    "import numpy as np \n",
    "import matplotlib.pyplot as plt \n",
    "import plotly\n",
    "import seaborn as sns \n",
    "import plotly.express as px\n",
    "import missingno as msno\n",
    "import plotly.io as pio\n",
    "import plotly.graph_objects as go\n",
    "from mapsmx import MapsMX\n",
    "import geopandas\n",
    "import pyproj\n",
    "import json\n",
    "import dash\n",
    "from dash import dcc\n",
    "from dash import html\n",
    "from dash.dependencies import Input, Output\n",
    "sns.set_theme()"
   ]
  },
  {
   "cell_type": "code",
   "execution_count": 2,
   "metadata": {},
   "outputs": [],
   "source": [
    "app = dash.Dash()"
   ]
  },
  {
   "cell_type": "markdown",
   "metadata": {},
   "source": [
    "## Load dfs and clean"
   ]
  },
  {
   "cell_type": "code",
   "execution_count": 3,
   "metadata": {},
   "outputs": [],
   "source": [
    "feminicidios = pd.read_csv('../BD-sucias/feminicidios-corregida.csv', low_memory=False)\n",
    "feminicidios.fecha_recepcion = pd.to_datetime(feminicidios.fecha_recepcion, format='%d/%m/%Y', errors='ignore')\n",
    "feminicidios['año_recepcion'] = feminicidios['fecha_recepcion'].dt.year\n",
    "nas = feminicidios[(feminicidios.TipoRelacion.isna()==True)|(feminicidios.TipoRelacion=='Seleccione')].index\n",
    "feminicidios.loc[nas,'TipoRelacion'] = 'Desconocido'\n",
    "com = feminicidios[(feminicidios.TipoRelacion=='En la comunidad')].index\n",
    "feminicidios.loc[com,'TipoRelacion'] = 'Comunidad'"
   ]
  },
  {
   "cell_type": "code",
   "execution_count": 4,
   "metadata": {},
   "outputs": [],
   "source": [
    "servicios = pd.read_csv('../BD-sucias/servicios_11_OCTUBRE_2021.csv', low_memory=False)"
   ]
  },
  {
   "cell_type": "code",
   "execution_count": 5,
   "metadata": {},
   "outputs": [],
   "source": [
    "victimas = pd.read_csv('reportes/reporte_semujeres_11_OCTUBRE_2021.csv',low_memory=False, dtype={'pk_perfil_agresor': 'object','num_hijos':'int32'}, parse_dates=['fecha_recepcion','fecha_hechos'])"
   ]
  },
  {
   "cell_type": "code",
   "execution_count": 6,
   "metadata": {},
   "outputs": [],
   "source": [
    "victimas = pd.concat([victimas, victimas.tipos.str.get_dummies(sep=',')], axis=1)\n",
    "victimas['Feminicida']=0\n",
    "fems = victimas[victimas['descripcion_otro_tipos']=='FEMINICIDA'].index\n",
    "victimas.loc[fems,'Feminicida'] = 1\n",
    "victimas.loc[fems,'Otro'] = 0"
   ]
  },
  {
   "cell_type": "code",
   "execution_count": 7,
   "metadata": {},
   "outputs": [],
   "source": [
    "validez = victimas[victimas.escolaridad=='Estudios que no requieren validéz oficial'].index\n",
    "tecnica = victimas[victimas.escolaridad=='Carrera técnica comercial'].index\n",
    "victimas.loc[validez,'escolaridad']='Sin validez'\n",
    "victimas.loc[tecnica,'escolaridad']='Carrera técnica'"
   ]
  },
  {
   "cell_type": "code",
   "execution_count": 8,
   "metadata": {},
   "outputs": [],
   "source": [
    "feminicidios = feminicidios.merge(victimas[['fk_euv','Edad Agresor']], left_on='fk_euv', right_on='fk_euv', how='left')\n",
    "feminicidios = feminicidios.drop_duplicates(keep='last')\n",
    "feminicidios = feminicidios.reset_index(drop=True)\n",
    "fem_agrav = feminicidios[feminicidios.Sentencia.isin(['FEMINICIDIO AGRAVADO','FEMINICIDIO'])].index\n",
    "feminicidios.loc[fem_agrav,'Sentencia']='FEMINICIDIO'\n",
    "fem_agrav = feminicidios[feminicidios.Sentencia.isin(['FEMINICIDIO AGRAVADO EN GRADO DE TENTATIVA','FEMINICIDIO EN GRADO DE TENTATIVA'])].index\n",
    "feminicidios.loc[fem_agrav,'Sentencia']='TENTATIVA DE FEMINICIDIO'"
   ]
  },
  {
   "cell_type": "code",
   "execution_count": 9,
   "metadata": {},
   "outputs": [],
   "source": [
    "subtipo = pd.read_csv('../BD-sucias/subtipo_01_OCTUBRE_2021.csv', low_memory=False)\n",
    "subtipo.fecha_recepcion = pd.to_datetime(subtipo.fecha_recepcion, format='%d/%m/%Y', errors='ignore')\n",
    "subtipo.fecha_hechos = pd.to_datetime(subtipo.fecha_hechos, format='%d/%m/%Y', errors='ignore')\n",
    "subtipo = subtipo.dropna()\n",
    "selecciones = subtipo[subtipo.SubtipoOrd=='Seleccione'].index\n",
    "subtipo.loc[selecciones, 'SubtipoOrd'] = 'No especificado'"
   ]
  },
  {
   "cell_type": "code",
   "execution_count": 10,
   "metadata": {},
   "outputs": [],
   "source": [
    "state = MapsMX().get_geo('state')\n",
    "muns = MapsMX().get_geo('municipality')\n",
    "yuc = muns[muns['cve_ent']=='31']"
   ]
  },
  {
   "cell_type": "markdown",
   "metadata": {},
   "source": [
    "# Dashboard"
   ]
  },
  {
   "cell_type": "markdown",
   "metadata": {},
   "source": [
    "## Layout"
   ]
  },
  {
   "cell_type": "code",
   "execution_count": 11,
   "metadata": {},
   "outputs": [],
   "source": [
    "app.layout = html.Div(\n",
    "    children=[\n",
    "        html.H1(children=\"SEMUJERES TABLERO\",),\n",
    "        html.P(\n",
    "            children=\"Texto de prueba\",\n",
    "        ),\n",
    "        html.Div(\n",
    "            children=[\n",
    "                html.Div(\n",
    "                    children=[\n",
    "                        html.Div(children=\"Dependencia de recepcion\", className=\"menu-title\"),\n",
    "                        dcc.Dropdown(\n",
    "                            id=\"dependencia-filter\",\n",
    "                            options=[\n",
    "                                {\"label\": dep, \"value\": dep}\n",
    "                                for dep in (victimas['Dependencia de recepcion'].unique())\n",
    "                            ],\n",
    "                            value='172 - SECRETARÍA DE LAS MUJERES',\n",
    "                            multi=False,\n",
    "                            clearable=False,\n",
    "                            #className=\"dropdown\",\n",
    "                        ),\n",
    "                    ]\n",
    "                ),\n",
    "                #html.Div(\n",
    "                    #children=[\n",
    "                        #html.Div(children=\"Municipio\", className=\"menu-title\"),\n",
    "                        #dcc.Dropdown(\n",
    "                            #id=\"municipio-filter\",\n",
    "                            #options=[\n",
    "                                #{\"label\": mun, \"value\": mun}\n",
    "                                #for mun in victimas.municipiohechos.unique()\n",
    "                            #],\n",
    "                            #value=[mun for mun in victimas.municipiohechos.unique()],\n",
    "                            #multi=True,\n",
    "                            #clearable=True,\n",
    "                            #searchable=True,\n",
    "                            #className=\"dropdown\",\n",
    "                        #),\n",
    "                    #],\n",
    "                #),\n",
    "                html.Div(\n",
    "                    children=[\n",
    "                        html.Div(\n",
    "                            children=\"Date Range\",\n",
    "                            className=\"menu-title\"\n",
    "                            ),\n",
    "                        dcc.DatePickerRange(\n",
    "                            id=\"date-range\",\n",
    "                            min_date_allowed=victimas.fecha_recepcion.min(),\n",
    "                            max_date_allowed=victimas.fecha_recepcion.max(),\n",
    "                            start_date=victimas.fecha_recepcion.min(),\n",
    "                            end_date=victimas.fecha_recepcion.max(),\n",
    "                        ),\n",
    "                    ]\n",
    "                ),\n",
    "            ],\n",
    "            className=\"menu\",\n",
    "        ),\n",
    "        dcc.Graph(\n",
    "            id = 'map_1',  \n",
    "        ),\n",
    "        dcc.Graph(\n",
    "            id = 'fig_1',  \n",
    "        ),\n",
    "        dcc.Graph(\n",
    "            id = 'fig_2',  \n",
    "        ),\n",
    "    ]\n",
    ")"
   ]
  },
  {
   "cell_type": "code",
   "execution_count": 12,
   "metadata": {},
   "outputs": [],
   "source": [
    "@app.callback(\n",
    "    [   Output('fig_1', \"figure\"),\n",
    "        Output('map_1', \"figure\"),\n",
    "        Output('fig_2', \"figure\"),\n",
    "    ],\n",
    "    [\n",
    "        Input(\"dependencia-filter\", \"value\"),\n",
    "        #Input(\"municipio-filter\", \"value\"),\n",
    "        Input(\"date-range\", \"start_date\"),\n",
    "        Input(\"date-range\", \"end_date\"),\n",
    "    ]\n",
    ")\n",
    "def update_charts(dependencia, start_date, end_date):\n",
    "    mask = (\n",
    "        (victimas['Dependencia de recepcion'] == dependencia)\n",
    "        #& (victimas['municipiohechos'].isin(municipio) ==True)\n",
    "        & (victimas.fecha_recepcion >= start_date)\n",
    "        & (victimas.fecha_recepcion <= end_date)\n",
    "    )\n",
    "\n",
    "    filtered_data = victimas.loc[mask, :]\n",
    "    \n",
    "    # Fig 1 - tipos de violencia\n",
    "    tipos = filtered_data.iloc[:,[i for i in range(42,49)]]\n",
    "    tipos = pd.DataFrame(tipos.sum())\n",
    "    tipos = tipos.sort_values(0,ascending=False)\n",
    "    y = tipos[0].values\n",
    "    y_total = len(filtered_data)\n",
    "\n",
    "    fig_1 = px.bar(x=tipos.index,\n",
    "                y=tipos[0],\n",
    "                text= np.round(y/y_total*100,2),\n",
    "                labels = {'x': 'Tipo de violencia', \"y\":'Número de casos', 'text':'Porcentaje'},\n",
    "                color=px.colors.qualitative.Prism[:7],\n",
    "                color_discrete_map=\"identity\",\n",
    "                title='Gráfica 1. Casos de violencia hacia las mujeres por tipo de violencia'\n",
    "                )\n",
    "    fig_1.update_xaxes(type='category')\n",
    "    fig_1.update_layout( xaxis_title=None)\n",
    "    fig_1.update_traces(texttemplate='%{text} %')\n",
    "    fig_1.update_traces(hovertemplate='Tipo de violencia=%{x}<br>Número de casos=%{y}<br>Porcentaje=%{text} %<extra></extra>')\n",
    "\n",
    "    # Map 1 - casos x mun\n",
    "    gdf = geopandas.GeoDataFrame(yuc, geometry='geometry_mun')\n",
    "    \n",
    "    mun_counts = pd.DataFrame(filtered_data.municipiohechos.value_counts())\n",
    "    mun_counts.reset_index(inplace=True)\n",
    "    mun_counts\n",
    "    \n",
    "    gdf = pd.DataFrame(gdf.merge(mun_counts,left_on='nom_mun',right_on='index',how='left'))\n",
    "    gdf = geopandas.GeoDataFrame(gdf, geometry='geometry_mun')\n",
    "    gdf = gdf.set_index('nom_mun')\n",
    "    gdf = gdf.rename(columns={'municipiohechos':'Casos registrados'})\n",
    "    gdf['Casos registrados log'] = np.log10(gdf['Casos registrados'] )\n",
    "    gdf_crs = gdf.to_crs(pyproj.CRS.from_epsg(4326))\n",
    "    #gdf_crs = gdf_crs.fillna(0)\n",
    "\n",
    "    map_1 = px.choropleth(gdf_crs, geojson=gdf_crs.geometry_mun, \n",
    "                    locations=gdf_crs.index, color=\"Casos registrados log\",\n",
    "                    height=500,\n",
    "                   color_continuous_scale=\"Viridis\",\n",
    "                    labels = {'nom_mun':'Municipio', \"Casos registrados log\":'log10'},\n",
    "                    hover_data={\"Casos registrados\":True, \"Casos registrados log\":False},\n",
    "                    title='Mapa 1. Casos Registrados por Municipio',\n",
    "                   )\n",
    "    map_1.update_geos(fitbounds=\"locations\", visible=False)\n",
    "\n",
    "    map_1.update_layout(xaxis=dict(domain=[0, 0.5]), yaxis=dict(domain=[0.25, 0.75]))\n",
    "\n",
    "    map_1.add_annotation(\n",
    "        # The arrow head will be 25% along the x axis, starting from the left\n",
    "        x=0,\n",
    "        # The arrow head will be 40% along the y axis, starting from the bottom\n",
    "        y=0.98,\n",
    "        text=\"<b>Temporalidad:</b> {}-{}<br><b>Total de casos:</b> {}\".format(min(filtered_data.año_recepcion),max(filtered_data.año_recepcion),len(filtered_data)),\n",
    "        showarrow=False,\n",
    "        bordercolor=\"black\",\n",
    "        bgcolor=\"white\",\n",
    "        borderwidth=1.5,\n",
    "        opacity=0.8\n",
    "    )\n",
    "\n",
    "    map_1.update(layout = dict(title=dict(x=0.5)))\n",
    "    map_1.update_layout(\n",
    "        margin={\"r\":0,\"t\":30,\"l\":10,\"b\":10},\n",
    "        coloraxis_colorbar={\n",
    "            'title':'Escala'})\n",
    "    map_1.update_layout(title_y=1, title_x=0)\n",
    "    map_1.update_layout(coloraxis_showscale=True)\n",
    "\n",
    "    # fig 2 - estudios\n",
    "    y_2 = filtered_data.escolaridad.value_counts().values\n",
    "    y_total_2 = sum(y_2)\n",
    "    colors = len(y_2)\n",
    "    fig_2 = px.bar(x=filtered_data.escolaridad.value_counts().index,\n",
    "                    y=filtered_data.escolaridad.value_counts().values,\n",
    "                    text= np.round(y_2/y_total_2*100,2),\n",
    "                    labels = {'x': 'Escolaridad', \"y\":'Número de casos', 'text':'Porcentaje'},\n",
    "                    color=px.colors.qualitative.Prism[:colors],\n",
    "                    color_discrete_map=\"identity\",\n",
    "                    title='Gráfica 2. Estudios Concluidos'\n",
    "                    )\n",
    "    fig_2.update_xaxes(type='category')\n",
    "    fig_2.update_layout(xaxis_title=None)\n",
    "    fig_2.update_traces(texttemplate='%{text} %')\n",
    "\n",
    "    \n",
    "    return fig_1,map_1,fig_2"
   ]
  },
  {
   "cell_type": "code",
   "execution_count": 13,
   "metadata": {},
   "outputs": [
    {
     "data": {
      "text/plain": [
       "\"mask = (\\n        (victimas['Dependencia de recepcion'] == '639 - TSJ-JUZGADO MIXTO CIVIL Y FAMILIAR DE KANASÍN')\\n        #& (victimas['municipiohechos'].isin(municipio) ==True)\\n        & (victimas.fecha_recepcion >= victimas.fecha_recepcion.min())\\n        & (victimas.fecha_recepcion <= victimas.fecha_recepcion.max())\\n    )\\n\\nfiltered_data = victimas.loc[mask, :]\""
      ]
     },
     "execution_count": 13,
     "metadata": {},
     "output_type": "execute_result"
    }
   ],
   "source": [
    "\"\"\"mask = (\n",
    "        (victimas['Dependencia de recepcion'] == '639 - TSJ-JUZGADO MIXTO CIVIL Y FAMILIAR DE KANASÍN')\n",
    "        #& (victimas['municipiohechos'].isin(municipio) ==True)\n",
    "        & (victimas.fecha_recepcion >= victimas.fecha_recepcion.min())\n",
    "        & (victimas.fecha_recepcion <= victimas.fecha_recepcion.max())\n",
    "    )\n",
    "\n",
    "filtered_data = victimas.loc[mask, :]\"\"\"\n"
   ]
  },
  {
   "cell_type": "code",
   "execution_count": 14,
   "metadata": {},
   "outputs": [
    {
     "name": "stdout",
     "output_type": "stream",
     "text": [
      "Dash is running on http://127.0.0.1:8050/\n",
      "\n",
      " * Serving Flask app \"__main__\" (lazy loading)\n",
      " * Environment: production\n",
      "   WARNING: This is a development server. Do not use it in a production deployment.\n",
      "   Use a production WSGI server instead.\n",
      " * Debug mode: off\n"
     ]
    },
    {
     "name": "stderr",
     "output_type": "stream",
     "text": [
      " * Running on http://127.0.0.1:8050/ (Press CTRL+C to quit)\n",
      "127.0.0.1 - - [12/Oct/2021 13:30:08] \"\u001b[37mGET / HTTP/1.1\u001b[0m\" 200 -\n",
      "127.0.0.1 - - [12/Oct/2021 13:30:09] \"\u001b[37mGET /_dash-dependencies HTTP/1.1\u001b[0m\" 200 -\n",
      "127.0.0.1 - - [12/Oct/2021 13:30:09] \"\u001b[37mGET /_dash-layout HTTP/1.1\u001b[0m\" 200 -\n",
      "127.0.0.1 - - [12/Oct/2021 13:30:09] \"\u001b[37mGET /_dash-component-suites/dash/dcc/async-dropdown.js HTTP/1.1\u001b[0m\" 200 -\n",
      "127.0.0.1 - - [12/Oct/2021 13:30:09] \"\u001b[37mGET /_dash-component-suites/dash/dcc/async-datepicker.js HTTP/1.1\u001b[0m\" 200 -\n",
      "127.0.0.1 - - [12/Oct/2021 13:30:09] \"\u001b[37mGET /_dash-component-suites/dash/dcc/async-plotlyjs.js HTTP/1.1\u001b[0m\" 200 -\n",
      "127.0.0.1 - - [12/Oct/2021 13:30:09] \"\u001b[37mGET /_dash-component-suites/dash/dcc/async-graph.js HTTP/1.1\u001b[0m\" 200 -\n",
      "127.0.0.1 - - [12/Oct/2021 13:30:12] \"\u001b[37mPOST /_dash-update-component HTTP/1.1\u001b[0m\" 200 -\n"
     ]
    }
   ],
   "source": [
    "if __name__ == \"__main__\":\n",
    "    app.run_server()"
   ]
  }
 ],
 "metadata": {
  "interpreter": {
   "hash": "76e3749c4d8f143b85e17554ce3ae58a0fcf4212a15be7e0134aaba6048266e3"
  },
  "kernelspec": {
   "display_name": "Python 3.8.5 64-bit ('base': conda)",
   "name": "python3"
  },
  "language_info": {
   "codemirror_mode": {
    "name": "ipython",
    "version": 3
   },
   "file_extension": ".py",
   "mimetype": "text/x-python",
   "name": "python",
   "nbconvert_exporter": "python",
   "pygments_lexer": "ipython3",
   "version": "3.8.5"
  },
  "orig_nbformat": 4
 },
 "nbformat": 4,
 "nbformat_minor": 2
}
