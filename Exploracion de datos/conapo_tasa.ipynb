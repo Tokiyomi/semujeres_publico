{
 "cells": [
  {
   "cell_type": "code",
   "execution_count": 1,
   "metadata": {},
   "outputs": [],
   "source": [
    "# Librerias utiles\n",
    "import pandas as pd \n",
    "import numpy as np \n",
    "import matplotlib.pyplot as plt \n",
    "import plotly\n",
    "#import seaborn as sns \n",
    "import plotly.express as px\n",
    "import missingno as msno\n",
    "import plotly.io as pio\n",
    "import plotly.graph_objects as go\n",
    "from mapsmx import MapsMX\n",
    "import geopandas\n",
    "import pyproj\n",
    "import json\n",
    "#sns.set_theme()"
   ]
  },
  {
   "cell_type": "code",
   "execution_count": 2,
   "metadata": {},
   "outputs": [],
   "source": [
    "state = MapsMX().get_geo('state')\n",
    "muns = MapsMX().get_geo('municipality')\n",
    "yuc = muns[muns['cve_ent']=='31']"
   ]
  },
  {
   "cell_type": "code",
   "execution_count": 3,
   "metadata": {},
   "outputs": [],
   "source": [
    "victimas = pd.read_csv('reportes/reporte_semujeres_11_OCTUBRE_2021.csv',low_memory=False, dtype={'pk_perfil_agresor': 'object','num_hijos':'int32'}, parse_dates=['fecha_recepcion','fecha_hechos'])"
   ]
  },
  {
   "cell_type": "code",
   "execution_count": null,
   "metadata": {},
   "outputs": [],
   "source": [
    "victimas_2020 = victimas[victimas.año_recepcion==2020]"
   ]
  },
  {
   "cell_type": "code",
   "execution_count": null,
   "metadata": {},
   "outputs": [],
   "source": [
    "victimas_2019 = victimas[victimas.año_recepcion==2019]"
   ]
  },
  {
   "cell_type": "code",
   "execution_count": null,
   "metadata": {},
   "outputs": [],
   "source": [
    "# censo poblacion y vivienda 2020 inegi\n",
    "inegi_2020 = pd.read_csv('censo_yuc.csv')\n",
    "pob_fem = inegi_2020[inegi_2020.NOM_LOC=='Total del Municipio'][['MUN','NOM_MUN','POBFEM' ]].reset_index(drop=True)"
   ]
  },
  {
   "cell_type": "code",
   "execution_count": null,
   "metadata": {},
   "outputs": [],
   "source": [
    "casos_2020 = victimas_2020.groupby('municipiohechos')['fk_euv'].count()\n",
    "casos_2020 = yuc[['geometry_mun','nom_mun']].merge(casos_2020, right_on=casos_2020.index, left_on='nom_mun', how='left')\n",
    "casos_2020.fillna(0,inplace=True)\n",
    "casos_2020['fk_euv']=casos_2020['fk_euv'].astype(int)\n",
    "casos_2020 = casos_2020.rename(columns={'fk_euv':'casos_2020'})"
   ]
  },
  {
   "cell_type": "code",
   "execution_count": null,
   "metadata": {},
   "outputs": [],
   "source": [
    "casos_2019 = victimas_2019.groupby('municipiohechos')['fk_euv'].count()\n",
    "casos_2019 = yuc[['geometry_mun','nom_mun']].merge(casos_2019, right_on=casos_2019.index, left_on='nom_mun', how='left')\n",
    "casos_2019.fillna(0,inplace=True)\n",
    "casos_2019['fk_euv']=casos_2019['fk_euv'].astype(int)\n",
    "casos_2019 = casos_2019.rename(columns={'fk_euv':'casos_2019'})"
   ]
  },
  {
   "cell_type": "code",
   "execution_count": null,
   "metadata": {},
   "outputs": [],
   "source": [
    "dif_casos = casos_2020.merge(casos_2019[['nom_mun','casos_2019']], left_on='nom_mun', right_on='nom_mun', how='left')"
   ]
  },
  {
   "cell_type": "code",
   "execution_count": null,
   "metadata": {},
   "outputs": [],
   "source": [
    "dif_casos"
   ]
  },
  {
   "cell_type": "code",
   "execution_count": null,
   "metadata": {},
   "outputs": [],
   "source": [
    "var = round(dif_casos[['casos_2019','casos_2020']].pct_change(axis='columns')*100,2)\n",
    "dif_casos = dif_casos.merge(var['casos_2020'], left_on=dif_casos.index, right_on=var.index, how='left')\n",
    "dif_casos.drop(columns=['key_0'], inplace=True)"
   ]
  },
  {
   "cell_type": "code",
   "execution_count": null,
   "metadata": {},
   "outputs": [],
   "source": [
    "dif_casos = dif_casos.rename(columns={'casos_2020_y':'Variación'})"
   ]
  },
  {
   "cell_type": "code",
   "execution_count": null,
   "metadata": {},
   "outputs": [],
   "source": [
    "dif_casos"
   ]
  },
  {
   "cell_type": "code",
   "execution_count": null,
   "metadata": {},
   "outputs": [],
   "source": [
    "total_casos=dif_casos.casos_2020_x.sum()+dif_casos.casos_2019.sum()\n",
    "total_casos"
   ]
  },
  {
   "cell_type": "code",
   "execution_count": null,
   "metadata": {},
   "outputs": [],
   "source": [
    "gdf = geopandas.GeoDataFrame(dif_casos, geometry='geometry_mun')\n",
    "gdf = gdf.set_index('nom_mun')\n",
    "gdf = gdf.to_crs(pyproj.CRS.from_epsg(4326))"
   ]
  },
  {
   "cell_type": "code",
   "execution_count": null,
   "metadata": {},
   "outputs": [],
   "source": [
    "inf = gdf[gdf.Variación.isin([np.inf])].index\n",
    "gdf.loc[inf,'Variación']=gdf.loc[inf,'casos_2020_x']*100"
   ]
  },
  {
   "cell_type": "code",
   "execution_count": null,
   "metadata": {},
   "outputs": [],
   "source": [
    "gdf['total'] = gdf['casos_2020_x'] + gdf['casos_2019']"
   ]
  },
  {
   "cell_type": "code",
   "execution_count": null,
   "metadata": {},
   "outputs": [],
   "source": [
    "gdf"
   ]
  },
  {
   "cell_type": "code",
   "execution_count": null,
   "metadata": {},
   "outputs": [],
   "source": [
    "fig = px.choropleth_mapbox(gdf, geojson=gdf.geometry_mun, \n",
    "                    locations=gdf.index, color=\"Variación\",\n",
    "                    color_continuous_scale=\"RdBu_r\",\n",
    "                    labels={'nom_mun': 'Municipio',\"casos_2020_x\":'Casos 2020','casos_2019':'Casos 2019' },\n",
    "                    #color_continuous_midpoint=np.average(gdf['Variación']),\n",
    "                    #color_continuous_midpoint=0,\n",
    "                    #labels = {'nom_mun':'Municipio', 'municipioV':'Víctimas','EdadVictima':'Edades','tipos':'Violencias','año_recepcion':'Años','TipoRelacion':'Relación','pk_perfil_agresor':'pk agresor'},\n",
    "                    hover_data={\"casos_2020_x\":True,'casos_2019':True },\n",
    "                    title='Mapa 5. Variación porcentual de casos registrados',\n",
    "                    #color_continuous_midpoint=np.average(victimas['Edad']),\n",
    "                    center={\"lat\": 20.400417, \"lon\": -89.134857},\n",
    "                    mapbox_style=\"carto-positron\", \n",
    "                    zoom=7.5,\n",
    "                    #opacity=0.8,\n",
    "                    )\n",
    "fig.update_geos(fitbounds=\"locations\", visible=False)\n",
    "\n",
    "#fig.update_layout(xaxis=dict(domain=[0, 0.5]), yaxis=dict(domain=[0.25, 0.75]))\n",
    "\n",
    "fig.add_annotation(\n",
    "    # The arrow head will be 25% along the x axis, starting from the left\n",
    "    x=0,\n",
    "    # The arrow head will be 40% along the y axis, starting from the bottom\n",
    "    y=0.98,\n",
    "    text=\"<b>Temporalidad:</b> {}-{}<br><b>Total de casos:</b> {}\".format(2019,2020,total_casos),\n",
    "    showarrow=False,\n",
    "    bordercolor=\"black\",\n",
    "    bgcolor=\"white\",\n",
    "    borderwidth=1.5,\n",
    "    opacity=0.8\n",
    ")\n",
    "\n",
    "fig.update(layout = dict(title=dict(x=0.5)))\n",
    "fig.update_layout(\n",
    "    margin={\"r\":0,\"t\":30,\"l\":10,\"b\":10},\n",
    "    coloraxis_colorbar={\n",
    "        'title':'Variación',}, \n",
    "    coloraxis_colorbar_ticksuffix='%'),\n",
    "fig.update_layout(title_y=1, title_x=0)\n",
    "fig.update_layout(coloraxis_showscale=True)\n",
    "fig.update_coloraxes(cmax=100, cmin=-100)\n",
    "\n",
    "#print(\"plotly express hovertemplate:\", fig.data[0].hovertemplate)\n",
    "fig.update_traces(hovertemplate='Municipio=%{location}<br>Casos 2020=%{customdata[0]}<br>Casos 2019=%{customdata[1]}<br>Variación=%{z}%<extra></extra>')\n",
    " \n",
    "pio.write_html(fig, file='../docs/figs/indicador_municipal_mapa_variacion_casos.html', include_plotlyjs='cdn', full_html=False)\n",
    "fig.show()"
   ]
  },
  {
   "cell_type": "code",
   "execution_count": null,
   "metadata": {},
   "outputs": [],
   "source": []
  }
 ],
 "metadata": {
  "interpreter": {
   "hash": "76e3749c4d8f143b85e17554ce3ae58a0fcf4212a15be7e0134aaba6048266e3"
  },
  "kernelspec": {
   "display_name": "Python 3.8.12 64-bit ('base': conda)",
   "name": "python3"
  },
  "language_info": {
   "codemirror_mode": {
    "name": "ipython",
    "version": 3
   },
   "file_extension": ".py",
   "mimetype": "text/x-python",
   "name": "python",
   "nbconvert_exporter": "python",
   "pygments_lexer": "ipython3",
   "version": "3.8.12"
  },
  "orig_nbformat": 4
 },
 "nbformat": 4,
 "nbformat_minor": 2
}
