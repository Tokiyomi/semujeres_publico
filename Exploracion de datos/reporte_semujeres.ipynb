{
 "cells": [
  {
   "cell_type": "code",
   "execution_count": null,
   "metadata": {},
   "outputs": [],
   "source": [
    "# Librerias utiles\n",
    "import pandas as pd \n",
    "import numpy as np \n",
    "import matplotlib.pyplot as plt \n",
    "import plotly\n",
    "import seaborn as sns \n",
    "import plotly.express as px\n",
    "import missingno as msno\n",
    "import plotly.io as pio\n",
    "import plotly.graph_objects as go\n",
    "sns.set_theme()"
   ]
  },
  {
   "cell_type": "code",
   "execution_count": null,
   "metadata": {},
   "outputs": [],
   "source": [
    "victimas = pd.read_csv('reportes/reporte_semujeres_11_OCTUBRE_2021.csv',low_memory=False, dtype={'pk_perfil_agresor': 'object','num_hijos':'int64'}, parse_dates=['fecha_recepcion'])"
   ]
  },
  {
   "cell_type": "code",
   "execution_count": null,
   "metadata": {},
   "outputs": [],
   "source": [
    "victimas.fecha_recepcion"
   ]
  },
  {
   "cell_type": "code",
   "execution_count": null,
   "metadata": {},
   "outputs": [],
   "source": [
    "victimas.fk_euv.value_counts()"
   ]
  },
  {
   "cell_type": "markdown",
   "metadata": {},
   "source": [
    "## Recortar los primeros 6 digitos de la columna 'Dependencia de recepcion'"
   ]
  },
  {
   "cell_type": "code",
   "execution_count": null,
   "metadata": {},
   "outputs": [],
   "source": [
    "victimas['Dependencia de recepcion'] = victimas['Dependencia de recepcion'].str.slice(start=6)"
   ]
  },
  {
   "cell_type": "markdown",
   "metadata": {},
   "source": [
    "## Conservar solo los registros en donde la dependencia de recepción haya sido SEMUJERES"
   ]
  },
  {
   "cell_type": "code",
   "execution_count": null,
   "metadata": {},
   "outputs": [],
   "source": [
    "semujeres = victimas[victimas['Dependencia de recepcion'].str.contains(\"MUJER\")==True]"
   ]
  },
  {
   "cell_type": "code",
   "execution_count": null,
   "metadata": {},
   "outputs": [],
   "source": [
    "semujeres.shape"
   ]
  },
  {
   "cell_type": "code",
   "execution_count": null,
   "metadata": {},
   "outputs": [],
   "source": [
    "semujeres.fk_euv.value_counts()"
   ]
  },
  {
   "cell_type": "code",
   "execution_count": null,
   "metadata": {},
   "outputs": [],
   "source": [
    "semujeres[['fk_euv','pk_caso']].value_counts()"
   ]
  },
  {
   "cell_type": "markdown",
   "metadata": {},
   "source": [
    "## Tenemos 14,011 mujeres y 14,512 casos únicos al dia de la consulta el 23 de agosto 2021\n",
    "## Tenemos 14,216 mujeres y 14,734 casos únicos al dia de la consulta el 02 de septiembre 2021\n",
    "## Tenemos 14,489 mujeres y 15,020 casos únicos al dia de la consulta el 01 de octubre 2021"
   ]
  },
  {
   "cell_type": "code",
   "execution_count": null,
   "metadata": {},
   "outputs": [],
   "source": [
    "#semujeres.to_csv('semujeres_dashboard.csv', index=False)"
   ]
  },
  {
   "cell_type": "markdown",
   "metadata": {},
   "source": [
    "##  DISCAPACIDAD"
   ]
  },
  {
   "cell_type": "code",
   "execution_count": null,
   "metadata": {},
   "outputs": [],
   "source": [
    "discapacidad = pd.read_csv('../BD-sucias/discapacidad.csv')"
   ]
  },
  {
   "cell_type": "code",
   "execution_count": null,
   "metadata": {},
   "outputs": [],
   "source": [
    "discapacidad = discapacidad.iloc[:, [0,1,60,61,62,63,64,65,66,67]]"
   ]
  },
  {
   "cell_type": "code",
   "execution_count": null,
   "metadata": {},
   "outputs": [],
   "source": [
    "discapacidad = discapacidad.rename(columns={'\\ncaminar, subir o bajar sus pies?': 'Motriz (piernas)', 'ver (aunque use lentes)?': 'Visual','mover o usar brazos o manos?*':'Motriz (brazos)',\n",
    "'aprender, recordar o concentrarse?':'Intelectual','escuchar (aunque use aparato auditivo)?':'Auditiva','bañarse, vestirse o comer?':'Psicosocial (independencia)',\n",
    "'hablar o comunicarse (por ejemplo, entender, o ser entendido por otros)?':'Psicosocial (comunicación)',\n",
    "'or problemas emocionales o mentales, ¿Cuánta dificultad tiene la víctima para realizar sus actividades diarias (con autonomía e independencia)? Problemas como: autismo, depresión, bipolaridad, esquizofrenia,':'Psicosocial (mentales)'})"
   ]
  },
  {
   "cell_type": "code",
   "execution_count": null,
   "metadata": {},
   "outputs": [],
   "source": [
    "discapacidad.drop_duplicates('fk_euv',keep='last', inplace=True)\n",
    "discapacidad.reset_index(drop=True, inplace=True)\n",
    "discapacidad_tipos = discapacidad.iloc[:, 2:]"
   ]
  },
  {
   "cell_type": "code",
   "execution_count": null,
   "metadata": {},
   "outputs": [],
   "source": [
    "#discapacidad.Caminar.unique()"
   ]
  },
  {
   "cell_type": "code",
   "execution_count": null,
   "metadata": {},
   "outputs": [],
   "source": [
    "discapacidad_tipos.replace(to_replace='No indicado ', value='No tiene dificultad', inplace=True)"
   ]
  },
  {
   "cell_type": "code",
   "execution_count": null,
   "metadata": {},
   "outputs": [],
   "source": [
    "discapacidades_tabla = pd.DataFrame()"
   ]
  },
  {
   "cell_type": "code",
   "execution_count": null,
   "metadata": {},
   "outputs": [],
   "source": [
    "for col in discapacidad_tipos.columns:\n",
    "    new_df = pd.DataFrame(discapacidad_tipos[col].value_counts()).unstack().reset_index()\n",
    "    discapacidades_tabla=discapacidades_tabla.append(new_df, ignore_index=True)"
   ]
  },
  {
   "cell_type": "code",
   "execution_count": null,
   "metadata": {},
   "outputs": [],
   "source": [
    "discapacidades_tabla = discapacidades_tabla.rename(columns={'level_0':'Tipo de Discapacidad','level_1':'Nivel de dificultad',0:'Cuenta'})"
   ]
  },
  {
   "cell_type": "code",
   "execution_count": null,
   "metadata": {},
   "outputs": [],
   "source": [
    "discapacidades_tabla.replace(to_replace='Motriz (brazos)', value='Motriz', inplace=True)\n",
    "discapacidades_tabla.replace(to_replace='Motriz (piernas)', value='Motriz', inplace=True)\n",
    "discapacidades_tabla.replace(to_replace='Psicosocial (comunicación)', value='Psicosocial', inplace=True)\n",
    "discapacidades_tabla.replace(to_replace='Psicosocial (independencia)', value='Psicosocial', inplace=True)\n",
    "discapacidades_tabla.replace(to_replace='Psicosocial (mentales)', value='Psicosocial', inplace=True)"
   ]
  },
  {
   "cell_type": "code",
   "execution_count": null,
   "metadata": {},
   "outputs": [],
   "source": [
    "discapacidades_tabla['Porcentaje']=round(discapacidades_tabla.Cuenta/len(discapacidad_tipos)*100,2)"
   ]
  },
  {
   "cell_type": "code",
   "execution_count": null,
   "metadata": {},
   "outputs": [],
   "source": [
    "discapacidades_tabla = discapacidades_tabla[discapacidades_tabla['Nivel de dificultad']!='No tiene dificultad']"
   ]
  },
  {
   "cell_type": "code",
   "execution_count": null,
   "metadata": {},
   "outputs": [],
   "source": [
    "total_mujeres = pd.DataFrame(discapacidades_tabla.groupby('Tipo de Discapacidad').Cuenta.sum()).sort_values('Cuenta', ascending=False)\n",
    "total_mujeres"
   ]
  },
  {
   "cell_type": "code",
   "execution_count": null,
   "metadata": {},
   "outputs": [],
   "source": [
    "discapacidades_tabla=discapacidades_tabla.groupby(['Tipo de Discapacidad','Nivel de dificultad']).sum().reset_index()\n",
    "discapacidades_tabla['Tipo de Discapacidad'] = pd.Categorical(discapacidades_tabla['Tipo de Discapacidad'], total_mujeres.index)\n",
    "discapacidades_tabla= discapacidades_tabla.sort_values('Tipo de Discapacidad').reset_index(drop=True)\n",
    "discapacidades_tabla"
   ]
  },
  {
   "cell_type": "code",
   "execution_count": null,
   "metadata": {},
   "outputs": [],
   "source": [
    "fig = px.bar(discapacidades_tabla, x=\"Tipo de Discapacidad\", y=\"Porcentaje\", color=\"Nivel de dificultad\", \n",
    "title=\"Gráfica 4. Número de mujeres con discapacidad\",\n",
    "hover_name='Tipo de Discapacidad',\n",
    "text= \"Cuenta\",\n",
    "hover_data={\"Cuenta\":True, 'Tipo de Discapacidad':False},\n",
    "labels = {'Cuenta': 'Número de mujeres'},\n",
    "color_discrete_sequence=px.colors.qualitative.Prism[:5])\n",
    "fig.update_layout(height=500)\n",
    "fig.update_traces(textposition='outside', cliponaxis=False)\n",
    "fig.update_layout(yaxis_ticksuffix = '%')\n",
    "#print(\"plotly express hovertemplate:\", fig.data[0].hovertemplate)\n",
    "#fig.update_traces(hovertemplate='<b>%{hovertext}</b><br><br>Tipo de Discapacidad=%{x}<br>Porcentaje=%{y}%<br>Número de mujeres=%{customdata[0]}<extra></extra>')\n",
    "pio.write_html(fig, file='../docs/figs/g22.html', include_plotlyjs='cdn', full_html=False)\n",
    "fig.show()"
   ]
  },
  {
   "cell_type": "markdown",
   "metadata": {},
   "source": [
    "# SERVICIOS"
   ]
  },
  {
   "cell_type": "code",
   "execution_count": null,
   "metadata": {},
   "outputs": [],
   "source": [
    "#servicios = pd.read_csv('../BD-sucias/servicios_23_AGO_2021.csv', low_memory=False)\n",
    "servicios = pd.read_csv('../BD-sucias/servicios_11_OCTUBRE_2021.csv', low_memory=False)"
   ]
  },
  {
   "cell_type": "code",
   "execution_count": null,
   "metadata": {},
   "outputs": [],
   "source": [
    "servicios.fecha_captura.isna().sum()"
   ]
  },
  {
   "cell_type": "code",
   "execution_count": null,
   "metadata": {},
   "outputs": [],
   "source": [
    "servicios.fecha_captura = pd.to_datetime(servicios.fecha_captura, format='%d/%m/%Y', errors = 'ignore')\n",
    "servicios.fecha_captura"
   ]
  },
  {
   "cell_type": "code",
   "execution_count": null,
   "metadata": {},
   "outputs": [],
   "source": [
    "servicios.info()"
   ]
  },
  {
   "cell_type": "markdown",
   "metadata": {},
   "source": [
    "## Conservar aquellos servicios atendidos por SEMUJERES"
   ]
  },
  {
   "cell_type": "code",
   "execution_count": null,
   "metadata": {},
   "outputs": [],
   "source": [
    "servicios.dependenciaquebrindoservicio.unique()"
   ]
  },
  {
   "cell_type": "code",
   "execution_count": null,
   "metadata": {},
   "outputs": [],
   "source": [
    "servicios_semujeres = servicios[servicios['dependenciaquebrindoservicio'].str.contains(\"MUJER\")==True]"
   ]
  },
  {
   "cell_type": "code",
   "execution_count": null,
   "metadata": {},
   "outputs": [],
   "source": [
    "# SERVICIOS\n",
    "servicios_semujeres = servicios_semujeres[['fk_euv','USUSERVICIO','fk_caso','fecha_captura','serviciodetalle','tiposervicio','estatus','dependenciaquebrindoservicio','numeroservicios']]"
   ]
  },
  {
   "cell_type": "code",
   "execution_count": null,
   "metadata": {},
   "outputs": [],
   "source": [
    "servicios_semujeres.fk_caso = servicios_semujeres.fk_caso.astype(int)\n",
    "servicios_semujeres.numeroservicios = servicios_semujeres.numeroservicios.astype(int)"
   ]
  },
  {
   "cell_type": "code",
   "execution_count": null,
   "metadata": {},
   "outputs": [],
   "source": [
    "servicios_semujeres.info()"
   ]
  },
  {
   "cell_type": "code",
   "execution_count": null,
   "metadata": {},
   "outputs": [],
   "source": [
    "indicadores_caev = servicios_semujeres.copy()"
   ]
  },
  {
   "cell_type": "code",
   "execution_count": null,
   "metadata": {},
   "outputs": [],
   "source": [
    "indicador_3 = servicios_semujeres.copy()\n",
    "indicador_3[indicador_3.fk_euv=='3117213094']"
   ]
  },
  {
   "cell_type": "code",
   "execution_count": null,
   "metadata": {},
   "outputs": [],
   "source": [
    "indicador_3[indicador_3.fk_euv=='3117206472']"
   ]
  },
  {
   "cell_type": "code",
   "execution_count": null,
   "metadata": {},
   "outputs": [],
   "source": [
    "len(indicador_3)"
   ]
  },
  {
   "cell_type": "code",
   "execution_count": null,
   "metadata": {},
   "outputs": [],
   "source": [
    "mujeres_concluidas = indicador_3[indicador_3.estatus=='Concluido'].fk_euv.unique()\n",
    "mujeres_concluidas  = indicador_3[indicador_3.fk_euv.isin(mujeres_concluidas)]\n",
    "mujeres_concluidas.fk_euv.value_counts()"
   ]
  },
  {
   "cell_type": "code",
   "execution_count": null,
   "metadata": {},
   "outputs": [],
   "source": [
    "mujeres_unicas = mujeres_concluidas.fk_euv.unique()"
   ]
  },
  {
   "cell_type": "code",
   "execution_count": null,
   "metadata": {},
   "outputs": [],
   "source": [
    "mujeres_concluidas"
   ]
  },
  {
   "cell_type": "code",
   "execution_count": null,
   "metadata": {},
   "outputs": [],
   "source": [
    "test = mujeres_concluidas[mujeres_concluidas.fk_euv == '3117206472'].iloc[[0, -1]]\n",
    "dias = test.fecha_captura.diff().tail(1)\n",
    "test_df = pd.DataFrame({'fk_euv':'3117206472','dias':dias,'semanas': int(round(dias / np.timedelta64(1, 'W'))),'numeroservicios':test.numeroservicios.tail(1)})\n",
    "test_df = test_df.reset_index(drop=True)\n",
    "test_df"
   ]
  },
  {
   "cell_type": "code",
   "execution_count": null,
   "metadata": {},
   "outputs": [],
   "source": [
    "test = mujeres_concluidas[(mujeres_concluidas.fk_euv == '3116900453') & (mujeres_concluidas.fk_caso == 2)]\n",
    "test"
   ]
  },
  {
   "cell_type": "code",
   "execution_count": null,
   "metadata": {},
   "outputs": [],
   "source": [
    "df = pd.DataFrame(columns=['fk_euv','fk_caso','dias','semanas','numeroservicios'])\n",
    "for mujer in mujeres_unicas:\n",
    "    testito = mujeres_concluidas[mujeres_concluidas.fk_euv == mujer]\n",
    "\n",
    "    casos_concluidos = testito[testito.estatus=='Concluido'].fk_caso.values\n",
    "\n",
    "    servicios_concluidos = testito[testito.estatus=='Concluido'].serviciodetalle.values\n",
    "\n",
    "    for caso in casos_concluidos:\n",
    "        for servicio in servicios_concluidos:\n",
    "            test = mujeres_concluidas[(mujeres_concluidas.fk_euv == mujer)&(mujeres_concluidas.fk_caso == caso)&(mujeres_concluidas.serviciodetalle == servicio)].iloc[[0, -1]]\n",
    "            dias = test.fecha_captura.diff().tail(1)\n",
    "            semanas =  int(round(dias / np.timedelta64(1, 'W')))\n",
    "            servicios = test.numeroservicios.tail(1)\n",
    "            test_df = pd.DataFrame({'fk_euv':mujer, 'fk_caso':caso,'dias':dias,'semanas': semanas,'numeroservicios':servicios,'serviciodetalle':servicio})\n",
    "            df = pd.concat([df, test_df], ignore_index=True)\n",
    "df"
   ]
  },
  {
   "cell_type": "code",
   "execution_count": null,
   "metadata": {},
   "outputs": [],
   "source": [
    "df['semanas'] = pd.to_numeric(df['semanas'])\n",
    "df.groupby('serviciodetalle').semanas.mean()"
   ]
  },
  {
   "cell_type": "code",
   "execution_count": null,
   "metadata": {},
   "outputs": [],
   "source": [
    "round(df.semanas.mean())"
   ]
  },
  {
   "cell_type": "code",
   "execution_count": null,
   "metadata": {},
   "outputs": [],
   "source": [
    "fig = px.histogram(df, x = 'semanas',\n",
    "                title='Gráfica 5. Tiempo promedio transcurrido entre el primer contacto con la usuaria y la conclusión del proceso.',\n",
    "                #color_discrete_sequence = px.colors.qualitative.Prism,\n",
    "                #text = 'count',\n",
    "                #color = 'USUSERVICIO',\n",
    "                #color = profesionistas.index,\n",
    "                color_discrete_sequence = [px.colors.qualitative.Prism[1]],\n",
    "                #color_discrete_sequence= px.colors.sequential.Plasma,\n",
    "                labels = {'semanas': 'Semanas transcurridas', 'count':'Frecuencia'},\n",
    "                nbins = 10\n",
    "                )\n",
    "fig.update_layout(showlegend = False, yaxis_title=\"Frecuencia\",xaxis_title=\"Semanas transcurridas\", height=500)\n",
    "#fig.update_layout(title_y='Número de profesionistas')\n",
    "\n",
    "fig.update_layout(\n",
    "    xaxis = dict(\n",
    "        tickmode = 'linear',\n",
    "        tick0 = 0,\n",
    "        dtick = 20\n",
    "    )\n",
    ")\n",
    "\n",
    "fig.update_layout(shapes=[\n",
    "    # adds line at y=5\n",
    "    dict(\n",
    "      type= 'line',\n",
    "      xref= 'x', x0= round(df.semanas.mean()), x1= round(df.semanas.mean()),\n",
    "      yref= 'paper', y0= 0, y1= 1,\n",
    "      line=dict(color='white', width=1, dash='dash'),\n",
    "    )], height=500)\n",
    "\n",
    "fig.add_annotation(x=round(df.semanas.mean())+6, y=200,\n",
    "            text=\"Promedio: {}\".format(round(df.semanas.mean())),\n",
    "            showarrow=False,\n",
    "            yshift=10,\n",
    "            font=dict(color='white'))\n",
    "\n",
    "pio.write_html(fig, file='../docs/figs/g20.html', include_plotlyjs='cdn', full_html=False)\n",
    "\n",
    "\n",
    "fig.show()"
   ]
  },
  {
   "cell_type": "code",
   "execution_count": null,
   "metadata": {},
   "outputs": [],
   "source": [
    "servicios_semujeres = servicios_semujeres.drop_duplicates(ignore_index=True, subset=['fk_euv','fk_caso','serviciodetalle'], keep='last')\n",
    "servicios_semujeres = servicios_semujeres.reset_index(drop=True)"
   ]
  },
  {
   "cell_type": "code",
   "execution_count": null,
   "metadata": {},
   "outputs": [],
   "source": [
    "len(servicios_semujeres)"
   ]
  },
  {
   "cell_type": "code",
   "execution_count": null,
   "metadata": {},
   "outputs": [],
   "source": [
    "servicios_semujeres.fk_euv.value_counts()"
   ]
  },
  {
   "cell_type": "code",
   "execution_count": null,
   "metadata": {},
   "outputs": [],
   "source": [
    "servicios_semujeres[servicios_semujeres.fk_euv=='3117213094']"
   ]
  },
  {
   "cell_type": "code",
   "execution_count": null,
   "metadata": {},
   "outputs": [],
   "source": [
    "servicios_semujeres[servicios_semujeres.fk_euv=='3117206472']"
   ]
  },
  {
   "cell_type": "code",
   "execution_count": null,
   "metadata": {},
   "outputs": [],
   "source": [
    "servicios_semujeres.estatus.value_counts()"
   ]
  },
  {
   "cell_type": "code",
   "execution_count": null,
   "metadata": {},
   "outputs": [],
   "source": [
    "round(70/servicios_semujeres.shape[0]*100,2)"
   ]
  },
  {
   "cell_type": "code",
   "execution_count": null,
   "metadata": {},
   "outputs": [],
   "source": [
    "servicios_semujeres.fk_caso.unique()"
   ]
  },
  {
   "cell_type": "code",
   "execution_count": null,
   "metadata": {},
   "outputs": [],
   "source": [
    "servicios_semujeres.serviciodetalle.value_counts()"
   ]
  },
  {
   "cell_type": "code",
   "execution_count": null,
   "metadata": {},
   "outputs": [],
   "source": [
    "servicios_semujeres.shape"
   ]
  },
  {
   "cell_type": "code",
   "execution_count": null,
   "metadata": {},
   "outputs": [],
   "source": [
    "servicios_semujeres.serviciodetalle.unique()"
   ]
  },
  {
   "cell_type": "code",
   "execution_count": null,
   "metadata": {},
   "outputs": [],
   "source": [
    "indicador_servicios = servicios_semujeres.groupby(['serviciodetalle','estatus']).count().numeroservicios.reset_index()\n",
    "total_servicios = indicador_servicios.groupby('serviciodetalle').sum()\n",
    "total_servicios"
   ]
  },
  {
   "cell_type": "code",
   "execution_count": null,
   "metadata": {},
   "outputs": [],
   "source": [
    "porcentajes = indicador_servicios.merge(total_servicios, left_on='serviciodetalle', right_on='serviciodetalle')\n",
    "porcentajes['porcentajes'] = round(100*porcentajes['numeroservicios_x']/porcentajes['numeroservicios_y'],1)\n",
    "porcentajes"
   ]
  },
  {
   "cell_type": "code",
   "execution_count": null,
   "metadata": {},
   "outputs": [],
   "source": [
    "total_concluidos = porcentajes[porcentajes.estatus=='Concluido'].numeroservicios_x.sum()\n",
    "porcentajes_total = round(porcentajes[porcentajes.estatus=='Concluido'].numeroservicios_x.sum()/porcentajes[porcentajes.estatus=='Concluido'].numeroservicios_y.sum()*100,2)\n",
    "print(total_concluidos, porcentajes_total)"
   ]
  },
  {
   "cell_type": "code",
   "execution_count": null,
   "metadata": {},
   "outputs": [],
   "source": [
    "fig = px.bar(porcentajes, x=\"serviciodetalle\", y=\"porcentajes\", color=\"estatus\", \n",
    "title=\"Gráfica 4. Porcentaje de procesos concluidos satisfactoriamente por área de servicio<br><b>Total de servicios concluidos:</b> {}<br><b>Porcentaje de servicios concluidos:</b> {}%\".format(total_concluidos, porcentajes_total),\n",
    "hover_name='serviciodetalle',\n",
    "text= \"numeroservicios_x\",\n",
    "hover_data={\"numeroservicios_x\":True,'serviciodetalle':False},\n",
    "labels = {'serviciodetalle': 'Área de servicio', \"porcentajes\":'Porcentaje', 'estatus':'Estatus','numeroservicios_x':'Número de servicios'},\n",
    "color_discrete_sequence=['rgb(95, 70, 144)', 'rgb(29, 105, 150)', 'rgb(56, 166, 165)'])\n",
    "fig.update_traces(textposition='outside',cliponaxis=False)\n",
    "fig.update_layout(height=500)\n",
    "fig.update_layout(yaxis_ticksuffix = '%')\n",
    "#fig.update_layout(yaxis_range=[0, 110])\n",
    "pio.write_html(fig, file='../docs/figs/g19.html', include_plotlyjs='cdn', full_html=False)\n",
    "fig.show()"
   ]
  },
  {
   "cell_type": "markdown",
   "metadata": {},
   "source": [
    "## Tenemos 4956 mujeres únicas y 6244 servicios únicos brindados en la base de datos de servicios al dia de la consulta del 23 de agosto de 2021\n",
    "\n",
    "## Tenemos 5160 mujeres únicas y 6713 servicios únicos brindados en la base de datos de servicios al dia de la consulta del 02 de septiembre de 2021"
   ]
  },
  {
   "cell_type": "code",
   "execution_count": null,
   "metadata": {},
   "outputs": [],
   "source": [
    "#servicios.to_csv('servicios_dashboard.csv', index=False)"
   ]
  },
  {
   "cell_type": "markdown",
   "metadata": {},
   "source": [
    "## INDICADORES CEAV"
   ]
  },
  {
   "cell_type": "code",
   "execution_count": null,
   "metadata": {},
   "outputs": [],
   "source": [
    "indicadores_caev.fecha_captura.isna().sum()"
   ]
  },
  {
   "cell_type": "code",
   "execution_count": null,
   "metadata": {},
   "outputs": [],
   "source": [
    "indicadores_caev.info()"
   ]
  },
  {
   "cell_type": "code",
   "execution_count": null,
   "metadata": {},
   "outputs": [],
   "source": [
    "#indicadores_caev['count'] = 1\n",
    "indicadores_caev['año'] = indicadores_caev['fecha_captura'].dt.year\n",
    "indicadores_caev['semana'] = indicadores_caev['fecha_captura'].dt.isocalendar().week\n",
    "usuarios = indicadores_caev.groupby(['USUSERVICIO','semana','año']).numeroservicios"
   ]
  },
  {
   "cell_type": "code",
   "execution_count": null,
   "metadata": {},
   "outputs": [],
   "source": [
    "grup = pd.DataFrame(indicadores_caev.groupby(['USUSERVICIO','fecha_captura']).numeroservicios.count()).reset_index()\n",
    "grup = grup[grup.USUSERVICIO.str[:4] == 'CYUC']\n",
    "final = pd.DataFrame()\n",
    "for user in grup.USUSERVICIO.unique():\n",
    "    temp = pd.DataFrame(grup[grup.USUSERVICIO==user].groupby([pd.Grouper(freq='W', key='fecha_captura')]).sum()).reset_index()\n",
    "    temp['USUSERVICIO']=user\n",
    "    final = final.append(temp, ignore_index=True)"
   ]
  },
  {
   "cell_type": "code",
   "execution_count": null,
   "metadata": {},
   "outputs": [],
   "source": [
    "final.groupby('USUSERVICIO').sum()"
   ]
  },
  {
   "cell_type": "code",
   "execution_count": null,
   "metadata": {},
   "outputs": [],
   "source": [
    "\"\"\"ola = usuarios.count()\n",
    "ola\"\"\""
   ]
  },
  {
   "cell_type": "code",
   "execution_count": null,
   "metadata": {},
   "outputs": [],
   "source": [
    "\"\"\"dias = indicadores_caev.groupby(['USUSERVICIO','fecha_captura']).numeroservicios\n",
    "semana_dif = dias .count().reset_index().sort_values(['USUSERVICIO','fecha_captura'])\n",
    "semana_dif['semana_dif']=semana_dif.fecha_captura.diff()\n",
    "semana_dif\"\"\""
   ]
  },
  {
   "cell_type": "code",
   "execution_count": null,
   "metadata": {},
   "outputs": [],
   "source": [
    "\"\"\"ola = ola.reset_index()\n",
    "ola = ola[ola.USUSERVICIO.str[:4] == 'CYUC']\n",
    "ola = ola.reset_index(drop=True)\n",
    "ola\"\"\""
   ]
  },
  {
   "cell_type": "code",
   "execution_count": null,
   "metadata": {},
   "outputs": [],
   "source": [
    "#ola[ola.USUSERVICIO=='CYUCIM07'].sum()"
   ]
  },
  {
   "cell_type": "code",
   "execution_count": null,
   "metadata": {},
   "outputs": [],
   "source": [
    "#round(ola[ola.USUSERVICIO=='CYUCIM30'].numeroservicios.mean())"
   ]
  },
  {
   "cell_type": "code",
   "execution_count": null,
   "metadata": {},
   "outputs": [],
   "source": [
    "#ola[ola.USUSERVICIO=='CYUCIM30'].sort_values(['año','semana'])"
   ]
  },
  {
   "cell_type": "code",
   "execution_count": null,
   "metadata": {},
   "outputs": [],
   "source": [
    "\"\"\"servicios_semanal = usuarios.count()\n",
    "servicios_semanal = pd.DataFrame(servicios_semanal)\n",
    "servicios_semanal = servicios_semanal.reset_index()\n",
    "servicios_semanal = servicios_semanal[servicios_semanal.USUSERVICIO.str[:4] == 'CYUC']\n",
    "servicios_semanal = servicios_semanal[ [ 'USUSERVICIO','numeroservicios']]\n",
    "media_servicios = servicios_semanal.groupby('USUSERVICIO').mean().round().astype(int)\n",
    "media_servicios = media_servicios.sort_values(['numeroservicios'], ascending=False)\n",
    "media_servicios\"\"\"\n"
   ]
  },
  {
   "cell_type": "code",
   "execution_count": null,
   "metadata": {},
   "outputs": [],
   "source": [
    "start = final.sort_values(['USUSERVICIO','fecha_captura'])\n",
    "start = start.drop_duplicates('USUSERVICIO', keep='first').reset_index(drop=True)\n",
    "end = final.sort_values(['USUSERVICIO','fecha_captura'])\n",
    "end = final.drop_duplicates('USUSERVICIO', keep='last').reset_index(drop=True)"
   ]
  },
  {
   "cell_type": "code",
   "execution_count": null,
   "metadata": {},
   "outputs": [],
   "source": [
    "# new media servicios\n",
    "media_servicios = round(final.groupby('USUSERVICIO').mean(),2)\n",
    "media_servicios"
   ]
  },
  {
   "cell_type": "markdown",
   "metadata": {},
   "source": [
    "## INSTITUCION (Nombre de usuario)"
   ]
  },
  {
   "cell_type": "code",
   "execution_count": null,
   "metadata": {},
   "outputs": [],
   "source": [
    "nombre_usuario = pd.read_csv('../BD-sucias/institucion_11_OCTUBRE_2021.csv')"
   ]
  },
  {
   "cell_type": "code",
   "execution_count": null,
   "metadata": {},
   "outputs": [],
   "source": [
    "nombre_usuario = nombre_usuario[['fk_usuario', 'dependeciaUsuario','NomUsuario','paterno','materno']]"
   ]
  },
  {
   "cell_type": "code",
   "execution_count": null,
   "metadata": {},
   "outputs": [],
   "source": [
    "nombre_usuario = nombre_usuario.drop_duplicates('fk_usuario',keep='last').reset_index(drop=True)"
   ]
  },
  {
   "cell_type": "code",
   "execution_count": null,
   "metadata": {},
   "outputs": [],
   "source": [
    "nombre_usuario['NomCompleto'] = nombre_usuario['NomUsuario'] + ' ' + nombre_usuario['paterno'] + ' ' + nombre_usuario['materno']"
   ]
  },
  {
   "cell_type": "code",
   "execution_count": null,
   "metadata": {},
   "outputs": [],
   "source": [
    "nombre_usuario = nombre_usuario[['fk_usuario','NomCompleto', 'dependeciaUsuario']]"
   ]
  },
  {
   "cell_type": "markdown",
   "metadata": {},
   "source": [
    "## MERGE INSTITUCION Y SERVICIOS"
   ]
  },
  {
   "cell_type": "code",
   "execution_count": null,
   "metadata": {},
   "outputs": [],
   "source": [
    "media_servicios = media_servicios.merge(nombre_usuario, left_on=media_servicios.index, right_on='fk_usuario', how='left')"
   ]
  },
  {
   "cell_type": "code",
   "execution_count": null,
   "metadata": {},
   "outputs": [],
   "source": [
    "media_servicios = media_servicios.merge(start[['USUSERVICIO','fecha_captura']], left_on='fk_usuario', right_on='USUSERVICIO', how='left')\n",
    "media_servicios= media_servicios.drop(columns=['USUSERVICIO'])\n",
    "media_servicios = media_servicios.rename(columns={'fecha_captura':'Semana de primera captura'})\n",
    "\n",
    "media_servicios = media_servicios.merge(end[['USUSERVICIO','fecha_captura']], left_on='fk_usuario', right_on='USUSERVICIO', how='left')\n",
    "media_servicios= media_servicios.drop(columns=['USUSERVICIO'])\n",
    "media_servicios = media_servicios.rename(columns={'fecha_captura':'Semana de última captura'})"
   ]
  },
  {
   "cell_type": "code",
   "execution_count": null,
   "metadata": {},
   "outputs": [],
   "source": [
    "media_servicios = media_servicios.sort_values('numeroservicios', ascending=False)\n",
    "media_servicios['dif_capturas'] = media_servicios['Semana de última captura'] - media_servicios['Semana de primera captura']\n",
    "media_servicios['Semana de última captura'] = media_servicios['Semana de última captura'].dt.date\n",
    "media_servicios['Semana de primera captura'] = media_servicios['Semana de primera captura'].dt.date\n",
    "media_servicios['dif_capturas'] = media_servicios['dif_capturas'].dt.days/7 + 1\n",
    "media_servicios['pesos'] = round(media_servicios.numeroservicios*media_servicios.dif_capturas,2)\n",
    "media_servicios = media_servicios.sort_values('numeroservicios', ascending=False)\n",
    "media_servicios\n"
   ]
  },
  {
   "cell_type": "code",
   "execution_count": null,
   "metadata": {},
   "outputs": [],
   "source": [
    "# nueva media\n",
    "media_servicios_semanales = round(media_servicios.numeroservicios.mean(),2)\n",
    "media_servicios_semanales"
   ]
  },
  {
   "cell_type": "code",
   "execution_count": null,
   "metadata": {},
   "outputs": [],
   "source": [
    "media_servicios_semanales_round = round(media_servicios.pesos.mean(),2)\n",
    "media_servicios_semanales_round"
   ]
  },
  {
   "cell_type": "code",
   "execution_count": null,
   "metadata": {},
   "outputs": [],
   "source": [
    "#profesionistas = profesionistas.reset_index()\n",
    "fig = px.bar(media_servicios, \n",
    "                x = media_servicios.fk_usuario, \n",
    "                y = 'numeroservicios', \n",
    "                color_continuous_scale='Viridis',\n",
    "                hover_name='fk_usuario',\n",
    "                hover_data={'fk_usuario':False, 'NomCompleto':True, 'Semana de primera captura': True, 'Semana de última captura':True, 'numeroservicios': True, 'pesos':True},\n",
    "                color = 'dif_capturas',\n",
    "                #color_continuous_midpoint=np.average(media_servicios['numeroservicios'], weights=media_servicios['dif_capturas'].dt.days),\n",
    "                labels = {'dif_capturas': 'Semanas de antigüedad', \"fk_usuario\":'Clave del profesionista','NomCompleto':'Nombre'},\n",
    "                title= 'Gráfica 1. Servicios semanales otorgados por profesionista de la SEMUJERES')\n",
    "\n",
    "fig.update_layout(showlegend = False, yaxis_title=\"Servicios Semanales\")\n",
    "\n",
    "fig.update_layout(legend_title= False,height=500)\n",
    "#fig.update(layout_coloraxis_showscale=False)\n",
    "fig.update_coloraxes(colorbar_title=None)\n",
    "\n",
    "#fig.update_traces(textposition='outside', cliponaxis=False)\n",
    "\n",
    "fig.update_layout(shapes=[\n",
    "    # adds line at y=5\n",
    "    dict(\n",
    "      type= 'line',\n",
    "      xref= 'paper', x0= 0, x1= 1,\n",
    "      yref= 'y', y0= media_servicios_semanales, y1= media_servicios_semanales,\n",
    "      line=dict(color='black', width=1, dash='dash'),\n",
    "    )])\n",
    "\n",
    "\"\"\"fig.add_annotation(x=77, y=media_servicios_semanales_round,\n",
    "            text=\"Promedio de servicios estimados otorgados: {}\".format(media_servicios_semanales_round),\n",
    "            showarrow=False,\n",
    "            #font_size=14,\n",
    "            yshift=10)\"\"\"\n",
    "\n",
    "fig.add_annotation(x=77, y=media_servicios_semanales,\n",
    "            text=\"Promedio de servicios semanales: {}\".format(media_servicios_semanales),\n",
    "            showarrow=False,\n",
    "            font_size=14,\n",
    "            yshift=10)\n",
    "\n",
    "fig.update_xaxes(\n",
    "        tickangle = 70)\n",
    "fig.update_layout(\n",
    "    coloraxis_colorbar={\n",
    "        'title':'Semanas<br>Capturando'})\n",
    "print(\"plotly express hovertemplate:\", fig.data[0].hovertemplate)\n",
    "fig.update_traces(hovertemplate='<b>%{hovertext}</b><br>Nombre=%{customdata[0]}<br><b>Promedio de Servicios semanales</b>=%{y}<br><b>Servicios estimados</b> (promedio x antigüedad)=%{customdata[3]}<br>Primera captura=%{customdata[1]}<br>Última captura=%{customdata[2]}<br><b>Semanas capturando</b>=%{marker.color} semanas<extra></extra>')\n",
    "pio.write_html(fig, file='../docs/figs/g15_nueva.html', include_plotlyjs='cdn', full_html=False)\n",
    "fig.show()"
   ]
  },
  {
   "cell_type": "code",
   "execution_count": null,
   "metadata": {},
   "outputs": [],
   "source": [
    "profesionistas = indicadores_caev.USUSERVICIO.value_counts()\n",
    "profesionistas = pd.DataFrame(profesionistas)\n",
    "profesionistas = pd.DataFrame(profesionistas.merge(media_servicios,left_on=profesionistas.index,right_on=media_servicios.fk_usuario,how='left'))\n",
    "profesionistas = profesionistas.set_index('key_0')\n",
    "profesionistas = profesionistas[profesionistas.index.str[:4] == 'CYUC']\n",
    "profesionistas"
   ]
  },
  {
   "cell_type": "code",
   "execution_count": null,
   "metadata": {},
   "outputs": [],
   "source": [
    "print(profesionistas.USUSERVICIO.mean())\n",
    "print(profesionistas.numeroservicios.mean())"
   ]
  },
  {
   "cell_type": "code",
   "execution_count": null,
   "metadata": {},
   "outputs": [],
   "source": [
    "media_servicios_totales = round(profesionistas.USUSERVICIO.mean())\n",
    "media_servicios_totales"
   ]
  },
  {
   "cell_type": "code",
   "execution_count": null,
   "metadata": {},
   "outputs": [],
   "source": [
    "#profesionistas = profesionistas.reset_index()\n",
    "fig = px.bar(profesionistas, \n",
    "                x = profesionistas.fk_usuario, \n",
    "                y = 'USUSERVICIO', \n",
    "                color_continuous_scale='Viridis',\n",
    "                hover_name='fk_usuario',\n",
    "                hover_data={'fk_usuario':False, 'NomCompleto':True,'Semana de primera captura': True, 'Semana de última captura':True, 'dif_capturas': True},\n",
    "                color = 'dif_capturas',\n",
    "                labels = {'USUSERVICIO': 'Servicios totales', \"fk_usuario\":'Clave del profesionista', 'NomCompleto': 'Nombre'},\n",
    "                title= 'Gráfica 2. Servicios totales otorgados por profesionistas de la SEMUJERES')\n",
    "fig.update_layout(showlegend = False)\n",
    "\n",
    "#print(\"plotly express hovertemplate:\", fig.data[0].hovertemplate)\n",
    "fig.update_traces(hovertemplate='<b>%{hovertext}</b><br>Nombre=%{customdata[0]}<br><b>Servicios otorgados</b>=%{y}<br>Primera captura=%{customdata[1]}<br>Última captura=%{customdata[2]}<br>Semanas capturando=%{customdata[3]} semanas<extra></extra>')\n",
    "\n",
    "fig.update_layout(legend_title= False, height=500)\n",
    "#fig.update(layout_coloraxis_showscale=False)\n",
    "fig.update_coloraxes(colorbar_title=None)\n",
    "\n",
    "fig.update_layout(shapes=[\n",
    "    # adds line at y=5\n",
    "    dict(\n",
    "      type= 'line',\n",
    "      xref= 'paper', x0= 0, x1= 1,\n",
    "      yref= 'y', y0= media_servicios_totales, y1= media_servicios_totales,\n",
    "      line=dict(color='black', width=1, dash='dash'),\n",
    "    )])\n",
    "\n",
    "fig.add_annotation(x=77, y=media_servicios_totales,\n",
    "            text=\"Promedio de servicios totales: {}\".format(media_servicios_totales),\n",
    "            showarrow=False,\n",
    "            yshift=10)\n",
    "\n",
    "fig.update_xaxes(\n",
    "        tickangle = 70)\n",
    "        \n",
    "fig.update_layout(\n",
    "    coloraxis_colorbar={\n",
    "        'title':'Semanas<br>Capturando'})\n",
    "\n",
    "pio.write_html(fig, file='../docs/figs/g16.html', include_plotlyjs='cdn', full_html=False)\n",
    "fig.show()"
   ]
  },
  {
   "cell_type": "code",
   "execution_count": null,
   "metadata": {},
   "outputs": [],
   "source": [
    "\"\"\"fig = px.histogram(profesionistas, x = 'USUSERVICIO',\n",
    "                title='Gráfica 1. Número total de servicios otorgados por profesionista en SEMUJERES',\n",
    "                #color_discrete_sequence = px.colors.qualitative.Prism,\n",
    "                #text = 'count',\n",
    "                #color = 'USUSERVICIO',\n",
    "                #color = profesionistas.index,\n",
    "                color_discrete_sequence = [px.colors.qualitative.Prism[1]],\n",
    "                #color_discrete_sequence= px.colors.sequential.Plasma,\n",
    "                labels = {'USUSERVICIO': 'Servicios totales proporcionados'},\n",
    "                )\n",
    "fig.update_layout(showlegend = False, yaxis_title=\"Frecuencia\",width=1000, height=500)\n",
    "#fig.update_layout(title_y='Número de profesionistas')\n",
    "#pio.write_html(fig, file='figs/g17.html', include_plotlyjs='cdn', full_html=False)\n",
    "fig.show()\"\"\""
   ]
  },
  {
   "cell_type": "code",
   "execution_count": null,
   "metadata": {},
   "outputs": [],
   "source": [
    "media_servicios = round(profesionistas.numeroservicios.mean())\n",
    "media_servicios"
   ]
  },
  {
   "cell_type": "code",
   "execution_count": null,
   "metadata": {},
   "outputs": [],
   "source": [
    "profesionistas.shape"
   ]
  },
  {
   "cell_type": "code",
   "execution_count": null,
   "metadata": {},
   "outputs": [],
   "source": [
    "profesionistas.numeroservicios = profesionistas.numeroservicios.round()"
   ]
  },
  {
   "cell_type": "code",
   "execution_count": null,
   "metadata": {},
   "outputs": [],
   "source": [
    "fig = px.histogram(profesionistas, x = 'numeroservicios',\n",
    "                title='Gráfica 3. Histograma del número de Servicios Semanales otorgados por profesionista en SEMUJERES',\n",
    "                #color_discrete_sequence = px.colors.qualitative.Prism,\n",
    "                #text = 'count',\n",
    "                #color = 'USUSERVICIO',\n",
    "                #color = profesionistas.index,\n",
    "                color_discrete_sequence = [px.colors.qualitative.Prism[1]],\n",
    "                #color_discrete_sequence= px.colors.sequential.Plasma,\n",
    "                labels = {'numeroservicios': 'Número de Servicios Semanales', 'count':'ola'},\n",
    "                nbins = 9,\n",
    "                range_x=[0, 44]\n",
    "                )\n",
    "fig.update_layout(showlegend = False, yaxis_title=\"Frecuencia\", height=500)\n",
    "#fig.update_layout(title_y='Número de profesionistas')\n",
    "fig.update_layout(\n",
    "    xaxis = dict(\n",
    "        tickmode = 'linear',\n",
    "        tick0 = 0,\n",
    "        dtick = 5\n",
    "    )\n",
    ")\n",
    "fig.update_layout(shapes=[\n",
    "    # adds line at y=5\n",
    "    dict(\n",
    "      type= 'line',\n",
    "      xref= 'x', x0= media_servicios, x1= media_servicios,\n",
    "      yref= 'paper', y0= 0, y1= 1,\n",
    "      line=dict(color='white', width=1, dash='dash'),\n",
    "    )])\n",
    "\n",
    "fig.add_annotation(x=media_servicios+1.5, y=10,\n",
    "            text=\"Promedio: {}\".format(media_servicios),\n",
    "            showarrow=False,\n",
    "            yshift=10,\n",
    "            font=dict(color='white'))\n",
    "\n",
    "pio.write_html(fig, file='../docs/figs/g18.html', include_plotlyjs='cdn', full_html=False)\n",
    "\n",
    "\n",
    "fig.show()"
   ]
  },
  {
   "cell_type": "code",
   "execution_count": null,
   "metadata": {},
   "outputs": [],
   "source": [
    "\"\"\"fig = px.histogram(profesionistas, x = 'USUSERVICIO',\n",
    "                title='Gráfica 1. Histograma de número de servicios proporcionados por profesionista en SEMUJERES',\n",
    "                color_discrete_sequence = px.colors.qualitative.Prism,\n",
    "                #text = 'count',\n",
    "                color = 'USUSERVICIO',\n",
    "                #color = profesionistas.index,\n",
    "                #color_discrete_sequence = [px.colors.qualitative.Prism[1]],\n",
    "                #color_discrete_sequence= px.colors.sequential.Viridis,\n",
    "                labels = {'USUSERVICIO': 'Núm. de servicios proporcionados', \"count\":'Frecuencia'},\n",
    "                )\n",
    "fig.update_layout(showlegend = False)\n",
    "fig.show()\"\"\""
   ]
  },
  {
   "cell_type": "code",
   "execution_count": null,
   "metadata": {},
   "outputs": [],
   "source": [
    "\"\"\"fig = px.histogram(profesionistas, x = 'numeroservicios',\n",
    "                title='Gráfica 1. Histograma de número de servicios proporcionados por profesionista en SEMUJERES',\n",
    "                #color_discrete_sequence = px.colors.qualitative.Prism,\n",
    "                #text = 'count',\n",
    "                color = 'numeroservicios',\n",
    "                #color = profesionistas.index,\n",
    "                #color_discrete_sequence = [px.colors.qualitative.Prism[1]],\n",
    "                color_discrete_sequence= px.colors.sequential.Viridis,\n",
    "                labels = {'numeroservicios': 'Núm. de servicios proporcionados', \"count\":'Frecuencia'},\n",
    "                nbins = 5\n",
    "                )\n",
    "fig.update_layout(showlegend = False)\n",
    "fig.show()\"\"\""
   ]
  },
  {
   "cell_type": "code",
   "execution_count": null,
   "metadata": {},
   "outputs": [],
   "source": [
    "#print('Promedio de servicios proporcionados por profesionista',profesionistas.values.mean().round())"
   ]
  },
  {
   "cell_type": "markdown",
   "metadata": {},
   "source": [
    "# REPLICACION DE GRAFICOS DE LAS FICHAS"
   ]
  },
  {
   "cell_type": "code",
   "execution_count": null,
   "metadata": {},
   "outputs": [],
   "source": [
    "semujeres_2020 = semujeres[semujeres.año_recepcion==2020]"
   ]
  },
  {
   "cell_type": "code",
   "execution_count": null,
   "metadata": {},
   "outputs": [],
   "source": [
    "mun_counts_2020 = pd.DataFrame(semujeres_2020.municipiohechos.value_counts())\n",
    "mun_counts_2020.reset_index(inplace=True)\n",
    "mun_counts_2020"
   ]
  },
  {
   "cell_type": "code",
   "execution_count": null,
   "metadata": {},
   "outputs": [],
   "source": [
    "mun_counts = pd.DataFrame(semujeres.municipiohechos.value_counts())\n",
    "mun_counts.reset_index(inplace=True)\n",
    "mun_counts"
   ]
  },
  {
   "cell_type": "code",
   "execution_count": null,
   "metadata": {},
   "outputs": [],
   "source": [
    "from mapsmx import MapsMX"
   ]
  },
  {
   "cell_type": "code",
   "execution_count": null,
   "metadata": {},
   "outputs": [],
   "source": [
    "state = MapsMX().get_geo('state')"
   ]
  },
  {
   "cell_type": "code",
   "execution_count": null,
   "metadata": {},
   "outputs": [],
   "source": [
    "muns = MapsMX().get_geo('municipality')"
   ]
  },
  {
   "cell_type": "code",
   "execution_count": null,
   "metadata": {},
   "outputs": [],
   "source": [
    "yuc = muns[muns['cve_ent']=='31']"
   ]
  },
  {
   "cell_type": "code",
   "execution_count": null,
   "metadata": {},
   "outputs": [],
   "source": [
    "import geopandas"
   ]
  },
  {
   "cell_type": "code",
   "execution_count": null,
   "metadata": {},
   "outputs": [],
   "source": [
    "# censo poblacion y vivienda 2020 inegi\n",
    "inegi_2020 = pd.read_csv('censo_yuc.csv')"
   ]
  },
  {
   "cell_type": "code",
   "execution_count": null,
   "metadata": {},
   "outputs": [],
   "source": [
    "pob_fem = inegi_2020[inegi_2020.NOM_LOC=='Total del Municipio'][['MUN','NOM_MUN','POBFEM' ]].reset_index(drop=True)"
   ]
  },
  {
   "cell_type": "code",
   "execution_count": null,
   "metadata": {},
   "outputs": [],
   "source": [
    "gdf = geopandas.GeoDataFrame(yuc, geometry='geometry_mun')"
   ]
  },
  {
   "cell_type": "code",
   "execution_count": null,
   "metadata": {},
   "outputs": [],
   "source": [
    "gdf_2020 = pd.DataFrame(gdf.merge(mun_counts_2020,left_on='nom_mun',right_on='index',how='left'))\n",
    "gdf = pd.DataFrame(gdf.merge(mun_counts,left_on='nom_mun',right_on='index',how='left'))\n",
    "\n",
    "#gdf = pd.DataFrame(gdf.merge(pob_fem,left_on='nom_mun',right_on='NOM_MUN',how='left'))\n",
    "#gdf_2020"
   ]
  },
  {
   "cell_type": "code",
   "execution_count": null,
   "metadata": {},
   "outputs": [],
   "source": [
    "gdf_2020 = pd.DataFrame(gdf_2020.merge(pob_fem,left_on='nom_mun',right_on='NOM_MUN',how='left'))\n",
    "#gdf_2020"
   ]
  },
  {
   "cell_type": "code",
   "execution_count": null,
   "metadata": {},
   "outputs": [],
   "source": [
    "#gdf"
   ]
  },
  {
   "cell_type": "code",
   "execution_count": null,
   "metadata": {},
   "outputs": [],
   "source": [
    "gdf = geopandas.GeoDataFrame(gdf, geometry='geometry_mun')\n",
    "gdf_2020 = geopandas.GeoDataFrame(gdf_2020, geometry='geometry_mun')"
   ]
  },
  {
   "cell_type": "code",
   "execution_count": null,
   "metadata": {},
   "outputs": [],
   "source": [
    "gdf = gdf.set_index('index')\n",
    "gdf = gdf.rename(columns={'municipiohechos':'Casos registrados'})\n",
    "\n",
    "gdf_2020 = gdf_2020.set_index('nom_mun')\n",
    "gdf_2020 = gdf_2020.rename(columns={'municipiohechos':'Casos registrados'})\n",
    "#gdf"
   ]
  },
  {
   "cell_type": "code",
   "execution_count": null,
   "metadata": {},
   "outputs": [],
   "source": [
    "gdf"
   ]
  },
  {
   "cell_type": "code",
   "execution_count": null,
   "metadata": {},
   "outputs": [],
   "source": [
    "gdf['Casos registrados log'] = np.log10(gdf['Casos registrados'] )\n",
    "gdf"
   ]
  },
  {
   "cell_type": "code",
   "execution_count": null,
   "metadata": {},
   "outputs": [],
   "source": [
    "gdf_2020['Tasa 1000 casos'] = round(gdf_2020['Casos registrados']/gdf_2020['POBFEM'].astype(int)*1000,2)\n",
    "gdf_2020"
   ]
  },
  {
   "cell_type": "code",
   "execution_count": null,
   "metadata": {},
   "outputs": [],
   "source": [
    "gdf['Casos registrados'].sum()"
   ]
  },
  {
   "cell_type": "code",
   "execution_count": null,
   "metadata": {},
   "outputs": [],
   "source": [
    "mun_counts.municipiohechos.sum()"
   ]
  },
  {
   "cell_type": "code",
   "execution_count": null,
   "metadata": {},
   "outputs": [],
   "source": [
    "semujeres.municipiohechos.value_counts().sum()"
   ]
  },
  {
   "cell_type": "code",
   "execution_count": null,
   "metadata": {},
   "outputs": [],
   "source": [
    "semujeres.shape"
   ]
  },
  {
   "cell_type": "code",
   "execution_count": null,
   "metadata": {},
   "outputs": [],
   "source": [
    "fig, ax = plt.subplots(1, figsize=(10,10))\n",
    "#legend = False\n",
    "gdf.plot(column=gdf['Casos registrados log'], cmap='Blues', linewidth=1, ax=ax, edgecolor='0.9')\n",
    "plt.ylim([0.88e6, 1.15e6])\n",
    "plt.xlim([3.7e6, 4e6])\n",
    "plt.axis('off')\n",
    "plt.title('Casos Registrados por Municipio')\n",
    "plt.show()"
   ]
  },
  {
   "cell_type": "code",
   "execution_count": null,
   "metadata": {},
   "outputs": [],
   "source": [
    "print(gdf.crs)"
   ]
  },
  {
   "cell_type": "code",
   "execution_count": null,
   "metadata": {},
   "outputs": [],
   "source": [
    "import pyproj\n",
    "gdf_crs = gdf.to_crs(pyproj.CRS.from_epsg(4326))\n",
    "gdf_crs_2020 = gdf_2020.to_crs(pyproj.CRS.from_epsg(4326))"
   ]
  },
  {
   "cell_type": "code",
   "execution_count": null,
   "metadata": {},
   "outputs": [],
   "source": [
    "print(gdf_crs.crs)"
   ]
  },
  {
   "cell_type": "code",
   "execution_count": null,
   "metadata": {},
   "outputs": [],
   "source": [
    "len(semujeres)"
   ]
  },
  {
   "cell_type": "code",
   "execution_count": null,
   "metadata": {},
   "outputs": [],
   "source": [
    "fig = px.choropleth(gdf_crs, geojson=gdf_crs.geometry_mun, \n",
    "                    locations=gdf_crs.index, color=\"Casos registrados log\",\n",
    "                    height=500,\n",
    "                   color_continuous_scale=\"Viridis\",\n",
    "                    labels = {'index':'Municipio', \"Casos registrados log\":'log10'},\n",
    "                    hover_data={\"Casos registrados\":True, \"Casos registrados log\":False},\n",
    "                    title='Mapa 1. Casos Registrados por Municipio',\n",
    "                   )\n",
    "fig.update_geos(fitbounds=\"locations\", visible=False)\n",
    "\n",
    "fig.update_layout(xaxis=dict(domain=[0, 0.5]), yaxis=dict(domain=[0.25, 0.75]))\n",
    "\n",
    "fig.add_annotation(\n",
    "    # The arrow head will be 25% along the x axis, starting from the left\n",
    "    x=0,\n",
    "    # The arrow head will be 40% along the y axis, starting from the bottom\n",
    "    y=0.98,\n",
    "    text=\"<b>Temporalidad:</b> {}-{}<br><b>Total de casos:</b> {}\".format(min(victimas.año_recepcion),max(victimas.año_recepcion),len(semujeres)),\n",
    "    showarrow=False,\n",
    "    bordercolor=\"black\",\n",
    "    bgcolor=\"white\",\n",
    "    borderwidth=1.5,\n",
    "    opacity=0.8\n",
    ")\n",
    "\n",
    "fig.update(layout = dict(title=dict(x=0.5)))\n",
    "fig.update_layout(\n",
    "    margin={\"r\":0,\"t\":30,\"l\":10,\"b\":10},\n",
    "    coloraxis_colorbar={\n",
    "        'title':'Escala'})\n",
    "fig.update_layout(title_y=1, title_x=0)\n",
    "fig.update_layout(coloraxis_showscale=True, height=500)\n",
    "pio.write_html(fig, file='../docs/figs/mapa.html', include_plotlyjs='cdn', full_html=False)\n",
    "fig.show()"
   ]
  },
  {
   "cell_type": "code",
   "execution_count": null,
   "metadata": {},
   "outputs": [],
   "source": [
    "gdf_crs_2020['Tasa 1000 casos'] = gdf_crs_2020['Tasa 1000 casos'].fillna(0)\n",
    "gdf_crs_2020['Casos registrados'] = gdf_crs_2020['Casos registrados'].fillna(0)"
   ]
  },
  {
   "cell_type": "code",
   "execution_count": null,
   "metadata": {},
   "outputs": [],
   "source": [
    "gdf_crs_2020"
   ]
  },
  {
   "cell_type": "code",
   "execution_count": null,
   "metadata": {},
   "outputs": [],
   "source": [
    "\"\"\"import json\n",
    "cols_dd = [\"Casos registrados\", \"POBFEM\", \"Tasa 1000 casos\"]\n",
    "# we need to add this to select which trace \n",
    "# is going to be visible\n",
    "visible = np.array(cols_dd)\n",
    "poly_json = json.loads(gdf_crs_2020.geometry_mun.to_json())\n",
    "# define traces and buttons at once\n",
    "traces = []\n",
    "buttons = []\n",
    "for value in cols_dd:\n",
    "    traces.append(go.Choropleth(\n",
    "        geojson=poly_json,\n",
    "        locations=gdf_crs_2020.index, # Spatial coordinates\n",
    "        z=gdf_crs_2020[value], # Data to be color-coded\n",
    "        colorbar_title=value,\n",
    "        name=value,\n",
    "        visible= True if value==cols_dd[0] else False))\n",
    "\n",
    "    buttons.append(dict(label=value,\n",
    "                        method=\"update\",\n",
    "                        args=[{\"visible\":list(visible==value)},\n",
    "                              {\"title\":f\"<b>{value}</b>\"}]))\n",
    "\n",
    "updatemenus = [{\"active\":0,\n",
    "                \"buttons\":buttons,\n",
    "               }]\n",
    "\n",
    "\n",
    "# Show figure\n",
    "fig = go.Figure(data=traces,\n",
    "                layout=dict(updatemenus=updatemenus))\n",
    "# This is in order to get the first title displayed correctly\n",
    "first_title = cols_dd[0]\n",
    "fig.update_layout(title=f\"<b>{first_title}</b>\",title_x=0.5)\n",
    "fig.update_geos(fitbounds=\"locations\", visible=False)\n",
    "#lataxis_range=list([0.88e6, 1.15e6]), lonaxis_range=list([3.7e6, 4e6])\n",
    "pio.write_html(fig, file='../docs/figs/mapa_2_dropdown.html', include_plotlyjs='cdn', full_html=False)\n",
    "fig.show()\"\"\""
   ]
  },
  {
   "cell_type": "code",
   "execution_count": null,
   "metadata": {},
   "outputs": [],
   "source": [
    "# Hacer menu de seleccion de fecha\n",
    "fig = px.choropleth(gdf_crs_2020, geojson=gdf_crs_2020.geometry_mun, \n",
    "                    locations=gdf_crs_2020.index, color=\"Tasa 1000 casos\",\n",
    "                    height=500,\n",
    "                    #color_continuous_scale=\"Viridis\",\n",
    "                    #color_continuous_midpoint=np.average(gdf_crs_2020['Tasa 1000 casos'], weights=gdf_crs_2020['POBFEM'].astype(int)),\n",
    "                    labels = {'nom_mun':'Municipio', 'POBFEM':'Población Femenina del Municipio', 'Tasa 1000 casos':'Tasa'},\n",
    "                    hover_data={\"Casos registrados\":True,\"POBFEM\":True,},\n",
    "                    title='Mapa 2. Tasa de casos registrados por cada 1000 mujeres por Municipio en 2020',\n",
    "                    )\n",
    "fig.update_geos(fitbounds=\"locations\", visible=False)\n",
    "\n",
    "fig.update_layout(xaxis=dict(domain=[0, 0.5]), yaxis=dict(domain=[0.25, 0.75]))\n",
    "\n",
    "fig.add_annotation(\n",
    "    # The arrow head will be 25% along the x axis, starting from the left\n",
    "    x=0,\n",
    "    # The arrow head will be 40% along the y axis, starting from the bottom\n",
    "    y=0.98,\n",
    "    text=\"<b>Temporalidad:</b> {}<br><b>Total de casos:</b> {}\".format(min(semujeres_2020.año_recepcion),len(semujeres_2020)),\n",
    "    showarrow=False,\n",
    "    bordercolor=\"black\",\n",
    "    bgcolor=\"white\",\n",
    "    borderwidth=1.5,\n",
    "    opacity=0.8\n",
    ")\n",
    "\n",
    "fig.update(layout = dict(title=dict(x=0.5)))\n",
    "fig.update_layout(\n",
    "    margin={\"r\":0,\"t\":30,\"l\":10,\"b\":10},\n",
    "    coloraxis_colorbar={\n",
    "        'title':'Tasa'})\n",
    "fig.update_layout(title_y=1, title_x=0)\n",
    "fig.update_layout(coloraxis_showscale=True, height=500)\n",
    "pio.write_html(fig, file='../docs/figs/mapa2.html', include_plotlyjs='cdn', full_html=False)\n",
    "fig.show()"
   ]
  },
  {
   "cell_type": "code",
   "execution_count": null,
   "metadata": {},
   "outputs": [],
   "source": [
    "#np.average(gdf_crs['Casos registrados'], weights=gdf_crs['POBFEM'].astype(int))"
   ]
  },
  {
   "cell_type": "code",
   "execution_count": null,
   "metadata": {},
   "outputs": [],
   "source": [
    "#np.average(gdf_crs['Casos registrados'])"
   ]
  },
  {
   "cell_type": "markdown",
   "metadata": {},
   "source": [
    "## Graficos Interactivos"
   ]
  },
  {
   "cell_type": "code",
   "execution_count": null,
   "metadata": {},
   "outputs": [],
   "source": [
    "# ACTIVIDAD/OCUPACION MUJERES\n",
    "\n"
   ]
  },
  {
   "cell_type": "code",
   "execution_count": null,
   "metadata": {},
   "outputs": [],
   "source": [
    "semujeres.ACTIVIDAD.unique()"
   ]
  },
  {
   "cell_type": "code",
   "execution_count": null,
   "metadata": {},
   "outputs": [],
   "source": [
    "semujeres = pd.concat([semujeres, semujeres.ACTIVIDAD.str.get_dummies(sep=',')], axis=1)"
   ]
  },
  {
   "cell_type": "code",
   "execution_count": null,
   "metadata": {},
   "outputs": [],
   "source": [
    "semujeres.info()"
   ]
  },
  {
   "cell_type": "code",
   "execution_count": null,
   "metadata": {},
   "outputs": [],
   "source": [
    "semujeres.iloc[:,[i for i in range(42,49)]]"
   ]
  },
  {
   "cell_type": "code",
   "execution_count": null,
   "metadata": {},
   "outputs": [],
   "source": [
    "y = [semujeres['Trabaja en el hogar'].sum(), semujeres['Trabaja fuera del hogar'].sum(),semujeres['Estudia'].sum(), semujeres['Jubilada/Pensionada'].sum()+semujeres['Pensionada'].sum(),semujeres['Otro'].sum(),semujeres['Se desconoce'].sum()]\n",
    "#y_total = sum(y)\n",
    "y_total = np.array(len(semujeres), dtype=int)\n",
    "fig = px.bar(x=['Trabaja en el hogar', 'Trabaja fuera del hogar','Estudia','Jubilada/Pensionada','Otro','Se desconoce'], \n",
    "            y = y,\n",
    "            text= np.round(y/y_total*100,2),\n",
    "            labels = {'x': 'Actividad', \"y\":'Número de casos', 'text':'Porcentaje'},\n",
    "            color=px.colors.qualitative.Prism[:6],\n",
    "            color_discrete_map=\"identity\",\n",
    "            title='Gráfica 1. Actividad que realizan las mujeres'\n",
    "            )\n",
    "fig.update_xaxes(type='category')\n",
    "fig.update_layout( xaxis={'categoryorder':'total descending'}, xaxis_title=None, height=500)\n",
    "#fig.update_traces(texttemplate='%{text} %', textposition='outside')\n",
    "fig.update_traces(texttemplate='%{text} %')\n",
    "pio.write_html(fig, file='../docs/figs/g1.html', include_plotlyjs='cdn', full_html=False)\n",
    "#fig.update_xaxes(title='x', visible=False, showticklabels=True)\n",
    "fig.show()"
   ]
  },
  {
   "cell_type": "code",
   "execution_count": null,
   "metadata": {},
   "outputs": [],
   "source": [
    "px.colors.qualitative.Prism"
   ]
  },
  {
   "cell_type": "code",
   "execution_count": null,
   "metadata": {},
   "outputs": [],
   "source": [
    "semujeres.escolaridad.unique()\n",
    "validez = semujeres[semujeres.escolaridad=='Estudios que no requieren validéz oficial'].index\n",
    "tecnica = semujeres[semujeres.escolaridad=='Carrera técnica comercial'].index\n",
    "semujeres.loc[validez,'escolaridad']='Sin validez'\n",
    "semujeres.loc[tecnica,'escolaridad']='Carrera técnica'"
   ]
  },
  {
   "cell_type": "code",
   "execution_count": null,
   "metadata": {},
   "outputs": [],
   "source": [
    "semujeres.escolaridad.unique()"
   ]
  },
  {
   "cell_type": "code",
   "execution_count": null,
   "metadata": {},
   "outputs": [],
   "source": [
    "y = semujeres.escolaridad.value_counts().values\n",
    "y_total = sum(y)\n",
    "fig = px.bar(x=semujeres.escolaridad.value_counts().index,\n",
    "            y=semujeres.escolaridad.value_counts().values,\n",
    "            text= np.round(y/y_total*100,2),\n",
    "            labels = {'x': 'Escolaridad', \"y\":'Número de casos', 'text':'Porcentaje'},\n",
    "            color=px.colors.qualitative.Prism[:11],\n",
    "            color_discrete_map=\"identity\",\n",
    "            title='Gráfica 2. Estudios Concluidos'\n",
    "            )\n",
    "fig.update_xaxes(type='category')\n",
    "fig.update_layout(xaxis_title=None, height=500)\n",
    "fig.update_traces(texttemplate='%{text} %')\n",
    "#fig.update_xaxes(visible=False, showticklabels=False)\n",
    "pio.write_html(fig, file='../docs/figs/g2.html',include_plotlyjs='cdn', full_html=False)\n",
    "fig.show()"
   ]
  },
  {
   "cell_type": "code",
   "execution_count": null,
   "metadata": {},
   "outputs": [],
   "source": [
    "y = semujeres.EstadoCivil.value_counts().values\n",
    "y_total = sum(y)\n",
    "fig = px.bar(x=semujeres.EstadoCivil.value_counts().index,\n",
    "            y=semujeres.EstadoCivil.value_counts().values,\n",
    "            text= np.round(y/y_total*100,2),\n",
    "            labels = {'x': 'Estado Civil', \"y\":'Número de casos', 'text':'Porcentaje'},\n",
    "            color=px.colors.qualitative.Prism[:8],\n",
    "            color_discrete_map=\"identity\",\n",
    "            title='Gráfica 3. Estado Civil'\n",
    "            )\n",
    "fig.update_xaxes(type='category')\n",
    "fig.update_layout(xaxis_title=None, height=500)\n",
    "fig.update_traces(texttemplate='%{text} %')\n",
    "#fig.update_xaxes(visible=False, showticklabels=False)\n",
    "pio.write_html(fig, file='../docs/figs/g3.html',include_plotlyjs='cdn', full_html=False)\n",
    "fig.show()"
   ]
  },
  {
   "cell_type": "code",
   "execution_count": null,
   "metadata": {},
   "outputs": [],
   "source": [
    "nan = semujeres[semujeres['Habla Indigena'].isna()==True].index\n",
    "semujeres.loc[nan, 'Habla Indigena'] = 'No'\n",
    "des = semujeres[semujeres['Habla Indigena']=='Desconocido'].index\n",
    "semujeres.loc[des, 'Habla Indigena'] = 'No'"
   ]
  },
  {
   "cell_type": "code",
   "execution_count": null,
   "metadata": {},
   "outputs": [],
   "source": [
    "y = semujeres['Habla Indigena'].value_counts().values\n",
    "y_total = sum(y)\n",
    "fig = px.bar(x=semujeres['Habla Indigena'].value_counts().index,\n",
    "            y=semujeres['Habla Indigena'].value_counts().values,\n",
    "            text= np.round(y/y_total*100,2),\n",
    "            labels = {'x': 'Habla lengua indígena', \"y\":'Número de casos', 'text':'Porcentaje'},\n",
    "            color=px.colors.qualitative.Prism[:2],\n",
    "            color_discrete_map=\"identity\",\n",
    "            title='Gráfica 5. Mujeres que hablan Lengua Indígena'\n",
    "            )\n",
    "fig.update_xaxes(type='category')\n",
    "fig.update_layout(xaxis_title=None, height=500)\n",
    "fig.update_traces(texttemplate='%{text} %')\n",
    "#fig.update_xaxes(visible=False, showticklabels=False)\n",
    "pio.write_html(fig, file='../docs/figs/g4.html',include_plotlyjs='cdn', full_html=False)\n",
    "fig.show()"
   ]
  },
  {
   "cell_type": "code",
   "execution_count": null,
   "metadata": {},
   "outputs": [],
   "source": [
    "y = semujeres['Conocimiento de autoridad'].value_counts().values\n",
    "y_total = sum(y)\n",
    "fig = px.bar(x=semujeres['Conocimiento de autoridad'].value_counts().index,\n",
    "            y=semujeres['Conocimiento de autoridad'].value_counts().values,\n",
    "            text= np.round(y/y_total*100,2),\n",
    "            labels = {'x': 'Conocimiento de alguna autoridad', \"y\":'Número de casos', 'text':'Porcentaje'},\n",
    "            color=px.colors.qualitative.Prism[:2],\n",
    "            color_discrete_map=\"identity\",\n",
    "            title='Gráfica 6. Casos que son conocidos por alguna autoridad'\n",
    "            )\n",
    "fig.update_xaxes(type='category')\n",
    "fig.update_layout( xaxis_title=None, height=500)\n",
    "fig.update_traces(texttemplate='%{text} %')\n",
    "#fig.update_xaxes(visible=False, showticklabels=False)\n",
    "pio.write_html(fig, file='../docs/figs/g5.html',include_plotlyjs='cdn', full_html=False)\n",
    "fig.show()"
   ]
  },
  {
   "cell_type": "code",
   "execution_count": null,
   "metadata": {},
   "outputs": [],
   "source": [
    "si_conocimiento = semujeres[semujeres['Conocimiento de autoridad']=='Si']\n",
    "\n",
    "mp = si_conocimiento['Descripcion de autoridad'].str.contains(\"MINISTERIO\").sum() + si_conocimiento['Descripcion de autoridad'].str.contains(\"MP\").sum() + si_conocimiento['Descripcion de autoridad'].str.contains(\"M.P\").sum() \n",
    "fg = si_conocimiento['Descripcion de autoridad'].str.contains(\"FIS\").sum() + si_conocimiento['Descripcion de autoridad'].str.contains(\"FG\").sum() + si_conocimiento['Descripcion de autoridad'].str.contains(\"F.G\").sum()\n",
    "juz = si_conocimiento['Descripcion de autoridad'].str.contains(\"JUZ\").sum() + si_conocimiento['Descripcion de autoridad'].str.contains(\"JUEZ\").sum() + si_conocimiento['Descripcion de autoridad'].str.contains(\"JZ\").sum()\n",
    "agencia = si_conocimiento['Descripcion de autoridad'].str.contains(\"AGE\").sum() + si_conocimiento['Descripcion de autoridad'].str.contains(\"AG\").sum()\n",
    "cjm = si_conocimiento['Descripcion de autoridad'].str.contains(\"JUS\").sum() + si_conocimiento['Descripcion de autoridad'].str.contains(\"CJ\").sum() + si_conocimiento['Descripcion de autoridad'].str.contains(\"JM\").sum() + si_conocimiento['Descripcion de autoridad'].str.contains(\"B1\").sum()\n",
    "prod = si_conocimiento['Descripcion de autoridad'].str.contains(\"PRODE\").sum()\n",
    "salud = si_conocimiento['Descripcion de autoridad'].str.contains(\"SALUD\").sum() + si_conocimiento['Descripcion de autoridad'].str.contains(\"HOSP\").sum()\n",
    "judicial = si_conocimiento['Descripcion de autoridad'].str.contains(\"MUN\").sum() + si_conocimiento['Descripcion de autoridad'].str.contains(\"SSP\").sum()\n",
    "judicial_juzgado = judicial+juz\n",
    "fis_agencia = fg + agencia"
   ]
  },
  {
   "cell_type": "code",
   "execution_count": null,
   "metadata": {},
   "outputs": [],
   "source": [
    "dic_autoridades = { 'Autoridad':['Ministerio Público','Fiscalía','PRODENNAY', 'CJM','Centro de Salud', 'Poder Judicial'],\n",
    "                    'Porcentaje':100*np.array([mp, fis_agencia,  prod,  cjm, salud,judicial_juzgado])/sum([mp, fis_agencia,  prod,  cjm, salud, judicial_juzgado]),\n",
    "                    'Count': np.array([mp, fis_agencia, prod,  cjm, salud, judicial_juzgado])}"
   ]
  },
  {
   "cell_type": "code",
   "execution_count": null,
   "metadata": {},
   "outputs": [],
   "source": [
    "autoridades = pd.DataFrame(dic_autoridades)\n",
    "autoridades = autoridades.sort_values('Count', ascending=False)\n",
    "autoridades"
   ]
  },
  {
   "cell_type": "code",
   "execution_count": null,
   "metadata": {},
   "outputs": [],
   "source": [
    "y = autoridades['Count']\n",
    "y_total = sum(y)\n",
    "fig = px.bar(x=autoridades['Autoridad'],\n",
    "            y=autoridades['Count'],\n",
    "            text= np.round(y/y_total*100,2),\n",
    "            labels = {'x': 'Autoridad', \"y\":'Número de casos', 'text':'Porcentaje'},\n",
    "            color=px.colors.qualitative.Prism[:6],\n",
    "            color_discrete_map=\"identity\",\n",
    "            title='Gráfica 7. Autoridad que conoce el caso'\n",
    "            )\n",
    "fig.update_xaxes(type='category')\n",
    "fig.update_layout( xaxis_title=None, height=500)\n",
    "fig.update_traces(texttemplate='%{text} %')\n",
    "#fig.update_xaxes(visible=False, showticklabels=False)\n",
    "pio.write_html(fig, file='../docs/figs/g6.html',include_plotlyjs='cdn', full_html=False)\n",
    "fig.show()"
   ]
  },
  {
   "cell_type": "code",
   "execution_count": null,
   "metadata": {},
   "outputs": [],
   "source": [
    "semujeres = pd.concat([semujeres, semujeres.tipos.str.get_dummies(sep=',')], axis=1)"
   ]
  },
  {
   "cell_type": "code",
   "execution_count": null,
   "metadata": {},
   "outputs": [],
   "source": [
    "semujeres.descripcion_otro_tipos.unique()"
   ]
  },
  {
   "cell_type": "code",
   "execution_count": null,
   "metadata": {},
   "outputs": [],
   "source": [
    "tipos = semujeres.iloc[:,[i for i in range(49,55)]]\n",
    "tipos = pd.DataFrame(tipos.sum())\n",
    "tipos = tipos.sort_values(0,ascending=False)\n",
    "new_row = pd.Series(data={0:sum(semujeres.descripcion_otro_tipos=='FEMINICIDA')}, name='Feminicida')\n",
    "#append row to the dataframe\n",
    "tipos = tipos.append(new_row)"
   ]
  },
  {
   "cell_type": "code",
   "execution_count": null,
   "metadata": {},
   "outputs": [],
   "source": [
    "tipos.loc['Otro',0] = tipos.loc['Otro',0] - tipos.loc['Feminicida',0]"
   ]
  },
  {
   "cell_type": "code",
   "execution_count": null,
   "metadata": {},
   "outputs": [],
   "source": [
    "tipos = tipos.sort_values(0, ascending=False)\n",
    "tipos"
   ]
  },
  {
   "cell_type": "code",
   "execution_count": null,
   "metadata": {},
   "outputs": [],
   "source": [
    "y = tipos[0].values\n",
    "y_total = len(semujeres)\n",
    "fig = px.bar(x=tipos.index,\n",
    "            y=tipos[0],\n",
    "            text= np.round(y/y_total*100,2),\n",
    "            labels = {'x': 'Tipo de violencia', \"y\":'Número de casos', 'text':'Porcentaje'},\n",
    "            color=px.colors.qualitative.Prism[:7],\n",
    "            color_discrete_map=\"identity\",\n",
    "            title='Gráfica 8. Tipo de violencia registrada'\n",
    "            )\n",
    "fig.update_xaxes(type='category')\n",
    "fig.update_layout( xaxis_title=None,  height=500)\n",
    "fig.update_traces(texttemplate='%{text} %')\n",
    "#fig.update_xaxes(visible=False, showticklabels=False)\n",
    "pio.write_html(fig, file='../docs/figs/g7.html',include_plotlyjs='cdn', full_html=False)\n",
    "fig.show()"
   ]
  },
  {
   "cell_type": "code",
   "execution_count": null,
   "metadata": {},
   "outputs": [],
   "source": [
    "semujeres.descripcion_otro_tipos"
   ]
  },
  {
   "cell_type": "code",
   "execution_count": null,
   "metadata": {},
   "outputs": [],
   "source": [
    "semujeres.modalidad.unique()"
   ]
  },
  {
   "cell_type": "code",
   "execution_count": null,
   "metadata": {},
   "outputs": [],
   "source": [
    "y = semujeres.modalidad.value_counts().values\n",
    "y_total = sum(y)\n",
    "fig = px.bar(x=semujeres.modalidad.value_counts().index,\n",
    "            y=semujeres.modalidad.value_counts().values,\n",
    "            text= np.round(y/y_total*100,2),\n",
    "            labels = {'x': 'Modalidad de la violencia', \"y\":'Número de casos', 'text':'Porcentaje'},\n",
    "            color=px.colors.qualitative.Prism[:7],\n",
    "            color_discrete_map=\"identity\",\n",
    "            title='Gráfica 9. Modalidad de la violencia'\n",
    "            )\n",
    "fig.update_xaxes(type='category')\n",
    "fig.update_layout( xaxis_title=None,  height=500)\n",
    "fig.update_traces(texttemplate='%{text} %')\n",
    "#fig.update_xaxes(visible=False, showticklabels=False)\n",
    "pio.write_html(fig, file='../docs/figs/g8.html',include_plotlyjs='cdn', full_html=False)\n",
    "fig.show()"
   ]
  },
  {
   "cell_type": "code",
   "execution_count": null,
   "metadata": {},
   "outputs": [],
   "source": [
    "semujeres['Tipo de vínculo con victima'].unique()"
   ]
  },
  {
   "cell_type": "code",
   "execution_count": null,
   "metadata": {},
   "outputs": [],
   "source": [
    "prismas = px.colors.qualitative.Prism \n",
    "prismas += px.colors.qualitative.Prism "
   ]
  },
  {
   "cell_type": "code",
   "execution_count": null,
   "metadata": {},
   "outputs": [],
   "source": [
    "y = semujeres['Detalle del Tipo Vínculo con victima'].value_counts().values\n",
    "y_total = sum(y)\n",
    "fig = px.bar(x=semujeres['Detalle del Tipo Vínculo con victima'].value_counts().index,\n",
    "            y=semujeres['Detalle del Tipo Vínculo con victima'].value_counts().values,\n",
    "            text= np.round(y/y_total*100,2),\n",
    "            labels = {'x': 'Detalle del vínculo con la víctima', \"y\":'Número de casos', 'text':'Porcentaje'},\n",
    "            color=prismas[:21],\n",
    "            color_discrete_map=\"identity\",\n",
    "            title='Gráfica 11. Detalle del vínculo con la víctima'\n",
    "            )\n",
    "fig.update_xaxes(type='category')\n",
    "fig.update_layout( xaxis={'categoryorder':'total descending'}, height=500)\n",
    "fig.update_layout( xaxis_title=None)\n",
    "fig.update_traces(texttemplate='%{text} %')\n",
    "#fig.update_xaxes(visible=False, showticklabels=False)\n",
    "pio.write_html(fig, file='../docs/figs/g10.html',include_plotlyjs='cdn', full_html=False)\n",
    "fig.show()"
   ]
  },
  {
   "cell_type": "code",
   "execution_count": null,
   "metadata": {},
   "outputs": [],
   "source": [
    "fecha='2020-10-11'"
   ]
  },
  {
   "cell_type": "code",
   "execution_count": null,
   "metadata": {},
   "outputs": [],
   "source": [
    "# violencia en los ultimos 12 meses\n",
    "tuvo_violencia = semujeres[(semujeres['Detalle del Tipo Vínculo con victima'].isin(['Cónyuge o pareja ', 'Ex pareja']))&(semujeres['fecha_recepcion']>=fecha)]\n",
    "ultimo_año = semujeres[semujeres['fecha_recepcion']>=fecha]\n",
    "ultimo_año['violencia_ex_pareja'] = 'No'\n",
    "ultimo_año.loc[tuvo_violencia.index, 'violencia_ex_pareja'] = 'Si'\n",
    "y = ultimo_año['violencia_ex_pareja'].value_counts().values\n",
    "y_total = len(ultimo_año)\n",
    "fig = px.bar(x=ultimo_año['violencia_ex_pareja'].value_counts().index,\n",
    "            y=ultimo_año['violencia_ex_pareja'].value_counts().values,\n",
    "            text= np.round(y/y_total*100,2),\n",
    "            labels = {'x': 'Victima de violencia', \"y\":'Número de casos', 'text':'Porcentaje'},\n",
    "            color=px.colors.qualitative.Prism[:2],\n",
    "            color_discrete_map=\"identity\",\n",
    "            title=\"\"\"Gráfica 12. Mujeres que han experimentado violencia por parte de su última pareja en los últimos 12 meses<br><b>Total de casos en los últimos 12 meses:</b> {}\"\"\".format(len(ultimo_año))\n",
    "            )\n",
    "fig.update_xaxes(type='category')\n",
    "fig.update_layout( xaxis_title=None, height=500)\n",
    "fig.update_traces(texttemplate='%{text} %')\n",
    "\"\"\"fig.add_annotation(\n",
    "    # The arrow head will be 25% along the x axis, starting from the left\n",
    "    x=0.5,\n",
    "    # The arrow head will be 40% along the y axis, starting from the bottom\n",
    "    y=2000,\n",
    "    text=\"<b>Total de casos en los últimos 12 meses:</b> {}\".format(len(ultimo_año)),\n",
    "    showarrow=False,\n",
    "    bordercolor=\"black\",\n",
    "    bgcolor=\"white\",\n",
    "    borderwidth=1.5,\n",
    "    opacity=0.8\n",
    ")\"\"\"\n",
    "pio.write_html(fig, file='../docs/figs/g21.html',include_plotlyjs='cdn', full_html=False)\n",
    "fig.show()"
   ]
  },
  {
   "cell_type": "code",
   "execution_count": null,
   "metadata": {},
   "outputs": [],
   "source": [
    "y = semujeres['Tipo de vínculo con victima'].value_counts().values\n",
    "y_total = sum(y)\n",
    "fig = px.bar(x=semujeres['Tipo de vínculo con victima'].value_counts().index,\n",
    "            y=semujeres['Tipo de vínculo con victima'].value_counts().values,\n",
    "            text= np.round(y/y_total*100,2),\n",
    "            labels = {'x': 'Tipo de vínculo con la víctima', \"y\":'Número de casos', 'text':'Porcentaje'},\n",
    "            color=px.colors.qualitative.Prism[:5],\n",
    "            color_discrete_map=\"identity\",\n",
    "            title='Gráfica 10. Tipo de vínculo con la víctima'\n",
    "            )\n",
    "fig.update_xaxes(type='category')\n",
    "fig.update_layout( xaxis_title=None, height=500)\n",
    "fig.update_traces(texttemplate='%{text} %')\n",
    "#fig.update_xaxes(visible=False, showticklabels=False)\n",
    "pio.write_html(fig, file='../docs/figs/g9.html',include_plotlyjs='cdn', full_html=False)\n",
    "fig.show()"
   ]
  },
  {
   "cell_type": "code",
   "execution_count": null,
   "metadata": {},
   "outputs": [],
   "source": [
    "semujeres['Victima de Trata'].value_counts()"
   ]
  },
  {
   "cell_type": "code",
   "execution_count": null,
   "metadata": {},
   "outputs": [],
   "source": [
    "no = semujeres[semujeres['Victima de Trata']=='Se desconoce'].index\n",
    "semujeres.loc[no, 'Victima de Trata']= 'No'"
   ]
  },
  {
   "cell_type": "code",
   "execution_count": null,
   "metadata": {},
   "outputs": [],
   "source": [
    "y = semujeres['Victima de Trata'].value_counts().values\n",
    "y_total = sum(y)\n",
    "fig = px.bar(x=semujeres['Victima de Trata'].value_counts().index,\n",
    "            y=semujeres['Victima de Trata'].value_counts().values,\n",
    "            text= np.round(y/y_total*100,2),\n",
    "            labels = {'x': 'Victima de Trata', \"y\":'Número de casos', 'text':'Porcentaje'},\n",
    "            color=px.colors.qualitative.Prism[:2],\n",
    "            color_discrete_map=\"identity\",\n",
    "            title='Gráfica 13. Casos relacionados con el delito de Trata'\n",
    "            )\n",
    "fig.update_xaxes(type='category')\n",
    "fig.update_layout( xaxis_title=None, height=500)\n",
    "fig.update_traces(texttemplate='%{text} %')\n",
    "#fig.update_xaxes(visible=False, showticklabels=False)\n",
    "pio.write_html(fig, file='../docs/figs/g11.html',include_plotlyjs='cdn', full_html=False)\n",
    "fig.show()"
   ]
  },
  {
   "cell_type": "code",
   "execution_count": null,
   "metadata": {},
   "outputs": [],
   "source": [
    "y = semujeres['Victima de delincuencia'].value_counts().values\n",
    "y_total = sum(y)\n",
    "fig = px.bar(x=semujeres['Victima de delincuencia'].value_counts().index,\n",
    "            y=semujeres['Victima de delincuencia'].value_counts().values,\n",
    "            text= np.round(y/y_total*100,2),\n",
    "            labels = {'x': 'Victima de delincuencia', \"y\":'Número de casos', 'text':'Porcentaje'},\n",
    "            color=px.colors.qualitative.Prism[:2],\n",
    "            color_discrete_map=\"identity\",\n",
    "            title='Gráfica 14. Casos relacionados con Delincuencia Organizada'\n",
    "            )\n",
    "fig.update_xaxes(type='category')\n",
    "fig.update_layout( xaxis_title=None, height=500)\n",
    "fig.update_traces(texttemplate='%{text} %')\n",
    "#fig.update_xaxes(visible=False, showticklabels=False)\n",
    "fig.update_layout(\n",
    "    xaxis = dict(\n",
    "        tickmode = 'array',\n",
    "        tickvals = [0, 1],\n",
    "        ticktext = ['No','Si']\n",
    "    )\n",
    ")\n",
    "pio.write_html(fig, file='../docs/figs/g12.html',include_plotlyjs='cdn', full_html=False)\n",
    "fig.show()"
   ]
  },
  {
   "cell_type": "code",
   "execution_count": null,
   "metadata": {},
   "outputs": [],
   "source": [
    "servicios_semujeres.serviciodetalle.unique()"
   ]
  },
  {
   "cell_type": "code",
   "execution_count": null,
   "metadata": {},
   "outputs": [],
   "source": [
    "y = servicios_semujeres.serviciodetalle.value_counts().values\n",
    "y_total = sum(y)\n",
    "fig = px.bar(x=servicios_semujeres.serviciodetalle.value_counts().index,\n",
    "            y=servicios_semujeres.serviciodetalle.value_counts().values,\n",
    "            text= np.round(y/y_total*100,2),\n",
    "            labels = {'x': 'Servicio proporcionado', \"y\":'Número de casos', 'text':'Porcentaje'},\n",
    "            color=px.colors.qualitative.Prism[:13],\n",
    "            color_discrete_map=\"identity\",\n",
    "            title='Gráfica 15. Servicios proporcionados por la SEMUJERES'\n",
    "            )\n",
    "fig.update_xaxes(type='category')\n",
    "fig.update_layout( xaxis={'categoryorder':'total descending'}, height=500)\n",
    "fig.update_layout( xaxis_title=None)\n",
    "fig.update_traces(texttemplate='%{text} %')\n",
    "pio.write_html(fig, file='../docs/figs/g13.html',include_plotlyjs='cdn', full_html=False)\n",
    "#fig.update_xaxes(visible=False, showticklabels=False)\n",
    "fig.show()"
   ]
  },
  {
   "cell_type": "code",
   "execution_count": null,
   "metadata": {},
   "outputs": [],
   "source": [
    "servicios_semujeres.serviciodetalle.value_counts()"
   ]
  },
  {
   "cell_type": "code",
   "execution_count": null,
   "metadata": {},
   "outputs": [],
   "source": [
    "servicios_semujeres.dependenciaquebrindoservicio.unique()"
   ]
  },
  {
   "cell_type": "code",
   "execution_count": null,
   "metadata": {},
   "outputs": [],
   "source": [
    "semujeres.info()"
   ]
  },
  {
   "cell_type": "code",
   "execution_count": null,
   "metadata": {},
   "outputs": [],
   "source": [
    "tipos = semujeres.iloc[:,[49,50,51,52,53,54,28]]\n",
    "fem = tipos[tipos.descripcion_otro_tipos.isna()==False]\n",
    "na = tipos[tipos.descripcion_otro_tipos.isna()==True]\n",
    "tipos.loc[fem.index,'descripcion_otro_tipos']=1\n",
    "tipos.loc[na.index,'descripcion_otro_tipos']=0\n",
    "tipos = tipos.rename(columns={'descripcion_otro_tipos':'Feminicida'})"
   ]
  },
  {
   "cell_type": "code",
   "execution_count": null,
   "metadata": {},
   "outputs": [],
   "source": [
    "def matrix(df):\n",
    "    arr = np.zeros(shape=(7,7), dtype=int)\n",
    "    \n",
    "    for index, row in df.iterrows():\n",
    "        i, j= 0, 0\n",
    "        #print(row)\n",
    "        for col_1 in df.columns:\n",
    "            for col_2 in df.columns:\n",
    "                if (row[col_1]==1) and (row[col_2] == 1):\n",
    "                    arr[i][j] += 1\n",
    "                j += 1\n",
    "            j = 0\n",
    "            i += 1\n",
    "        i = 0\n",
    "    return arr\n"
   ]
  },
  {
   "cell_type": "code",
   "execution_count": null,
   "metadata": {},
   "outputs": [],
   "source": [
    "mat = matrix(tipos)\n",
    "mat"
   ]
  },
  {
   "cell_type": "code",
   "execution_count": null,
   "metadata": {},
   "outputs": [],
   "source": [
    "names = list(tipos.columns)\n",
    "names"
   ]
  },
  {
   "cell_type": "code",
   "execution_count": null,
   "metadata": {},
   "outputs": [],
   "source": [
    "# chord diagram\n",
    "import matplotlib.pyplot as plt\n",
    "from matplotlib.path import Path\n",
    "import matplotlib.patches as patches\n",
    "\n",
    "import numpy as np\n",
    "\n",
    "LW = 0.3\n",
    "\n",
    "def polar2xy(r, theta):\n",
    "    return np.array([r*np.cos(theta), r*np.sin(theta)])\n",
    "\n",
    "def hex2rgb(c):\n",
    "    return tuple(int(c[i:i+2], 16)/256.0 for i in (1, 3 ,5))\n",
    "\n",
    "def IdeogramArc(start=0, end=60, radius=1.0, width=0.2, ax=None, color=(1,0,0)):\n",
    "    # start, end should be in [0, 360)\n",
    "    if start > end:\n",
    "        start, end = end, start\n",
    "    start *= np.pi/180.\n",
    "    end *= np.pi/180.\n",
    "    # optimal distance to the control points\n",
    "    # https://stackoverflow.com/questions/1734745/how-to-create-circle-with-b%C3%A9zier-curves\n",
    "    opt = 4./3. * np.tan((end-start)/ 4.) * radius\n",
    "    inner = radius*(1-width)\n",
    "    verts = [\n",
    "        polar2xy(radius, start),\n",
    "        polar2xy(radius, start) + polar2xy(opt, start+0.5*np.pi),\n",
    "        polar2xy(radius, end) + polar2xy(opt, end-0.5*np.pi),\n",
    "        polar2xy(radius, end),\n",
    "        polar2xy(inner, end),\n",
    "        polar2xy(inner, end) + polar2xy(opt*(1-width), end-0.5*np.pi),\n",
    "        polar2xy(inner, start) + polar2xy(opt*(1-width), start+0.5*np.pi),\n",
    "        polar2xy(inner, start),\n",
    "        polar2xy(radius, start),\n",
    "        ]\n",
    "\n",
    "    codes = [Path.MOVETO,\n",
    "             Path.CURVE4,\n",
    "             Path.CURVE4,\n",
    "             Path.CURVE4,\n",
    "             Path.LINETO,\n",
    "             Path.CURVE4,\n",
    "             Path.CURVE4,\n",
    "             Path.CURVE4,\n",
    "             Path.CLOSEPOLY,\n",
    "             ]\n",
    "\n",
    "    if ax == None:\n",
    "        return verts, codes\n",
    "    else:\n",
    "        path = Path(verts, codes)\n",
    "        patch = patches.PathPatch(path, facecolor=color+(0.5,), edgecolor=color+(0.4,), lw=LW)\n",
    "        ax.add_patch(patch)\n",
    "\n",
    "\n",
    "def ChordArc(start1=0, end1=60, start2=180, end2=240, radius=1.0, chordwidth=0.7, ax=None, color=(1,0,0)):\n",
    "    # start, end should be in [0, 360)\n",
    "    if start1 > end1:\n",
    "        start1, end1 = end1, start1\n",
    "    if start2 > end2:\n",
    "        start2, end2 = end2, start2\n",
    "    start1 *= np.pi/180.\n",
    "    end1 *= np.pi/180.\n",
    "    start2 *= np.pi/180.\n",
    "    end2 *= np.pi/180.\n",
    "    opt1 = 4./3. * np.tan((end1-start1)/ 4.) * radius\n",
    "    opt2 = 4./3. * np.tan((end2-start2)/ 4.) * radius\n",
    "    rchord = radius * (1-chordwidth)\n",
    "    verts = [\n",
    "        polar2xy(radius, start1),\n",
    "        polar2xy(radius, start1) + polar2xy(opt1, start1+0.5*np.pi),\n",
    "        polar2xy(radius, end1) + polar2xy(opt1, end1-0.5*np.pi),\n",
    "        polar2xy(radius, end1),\n",
    "        polar2xy(rchord, end1),\n",
    "        polar2xy(rchord, start2),\n",
    "        polar2xy(radius, start2),\n",
    "        polar2xy(radius, start2) + polar2xy(opt2, start2+0.5*np.pi),\n",
    "        polar2xy(radius, end2) + polar2xy(opt2, end2-0.5*np.pi),\n",
    "        polar2xy(radius, end2),\n",
    "        polar2xy(rchord, end2),\n",
    "        polar2xy(rchord, start1),\n",
    "        polar2xy(radius, start1),\n",
    "        ]\n",
    "\n",
    "    codes = [Path.MOVETO,\n",
    "             Path.CURVE4,\n",
    "             Path.CURVE4,\n",
    "             Path.CURVE4,\n",
    "             Path.CURVE4,\n",
    "             Path.CURVE4,\n",
    "             Path.CURVE4,\n",
    "             Path.CURVE4,\n",
    "             Path.CURVE4,\n",
    "             Path.CURVE4,\n",
    "             Path.CURVE4,\n",
    "             Path.CURVE4,\n",
    "             Path.CURVE4,\n",
    "             ]\n",
    "\n",
    "    if ax == None:\n",
    "        return verts, codes\n",
    "    else:\n",
    "        path = Path(verts, codes)\n",
    "        patch = patches.PathPatch(path, facecolor=color+(0.5,), edgecolor=color+(0.4,), lw=LW)\n",
    "        ax.add_patch(patch)\n",
    "\n",
    "def selfChordArc(start=0, end=60, radius=1.0, chordwidth=0.7, ax=None, color=(1,0,0)):\n",
    "    # start, end should be in [0, 360)\n",
    "    if start > end:\n",
    "        start, end = end, start\n",
    "    start *= np.pi/180.\n",
    "    end *= np.pi/180.\n",
    "    opt = 4./3. * np.tan((end-start)/ 4.) * radius\n",
    "    rchord = radius * (1-chordwidth)\n",
    "    verts = [\n",
    "        polar2xy(radius, start),\n",
    "        polar2xy(radius, start) + polar2xy(opt, start+0.5*np.pi),\n",
    "        polar2xy(radius, end) + polar2xy(opt, end-0.5*np.pi),\n",
    "        polar2xy(radius, end),\n",
    "        polar2xy(rchord, end),\n",
    "        polar2xy(rchord, start),\n",
    "        polar2xy(radius, start),\n",
    "        ]\n",
    "\n",
    "    codes = [Path.MOVETO,\n",
    "             Path.CURVE4,\n",
    "             Path.CURVE4,\n",
    "             Path.CURVE4,\n",
    "             Path.CURVE4,\n",
    "             Path.CURVE4,\n",
    "             Path.CURVE4,\n",
    "             ]\n",
    "\n",
    "    if ax == None:\n",
    "        return verts, codes\n",
    "    else:\n",
    "        path = Path(verts, codes)\n",
    "        patch = patches.PathPatch(path, facecolor=color+(0.5,), edgecolor=color+(0.4,), lw=LW)\n",
    "        ax.add_patch(patch)\n",
    "\n",
    "def chordDiagram(X, ax, colors=None, width=0.1, pad=2, chordwidth=0.7):\n",
    "    \"\"\"Plot a chord diagram\n",
    "    Parameters\n",
    "    ----------\n",
    "    X :\n",
    "        flux data, X[i, j] is the flux from i to j\n",
    "    ax :\n",
    "        matplotlib `axes` to show the plot\n",
    "    colors : optional\n",
    "        user defined colors in rgb format. Use function hex2rgb() to convert hex color to rgb color. Default: d3.js category10\n",
    "    width : optional\n",
    "        width/thickness of the ideogram arc\n",
    "    pad : optional\n",
    "        gap pad between two neighboring ideogram arcs, unit: degree, default: 2 degree\n",
    "    chordwidth : optional\n",
    "        position of the control points for the chords, controlling the shape of the chords\n",
    "    \"\"\"\n",
    "    # X[i, j]:  i -> j\n",
    "    x = X.sum(axis = 1) # sum over rows\n",
    "    ax.set_xlim(-1.1, 1.1)\n",
    "    ax.set_ylim(-1.1, 1.1)\n",
    "\n",
    "    if colors is None:\n",
    "    # use d3.js category10 https://github.com/d3/d3-3.x-api-reference/blob/master/Ordinal-Scales.md#category10\n",
    "        colors = ['#1f77b4', '#ff7f0e', '#2ca02c', '#d62728', '#9467bd',\n",
    "                  '#8c564b', '#e377c2', '#7f7f7f', '#bcbd22', '#17becf']\n",
    "        if len(x) > 10:\n",
    "            print('x is too large! Use x smaller than 10')\n",
    "        colors = [hex2rgb(colors[i]) for i in range(len(x))]\n",
    "\n",
    "    # find position for each start and end\n",
    "    y = x/np.sum(x).astype(float) * (360 - pad*len(x))\n",
    "\n",
    "    pos = {}\n",
    "    arc = []\n",
    "    nodePos = []\n",
    "    start = 0\n",
    "    for i in range(len(x)):\n",
    "        end = start + y[i]\n",
    "        arc.append((start, end))\n",
    "        angle = 0.5*(start+end)\n",
    "        #print(start, end, angle)\n",
    "        if -30 <= angle <= 210:\n",
    "            angle -= 90\n",
    "        else:\n",
    "            angle -= 270\n",
    "        nodePos.append(tuple(polar2xy(1.1, 0.5*(start+end)*np.pi/180.)) + (angle,))\n",
    "        z = (X[i, :]/x[i].astype(float)) * (end - start)\n",
    "        ids = np.argsort(z)\n",
    "        z0 = start\n",
    "        for j in ids:\n",
    "            pos[(i, j)] = (z0, z0+z[j])\n",
    "            z0 += z[j]\n",
    "        start = end + pad\n",
    "\n",
    "    for i in range(len(x)):\n",
    "        start, end = arc[i]\n",
    "        IdeogramArc(start=start, end=end, radius=1.0, ax=ax, color=colors[i], width=width)\n",
    "        start, end = pos[(i,i)]\n",
    "        selfChordArc(start, end, radius=1.-width, color=colors[i], chordwidth=chordwidth*0.7, ax=ax)\n",
    "        for j in range(i):\n",
    "            color = colors[i]\n",
    "            if X[i, j] > X[j, i]:\n",
    "                color = colors[j]\n",
    "            start1, end1 = pos[(i,j)]\n",
    "            start2, end2 = pos[(j,i)]\n",
    "            ChordArc(start1, end1, start2, end2,\n",
    "                     radius=1.-width, color=colors[i], chordwidth=chordwidth, ax=ax)\n",
    "\n",
    "    #print(nodePos)\n",
    "    return nodePos\n",
    "\n",
    "##################################\n",
    "if __name__ == \"__main__\":\n",
    "    fig = plt.figure(figsize=(5,5))\n",
    "    flux =  mat\n",
    "\n",
    "    ax = plt.axes([0,0,1,1])\n",
    "\n",
    "    nodePos = chordDiagram(flux, ax, colors=[hex2rgb(x) for x in [\n",
    " \n",
    " '#1d6996', # azul\n",
    " '#38a6a5', # azul verdoso\n",
    " '#e17c05', # naranja\n",
    " '#0f8554', # verde\n",
    " '#5f4690', # morado\n",
    " '#73af48', # verde claro\n",
    " '#edac08', # amarillo\n",
    "\n",
    " \n",
    " ]])\n",
    "    #nodePos = chordDiagram(flux, ax)\n",
    "    ax.axis('off')\n",
    "    prop = dict(fontsize=16*0.8, ha='center', va='center')\n",
    "    nodes = names\n",
    "    for i in range(7):\n",
    "        ax.text(nodePos[i][0], nodePos[i][1], nodes[i], rotation=nodePos[i][2], **prop)\n",
    "\n",
    "    plt.title('Gráfica 8.1 Combinaciones de violencias mas comunes', size=15)\n",
    "\n",
    "    plt.savefig(\"../docs/figs/chord.png\", dpi=600,\n",
    "            transparent=True,\n",
    "            bbox_inches='tight', pad_inches=0.02)"
   ]
  },
  {
   "cell_type": "code",
   "execution_count": null,
   "metadata": {},
   "outputs": [],
   "source": [
    "print(px.colors.qualitative.Prism[:6])"
   ]
  },
  {
   "cell_type": "code",
   "execution_count": null,
   "metadata": {},
   "outputs": [],
   "source": [
    "import plotly.graph_objects as go\n",
    "\n",
    "x = semujeres.EstadoCivil.value_counts().index\n",
    "y = semujeres.EstadoCivil.value_counts().values\n",
    "\n",
    "# Use textposition='auto' for direct text\n",
    "fig = go.Figure(data=[go.Bar(\n",
    "            x=x, y=y,\n",
    "            text=np.round(y/sum(y)*100,2),\n",
    "            textposition='auto',\n",
    "        )])\n",
    "fig.update_traces(texttemplate='%{text} %')\n",
    "#fig.update_xaxes(visible=False, showticklabels=False)\n",
    "fig.show()"
   ]
  },
  {
   "cell_type": "code",
   "execution_count": null,
   "metadata": {},
   "outputs": [],
   "source": [
    "y = semujeres.EstadoCivil.value_counts().values\n",
    "y_total = sum(y)\n",
    "fig = px.bar(x=semujeres.EstadoCivil.value_counts().index,\n",
    "            y=semujeres.EstadoCivil.value_counts().values,\n",
    "            text= np.round(y/y_total*100,1),\n",
    "            labels = {'x': 'Escolaridad', \"y\":'Número de casos', 'text':'Porcentaje'},\n",
    "            color=px.colors.qualitative.Prism[:8],\n",
    "            color_discrete_map=\"identity\"\n",
    "            )\n",
    "fig.update_xaxes(type='category')\n",
    "#fig.update_layout( xaxis={'categoryorder':'total descending'})\n",
    "fig.update_traces(texttemplate='%{text} %')\n",
    "#fig.update_xaxes(visible=False, showticklabels=False)\n",
    "fig.show()"
   ]
  },
  {
   "cell_type": "code",
   "execution_count": null,
   "metadata": {},
   "outputs": [],
   "source": []
  }
 ],
 "metadata": {
  "interpreter": {
   "hash": "76e3749c4d8f143b85e17554ce3ae58a0fcf4212a15be7e0134aaba6048266e3"
  },
  "kernelspec": {
   "display_name": "Python 3.8.12 64-bit ('base': conda)",
   "name": "python3"
  },
  "language_info": {
   "codemirror_mode": {
    "name": "ipython",
    "version": 3
   },
   "file_extension": ".py",
   "mimetype": "text/x-python",
   "name": "python",
   "nbconvert_exporter": "python",
   "pygments_lexer": "ipython3",
   "version": "3.8.12"
  }
 },
 "nbformat": 4,
 "nbformat_minor": 2
}
