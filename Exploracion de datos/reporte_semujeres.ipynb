{
 "cells": [
  {
   "cell_type": "code",
   "execution_count": null,
   "source": [
    "# Librerias utiles\r\n",
    "import pandas as pd \r\n",
    "import numpy as np \r\n",
    "import matplotlib.pyplot as plt \r\n",
    "import plotly\r\n",
    "import seaborn as sns \r\n",
    "import plotly.express as px\r\n",
    "import missingno as msno\r\n",
    "import plotly.io as pio\r\n",
    "import plotly.graph_objects as go\r\n",
    "sns.set_theme()"
   ],
   "outputs": [],
   "metadata": {}
  },
  {
   "cell_type": "code",
   "execution_count": null,
   "source": [
    "victimas = pd.read_csv('reportes/reporte_semujeres_01_OCTUBRE_2021.csv',low_memory=False, dtype={'pk_perfil_agresor': 'object','num_hijos':'int64'}, parse_dates=['fecha_recepcion'])"
   ],
   "outputs": [],
   "metadata": {}
  },
  {
   "cell_type": "code",
   "execution_count": null,
   "source": [
    "victimas.fecha_recepcion"
   ],
   "outputs": [],
   "metadata": {}
  },
  {
   "cell_type": "code",
   "execution_count": null,
   "source": [
    "victimas.fk_euv.value_counts()"
   ],
   "outputs": [],
   "metadata": {}
  },
  {
   "cell_type": "markdown",
   "source": [
    "## Recortar los primeros 6 digitos de la columna 'Dependencia de recepcion'"
   ],
   "metadata": {}
  },
  {
   "cell_type": "code",
   "execution_count": null,
   "source": [
    "victimas['Dependencia de recepcion'] = victimas['Dependencia de recepcion'].str.slice(start=6)"
   ],
   "outputs": [],
   "metadata": {}
  },
  {
   "cell_type": "markdown",
   "source": [
    "## Conservar solo los registros en donde la dependencia de recepción haya sido SEMUJERES"
   ],
   "metadata": {}
  },
  {
   "cell_type": "code",
   "execution_count": null,
   "source": [
    "semujeres = victimas[victimas['Dependencia de recepcion'].str.contains(\"MUJER\")==True]"
   ],
   "outputs": [],
   "metadata": {}
  },
  {
   "cell_type": "code",
   "execution_count": null,
   "source": [
    "semujeres.shape"
   ],
   "outputs": [],
   "metadata": {}
  },
  {
   "cell_type": "code",
   "execution_count": null,
   "source": [
    "semujeres.fk_euv.value_counts()"
   ],
   "outputs": [],
   "metadata": {}
  },
  {
   "cell_type": "code",
   "execution_count": null,
   "source": [
    "semujeres[['fk_euv','pk_caso']].value_counts()"
   ],
   "outputs": [],
   "metadata": {}
  },
  {
   "cell_type": "markdown",
   "source": [
    "## Tenemos 14,011 mujeres y 14,512 casos únicos al dia de la consulta el 23 de agosto 2021\r\n",
    "## Tenemos 14,216 mujeres y 14,734 casos únicos al dia de la consulta el 02 de septiembre 2021\r\n",
    "## Tenemos 14,489 mujeres y 15,020 casos únicos al dia de la consulta el 01 de octubre 2021"
   ],
   "metadata": {}
  },
  {
   "cell_type": "code",
   "execution_count": null,
   "source": [
    "#semujeres.to_csv('semujeres_dashboard.csv', index=False)"
   ],
   "outputs": [],
   "metadata": {}
  },
  {
   "cell_type": "markdown",
   "source": [
    "##  DISCAPACIDAD"
   ],
   "metadata": {}
  },
  {
   "cell_type": "code",
   "execution_count": null,
   "source": [
    "discapacidad = pd.read_csv('../BD-sucias/discapacidad.csv')"
   ],
   "outputs": [],
   "metadata": {}
  },
  {
   "cell_type": "code",
   "execution_count": null,
   "source": [
    "discapacidad = discapacidad.iloc[:, [0,1,60,61,62,63,64,65,66,67]]"
   ],
   "outputs": [],
   "metadata": {}
  },
  {
   "cell_type": "code",
   "execution_count": null,
   "source": [
    "discapacidad = discapacidad.rename(columns={'\\ncaminar, subir o bajar sus pies?': 'Motriz (piernas)', 'ver (aunque use lentes)?': 'Visual','mover o usar brazos o manos?*':'Motriz (brazos)',\r\n",
    "'aprender, recordar o concentrarse?':'Intelectual','escuchar (aunque use aparato auditivo)?':'Auditiva','bañarse, vestirse o comer?':'Psicosocial (independencia)',\r\n",
    "'hablar o comunicarse (por ejemplo, entender, o ser entendido por otros)?':'Psicosocial (comunicación)',\r\n",
    "'or problemas emocionales o mentales, ¿Cuánta dificultad tiene la víctima para realizar sus actividades diarias (con autonomía e independencia)? Problemas como: autismo, depresión, bipolaridad, esquizofrenia,':'Psicosocial (mentales)'})"
   ],
   "outputs": [],
   "metadata": {}
  },
  {
   "cell_type": "code",
   "execution_count": null,
   "source": [
    "discapacidad.drop_duplicates('fk_euv',keep='last', inplace=True)\r\n",
    "discapacidad.reset_index(drop=True, inplace=True)\r\n",
    "discapacidad_tipos = discapacidad.iloc[:, 2:]"
   ],
   "outputs": [],
   "metadata": {}
  },
  {
   "cell_type": "code",
   "execution_count": null,
   "source": [
    "#discapacidad.Caminar.unique()"
   ],
   "outputs": [],
   "metadata": {}
  },
  {
   "cell_type": "code",
   "execution_count": null,
   "source": [
    "discapacidad_tipos.replace(to_replace='No indicado ', value='No tiene dificultad', inplace=True)"
   ],
   "outputs": [],
   "metadata": {}
  },
  {
   "cell_type": "code",
   "execution_count": null,
   "source": [
    "discapacidades_tabla = pd.DataFrame()"
   ],
   "outputs": [],
   "metadata": {}
  },
  {
   "cell_type": "code",
   "execution_count": null,
   "source": [
    "for col in discapacidad_tipos.columns:\r\n",
    "    new_df = pd.DataFrame(discapacidad_tipos[col].value_counts()).unstack().reset_index()\r\n",
    "    discapacidades_tabla=discapacidades_tabla.append(new_df, ignore_index=True)"
   ],
   "outputs": [],
   "metadata": {}
  },
  {
   "cell_type": "code",
   "execution_count": null,
   "source": [
    "discapacidades_tabla = discapacidades_tabla.rename(columns={'level_0':'Tipo de Discapacidad','level_1':'Nivel de dificultad',0:'Cuenta'})"
   ],
   "outputs": [],
   "metadata": {}
  },
  {
   "cell_type": "code",
   "execution_count": null,
   "source": [
    "discapacidades_tabla.replace(to_replace='Motriz (brazos)', value='Motriz', inplace=True)\r\n",
    "discapacidades_tabla.replace(to_replace='Motriz (piernas)', value='Motriz', inplace=True)\r\n",
    "discapacidades_tabla.replace(to_replace='Psicosocial (comunicación)', value='Psicosocial', inplace=True)\r\n",
    "discapacidades_tabla.replace(to_replace='Psicosocial (independencia)', value='Psicosocial', inplace=True)\r\n",
    "discapacidades_tabla.replace(to_replace='Psicosocial (mentales)', value='Psicosocial', inplace=True)"
   ],
   "outputs": [],
   "metadata": {}
  },
  {
   "cell_type": "code",
   "execution_count": null,
   "source": [
    "discapacidades_tabla['Porcentaje']=round(discapacidades_tabla.Cuenta/len(discapacidad_tipos)*100,2)"
   ],
   "outputs": [],
   "metadata": {}
  },
  {
   "cell_type": "code",
   "execution_count": null,
   "source": [
    "discapacidades_tabla = discapacidades_tabla[discapacidades_tabla['Nivel de dificultad']!='No tiene dificultad']"
   ],
   "outputs": [],
   "metadata": {}
  },
  {
   "cell_type": "code",
   "execution_count": null,
   "source": [
    "total_mujeres = pd.DataFrame(discapacidades_tabla.groupby('Tipo de Discapacidad').Cuenta.sum()).sort_values('Cuenta', ascending=False)\r\n",
    "total_mujeres"
   ],
   "outputs": [],
   "metadata": {}
  },
  {
   "cell_type": "code",
   "execution_count": null,
   "source": [
    "discapacidades_tabla=discapacidades_tabla.groupby(['Tipo de Discapacidad','Nivel de dificultad']).sum().reset_index()\r\n",
    "discapacidades_tabla['Tipo de Discapacidad'] = pd.Categorical(discapacidades_tabla['Tipo de Discapacidad'], total_mujeres.index)\r\n",
    "discapacidades_tabla= discapacidades_tabla.sort_values('Tipo de Discapacidad').reset_index(drop=True)\r\n",
    "discapacidades_tabla"
   ],
   "outputs": [],
   "metadata": {}
  },
  {
   "cell_type": "code",
   "execution_count": null,
   "source": [
    "fig = px.bar(discapacidades_tabla, x=\"Tipo de Discapacidad\", y=\"Porcentaje\", color=\"Nivel de dificultad\", \r\n",
    "title=\"Gráfica 4. Número de mujeres con discapacidad\",\r\n",
    "hover_name='Tipo de Discapacidad',\r\n",
    "text= \"Cuenta\",\r\n",
    "hover_data={\"Cuenta\":True, 'Tipo de Discapacidad':False},\r\n",
    "labels = {'Cuenta': 'Número de mujeres'},\r\n",
    "color_discrete_sequence=px.colors.qualitative.Prism[:5])\r\n",
    "fig.update_layout(height=500)\r\n",
    "fig.update_traces(textposition='outside', cliponaxis=False)\r\n",
    "fig.update_layout(yaxis_ticksuffix = '%')\r\n",
    "#print(\"plotly express hovertemplate:\", fig.data[0].hovertemplate)\r\n",
    "#fig.update_traces(hovertemplate='<b>%{hovertext}</b><br><br>Tipo de Discapacidad=%{x}<br>Porcentaje=%{y}%<br>Número de mujeres=%{customdata[0]}<extra></extra>')\r\n",
    "pio.write_html(fig, file='../docs/figs/g22.html', include_plotlyjs='cdn', full_html=False)\r\n",
    "fig.show()"
   ],
   "outputs": [],
   "metadata": {}
  },
  {
   "cell_type": "markdown",
   "source": [
    "# SERVICIOS"
   ],
   "metadata": {}
  },
  {
   "cell_type": "code",
   "execution_count": null,
   "source": [
    "#servicios = pd.read_csv('../BD-sucias/servicios_23_AGO_2021.csv', low_memory=False)\r\n",
    "servicios = pd.read_csv('../BD-sucias/servicios_01_OCTUBRE_2021.csv', low_memory=False)"
   ],
   "outputs": [],
   "metadata": {}
  },
  {
   "cell_type": "code",
   "execution_count": null,
   "source": [
    "servicios.fecha_captura.isna().sum()"
   ],
   "outputs": [],
   "metadata": {}
  },
  {
   "cell_type": "code",
   "execution_count": null,
   "source": [
    "servicios.fecha_captura = pd.to_datetime(servicios.fecha_captura, format='%d/%m/%Y', errors = 'ignore')\r\n",
    "servicios.fecha_captura"
   ],
   "outputs": [],
   "metadata": {}
  },
  {
   "cell_type": "code",
   "execution_count": null,
   "source": [
    "servicios.info()"
   ],
   "outputs": [],
   "metadata": {}
  },
  {
   "cell_type": "markdown",
   "source": [
    "## Conservar aquellos servicios atendidos por SEMUJERES"
   ],
   "metadata": {}
  },
  {
   "cell_type": "code",
   "execution_count": null,
   "source": [
    "servicios.dependenciaquebrindoservicio.unique()"
   ],
   "outputs": [],
   "metadata": {}
  },
  {
   "cell_type": "code",
   "execution_count": null,
   "source": [
    "servicios_semujeres = servicios[servicios['dependenciaquebrindoservicio'].str.contains(\"MUJER\")==True]"
   ],
   "outputs": [],
   "metadata": {}
  },
  {
   "cell_type": "code",
   "execution_count": null,
   "source": [
    "# SERVICIOS\r\n",
    "servicios_semujeres = servicios_semujeres[['fk_euv','USUSERVICIO','fk_caso','fecha_captura','serviciodetalle','tiposervicio','estatus','dependenciaquebrindoservicio','numeroservicios']]"
   ],
   "outputs": [],
   "metadata": {}
  },
  {
   "cell_type": "code",
   "execution_count": null,
   "source": [
    "servicios_semujeres.fk_caso = servicios_semujeres.fk_caso.astype(int)\r\n",
    "servicios_semujeres.numeroservicios = servicios_semujeres.numeroservicios.astype(int)"
   ],
   "outputs": [],
   "metadata": {}
  },
  {
   "cell_type": "code",
   "execution_count": null,
   "source": [
    "servicios_semujeres.info()"
   ],
   "outputs": [],
   "metadata": {}
  },
  {
   "cell_type": "code",
   "execution_count": null,
   "source": [
    "indicadores_caev = servicios_semujeres.copy()"
   ],
   "outputs": [],
   "metadata": {}
  },
  {
   "cell_type": "code",
   "execution_count": null,
   "source": [
    "indicador_3 = servicios_semujeres.copy()\r\n",
    "indicador_3[indicador_3.fk_euv=='3117213094']"
   ],
   "outputs": [],
   "metadata": {}
  },
  {
   "cell_type": "code",
   "execution_count": null,
   "source": [
    "indicador_3[indicador_3.fk_euv=='3117206472']"
   ],
   "outputs": [],
   "metadata": {}
  },
  {
   "cell_type": "code",
   "execution_count": null,
   "source": [
    "len(indicador_3)"
   ],
   "outputs": [],
   "metadata": {}
  },
  {
   "cell_type": "code",
   "execution_count": null,
   "source": [
    "mujeres_concluidas = indicador_3[indicador_3.estatus=='Concluido'].fk_euv.unique()\r\n",
    "mujeres_concluidas  = indicador_3[indicador_3.fk_euv.isin(mujeres_concluidas)]\r\n",
    "mujeres_concluidas.fk_euv.value_counts()"
   ],
   "outputs": [],
   "metadata": {}
  },
  {
   "cell_type": "code",
   "execution_count": null,
   "source": [
    "mujeres_unicas = mujeres_concluidas.fk_euv.unique()"
   ],
   "outputs": [],
   "metadata": {}
  },
  {
   "cell_type": "code",
   "execution_count": null,
   "source": [
    "mujeres_concluidas"
   ],
   "outputs": [],
   "metadata": {}
  },
  {
   "cell_type": "code",
   "execution_count": null,
   "source": [
    "test = mujeres_concluidas[mujeres_concluidas.fk_euv == '3117206472'].iloc[[0, -1]]\r\n",
    "dias = test.fecha_captura.diff().tail(1)\r\n",
    "test_df = pd.DataFrame({'fk_euv':'3117206472','dias':dias,'semanas': int(round(dias / np.timedelta64(1, 'W'))),'numeroservicios':test.numeroservicios.tail(1)})\r\n",
    "test_df = test_df.reset_index(drop=True)\r\n",
    "test_df"
   ],
   "outputs": [],
   "metadata": {}
  },
  {
   "cell_type": "code",
   "execution_count": null,
   "source": [
    "test = mujeres_concluidas[(mujeres_concluidas.fk_euv == '3116900453') & (mujeres_concluidas.fk_caso == 2)]\r\n",
    "test"
   ],
   "outputs": [],
   "metadata": {}
  },
  {
   "cell_type": "code",
   "execution_count": null,
   "source": [
    "df = pd.DataFrame(columns=['fk_euv','fk_caso','dias','semanas','numeroservicios'])\r\n",
    "for mujer in mujeres_unicas:\r\n",
    "    testito = mujeres_concluidas[mujeres_concluidas.fk_euv == mujer]\r\n",
    "\r\n",
    "    casos_concluidos = testito[testito.estatus=='Concluido'].fk_caso.values\r\n",
    "\r\n",
    "    servicios_concluidos = testito[testito.estatus=='Concluido'].serviciodetalle.values\r\n",
    "\r\n",
    "    for caso in casos_concluidos:\r\n",
    "        for servicio in servicios_concluidos:\r\n",
    "            test = mujeres_concluidas[(mujeres_concluidas.fk_euv == mujer)&(mujeres_concluidas.fk_caso == caso)&(mujeres_concluidas.serviciodetalle == servicio)].iloc[[0, -1]]\r\n",
    "            dias = test.fecha_captura.diff().tail(1)\r\n",
    "            semanas =  int(round(dias / np.timedelta64(1, 'W')))\r\n",
    "            servicios = test.numeroservicios.tail(1)\r\n",
    "            test_df = pd.DataFrame({'fk_euv':mujer, 'fk_caso':caso,'dias':dias,'semanas': semanas,'numeroservicios':servicios,'serviciodetalle':servicio})\r\n",
    "            df = pd.concat([df, test_df], ignore_index=True)\r\n",
    "df"
   ],
   "outputs": [],
   "metadata": {}
  },
  {
   "cell_type": "code",
   "execution_count": null,
   "source": [
    "df['semanas'] = pd.to_numeric(df['semanas'])\r\n",
    "df.groupby('serviciodetalle').semanas.mean()"
   ],
   "outputs": [],
   "metadata": {}
  },
  {
   "cell_type": "code",
   "execution_count": null,
   "source": [
    "round(df.semanas.mean())"
   ],
   "outputs": [],
   "metadata": {}
  },
  {
   "cell_type": "code",
   "execution_count": null,
   "source": [
    "fig = px.histogram(df, x = 'semanas',\r\n",
    "                title='Gráfica 5. Tiempo promedio transcurrido entre el primer contacto con la usuaria y la conclusión del proceso.',\r\n",
    "                #color_discrete_sequence = px.colors.qualitative.Prism,\r\n",
    "                #text = 'count',\r\n",
    "                #color = 'USUSERVICIO',\r\n",
    "                #color = profesionistas.index,\r\n",
    "                color_discrete_sequence = [px.colors.qualitative.Prism[1]],\r\n",
    "                #color_discrete_sequence= px.colors.sequential.Plasma,\r\n",
    "                labels = {'semanas': 'Semanas transcurridas', 'count':'Frecuencia'},\r\n",
    "                nbins = 10\r\n",
    "                )\r\n",
    "fig.update_layout(showlegend = False, yaxis_title=\"Frecuencia\",xaxis_title=\"Semanas transcurridas\", height=500)\r\n",
    "#fig.update_layout(title_y='Número de profesionistas')\r\n",
    "\r\n",
    "fig.update_layout(shapes=[\r\n",
    "    # adds line at y=5\r\n",
    "    dict(\r\n",
    "      type= 'line',\r\n",
    "      xref= 'x', x0= round(df.semanas.mean()), x1= round(df.semanas.mean()),\r\n",
    "      yref= 'paper', y0= 0, y1= 1,\r\n",
    "      line=dict(color='white', width=1, dash='dash'),\r\n",
    "    )], height=500)\r\n",
    "\r\n",
    "fig.add_annotation(x=round(df.semanas.mean())+1, y=30,\r\n",
    "            text=\"Promedio: {}\".format(round(df.semanas.mean())),\r\n",
    "            showarrow=False,\r\n",
    "            yshift=10,\r\n",
    "            font=dict(color='white'))\r\n",
    "\r\n",
    "pio.write_html(fig, file='../docs/figs/g20.html', include_plotlyjs='cdn', full_html=False)\r\n",
    "\r\n",
    "\r\n",
    "fig.show()"
   ],
   "outputs": [],
   "metadata": {}
  },
  {
   "cell_type": "code",
   "execution_count": null,
   "source": [
    "servicios_semujeres = servicios_semujeres.drop_duplicates(ignore_index=True, subset=['fk_euv','fk_caso','serviciodetalle'], keep='last')\r\n",
    "servicios_semujeres = servicios_semujeres.reset_index(drop=True)"
   ],
   "outputs": [],
   "metadata": {}
  },
  {
   "cell_type": "code",
   "execution_count": null,
   "source": [
    "len(servicios_semujeres)"
   ],
   "outputs": [],
   "metadata": {}
  },
  {
   "cell_type": "code",
   "execution_count": null,
   "source": [
    "servicios_semujeres.fk_euv.value_counts()"
   ],
   "outputs": [],
   "metadata": {}
  },
  {
   "cell_type": "code",
   "execution_count": null,
   "source": [
    "servicios_semujeres[servicios_semujeres.fk_euv=='3117213094']"
   ],
   "outputs": [],
   "metadata": {}
  },
  {
   "cell_type": "code",
   "execution_count": null,
   "source": [
    "servicios_semujeres[servicios_semujeres.fk_euv=='3117206472']"
   ],
   "outputs": [],
   "metadata": {}
  },
  {
   "cell_type": "code",
   "execution_count": null,
   "source": [
    "servicios_semujeres.estatus.value_counts()"
   ],
   "outputs": [],
   "metadata": {}
  },
  {
   "cell_type": "code",
   "execution_count": null,
   "source": [
    "round(70/servicios_semujeres.shape[0]*100,2)"
   ],
   "outputs": [],
   "metadata": {}
  },
  {
   "cell_type": "code",
   "execution_count": null,
   "source": [
    "servicios_semujeres.fk_caso.unique()"
   ],
   "outputs": [],
   "metadata": {}
  },
  {
   "cell_type": "code",
   "execution_count": null,
   "source": [
    "servicios_semujeres.serviciodetalle.value_counts()"
   ],
   "outputs": [],
   "metadata": {}
  },
  {
   "cell_type": "code",
   "execution_count": null,
   "source": [
    "servicios_semujeres.shape"
   ],
   "outputs": [],
   "metadata": {}
  },
  {
   "cell_type": "code",
   "execution_count": null,
   "source": [
    "servicios_semujeres.serviciodetalle.unique()"
   ],
   "outputs": [],
   "metadata": {}
  },
  {
   "cell_type": "code",
   "execution_count": null,
   "source": [
    "indicador_servicios = servicios_semujeres.groupby(['serviciodetalle','estatus']).count().numeroservicios.reset_index()\r\n",
    "total_servicios = indicador_servicios.groupby('serviciodetalle').sum()\r\n",
    "total_servicios"
   ],
   "outputs": [],
   "metadata": {}
  },
  {
   "cell_type": "code",
   "execution_count": null,
   "source": [
    "porcentajes = indicador_servicios.merge(total_servicios, left_on='serviciodetalle', right_on='serviciodetalle')\r\n",
    "porcentajes['porcentajes'] = round(100*porcentajes['numeroservicios_x']/porcentajes['numeroservicios_y'],1)\r\n",
    "porcentajes"
   ],
   "outputs": [],
   "metadata": {}
  },
  {
   "cell_type": "code",
   "execution_count": null,
   "source": [
    "total_concluidos = porcentajes[porcentajes.estatus=='Concluido'].numeroservicios_x.sum()\r\n",
    "porcentajes_total = round(porcentajes[porcentajes.estatus=='Concluido'].numeroservicios_x.sum()/porcentajes[porcentajes.estatus=='Concluido'].numeroservicios_y.sum()*100,2)\r\n",
    "print(total_concluidos, porcentajes_total)"
   ],
   "outputs": [],
   "metadata": {}
  },
  {
   "cell_type": "code",
   "execution_count": null,
   "source": [
    "fig = px.bar(porcentajes, x=\"serviciodetalle\", y=\"porcentajes\", color=\"estatus\", \r\n",
    "title=\"Gráfica 4. Porcentaje de procesos concluidos satisfactoriamente por área de servicio<br><b>Total de servicios concluidos:</b> {}<br><b>Porcentaje de servicios concluidos:</b> {}%\".format(total_concluidos, porcentajes_total),\r\n",
    "hover_name='serviciodetalle',\r\n",
    "text= \"numeroservicios_x\",\r\n",
    "hover_data={\"numeroservicios_x\":True,'serviciodetalle':False},\r\n",
    "labels = {'serviciodetalle': 'Área de servicio', \"porcentajes\":'Porcentaje', 'estatus':'Estatus','numeroservicios_x':'Número de servicios'},\r\n",
    "color_discrete_sequence=['rgb(95, 70, 144)', 'rgb(29, 105, 150)', 'rgb(56, 166, 165)'])\r\n",
    "fig.update_traces(textposition='outside',cliponaxis=False)\r\n",
    "fig.update_layout(height=500)\r\n",
    "fig.update_layout(yaxis_ticksuffix = '%')\r\n",
    "#fig.update_layout(yaxis_range=[0, 110])\r\n",
    "pio.write_html(fig, file='../docs/figs/g19.html', include_plotlyjs='cdn', full_html=False)\r\n",
    "fig.show()"
   ],
   "outputs": [],
   "metadata": {}
  },
  {
   "cell_type": "markdown",
   "source": [
    "## Tenemos 4956 mujeres únicas y 6244 servicios únicos brindados en la base de datos de servicios al dia de la consulta del 23 de agosto de 2021\r\n",
    "\r\n",
    "## Tenemos 5160 mujeres únicas y 6713 servicios únicos brindados en la base de datos de servicios al dia de la consulta del 02 de septiembre de 2021"
   ],
   "metadata": {}
  },
  {
   "cell_type": "code",
   "execution_count": null,
   "source": [
    "#servicios.to_csv('servicios_dashboard.csv', index=False)"
   ],
   "outputs": [],
   "metadata": {}
  },
  {
   "cell_type": "markdown",
   "source": [
    "## INDICADORES CEAV"
   ],
   "metadata": {}
  },
  {
   "cell_type": "code",
   "execution_count": null,
   "source": [
    "indicadores_caev.fecha_captura.isna().sum()"
   ],
   "outputs": [],
   "metadata": {}
  },
  {
   "cell_type": "code",
   "execution_count": null,
   "source": [
    "indicadores_caev.info()"
   ],
   "outputs": [],
   "metadata": {}
  },
  {
   "cell_type": "code",
   "execution_count": null,
   "source": [
    "#indicadores_caev['count'] = 1\r\n",
    "indicadores_caev['año'] = indicadores_caev['fecha_captura'].dt.year\r\n",
    "indicadores_caev['semana'] = indicadores_caev['fecha_captura'].dt.isocalendar().week\r\n",
    "usuarios = indicadores_caev.groupby(['USUSERVICIO','semana','año']).numeroservicios"
   ],
   "outputs": [],
   "metadata": {}
  },
  {
   "cell_type": "code",
   "execution_count": null,
   "source": [
    "grup = pd.DataFrame(indicadores_caev.groupby(['USUSERVICIO','fecha_captura']).numeroservicios.count()).reset_index()\r\n",
    "grup = grup[grup.USUSERVICIO.str[:4] == 'CYUC']\r\n",
    "final = pd.DataFrame()\r\n",
    "for user in grup.USUSERVICIO.unique():\r\n",
    "    temp = pd.DataFrame(grup[grup.USUSERVICIO==user].groupby([pd.Grouper(freq='W', key='fecha_captura')]).sum()).reset_index()\r\n",
    "    temp['USUSERVICIO']=user\r\n",
    "    final = final.append(temp, ignore_index=True)"
   ],
   "outputs": [],
   "metadata": {}
  },
  {
   "cell_type": "code",
   "execution_count": null,
   "source": [
    "final.groupby('USUSERVICIO').sum()"
   ],
   "outputs": [],
   "metadata": {}
  },
  {
   "cell_type": "code",
   "execution_count": null,
   "source": [
    "\"\"\"ola = usuarios.count()\r\n",
    "ola\"\"\""
   ],
   "outputs": [],
   "metadata": {}
  },
  {
   "cell_type": "code",
   "execution_count": null,
   "source": [
    "\"\"\"dias = indicadores_caev.groupby(['USUSERVICIO','fecha_captura']).numeroservicios\r\n",
    "semana_dif = dias .count().reset_index().sort_values(['USUSERVICIO','fecha_captura'])\r\n",
    "semana_dif['semana_dif']=semana_dif.fecha_captura.diff()\r\n",
    "semana_dif\"\"\""
   ],
   "outputs": [],
   "metadata": {}
  },
  {
   "cell_type": "code",
   "execution_count": null,
   "source": [
    "\"\"\"ola = ola.reset_index()\r\n",
    "ola = ola[ola.USUSERVICIO.str[:4] == 'CYUC']\r\n",
    "ola = ola.reset_index(drop=True)\r\n",
    "ola\"\"\""
   ],
   "outputs": [],
   "metadata": {}
  },
  {
   "cell_type": "code",
   "execution_count": null,
   "source": [
    "#ola[ola.USUSERVICIO=='CYUCIM07'].sum()"
   ],
   "outputs": [],
   "metadata": {}
  },
  {
   "cell_type": "code",
   "execution_count": null,
   "source": [
    "#round(ola[ola.USUSERVICIO=='CYUCIM30'].numeroservicios.mean())"
   ],
   "outputs": [],
   "metadata": {}
  },
  {
   "cell_type": "code",
   "execution_count": null,
   "source": [
    "#ola[ola.USUSERVICIO=='CYUCIM30'].sort_values(['año','semana'])"
   ],
   "outputs": [],
   "metadata": {}
  },
  {
   "cell_type": "code",
   "execution_count": null,
   "source": [
    "\"\"\"servicios_semanal = usuarios.count()\r\n",
    "servicios_semanal = pd.DataFrame(servicios_semanal)\r\n",
    "servicios_semanal = servicios_semanal.reset_index()\r\n",
    "servicios_semanal = servicios_semanal[servicios_semanal.USUSERVICIO.str[:4] == 'CYUC']\r\n",
    "servicios_semanal = servicios_semanal[ [ 'USUSERVICIO','numeroservicios']]\r\n",
    "media_servicios = servicios_semanal.groupby('USUSERVICIO').mean().round().astype(int)\r\n",
    "media_servicios = media_servicios.sort_values(['numeroservicios'], ascending=False)\r\n",
    "media_servicios\"\"\"\r\n"
   ],
   "outputs": [],
   "metadata": {}
  },
  {
   "cell_type": "code",
   "execution_count": null,
   "source": [
    "start = final.sort_values(['USUSERVICIO','fecha_captura'])\r\n",
    "start = start.drop_duplicates('USUSERVICIO', keep='first').reset_index(drop=True)\r\n",
    "end = final.sort_values(['USUSERVICIO','fecha_captura'])\r\n",
    "end = final.drop_duplicates('USUSERVICIO', keep='last').reset_index(drop=True)"
   ],
   "outputs": [],
   "metadata": {}
  },
  {
   "cell_type": "code",
   "execution_count": null,
   "source": [
    "# new media servicios\r\n",
    "media_servicios = round(final.groupby('USUSERVICIO').mean(),2)\r\n",
    "media_servicios"
   ],
   "outputs": [],
   "metadata": {}
  },
  {
   "cell_type": "markdown",
   "source": [
    "## INSTITUCION (Nombre de usuario)"
   ],
   "metadata": {}
  },
  {
   "cell_type": "code",
   "execution_count": null,
   "source": [
    "nombre_usuario = pd.read_csv('../BD-sucias/institucion_01_OCTUBRE_2021.csv')"
   ],
   "outputs": [],
   "metadata": {}
  },
  {
   "cell_type": "code",
   "execution_count": null,
   "source": [
    "nombre_usuario = nombre_usuario[['fk_usuario', 'dependeciaUsuario','NomUsuario','paterno','materno']]"
   ],
   "outputs": [],
   "metadata": {}
  },
  {
   "cell_type": "code",
   "execution_count": null,
   "source": [
    "nombre_usuario = nombre_usuario.drop_duplicates('fk_usuario',keep='last').reset_index(drop=True)"
   ],
   "outputs": [],
   "metadata": {}
  },
  {
   "cell_type": "code",
   "execution_count": null,
   "source": [
    "nombre_usuario['NomCompleto'] = nombre_usuario['NomUsuario'] + ' ' + nombre_usuario['paterno'] + ' ' + nombre_usuario['materno']"
   ],
   "outputs": [],
   "metadata": {}
  },
  {
   "cell_type": "code",
   "execution_count": null,
   "source": [
    "nombre_usuario = nombre_usuario[['fk_usuario','NomCompleto', 'dependeciaUsuario']]"
   ],
   "outputs": [],
   "metadata": {}
  },
  {
   "cell_type": "markdown",
   "source": [
    "## MERGE INSTITUCION Y SERVICIOS"
   ],
   "metadata": {}
  },
  {
   "cell_type": "code",
   "execution_count": null,
   "source": [
    "media_servicios = media_servicios.merge(nombre_usuario, left_on=media_servicios.index, right_on='fk_usuario', how='left')"
   ],
   "outputs": [],
   "metadata": {}
  },
  {
   "cell_type": "code",
   "execution_count": null,
   "source": [
    "media_servicios = media_servicios.merge(start[['USUSERVICIO','fecha_captura']], left_on='fk_usuario', right_on='USUSERVICIO', how='left')\r\n",
    "media_servicios= media_servicios.drop(columns=['USUSERVICIO'])\r\n",
    "media_servicios = media_servicios.rename(columns={'fecha_captura':'Semana de primera captura'})\r\n",
    "\r\n",
    "media_servicios = media_servicios.merge(end[['USUSERVICIO','fecha_captura']], left_on='fk_usuario', right_on='USUSERVICIO', how='left')\r\n",
    "media_servicios= media_servicios.drop(columns=['USUSERVICIO'])\r\n",
    "media_servicios = media_servicios.rename(columns={'fecha_captura':'Semana de última captura'})"
   ],
   "outputs": [],
   "metadata": {}
  },
  {
   "cell_type": "code",
   "execution_count": null,
   "source": [
    "media_servicios = media_servicios.sort_values('numeroservicios', ascending=False)\r\n",
    "media_servicios['dif_capturas'] = media_servicios['Semana de última captura'] - media_servicios['Semana de primera captura']\r\n",
    "media_servicios['Semana de última captura'] = media_servicios['Semana de última captura'].dt.date\r\n",
    "media_servicios['Semana de primera captura'] = media_servicios['Semana de primera captura'].dt.date\r\n",
    "media_servicios['dif_capturas'] = media_servicios['dif_capturas'].dt.days/7 + 1\r\n",
    "media_servicios['pesos'] = round(media_servicios.numeroservicios*media_servicios.dif_capturas,2)\r\n",
    "media_servicios = media_servicios.sort_values('numeroservicios', ascending=False)\r\n",
    "media_servicios\r\n"
   ],
   "outputs": [],
   "metadata": {}
  },
  {
   "cell_type": "code",
   "execution_count": null,
   "source": [
    "# nueva media\r\n",
    "media_servicios_semanales = round(media_servicios.numeroservicios.mean(),2)\r\n",
    "media_servicios_semanales"
   ],
   "outputs": [],
   "metadata": {}
  },
  {
   "cell_type": "code",
   "execution_count": null,
   "source": [
    "media_servicios_semanales_round = round(media_servicios.pesos.mean(),2)\r\n",
    "media_servicios_semanales_round"
   ],
   "outputs": [],
   "metadata": {}
  },
  {
   "cell_type": "code",
   "execution_count": null,
   "source": [
    "#profesionistas = profesionistas.reset_index()\r\n",
    "fig = px.bar(media_servicios, \r\n",
    "                x = media_servicios.fk_usuario, \r\n",
    "                y = 'numeroservicios', \r\n",
    "                color_continuous_scale='Viridis',\r\n",
    "                hover_name='fk_usuario',\r\n",
    "                hover_data={'fk_usuario':False, 'NomCompleto':True, 'Semana de primera captura': True, 'Semana de última captura':True, 'numeroservicios': True, 'pesos':True},\r\n",
    "                color = 'dif_capturas',\r\n",
    "                #color_continuous_midpoint=np.average(media_servicios['numeroservicios'], weights=media_servicios['dif_capturas'].dt.days),\r\n",
    "                labels = {'dif_capturas': 'Semanas de antigüedad', \"fk_usuario\":'Clave del profesionista','NomCompleto':'Nombre'},\r\n",
    "                title= 'Gráfica 1. Servicios semanales otorgados por profesionista de la SEMUJERES')\r\n",
    "\r\n",
    "fig.update_layout(showlegend = False, yaxis_title=\"Servicios Semanales\")\r\n",
    "\r\n",
    "fig.update_layout(legend_title= False,height=500)\r\n",
    "#fig.update(layout_coloraxis_showscale=False)\r\n",
    "fig.update_coloraxes(colorbar_title=None)\r\n",
    "\r\n",
    "#fig.update_traces(textposition='outside', cliponaxis=False)\r\n",
    "\r\n",
    "fig.update_layout(shapes=[\r\n",
    "    # adds line at y=5\r\n",
    "    dict(\r\n",
    "      type= 'line',\r\n",
    "      xref= 'paper', x0= 0, x1= 1,\r\n",
    "      yref= 'y', y0= media_servicios_semanales, y1= media_servicios_semanales,\r\n",
    "      line=dict(color='black', width=1, dash='dash'),\r\n",
    "    )])\r\n",
    "\r\n",
    "\"\"\"fig.add_annotation(x=77, y=media_servicios_semanales_round,\r\n",
    "            text=\"Promedio de servicios estimados otorgados: {}\".format(media_servicios_semanales_round),\r\n",
    "            showarrow=False,\r\n",
    "            #font_size=14,\r\n",
    "            yshift=10)\"\"\"\r\n",
    "\r\n",
    "fig.add_annotation(x=77, y=media_servicios_semanales,\r\n",
    "            text=\"Promedio de servicios semanales: {}\".format(media_servicios_semanales),\r\n",
    "            showarrow=False,\r\n",
    "            font_size=14,\r\n",
    "            yshift=10)\r\n",
    "\r\n",
    "fig.update_xaxes(\r\n",
    "        tickangle = 70)\r\n",
    "fig.update_layout(\r\n",
    "    coloraxis_colorbar={\r\n",
    "        'title':'Semanas<br>Capturando'})\r\n",
    "print(\"plotly express hovertemplate:\", fig.data[0].hovertemplate)\r\n",
    "fig.update_traces(hovertemplate='<b>%{hovertext}</b><br>Nombre=%{customdata[0]}<br><b>Promedio de Servicios semanales</b>=%{y}<br><b>Servicios estimados</b> (promedio x antigüedad)=%{customdata[3]}<br>Primera captura=%{customdata[1]}<br>Última captura=%{customdata[2]}<br><b>Semanas capturando</b>=%{marker.color} semanas<extra></extra>')\r\n",
    "pio.write_html(fig, file='../docs/figs/g15_nueva.html', include_plotlyjs='cdn', full_html=False)\r\n",
    "fig.show()"
   ],
   "outputs": [],
   "metadata": {}
  },
  {
   "cell_type": "code",
   "execution_count": null,
   "source": [
    "profesionistas = indicadores_caev.USUSERVICIO.value_counts()\r\n",
    "profesionistas = pd.DataFrame(profesionistas)\r\n",
    "profesionistas = pd.DataFrame(profesionistas.merge(media_servicios,left_on=profesionistas.index,right_on=media_servicios.fk_usuario,how='left'))\r\n",
    "profesionistas = profesionistas.set_index('key_0')\r\n",
    "profesionistas = profesionistas[profesionistas.index.str[:4] == 'CYUC']\r\n",
    "profesionistas"
   ],
   "outputs": [],
   "metadata": {}
  },
  {
   "cell_type": "code",
   "execution_count": null,
   "source": [
    "print(profesionistas.USUSERVICIO.mean())\r\n",
    "print(profesionistas.numeroservicios.mean())"
   ],
   "outputs": [],
   "metadata": {}
  },
  {
   "cell_type": "code",
   "execution_count": null,
   "source": [
    "media_servicios_totales = round(profesionistas.USUSERVICIO.mean())\r\n",
    "media_servicios_totales"
   ],
   "outputs": [],
   "metadata": {}
  },
  {
   "cell_type": "code",
   "execution_count": null,
   "source": [
    "#profesionistas = profesionistas.reset_index()\r\n",
    "fig = px.bar(profesionistas, \r\n",
    "                x = profesionistas.fk_usuario, \r\n",
    "                y = 'USUSERVICIO', \r\n",
    "                color_continuous_scale='Viridis',\r\n",
    "                hover_name='fk_usuario',\r\n",
    "                hover_data={'fk_usuario':False, 'NomCompleto':True,'Semana de primera captura': True, 'Semana de última captura':True, 'dif_capturas': True},\r\n",
    "                color = 'dif_capturas',\r\n",
    "                labels = {'USUSERVICIO': 'Servicios totales', \"fk_usuario\":'Clave del profesionista', 'NomCompleto': 'Nombre'},\r\n",
    "                title= 'Gráfica 2. Servicios totales otorgados por profesionistas de la SEMUJERES')\r\n",
    "fig.update_layout(showlegend = False)\r\n",
    "\r\n",
    "#print(\"plotly express hovertemplate:\", fig.data[0].hovertemplate)\r\n",
    "fig.update_traces(hovertemplate='<b>%{hovertext}</b><br>Nombre=%{customdata[0]}<br><b>Servicios otorgados</b>=%{y}<br>Primera captura=%{customdata[1]}<br>Última captura=%{customdata[2]}<br>Semanas capturando=%{customdata[3]} semanas<extra></extra>')\r\n",
    "\r\n",
    "fig.update_layout(legend_title= False, height=500)\r\n",
    "#fig.update(layout_coloraxis_showscale=False)\r\n",
    "fig.update_coloraxes(colorbar_title=None)\r\n",
    "\r\n",
    "fig.update_layout(shapes=[\r\n",
    "    # adds line at y=5\r\n",
    "    dict(\r\n",
    "      type= 'line',\r\n",
    "      xref= 'paper', x0= 0, x1= 1,\r\n",
    "      yref= 'y', y0= media_servicios_totales, y1= media_servicios_totales,\r\n",
    "      line=dict(color='black', width=1, dash='dash'),\r\n",
    "    )])\r\n",
    "\r\n",
    "fig.add_annotation(x=77, y=media_servicios_totales,\r\n",
    "            text=\"Promedio de servicios totales: {}\".format(media_servicios_totales),\r\n",
    "            showarrow=False,\r\n",
    "            yshift=10)\r\n",
    "\r\n",
    "fig.update_xaxes(\r\n",
    "        tickangle = 70)\r\n",
    "        \r\n",
    "fig.update_layout(\r\n",
    "    coloraxis_colorbar={\r\n",
    "        'title':'Semanas<br>Capturando'})\r\n",
    "\r\n",
    "pio.write_html(fig, file='../docs/figs/g16.html', include_plotlyjs='cdn', full_html=False)\r\n",
    "fig.show()"
   ],
   "outputs": [],
   "metadata": {}
  },
  {
   "cell_type": "code",
   "execution_count": null,
   "source": [
    "\"\"\"fig = px.histogram(profesionistas, x = 'USUSERVICIO',\r\n",
    "                title='Gráfica 1. Número total de servicios otorgados por profesionista en SEMUJERES',\r\n",
    "                #color_discrete_sequence = px.colors.qualitative.Prism,\r\n",
    "                #text = 'count',\r\n",
    "                #color = 'USUSERVICIO',\r\n",
    "                #color = profesionistas.index,\r\n",
    "                color_discrete_sequence = [px.colors.qualitative.Prism[1]],\r\n",
    "                #color_discrete_sequence= px.colors.sequential.Plasma,\r\n",
    "                labels = {'USUSERVICIO': 'Servicios totales proporcionados'},\r\n",
    "                )\r\n",
    "fig.update_layout(showlegend = False, yaxis_title=\"Frecuencia\",width=1000, height=500)\r\n",
    "#fig.update_layout(title_y='Número de profesionistas')\r\n",
    "#pio.write_html(fig, file='figs/g17.html', include_plotlyjs='cdn', full_html=False)\r\n",
    "fig.show()\"\"\""
   ],
   "outputs": [],
   "metadata": {}
  },
  {
   "cell_type": "code",
   "execution_count": null,
   "source": [
    "media_servicios = round(profesionistas.numeroservicios.mean())\r\n",
    "media_servicios"
   ],
   "outputs": [],
   "metadata": {}
  },
  {
   "cell_type": "code",
   "execution_count": null,
   "source": [
    "profesionistas.shape"
   ],
   "outputs": [],
   "metadata": {}
  },
  {
   "cell_type": "code",
   "execution_count": null,
   "source": [
    "fig = px.histogram(profesionistas, x = 'numeroservicios',\r\n",
    "                title='Gráfica 3. Histograma del número de Servicios Semanales otorgados por profesionista en SEMUJERES',\r\n",
    "                #color_discrete_sequence = px.colors.qualitative.Prism,\r\n",
    "                #text = 'count',\r\n",
    "                #color = 'USUSERVICIO',\r\n",
    "                #color = profesionistas.index,\r\n",
    "                color_discrete_sequence = [px.colors.qualitative.Prism[1]],\r\n",
    "                #color_discrete_sequence= px.colors.sequential.Plasma,\r\n",
    "                labels = {'numeroservicios': 'Número de Servicios Semanales', 'count':'ola'},\r\n",
    "                nbins = 8\r\n",
    "                )\r\n",
    "fig.update_layout(showlegend = False, yaxis_title=\"Frecuencia\", height=500)\r\n",
    "#fig.update_layout(title_y='Número de profesionistas')\r\n",
    "\r\n",
    "fig.update_layout(shapes=[\r\n",
    "    # adds line at y=5\r\n",
    "    dict(\r\n",
    "      type= 'line',\r\n",
    "      xref= 'x', x0= media_servicios, x1= media_servicios,\r\n",
    "      yref= 'paper', y0= 0, y1= 1,\r\n",
    "      line=dict(color='white', width=1, dash='dash'),\r\n",
    "    )])\r\n",
    "\r\n",
    "fig.add_annotation(x=media_servicios+1, y=15,\r\n",
    "            text=\"Promedio: {}\".format(media_servicios),\r\n",
    "            showarrow=False,\r\n",
    "            yshift=10,\r\n",
    "            font=dict(color='white'))\r\n",
    "\r\n",
    "pio.write_html(fig, file='../docs/figs/g18.html', include_plotlyjs='cdn', full_html=False)\r\n",
    "\r\n",
    "\r\n",
    "fig.show()"
   ],
   "outputs": [],
   "metadata": {}
  },
  {
   "cell_type": "code",
   "execution_count": null,
   "source": [
    "\"\"\"fig = px.histogram(profesionistas, x = 'USUSERVICIO',\r\n",
    "                title='Gráfica 1. Histograma de número de servicios proporcionados por profesionista en SEMUJERES',\r\n",
    "                color_discrete_sequence = px.colors.qualitative.Prism,\r\n",
    "                #text = 'count',\r\n",
    "                color = 'USUSERVICIO',\r\n",
    "                #color = profesionistas.index,\r\n",
    "                #color_discrete_sequence = [px.colors.qualitative.Prism[1]],\r\n",
    "                #color_discrete_sequence= px.colors.sequential.Viridis,\r\n",
    "                labels = {'USUSERVICIO': 'Núm. de servicios proporcionados', \"count\":'Frecuencia'},\r\n",
    "                )\r\n",
    "fig.update_layout(showlegend = False)\r\n",
    "fig.show()\"\"\""
   ],
   "outputs": [],
   "metadata": {}
  },
  {
   "cell_type": "code",
   "execution_count": null,
   "source": [
    "\"\"\"fig = px.histogram(profesionistas, x = 'numeroservicios',\r\n",
    "                title='Gráfica 1. Histograma de número de servicios proporcionados por profesionista en SEMUJERES',\r\n",
    "                #color_discrete_sequence = px.colors.qualitative.Prism,\r\n",
    "                #text = 'count',\r\n",
    "                color = 'numeroservicios',\r\n",
    "                #color = profesionistas.index,\r\n",
    "                #color_discrete_sequence = [px.colors.qualitative.Prism[1]],\r\n",
    "                color_discrete_sequence= px.colors.sequential.Viridis,\r\n",
    "                labels = {'numeroservicios': 'Núm. de servicios proporcionados', \"count\":'Frecuencia'},\r\n",
    "                nbins = 5\r\n",
    "                )\r\n",
    "fig.update_layout(showlegend = False)\r\n",
    "fig.show()\"\"\""
   ],
   "outputs": [],
   "metadata": {}
  },
  {
   "cell_type": "code",
   "execution_count": null,
   "source": [
    "#print('Promedio de servicios proporcionados por profesionista',profesionistas.values.mean().round())"
   ],
   "outputs": [],
   "metadata": {}
  },
  {
   "cell_type": "markdown",
   "source": [
    "# REPLICACION DE GRAFICOS DE LAS FICHAS"
   ],
   "metadata": {}
  },
  {
   "cell_type": "code",
   "execution_count": null,
   "source": [
    "semujeres_2020 = semujeres[semujeres.año_recepcion==2020]"
   ],
   "outputs": [],
   "metadata": {}
  },
  {
   "cell_type": "code",
   "execution_count": null,
   "source": [
    "mun_counts_2020 = pd.DataFrame(semujeres_2020.municipiohechos.value_counts())\r\n",
    "mun_counts_2020.reset_index(inplace=True)\r\n",
    "mun_counts_2020"
   ],
   "outputs": [],
   "metadata": {}
  },
  {
   "cell_type": "code",
   "execution_count": null,
   "source": [
    "mun_counts = pd.DataFrame(semujeres.municipiohechos.value_counts())\r\n",
    "mun_counts.reset_index(inplace=True)\r\n",
    "mun_counts"
   ],
   "outputs": [],
   "metadata": {}
  },
  {
   "cell_type": "code",
   "execution_count": null,
   "source": [
    "from mapsmx import MapsMX"
   ],
   "outputs": [],
   "metadata": {}
  },
  {
   "cell_type": "code",
   "execution_count": null,
   "source": [
    "state = MapsMX().get_geo('state')"
   ],
   "outputs": [],
   "metadata": {}
  },
  {
   "cell_type": "code",
   "execution_count": null,
   "source": [
    "muns = MapsMX().get_geo('municipality')"
   ],
   "outputs": [],
   "metadata": {}
  },
  {
   "cell_type": "code",
   "execution_count": null,
   "source": [
    "yuc = muns[muns['cve_ent']=='31']"
   ],
   "outputs": [],
   "metadata": {}
  },
  {
   "cell_type": "code",
   "execution_count": null,
   "source": [
    "import geopandas"
   ],
   "outputs": [],
   "metadata": {}
  },
  {
   "cell_type": "code",
   "execution_count": null,
   "source": [
    "# censo poblacion y vivienda 2020 inegi\r\n",
    "inegi_2020 = pd.read_csv('censo_yuc.csv')"
   ],
   "outputs": [],
   "metadata": {}
  },
  {
   "cell_type": "code",
   "execution_count": null,
   "source": [
    "pob_fem = inegi_2020[inegi_2020.NOM_LOC=='Total del Municipio'][['MUN','NOM_MUN','POBFEM' ]].reset_index(drop=True)"
   ],
   "outputs": [],
   "metadata": {}
  },
  {
   "cell_type": "code",
   "execution_count": null,
   "source": [
    "gdf = geopandas.GeoDataFrame(yuc, geometry='geometry_mun')"
   ],
   "outputs": [],
   "metadata": {}
  },
  {
   "cell_type": "code",
   "execution_count": null,
   "source": [
    "gdf_2020 = pd.DataFrame(gdf.merge(mun_counts_2020,left_on='nom_mun',right_on='index',how='left'))\r\n",
    "gdf = pd.DataFrame(gdf.merge(mun_counts,left_on='nom_mun',right_on='index',how='left'))\r\n",
    "\r\n",
    "#gdf = pd.DataFrame(gdf.merge(pob_fem,left_on='nom_mun',right_on='NOM_MUN',how='left'))\r\n",
    "#gdf_2020"
   ],
   "outputs": [],
   "metadata": {}
  },
  {
   "cell_type": "code",
   "execution_count": null,
   "source": [
    "gdf_2020 = pd.DataFrame(gdf_2020.merge(pob_fem,left_on='nom_mun',right_on='NOM_MUN',how='left'))\r\n",
    "#gdf_2020"
   ],
   "outputs": [],
   "metadata": {}
  },
  {
   "cell_type": "code",
   "execution_count": null,
   "source": [
    "#gdf"
   ],
   "outputs": [],
   "metadata": {}
  },
  {
   "cell_type": "code",
   "execution_count": null,
   "source": [
    "gdf = geopandas.GeoDataFrame(gdf, geometry='geometry_mun')\r\n",
    "gdf_2020 = geopandas.GeoDataFrame(gdf_2020, geometry='geometry_mun')"
   ],
   "outputs": [],
   "metadata": {}
  },
  {
   "cell_type": "code",
   "execution_count": null,
   "source": [
    "gdf = gdf.set_index('index')\r\n",
    "gdf = gdf.rename(columns={'municipiohechos':'Casos registrados'})\r\n",
    "\r\n",
    "gdf_2020 = gdf_2020.set_index('nom_mun')\r\n",
    "gdf_2020 = gdf_2020.rename(columns={'municipiohechos':'Casos registrados'})\r\n",
    "#gdf"
   ],
   "outputs": [],
   "metadata": {}
  },
  {
   "cell_type": "code",
   "execution_count": null,
   "source": [
    "gdf"
   ],
   "outputs": [],
   "metadata": {}
  },
  {
   "cell_type": "code",
   "execution_count": null,
   "source": [
    "gdf['Casos registrados log'] = np.log10(gdf['Casos registrados'] )\r\n",
    "gdf"
   ],
   "outputs": [],
   "metadata": {}
  },
  {
   "cell_type": "code",
   "execution_count": null,
   "source": [
    "gdf_2020['Tasa 1000 casos'] = round(gdf_2020['Casos registrados']/gdf_2020['POBFEM'].astype(int)*1000,2)\r\n",
    "gdf_2020"
   ],
   "outputs": [],
   "metadata": {}
  },
  {
   "cell_type": "code",
   "execution_count": null,
   "source": [
    "gdf['Casos registrados'].sum()"
   ],
   "outputs": [],
   "metadata": {}
  },
  {
   "cell_type": "code",
   "execution_count": null,
   "source": [
    "mun_counts.municipiohechos.sum()"
   ],
   "outputs": [],
   "metadata": {}
  },
  {
   "cell_type": "code",
   "execution_count": null,
   "source": [
    "semujeres.municipiohechos.value_counts().sum()"
   ],
   "outputs": [],
   "metadata": {}
  },
  {
   "cell_type": "code",
   "execution_count": null,
   "source": [
    "semujeres.shape"
   ],
   "outputs": [],
   "metadata": {}
  },
  {
   "cell_type": "code",
   "execution_count": null,
   "source": [
    "fig, ax = plt.subplots(1, figsize=(10,10))\r\n",
    "#legend = False\r\n",
    "gdf.plot(column=gdf['Casos registrados log'], cmap='Blues', linewidth=1, ax=ax, edgecolor='0.9')\r\n",
    "plt.ylim([0.88e6, 1.15e6])\r\n",
    "plt.xlim([3.7e6, 4e6])\r\n",
    "plt.axis('off')\r\n",
    "plt.title('Casos Registrados por Municipio')\r\n",
    "plt.show()"
   ],
   "outputs": [],
   "metadata": {}
  },
  {
   "cell_type": "code",
   "execution_count": null,
   "source": [
    "print(gdf.crs)"
   ],
   "outputs": [],
   "metadata": {}
  },
  {
   "cell_type": "code",
   "execution_count": null,
   "source": [
    "import pyproj\r\n",
    "gdf_crs = gdf.to_crs(pyproj.CRS.from_epsg(4326))\r\n",
    "gdf_crs_2020 = gdf_2020.to_crs(pyproj.CRS.from_epsg(4326))"
   ],
   "outputs": [],
   "metadata": {}
  },
  {
   "cell_type": "code",
   "execution_count": null,
   "source": [
    "print(gdf_crs.crs)"
   ],
   "outputs": [],
   "metadata": {}
  },
  {
   "cell_type": "code",
   "execution_count": null,
   "source": [
    "len(semujeres)"
   ],
   "outputs": [],
   "metadata": {}
  },
  {
   "cell_type": "code",
   "execution_count": null,
   "source": [
    "fig = px.choropleth(gdf_crs, geojson=gdf_crs.geometry_mun, \r\n",
    "                    locations=gdf_crs.index, color=\"Casos registrados log\",\r\n",
    "                    height=500,\r\n",
    "                   color_continuous_scale=\"Viridis\",\r\n",
    "                    labels = {'index':'Municipio', \"Casos registrados log\":'log10'},\r\n",
    "                    hover_data={\"Casos registrados\":True, \"Casos registrados log\":False},\r\n",
    "                    title='Mapa 1. Casos Registrados por Municipio',\r\n",
    "                   )\r\n",
    "fig.update_geos(fitbounds=\"locations\", visible=False)\r\n",
    "\r\n",
    "fig.update_layout(xaxis=dict(domain=[0, 0.5]), yaxis=dict(domain=[0.25, 0.75]))\r\n",
    "\r\n",
    "fig.add_annotation(\r\n",
    "    # The arrow head will be 25% along the x axis, starting from the left\r\n",
    "    x=0,\r\n",
    "    # The arrow head will be 40% along the y axis, starting from the bottom\r\n",
    "    y=0.98,\r\n",
    "    text=\"<b>Temporalidad:</b> {}-{}<br><b>Total de casos:</b> {}\".format(min(victimas.año_recepcion),max(victimas.año_recepcion),len(semujeres)),\r\n",
    "    showarrow=False,\r\n",
    "    bordercolor=\"black\",\r\n",
    "    bgcolor=\"white\",\r\n",
    "    borderwidth=1.5,\r\n",
    "    opacity=0.8\r\n",
    ")\r\n",
    "\r\n",
    "fig.update(layout = dict(title=dict(x=0.5)))\r\n",
    "fig.update_layout(\r\n",
    "    margin={\"r\":0,\"t\":30,\"l\":10,\"b\":10},\r\n",
    "    coloraxis_colorbar={\r\n",
    "        'title':'Escala'})\r\n",
    "fig.update_layout(title_y=1, title_x=0)\r\n",
    "fig.update_layout(coloraxis_showscale=True, height=500)\r\n",
    "pio.write_html(fig, file='../docs/figs/mapa.html', include_plotlyjs='cdn', full_html=False)\r\n",
    "fig.show()"
   ],
   "outputs": [],
   "metadata": {}
  },
  {
   "cell_type": "code",
   "execution_count": null,
   "source": [
    "gdf_crs_2020['Tasa 1000 casos'] = gdf_crs_2020['Tasa 1000 casos'].fillna(0)\r\n",
    "gdf_crs_2020['Casos registrados'] = gdf_crs_2020['Casos registrados'].fillna(0)"
   ],
   "outputs": [],
   "metadata": {}
  },
  {
   "cell_type": "code",
   "execution_count": null,
   "source": [
    "gdf_crs_2020"
   ],
   "outputs": [],
   "metadata": {}
  },
  {
   "cell_type": "code",
   "execution_count": null,
   "source": [
    "\"\"\"import json\r\n",
    "cols_dd = [\"Casos registrados\", \"POBFEM\", \"Tasa 1000 casos\"]\r\n",
    "# we need to add this to select which trace \r\n",
    "# is going to be visible\r\n",
    "visible = np.array(cols_dd)\r\n",
    "poly_json = json.loads(gdf_crs_2020.geometry_mun.to_json())\r\n",
    "# define traces and buttons at once\r\n",
    "traces = []\r\n",
    "buttons = []\r\n",
    "for value in cols_dd:\r\n",
    "    traces.append(go.Choropleth(\r\n",
    "        geojson=poly_json,\r\n",
    "        locations=gdf_crs_2020.index, # Spatial coordinates\r\n",
    "        z=gdf_crs_2020[value], # Data to be color-coded\r\n",
    "        colorbar_title=value,\r\n",
    "        name=value,\r\n",
    "        visible= True if value==cols_dd[0] else False))\r\n",
    "\r\n",
    "    buttons.append(dict(label=value,\r\n",
    "                        method=\"update\",\r\n",
    "                        args=[{\"visible\":list(visible==value)},\r\n",
    "                              {\"title\":f\"<b>{value}</b>\"}]))\r\n",
    "\r\n",
    "updatemenus = [{\"active\":0,\r\n",
    "                \"buttons\":buttons,\r\n",
    "               }]\r\n",
    "\r\n",
    "\r\n",
    "# Show figure\r\n",
    "fig = go.Figure(data=traces,\r\n",
    "                layout=dict(updatemenus=updatemenus))\r\n",
    "# This is in order to get the first title displayed correctly\r\n",
    "first_title = cols_dd[0]\r\n",
    "fig.update_layout(title=f\"<b>{first_title}</b>\",title_x=0.5)\r\n",
    "fig.update_geos(fitbounds=\"locations\", visible=False)\r\n",
    "#lataxis_range=list([0.88e6, 1.15e6]), lonaxis_range=list([3.7e6, 4e6])\r\n",
    "pio.write_html(fig, file='../docs/figs/mapa_2_dropdown.html', include_plotlyjs='cdn', full_html=False)\r\n",
    "fig.show()\"\"\""
   ],
   "outputs": [],
   "metadata": {}
  },
  {
   "cell_type": "code",
   "execution_count": null,
   "source": [
    "# Hacer menu de seleccion de fecha\r\n",
    "fig = px.choropleth(gdf_crs_2020, geojson=gdf_crs_2020.geometry_mun, \r\n",
    "                    locations=gdf_crs_2020.index, color=\"Tasa 1000 casos\",\r\n",
    "                    height=500,\r\n",
    "                    #color_continuous_scale=\"Viridis\",\r\n",
    "                    #color_continuous_midpoint=np.average(gdf_crs_2020['Tasa 1000 casos'], weights=gdf_crs_2020['POBFEM'].astype(int)),\r\n",
    "                    labels = {'nom_mun':'Municipio', 'POBFEM':'Población Femenina del Municipio', 'Tasa 1000 casos':'Tasa'},\r\n",
    "                    hover_data={\"Casos registrados\":True,\"POBFEM\":True,},\r\n",
    "                    title='Mapa 2. Tasa de casos registrados por cada 1000 mujeres por Municipio en 2020',\r\n",
    "                    )\r\n",
    "fig.update_geos(fitbounds=\"locations\", visible=False)\r\n",
    "\r\n",
    "fig.update_layout(xaxis=dict(domain=[0, 0.5]), yaxis=dict(domain=[0.25, 0.75]))\r\n",
    "\r\n",
    "fig.add_annotation(\r\n",
    "    # The arrow head will be 25% along the x axis, starting from the left\r\n",
    "    x=0,\r\n",
    "    # The arrow head will be 40% along the y axis, starting from the bottom\r\n",
    "    y=0.98,\r\n",
    "    text=\"<b>Temporalidad:</b> {}<br><b>Total de casos:</b> {}\".format(min(semujeres_2020.año_recepcion),len(semujeres_2020)),\r\n",
    "    showarrow=False,\r\n",
    "    bordercolor=\"black\",\r\n",
    "    bgcolor=\"white\",\r\n",
    "    borderwidth=1.5,\r\n",
    "    opacity=0.8\r\n",
    ")\r\n",
    "\r\n",
    "fig.update(layout = dict(title=dict(x=0.5)))\r\n",
    "fig.update_layout(\r\n",
    "    margin={\"r\":0,\"t\":30,\"l\":10,\"b\":10},\r\n",
    "    coloraxis_colorbar={\r\n",
    "        'title':'Tasa'})\r\n",
    "fig.update_layout(title_y=1, title_x=0)\r\n",
    "fig.update_layout(coloraxis_showscale=True, height=500)\r\n",
    "pio.write_html(fig, file='../docs/figs/mapa2.html', include_plotlyjs='cdn', full_html=False)\r\n",
    "fig.show()"
   ],
   "outputs": [],
   "metadata": {}
  },
  {
   "cell_type": "code",
   "execution_count": null,
   "source": [
    "#np.average(gdf_crs['Casos registrados'], weights=gdf_crs['POBFEM'].astype(int))"
   ],
   "outputs": [],
   "metadata": {}
  },
  {
   "cell_type": "code",
   "execution_count": null,
   "source": [
    "#np.average(gdf_crs['Casos registrados'])"
   ],
   "outputs": [],
   "metadata": {}
  },
  {
   "cell_type": "markdown",
   "source": [
    "## Graficos Interactivos"
   ],
   "metadata": {}
  },
  {
   "cell_type": "code",
   "execution_count": null,
   "source": [
    "# ACTIVIDAD/OCUPACION MUJERES\r\n",
    "\r\n"
   ],
   "outputs": [],
   "metadata": {}
  },
  {
   "cell_type": "code",
   "execution_count": null,
   "source": [
    "semujeres.ACTIVIDAD.unique()"
   ],
   "outputs": [],
   "metadata": {}
  },
  {
   "cell_type": "code",
   "execution_count": null,
   "source": [
    "semujeres = pd.concat([semujeres, semujeres.ACTIVIDAD.str.get_dummies(sep=',')], axis=1)"
   ],
   "outputs": [],
   "metadata": {}
  },
  {
   "cell_type": "code",
   "execution_count": null,
   "source": [
    "semujeres.info()"
   ],
   "outputs": [],
   "metadata": {}
  },
  {
   "cell_type": "code",
   "execution_count": null,
   "source": [
    "semujeres.iloc[:,[i for i in range(42,49)]]"
   ],
   "outputs": [],
   "metadata": {}
  },
  {
   "cell_type": "code",
   "execution_count": null,
   "source": [
    "y = [semujeres['Trabaja en el hogar'].sum(), semujeres['Trabaja fuera del hogar'].sum(),semujeres['Estudia'].sum(), semujeres['Jubilada/Pensionada'].sum()+semujeres['Pensionada'].sum(),semujeres['Otro'].sum(),semujeres['Se desconoce'].sum()]\r\n",
    "#y_total = sum(y)\r\n",
    "y_total = np.array(len(semujeres), dtype=int)\r\n",
    "fig = px.bar(x=['Trabaja en el hogar', 'Trabaja fuera del hogar','Estudia','Jubilada/Pensionada','Otro','Se desconoce'], \r\n",
    "            y = y,\r\n",
    "            text= np.round(y/y_total*100,2),\r\n",
    "            labels = {'x': 'Actividad', \"y\":'Número de casos', 'text':'Porcentaje'},\r\n",
    "            color=px.colors.qualitative.Prism[:6],\r\n",
    "            color_discrete_map=\"identity\",\r\n",
    "            title='Gráfica 1. Actividad que realizan las mujeres'\r\n",
    "            )\r\n",
    "fig.update_xaxes(type='category')\r\n",
    "fig.update_layout( xaxis={'categoryorder':'total descending'}, xaxis_title=None, height=500)\r\n",
    "#fig.update_traces(texttemplate='%{text} %', textposition='outside')\r\n",
    "fig.update_traces(texttemplate='%{text} %')\r\n",
    "pio.write_html(fig, file='../docs/figs/g1.html', include_plotlyjs='cdn', full_html=False)\r\n",
    "#fig.update_xaxes(title='x', visible=False, showticklabels=True)\r\n",
    "fig.show()"
   ],
   "outputs": [],
   "metadata": {}
  },
  {
   "cell_type": "code",
   "execution_count": null,
   "source": [
    "px.colors.qualitative.Prism"
   ],
   "outputs": [],
   "metadata": {}
  },
  {
   "cell_type": "code",
   "execution_count": null,
   "source": [
    "semujeres.escolaridad.unique()\r\n",
    "validez = semujeres[semujeres.escolaridad=='Estudios que no requieren validéz oficial'].index\r\n",
    "tecnica = semujeres[semujeres.escolaridad=='Carrera técnica comercial'].index\r\n",
    "semujeres.loc[validez,'escolaridad']='Sin validez'\r\n",
    "semujeres.loc[tecnica,'escolaridad']='Carrera técnica'"
   ],
   "outputs": [],
   "metadata": {}
  },
  {
   "cell_type": "code",
   "execution_count": null,
   "source": [
    "semujeres.escolaridad.unique()"
   ],
   "outputs": [],
   "metadata": {}
  },
  {
   "cell_type": "code",
   "execution_count": null,
   "source": [
    "y = semujeres.escolaridad.value_counts().values\r\n",
    "y_total = sum(y)\r\n",
    "fig = px.bar(x=semujeres.escolaridad.value_counts().index,\r\n",
    "            y=semujeres.escolaridad.value_counts().values,\r\n",
    "            text= np.round(y/y_total*100,2),\r\n",
    "            labels = {'x': 'Escolaridad', \"y\":'Número de casos', 'text':'Porcentaje'},\r\n",
    "            color=px.colors.qualitative.Prism[:11],\r\n",
    "            color_discrete_map=\"identity\",\r\n",
    "            title='Gráfica 2. Estudios Concluidos'\r\n",
    "            )\r\n",
    "fig.update_xaxes(type='category')\r\n",
    "fig.update_layout(xaxis_title=None, height=500)\r\n",
    "fig.update_traces(texttemplate='%{text} %')\r\n",
    "#fig.update_xaxes(visible=False, showticklabels=False)\r\n",
    "pio.write_html(fig, file='../docs/figs/g2.html',include_plotlyjs='cdn', full_html=False)\r\n",
    "fig.show()"
   ],
   "outputs": [],
   "metadata": {}
  },
  {
   "cell_type": "code",
   "execution_count": null,
   "source": [
    "y = semujeres.EstadoCivil.value_counts().values\r\n",
    "y_total = sum(y)\r\n",
    "fig = px.bar(x=semujeres.EstadoCivil.value_counts().index,\r\n",
    "            y=semujeres.EstadoCivil.value_counts().values,\r\n",
    "            text= np.round(y/y_total*100,2),\r\n",
    "            labels = {'x': 'Estado Civil', \"y\":'Número de casos', 'text':'Porcentaje'},\r\n",
    "            color=px.colors.qualitative.Prism[:8],\r\n",
    "            color_discrete_map=\"identity\",\r\n",
    "            title='Gráfica 3. Estado Civil'\r\n",
    "            )\r\n",
    "fig.update_xaxes(type='category')\r\n",
    "fig.update_layout(xaxis_title=None, height=500)\r\n",
    "fig.update_traces(texttemplate='%{text} %')\r\n",
    "#fig.update_xaxes(visible=False, showticklabels=False)\r\n",
    "pio.write_html(fig, file='../docs/figs/g3.html',include_plotlyjs='cdn', full_html=False)\r\n",
    "fig.show()"
   ],
   "outputs": [],
   "metadata": {}
  },
  {
   "cell_type": "code",
   "execution_count": null,
   "source": [
    "nan = semujeres[semujeres['Habla Indigena'].isna()==True].index\r\n",
    "semujeres.loc[nan, 'Habla Indigena'] = 'No'\r\n",
    "des = semujeres[semujeres['Habla Indigena']=='Desconocido'].index\r\n",
    "semujeres.loc[des, 'Habla Indigena'] = 'No'"
   ],
   "outputs": [],
   "metadata": {}
  },
  {
   "cell_type": "code",
   "execution_count": null,
   "source": [
    "y = semujeres['Habla Indigena'].value_counts().values\r\n",
    "y_total = sum(y)\r\n",
    "fig = px.bar(x=semujeres['Habla Indigena'].value_counts().index,\r\n",
    "            y=semujeres['Habla Indigena'].value_counts().values,\r\n",
    "            text= np.round(y/y_total*100,2),\r\n",
    "            labels = {'x': 'Habla lengua indígena', \"y\":'Número de casos', 'text':'Porcentaje'},\r\n",
    "            color=px.colors.qualitative.Prism[:2],\r\n",
    "            color_discrete_map=\"identity\",\r\n",
    "            title='Gráfica 5. Mujeres que hablan Lengua Indígena'\r\n",
    "            )\r\n",
    "fig.update_xaxes(type='category')\r\n",
    "fig.update_layout(xaxis_title=None, height=500)\r\n",
    "fig.update_traces(texttemplate='%{text} %')\r\n",
    "#fig.update_xaxes(visible=False, showticklabels=False)\r\n",
    "pio.write_html(fig, file='../docs/figs/g4.html',include_plotlyjs='cdn', full_html=False)\r\n",
    "fig.show()"
   ],
   "outputs": [],
   "metadata": {}
  },
  {
   "cell_type": "code",
   "execution_count": null,
   "source": [
    "y = semujeres['Conocimiento de autoridad'].value_counts().values\r\n",
    "y_total = sum(y)\r\n",
    "fig = px.bar(x=semujeres['Conocimiento de autoridad'].value_counts().index,\r\n",
    "            y=semujeres['Conocimiento de autoridad'].value_counts().values,\r\n",
    "            text= np.round(y/y_total*100,2),\r\n",
    "            labels = {'x': 'Conocimiento de alguna autoridad', \"y\":'Número de casos', 'text':'Porcentaje'},\r\n",
    "            color=px.colors.qualitative.Prism[:2],\r\n",
    "            color_discrete_map=\"identity\",\r\n",
    "            title='Gráfica 6. Casos que son conocidos por alguna autoridad'\r\n",
    "            )\r\n",
    "fig.update_xaxes(type='category')\r\n",
    "fig.update_layout( xaxis_title=None, height=500)\r\n",
    "fig.update_traces(texttemplate='%{text} %')\r\n",
    "#fig.update_xaxes(visible=False, showticklabels=False)\r\n",
    "pio.write_html(fig, file='../docs/figs/g5.html',include_plotlyjs='cdn', full_html=False)\r\n",
    "fig.show()"
   ],
   "outputs": [],
   "metadata": {}
  },
  {
   "cell_type": "code",
   "execution_count": null,
   "source": [
    "si_conocimiento = semujeres[semujeres['Conocimiento de autoridad']=='Si']\r\n",
    "\r\n",
    "mp = si_conocimiento['Descripcion de autoridad'].str.contains(\"MINISTERIO\").sum() + si_conocimiento['Descripcion de autoridad'].str.contains(\"MP\").sum() + si_conocimiento['Descripcion de autoridad'].str.contains(\"M.P\").sum() \r\n",
    "fg = si_conocimiento['Descripcion de autoridad'].str.contains(\"FIS\").sum() + si_conocimiento['Descripcion de autoridad'].str.contains(\"FG\").sum() + si_conocimiento['Descripcion de autoridad'].str.contains(\"F.G\").sum()\r\n",
    "juz = si_conocimiento['Descripcion de autoridad'].str.contains(\"JUZ\").sum() + si_conocimiento['Descripcion de autoridad'].str.contains(\"JUEZ\").sum() + si_conocimiento['Descripcion de autoridad'].str.contains(\"JZ\").sum()\r\n",
    "agencia = si_conocimiento['Descripcion de autoridad'].str.contains(\"AGE\").sum() + si_conocimiento['Descripcion de autoridad'].str.contains(\"AG\").sum()\r\n",
    "cjm = si_conocimiento['Descripcion de autoridad'].str.contains(\"JUS\").sum() + si_conocimiento['Descripcion de autoridad'].str.contains(\"CJ\").sum() + si_conocimiento['Descripcion de autoridad'].str.contains(\"JM\").sum() + si_conocimiento['Descripcion de autoridad'].str.contains(\"B1\").sum()\r\n",
    "prod = si_conocimiento['Descripcion de autoridad'].str.contains(\"PRODE\").sum()\r\n",
    "salud = si_conocimiento['Descripcion de autoridad'].str.contains(\"SALUD\").sum() + si_conocimiento['Descripcion de autoridad'].str.contains(\"HOSP\").sum()\r\n",
    "judicial = si_conocimiento['Descripcion de autoridad'].str.contains(\"MUN\").sum() + si_conocimiento['Descripcion de autoridad'].str.contains(\"SSP\").sum()\r\n",
    "judicial_juzgado = judicial+juz\r\n",
    "fis_agencia = fg + agencia"
   ],
   "outputs": [],
   "metadata": {}
  },
  {
   "cell_type": "code",
   "execution_count": null,
   "source": [
    "dic_autoridades = { 'Autoridad':['Ministerio Público','Fiscalía','PRODENNAY', 'CJM','Centro de Salud', 'Poder Judicial'],\r\n",
    "                    'Porcentaje':100*np.array([mp, fis_agencia,  prod,  cjm, salud,judicial_juzgado])/sum([mp, fis_agencia,  prod,  cjm, salud, judicial_juzgado]),\r\n",
    "                    'Count': np.array([mp, fis_agencia, prod,  cjm, salud, judicial_juzgado])}"
   ],
   "outputs": [],
   "metadata": {}
  },
  {
   "cell_type": "code",
   "execution_count": null,
   "source": [
    "autoridades = pd.DataFrame(dic_autoridades)\r\n",
    "autoridades = autoridades.sort_values('Count', ascending=False)\r\n",
    "autoridades"
   ],
   "outputs": [],
   "metadata": {}
  },
  {
   "cell_type": "code",
   "execution_count": null,
   "source": [
    "y = autoridades['Count']\r\n",
    "y_total = sum(y)\r\n",
    "fig = px.bar(x=autoridades['Autoridad'],\r\n",
    "            y=autoridades['Count'],\r\n",
    "            text= np.round(y/y_total*100,2),\r\n",
    "            labels = {'x': 'Autoridad', \"y\":'Número de casos', 'text':'Porcentaje'},\r\n",
    "            color=px.colors.qualitative.Prism[:6],\r\n",
    "            color_discrete_map=\"identity\",\r\n",
    "            title='Gráfica 7. Autoridad que conoce el caso'\r\n",
    "            )\r\n",
    "fig.update_xaxes(type='category')\r\n",
    "fig.update_layout( xaxis_title=None, height=500)\r\n",
    "fig.update_traces(texttemplate='%{text} %')\r\n",
    "#fig.update_xaxes(visible=False, showticklabels=False)\r\n",
    "pio.write_html(fig, file='../docs/figs/g6.html',include_plotlyjs='cdn', full_html=False)\r\n",
    "fig.show()"
   ],
   "outputs": [],
   "metadata": {}
  },
  {
   "cell_type": "code",
   "execution_count": null,
   "source": [
    "semujeres = pd.concat([semujeres, semujeres.tipos.str.get_dummies(sep=',')], axis=1)"
   ],
   "outputs": [],
   "metadata": {}
  },
  {
   "cell_type": "code",
   "execution_count": null,
   "source": [
    "semujeres.descripcion_otro_tipos.unique()"
   ],
   "outputs": [],
   "metadata": {}
  },
  {
   "cell_type": "code",
   "execution_count": null,
   "source": [
    "tipos = semujeres.iloc[:,[i for i in range(49,55)]]\r\n",
    "tipos = pd.DataFrame(tipos.sum())\r\n",
    "tipos = tipos.sort_values(0,ascending=False)\r\n",
    "new_row = pd.Series(data={0:sum(semujeres.descripcion_otro_tipos=='FEMINICIDA')}, name='Feminicida')\r\n",
    "#append row to the dataframe\r\n",
    "tipos = tipos.append(new_row)"
   ],
   "outputs": [],
   "metadata": {}
  },
  {
   "cell_type": "code",
   "execution_count": null,
   "source": [
    "tipos.loc['Otro',0] = tipos.loc['Otro',0] - tipos.loc['Feminicida',0]"
   ],
   "outputs": [],
   "metadata": {}
  },
  {
   "cell_type": "code",
   "execution_count": null,
   "source": [
    "tipos = tipos.sort_values(0, ascending=False)\r\n",
    "tipos"
   ],
   "outputs": [],
   "metadata": {}
  },
  {
   "cell_type": "code",
   "execution_count": null,
   "source": [
    "y = tipos[0].values\r\n",
    "y_total = len(semujeres)\r\n",
    "fig = px.bar(x=tipos.index,\r\n",
    "            y=tipos[0],\r\n",
    "            text= np.round(y/y_total*100,2),\r\n",
    "            labels = {'x': 'Tipo de violencia', \"y\":'Número de casos', 'text':'Porcentaje'},\r\n",
    "            color=px.colors.qualitative.Prism[:7],\r\n",
    "            color_discrete_map=\"identity\",\r\n",
    "            title='Gráfica 8. Tipo de violencia registrada'\r\n",
    "            )\r\n",
    "fig.update_xaxes(type='category')\r\n",
    "fig.update_layout( xaxis_title=None,  height=500)\r\n",
    "fig.update_traces(texttemplate='%{text} %')\r\n",
    "#fig.update_xaxes(visible=False, showticklabels=False)\r\n",
    "pio.write_html(fig, file='../docs/figs/g7.html',include_plotlyjs='cdn', full_html=False)\r\n",
    "fig.show()"
   ],
   "outputs": [],
   "metadata": {}
  },
  {
   "cell_type": "code",
   "execution_count": null,
   "source": [
    "semujeres.descripcion_otro_tipos"
   ],
   "outputs": [],
   "metadata": {}
  },
  {
   "cell_type": "code",
   "execution_count": null,
   "source": [
    "semujeres.modalidad.unique()"
   ],
   "outputs": [],
   "metadata": {}
  },
  {
   "cell_type": "code",
   "execution_count": null,
   "source": [
    "y = semujeres.modalidad.value_counts().values\r\n",
    "y_total = sum(y)\r\n",
    "fig = px.bar(x=semujeres.modalidad.value_counts().index,\r\n",
    "            y=semujeres.modalidad.value_counts().values,\r\n",
    "            text= np.round(y/y_total*100,2),\r\n",
    "            labels = {'x': 'Modalidad de la violencia', \"y\":'Número de casos', 'text':'Porcentaje'},\r\n",
    "            color=px.colors.qualitative.Prism[:7],\r\n",
    "            color_discrete_map=\"identity\",\r\n",
    "            title='Gráfica 9. Modalidad de la violencia'\r\n",
    "            )\r\n",
    "fig.update_xaxes(type='category')\r\n",
    "fig.update_layout( xaxis_title=None,  height=500)\r\n",
    "fig.update_traces(texttemplate='%{text} %')\r\n",
    "#fig.update_xaxes(visible=False, showticklabels=False)\r\n",
    "pio.write_html(fig, file='../docs/figs/g8.html',include_plotlyjs='cdn', full_html=False)\r\n",
    "fig.show()"
   ],
   "outputs": [],
   "metadata": {}
  },
  {
   "cell_type": "code",
   "execution_count": null,
   "source": [
    "semujeres['Tipo de vínculo con victima'].unique()"
   ],
   "outputs": [],
   "metadata": {}
  },
  {
   "cell_type": "code",
   "execution_count": null,
   "source": [
    "prismas = px.colors.qualitative.Prism \r\n",
    "prismas += px.colors.qualitative.Prism "
   ],
   "outputs": [],
   "metadata": {}
  },
  {
   "cell_type": "code",
   "execution_count": null,
   "source": [
    "y = semujeres['Detalle del Tipo Vínculo con victima'].value_counts().values\r\n",
    "y_total = sum(y)\r\n",
    "fig = px.bar(x=semujeres['Detalle del Tipo Vínculo con victima'].value_counts().index,\r\n",
    "            y=semujeres['Detalle del Tipo Vínculo con victima'].value_counts().values,\r\n",
    "            text= np.round(y/y_total*100,2),\r\n",
    "            labels = {'x': 'Detalle del vínculo con la víctima', \"y\":'Número de casos', 'text':'Porcentaje'},\r\n",
    "            color=prismas[:21],\r\n",
    "            color_discrete_map=\"identity\",\r\n",
    "            title='Gráfica 11. Detalle del vínculo con la víctima'\r\n",
    "            )\r\n",
    "fig.update_xaxes(type='category')\r\n",
    "fig.update_layout( xaxis={'categoryorder':'total descending'}, height=500)\r\n",
    "fig.update_layout( xaxis_title=None)\r\n",
    "fig.update_traces(texttemplate='%{text} %')\r\n",
    "#fig.update_xaxes(visible=False, showticklabels=False)\r\n",
    "pio.write_html(fig, file='../docs/figs/g10.html',include_plotlyjs='cdn', full_html=False)\r\n",
    "fig.show()"
   ],
   "outputs": [],
   "metadata": {}
  },
  {
   "cell_type": "code",
   "execution_count": null,
   "source": [
    "fecha='2020-10-01'"
   ],
   "outputs": [],
   "metadata": {}
  },
  {
   "cell_type": "code",
   "execution_count": null,
   "source": [
    "# violencia en los ultimos 12 meses\r\n",
    "tuvo_violencia = semujeres[(semujeres['Detalle del Tipo Vínculo con victima'].isin(['Cónyuge o pareja ', 'Ex pareja']))&(semujeres['fecha_recepcion']>=fecha)]\r\n",
    "ultimo_año = semujeres[semujeres['fecha_recepcion']>=fecha]\r\n",
    "ultimo_año['violencia_ex_pareja'] = 'No'\r\n",
    "ultimo_año.loc[tuvo_violencia.index, 'violencia_ex_pareja'] = 'Si'\r\n",
    "y = ultimo_año['violencia_ex_pareja'].value_counts().values\r\n",
    "y_total = len(ultimo_año)\r\n",
    "fig = px.bar(x=ultimo_año['violencia_ex_pareja'].value_counts().index,\r\n",
    "            y=ultimo_año['violencia_ex_pareja'].value_counts().values,\r\n",
    "            text= np.round(y/y_total*100,2),\r\n",
    "            labels = {'x': 'Victima de violencia', \"y\":'Número de casos', 'text':'Porcentaje'},\r\n",
    "            color=px.colors.qualitative.Prism[:2],\r\n",
    "            color_discrete_map=\"identity\",\r\n",
    "            title=\"\"\"Gráfica 12. Mujeres que han experimentado violencia por parte de su última pareja en los últimos 12 meses<br><b>Total de casos en los últimos 12 meses:</b> {}\"\"\".format(len(ultimo_año))\r\n",
    "            )\r\n",
    "fig.update_xaxes(type='category')\r\n",
    "fig.update_layout( xaxis_title=None, height=500)\r\n",
    "fig.update_traces(texttemplate='%{text} %')\r\n",
    "\"\"\"fig.add_annotation(\r\n",
    "    # The arrow head will be 25% along the x axis, starting from the left\r\n",
    "    x=0.5,\r\n",
    "    # The arrow head will be 40% along the y axis, starting from the bottom\r\n",
    "    y=2000,\r\n",
    "    text=\"<b>Total de casos en los últimos 12 meses:</b> {}\".format(len(ultimo_año)),\r\n",
    "    showarrow=False,\r\n",
    "    bordercolor=\"black\",\r\n",
    "    bgcolor=\"white\",\r\n",
    "    borderwidth=1.5,\r\n",
    "    opacity=0.8\r\n",
    ")\"\"\"\r\n",
    "pio.write_html(fig, file='../docs/figs/g21.html',include_plotlyjs='cdn', full_html=False)\r\n",
    "fig.show()"
   ],
   "outputs": [],
   "metadata": {}
  },
  {
   "cell_type": "code",
   "execution_count": null,
   "source": [
    "y = semujeres['Tipo de vínculo con victima'].value_counts().values\r\n",
    "y_total = sum(y)\r\n",
    "fig = px.bar(x=semujeres['Tipo de vínculo con victima'].value_counts().index,\r\n",
    "            y=semujeres['Tipo de vínculo con victima'].value_counts().values,\r\n",
    "            text= np.round(y/y_total*100,2),\r\n",
    "            labels = {'x': 'Tipo de vínculo con la víctima', \"y\":'Número de casos', 'text':'Porcentaje'},\r\n",
    "            color=px.colors.qualitative.Prism[:5],\r\n",
    "            color_discrete_map=\"identity\",\r\n",
    "            title='Gráfica 10. Tipo de vínculo con la víctima'\r\n",
    "            )\r\n",
    "fig.update_xaxes(type='category')\r\n",
    "fig.update_layout( xaxis_title=None, height=500)\r\n",
    "fig.update_traces(texttemplate='%{text} %')\r\n",
    "#fig.update_xaxes(visible=False, showticklabels=False)\r\n",
    "pio.write_html(fig, file='../docs/figs/g9.html',include_plotlyjs='cdn', full_html=False)\r\n",
    "fig.show()"
   ],
   "outputs": [],
   "metadata": {}
  },
  {
   "cell_type": "code",
   "execution_count": null,
   "source": [
    "semujeres['Victima de Trata'].value_counts()"
   ],
   "outputs": [],
   "metadata": {}
  },
  {
   "cell_type": "code",
   "execution_count": null,
   "source": [
    "no = semujeres[semujeres['Victima de Trata']=='Se desconoce'].index\r\n",
    "semujeres.loc[no, 'Victima de Trata']= 'No'"
   ],
   "outputs": [],
   "metadata": {}
  },
  {
   "cell_type": "code",
   "execution_count": null,
   "source": [
    "y = semujeres['Victima de Trata'].value_counts().values\r\n",
    "y_total = sum(y)\r\n",
    "fig = px.bar(x=semujeres['Victima de Trata'].value_counts().index,\r\n",
    "            y=semujeres['Victima de Trata'].value_counts().values,\r\n",
    "            text= np.round(y/y_total*100,2),\r\n",
    "            labels = {'x': 'Victima de Trata', \"y\":'Número de casos', 'text':'Porcentaje'},\r\n",
    "            color=px.colors.qualitative.Prism[:2],\r\n",
    "            color_discrete_map=\"identity\",\r\n",
    "            title='Gráfica 13. Casos relacionados con el delito de Trata'\r\n",
    "            )\r\n",
    "fig.update_xaxes(type='category')\r\n",
    "fig.update_layout( xaxis_title=None, height=500)\r\n",
    "fig.update_traces(texttemplate='%{text} %')\r\n",
    "#fig.update_xaxes(visible=False, showticklabels=False)\r\n",
    "pio.write_html(fig, file='../docs/figs/g11.html',include_plotlyjs='cdn', full_html=False)\r\n",
    "fig.show()"
   ],
   "outputs": [],
   "metadata": {}
  },
  {
   "cell_type": "code",
   "execution_count": null,
   "source": [
    "y = semujeres['Victima de delincuencia'].value_counts().values\r\n",
    "y_total = sum(y)\r\n",
    "fig = px.bar(x=semujeres['Victima de delincuencia'].value_counts().index,\r\n",
    "            y=semujeres['Victima de delincuencia'].value_counts().values,\r\n",
    "            text= np.round(y/y_total*100,2),\r\n",
    "            labels = {'x': 'Victima de delincuencia', \"y\":'Número de casos', 'text':'Porcentaje'},\r\n",
    "            color=px.colors.qualitative.Prism[:2],\r\n",
    "            color_discrete_map=\"identity\",\r\n",
    "            title='Gráfica 14. Casos relacionados con Delincuencia Organizada'\r\n",
    "            )\r\n",
    "fig.update_xaxes(type='category')\r\n",
    "fig.update_layout( xaxis_title=None, height=500)\r\n",
    "fig.update_traces(texttemplate='%{text} %')\r\n",
    "#fig.update_xaxes(visible=False, showticklabels=False)\r\n",
    "fig.update_layout(\r\n",
    "    xaxis = dict(\r\n",
    "        tickmode = 'array',\r\n",
    "        tickvals = [0, 1],\r\n",
    "        ticktext = ['No','Si']\r\n",
    "    )\r\n",
    ")\r\n",
    "pio.write_html(fig, file='../docs/figs/g12.html',include_plotlyjs='cdn', full_html=False)\r\n",
    "fig.show()"
   ],
   "outputs": [],
   "metadata": {}
  },
  {
   "cell_type": "code",
   "execution_count": null,
   "source": [
    "servicios_semujeres.serviciodetalle.unique()"
   ],
   "outputs": [],
   "metadata": {}
  },
  {
   "cell_type": "code",
   "execution_count": null,
   "source": [
    "y = servicios_semujeres.serviciodetalle.value_counts().values\r\n",
    "y_total = sum(y)\r\n",
    "fig = px.bar(x=servicios_semujeres.serviciodetalle.value_counts().index,\r\n",
    "            y=servicios_semujeres.serviciodetalle.value_counts().values,\r\n",
    "            text= np.round(y/y_total*100,2),\r\n",
    "            labels = {'x': 'Servicio proporcionado', \"y\":'Número de casos', 'text':'Porcentaje'},\r\n",
    "            color=px.colors.qualitative.Prism[:12],\r\n",
    "            color_discrete_map=\"identity\",\r\n",
    "            title='Gráfica 15. Servicios proporcionados por la SEMUJERES'\r\n",
    "            )\r\n",
    "fig.update_xaxes(type='category')\r\n",
    "fig.update_layout( xaxis={'categoryorder':'total descending'}, height=500)\r\n",
    "fig.update_layout( xaxis_title=None)\r\n",
    "fig.update_traces(texttemplate='%{text} %')\r\n",
    "pio.write_html(fig, file='../docs/figs/g13.html',include_plotlyjs='cdn', full_html=False)\r\n",
    "#fig.update_xaxes(visible=False, showticklabels=False)\r\n",
    "fig.show()"
   ],
   "outputs": [],
   "metadata": {}
  },
  {
   "cell_type": "code",
   "execution_count": null,
   "source": [
    "servicios_semujeres.serviciodetalle.value_counts()"
   ],
   "outputs": [],
   "metadata": {}
  },
  {
   "cell_type": "code",
   "execution_count": null,
   "source": [
    "servicios_semujeres.dependenciaquebrindoservicio.unique()"
   ],
   "outputs": [],
   "metadata": {}
  },
  {
   "cell_type": "code",
   "execution_count": null,
   "source": [
    "semujeres.info()"
   ],
   "outputs": [],
   "metadata": {}
  },
  {
   "cell_type": "code",
   "execution_count": null,
   "source": [
    "tipos = semujeres.iloc[:,[49,50,51,52,53,54,28]]\r\n",
    "fem = tipos[tipos.descripcion_otro_tipos.isna()==False]\r\n",
    "na = tipos[tipos.descripcion_otro_tipos.isna()==True]\r\n",
    "tipos.loc[fem.index,'descripcion_otro_tipos']=1\r\n",
    "tipos.loc[na.index,'descripcion_otro_tipos']=0\r\n",
    "tipos = tipos.rename(columns={'descripcion_otro_tipos':'Feminicida'})"
   ],
   "outputs": [],
   "metadata": {}
  },
  {
   "cell_type": "code",
   "execution_count": null,
   "source": [
    "def matrix(df):\r\n",
    "    arr = np.zeros(shape=(7,7), dtype=int)\r\n",
    "    \r\n",
    "    for index, row in df.iterrows():\r\n",
    "        i, j= 0, 0\r\n",
    "        #print(row)\r\n",
    "        for col_1 in df.columns:\r\n",
    "            for col_2 in df.columns:\r\n",
    "                if (row[col_1]==1) and (row[col_2] == 1):\r\n",
    "                    arr[i][j] += 1\r\n",
    "                j += 1\r\n",
    "            j = 0\r\n",
    "            i += 1\r\n",
    "        i = 0\r\n",
    "    return arr\r\n"
   ],
   "outputs": [],
   "metadata": {}
  },
  {
   "cell_type": "code",
   "execution_count": null,
   "source": [
    "mat = matrix(tipos)\r\n",
    "mat"
   ],
   "outputs": [],
   "metadata": {}
  },
  {
   "cell_type": "code",
   "execution_count": null,
   "source": [
    "names = list(tipos.columns)\r\n",
    "names"
   ],
   "outputs": [],
   "metadata": {}
  },
  {
   "cell_type": "code",
   "execution_count": null,
   "source": [
    "# chord diagram\r\n",
    "import matplotlib.pyplot as plt\r\n",
    "from matplotlib.path import Path\r\n",
    "import matplotlib.patches as patches\r\n",
    "\r\n",
    "import numpy as np\r\n",
    "\r\n",
    "LW = 0.3\r\n",
    "\r\n",
    "def polar2xy(r, theta):\r\n",
    "    return np.array([r*np.cos(theta), r*np.sin(theta)])\r\n",
    "\r\n",
    "def hex2rgb(c):\r\n",
    "    return tuple(int(c[i:i+2], 16)/256.0 for i in (1, 3 ,5))\r\n",
    "\r\n",
    "def IdeogramArc(start=0, end=60, radius=1.0, width=0.2, ax=None, color=(1,0,0)):\r\n",
    "    # start, end should be in [0, 360)\r\n",
    "    if start > end:\r\n",
    "        start, end = end, start\r\n",
    "    start *= np.pi/180.\r\n",
    "    end *= np.pi/180.\r\n",
    "    # optimal distance to the control points\r\n",
    "    # https://stackoverflow.com/questions/1734745/how-to-create-circle-with-b%C3%A9zier-curves\r\n",
    "    opt = 4./3. * np.tan((end-start)/ 4.) * radius\r\n",
    "    inner = radius*(1-width)\r\n",
    "    verts = [\r\n",
    "        polar2xy(radius, start),\r\n",
    "        polar2xy(radius, start) + polar2xy(opt, start+0.5*np.pi),\r\n",
    "        polar2xy(radius, end) + polar2xy(opt, end-0.5*np.pi),\r\n",
    "        polar2xy(radius, end),\r\n",
    "        polar2xy(inner, end),\r\n",
    "        polar2xy(inner, end) + polar2xy(opt*(1-width), end-0.5*np.pi),\r\n",
    "        polar2xy(inner, start) + polar2xy(opt*(1-width), start+0.5*np.pi),\r\n",
    "        polar2xy(inner, start),\r\n",
    "        polar2xy(radius, start),\r\n",
    "        ]\r\n",
    "\r\n",
    "    codes = [Path.MOVETO,\r\n",
    "             Path.CURVE4,\r\n",
    "             Path.CURVE4,\r\n",
    "             Path.CURVE4,\r\n",
    "             Path.LINETO,\r\n",
    "             Path.CURVE4,\r\n",
    "             Path.CURVE4,\r\n",
    "             Path.CURVE4,\r\n",
    "             Path.CLOSEPOLY,\r\n",
    "             ]\r\n",
    "\r\n",
    "    if ax == None:\r\n",
    "        return verts, codes\r\n",
    "    else:\r\n",
    "        path = Path(verts, codes)\r\n",
    "        patch = patches.PathPatch(path, facecolor=color+(0.5,), edgecolor=color+(0.4,), lw=LW)\r\n",
    "        ax.add_patch(patch)\r\n",
    "\r\n",
    "\r\n",
    "def ChordArc(start1=0, end1=60, start2=180, end2=240, radius=1.0, chordwidth=0.7, ax=None, color=(1,0,0)):\r\n",
    "    # start, end should be in [0, 360)\r\n",
    "    if start1 > end1:\r\n",
    "        start1, end1 = end1, start1\r\n",
    "    if start2 > end2:\r\n",
    "        start2, end2 = end2, start2\r\n",
    "    start1 *= np.pi/180.\r\n",
    "    end1 *= np.pi/180.\r\n",
    "    start2 *= np.pi/180.\r\n",
    "    end2 *= np.pi/180.\r\n",
    "    opt1 = 4./3. * np.tan((end1-start1)/ 4.) * radius\r\n",
    "    opt2 = 4./3. * np.tan((end2-start2)/ 4.) * radius\r\n",
    "    rchord = radius * (1-chordwidth)\r\n",
    "    verts = [\r\n",
    "        polar2xy(radius, start1),\r\n",
    "        polar2xy(radius, start1) + polar2xy(opt1, start1+0.5*np.pi),\r\n",
    "        polar2xy(radius, end1) + polar2xy(opt1, end1-0.5*np.pi),\r\n",
    "        polar2xy(radius, end1),\r\n",
    "        polar2xy(rchord, end1),\r\n",
    "        polar2xy(rchord, start2),\r\n",
    "        polar2xy(radius, start2),\r\n",
    "        polar2xy(radius, start2) + polar2xy(opt2, start2+0.5*np.pi),\r\n",
    "        polar2xy(radius, end2) + polar2xy(opt2, end2-0.5*np.pi),\r\n",
    "        polar2xy(radius, end2),\r\n",
    "        polar2xy(rchord, end2),\r\n",
    "        polar2xy(rchord, start1),\r\n",
    "        polar2xy(radius, start1),\r\n",
    "        ]\r\n",
    "\r\n",
    "    codes = [Path.MOVETO,\r\n",
    "             Path.CURVE4,\r\n",
    "             Path.CURVE4,\r\n",
    "             Path.CURVE4,\r\n",
    "             Path.CURVE4,\r\n",
    "             Path.CURVE4,\r\n",
    "             Path.CURVE4,\r\n",
    "             Path.CURVE4,\r\n",
    "             Path.CURVE4,\r\n",
    "             Path.CURVE4,\r\n",
    "             Path.CURVE4,\r\n",
    "             Path.CURVE4,\r\n",
    "             Path.CURVE4,\r\n",
    "             ]\r\n",
    "\r\n",
    "    if ax == None:\r\n",
    "        return verts, codes\r\n",
    "    else:\r\n",
    "        path = Path(verts, codes)\r\n",
    "        patch = patches.PathPatch(path, facecolor=color+(0.5,), edgecolor=color+(0.4,), lw=LW)\r\n",
    "        ax.add_patch(patch)\r\n",
    "\r\n",
    "def selfChordArc(start=0, end=60, radius=1.0, chordwidth=0.7, ax=None, color=(1,0,0)):\r\n",
    "    # start, end should be in [0, 360)\r\n",
    "    if start > end:\r\n",
    "        start, end = end, start\r\n",
    "    start *= np.pi/180.\r\n",
    "    end *= np.pi/180.\r\n",
    "    opt = 4./3. * np.tan((end-start)/ 4.) * radius\r\n",
    "    rchord = radius * (1-chordwidth)\r\n",
    "    verts = [\r\n",
    "        polar2xy(radius, start),\r\n",
    "        polar2xy(radius, start) + polar2xy(opt, start+0.5*np.pi),\r\n",
    "        polar2xy(radius, end) + polar2xy(opt, end-0.5*np.pi),\r\n",
    "        polar2xy(radius, end),\r\n",
    "        polar2xy(rchord, end),\r\n",
    "        polar2xy(rchord, start),\r\n",
    "        polar2xy(radius, start),\r\n",
    "        ]\r\n",
    "\r\n",
    "    codes = [Path.MOVETO,\r\n",
    "             Path.CURVE4,\r\n",
    "             Path.CURVE4,\r\n",
    "             Path.CURVE4,\r\n",
    "             Path.CURVE4,\r\n",
    "             Path.CURVE4,\r\n",
    "             Path.CURVE4,\r\n",
    "             ]\r\n",
    "\r\n",
    "    if ax == None:\r\n",
    "        return verts, codes\r\n",
    "    else:\r\n",
    "        path = Path(verts, codes)\r\n",
    "        patch = patches.PathPatch(path, facecolor=color+(0.5,), edgecolor=color+(0.4,), lw=LW)\r\n",
    "        ax.add_patch(patch)\r\n",
    "\r\n",
    "def chordDiagram(X, ax, colors=None, width=0.1, pad=2, chordwidth=0.7):\r\n",
    "    \"\"\"Plot a chord diagram\r\n",
    "    Parameters\r\n",
    "    ----------\r\n",
    "    X :\r\n",
    "        flux data, X[i, j] is the flux from i to j\r\n",
    "    ax :\r\n",
    "        matplotlib `axes` to show the plot\r\n",
    "    colors : optional\r\n",
    "        user defined colors in rgb format. Use function hex2rgb() to convert hex color to rgb color. Default: d3.js category10\r\n",
    "    width : optional\r\n",
    "        width/thickness of the ideogram arc\r\n",
    "    pad : optional\r\n",
    "        gap pad between two neighboring ideogram arcs, unit: degree, default: 2 degree\r\n",
    "    chordwidth : optional\r\n",
    "        position of the control points for the chords, controlling the shape of the chords\r\n",
    "    \"\"\"\r\n",
    "    # X[i, j]:  i -> j\r\n",
    "    x = X.sum(axis = 1) # sum over rows\r\n",
    "    ax.set_xlim(-1.1, 1.1)\r\n",
    "    ax.set_ylim(-1.1, 1.1)\r\n",
    "\r\n",
    "    if colors is None:\r\n",
    "    # use d3.js category10 https://github.com/d3/d3-3.x-api-reference/blob/master/Ordinal-Scales.md#category10\r\n",
    "        colors = ['#1f77b4', '#ff7f0e', '#2ca02c', '#d62728', '#9467bd',\r\n",
    "                  '#8c564b', '#e377c2', '#7f7f7f', '#bcbd22', '#17becf']\r\n",
    "        if len(x) > 10:\r\n",
    "            print('x is too large! Use x smaller than 10')\r\n",
    "        colors = [hex2rgb(colors[i]) for i in range(len(x))]\r\n",
    "\r\n",
    "    # find position for each start and end\r\n",
    "    y = x/np.sum(x).astype(float) * (360 - pad*len(x))\r\n",
    "\r\n",
    "    pos = {}\r\n",
    "    arc = []\r\n",
    "    nodePos = []\r\n",
    "    start = 0\r\n",
    "    for i in range(len(x)):\r\n",
    "        end = start + y[i]\r\n",
    "        arc.append((start, end))\r\n",
    "        angle = 0.5*(start+end)\r\n",
    "        #print(start, end, angle)\r\n",
    "        if -30 <= angle <= 210:\r\n",
    "            angle -= 90\r\n",
    "        else:\r\n",
    "            angle -= 270\r\n",
    "        nodePos.append(tuple(polar2xy(1.1, 0.5*(start+end)*np.pi/180.)) + (angle,))\r\n",
    "        z = (X[i, :]/x[i].astype(float)) * (end - start)\r\n",
    "        ids = np.argsort(z)\r\n",
    "        z0 = start\r\n",
    "        for j in ids:\r\n",
    "            pos[(i, j)] = (z0, z0+z[j])\r\n",
    "            z0 += z[j]\r\n",
    "        start = end + pad\r\n",
    "\r\n",
    "    for i in range(len(x)):\r\n",
    "        start, end = arc[i]\r\n",
    "        IdeogramArc(start=start, end=end, radius=1.0, ax=ax, color=colors[i], width=width)\r\n",
    "        start, end = pos[(i,i)]\r\n",
    "        selfChordArc(start, end, radius=1.-width, color=colors[i], chordwidth=chordwidth*0.7, ax=ax)\r\n",
    "        for j in range(i):\r\n",
    "            color = colors[i]\r\n",
    "            if X[i, j] > X[j, i]:\r\n",
    "                color = colors[j]\r\n",
    "            start1, end1 = pos[(i,j)]\r\n",
    "            start2, end2 = pos[(j,i)]\r\n",
    "            ChordArc(start1, end1, start2, end2,\r\n",
    "                     radius=1.-width, color=colors[i], chordwidth=chordwidth, ax=ax)\r\n",
    "\r\n",
    "    #print(nodePos)\r\n",
    "    return nodePos\r\n",
    "\r\n",
    "##################################\r\n",
    "if __name__ == \"__main__\":\r\n",
    "    fig = plt.figure(figsize=(5,5))\r\n",
    "    flux =  mat\r\n",
    "\r\n",
    "    ax = plt.axes([0,0,1,1])\r\n",
    "\r\n",
    "    nodePos = chordDiagram(flux, ax, colors=[hex2rgb(x) for x in [\r\n",
    " \r\n",
    " '#1d6996', # azul\r\n",
    " '#38a6a5', # azul verdoso\r\n",
    " '#e17c05', # naranja\r\n",
    " '#0f8554', # verde\r\n",
    " '#5f4690', # morado\r\n",
    " '#73af48', # verde claro\r\n",
    " '#edac08', # amarillo\r\n",
    "\r\n",
    " \r\n",
    " ]])\r\n",
    "    #nodePos = chordDiagram(flux, ax)\r\n",
    "    ax.axis('off')\r\n",
    "    prop = dict(fontsize=16*0.8, ha='center', va='center')\r\n",
    "    nodes = names\r\n",
    "    for i in range(7):\r\n",
    "        ax.text(nodePos[i][0], nodePos[i][1], nodes[i], rotation=nodePos[i][2], **prop)\r\n",
    "\r\n",
    "    plt.title('Gráfica 8.1 Combinaciones de violencias mas comunes', size=15)\r\n",
    "\r\n",
    "    plt.savefig(\"../docs/figs/chord.png\", dpi=600,\r\n",
    "            transparent=True,\r\n",
    "            bbox_inches='tight', pad_inches=0.02)"
   ],
   "outputs": [],
   "metadata": {}
  },
  {
   "cell_type": "code",
   "execution_count": null,
   "source": [
    "print(px.colors.qualitative.Prism[:6])"
   ],
   "outputs": [],
   "metadata": {}
  },
  {
   "cell_type": "code",
   "execution_count": null,
   "source": [
    "import plotly.graph_objects as go\r\n",
    "\r\n",
    "x = semujeres.EstadoCivil.value_counts().index\r\n",
    "y = semujeres.EstadoCivil.value_counts().values\r\n",
    "\r\n",
    "# Use textposition='auto' for direct text\r\n",
    "fig = go.Figure(data=[go.Bar(\r\n",
    "            x=x, y=y,\r\n",
    "            text=np.round(y/sum(y)*100,2),\r\n",
    "            textposition='auto',\r\n",
    "        )])\r\n",
    "fig.update_traces(texttemplate='%{text} %')\r\n",
    "#fig.update_xaxes(visible=False, showticklabels=False)\r\n",
    "fig.show()"
   ],
   "outputs": [],
   "metadata": {}
  },
  {
   "cell_type": "code",
   "execution_count": null,
   "source": [
    "y = semujeres.EstadoCivil.value_counts().values\r\n",
    "y_total = sum(y)\r\n",
    "fig = px.bar(x=semujeres.EstadoCivil.value_counts().index,\r\n",
    "            y=semujeres.EstadoCivil.value_counts().values,\r\n",
    "            text= np.round(y/y_total*100,1),\r\n",
    "            labels = {'x': 'Escolaridad', \"y\":'Número de casos', 'text':'Porcentaje'},\r\n",
    "            color=px.colors.qualitative.Prism[:8],\r\n",
    "            color_discrete_map=\"identity\"\r\n",
    "            )\r\n",
    "fig.update_xaxes(type='category')\r\n",
    "#fig.update_layout( xaxis={'categoryorder':'total descending'})\r\n",
    "fig.update_traces(texttemplate='%{text} %')\r\n",
    "#fig.update_xaxes(visible=False, showticklabels=False)\r\n",
    "fig.show()"
   ],
   "outputs": [],
   "metadata": {}
  },
  {
   "cell_type": "code",
   "execution_count": null,
   "source": [],
   "outputs": [],
   "metadata": {}
  }
 ],
 "metadata": {
  "interpreter": {
   "hash": "76e3749c4d8f143b85e17554ce3ae58a0fcf4212a15be7e0134aaba6048266e3"
  },
  "kernelspec": {
   "name": "python3",
   "display_name": "Python 3.8.5 64-bit ('base': conda)"
  },
  "language_info": {
   "codemirror_mode": {
    "name": "ipython",
    "version": 3
   },
   "file_extension": ".py",
   "mimetype": "text/x-python",
   "name": "python",
   "nbconvert_exporter": "python",
   "pygments_lexer": "ipython3",
   "version": "3.8.5"
  }
 },
 "nbformat": 4,
 "nbformat_minor": 2
}