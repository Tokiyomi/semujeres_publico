{
 "cells": [
  {
   "cell_type": "code",
   "execution_count": 44,
   "source": [
    "# Librerias utiles\r\n",
    "import pandas as pd \r\n",
    "import numpy as np \r\n",
    "import matplotlib.pyplot as plt \r\n",
    "import plotly\r\n",
    "import seaborn as sns \r\n",
    "import plotly.express as px\r\n",
    "import missingno as msno\r\n",
    "import plotly.io as pio\r\n",
    "import plotly.graph_objects as go\r\n",
    "from mapsmx import MapsMX\r\n",
    "import geopandas\r\n",
    "import pyproj\r\n",
    "import json\r\n",
    "sns.set_theme()"
   ],
   "outputs": [],
   "metadata": {}
  },
  {
   "cell_type": "code",
   "execution_count": 45,
   "source": [
    "state = MapsMX().get_geo('state')\r\n",
    "muns = MapsMX().get_geo('municipality')\r\n",
    "yuc = muns[muns['cve_ent']=='31']"
   ],
   "outputs": [],
   "metadata": {}
  },
  {
   "cell_type": "code",
   "execution_count": 46,
   "source": [
    "victimas = pd.read_csv('reporte_semujeres_02_SEP_2021.csv',low_memory=False, dtype={'pk_perfil_agresor': 'object','num_hijos':'int64'}, parse_dates=['fecha_recepcion'])"
   ],
   "outputs": [],
   "metadata": {}
  },
  {
   "cell_type": "markdown",
   "source": [
    "## Casos de violencia hacia las mujeres por tipo de violencia (Estatal/Municipal)"
   ],
   "metadata": {}
  },
  {
   "cell_type": "code",
   "execution_count": 47,
   "source": [
    "victimas = pd.concat([victimas, victimas.tipos.str.get_dummies(sep=',')], axis=1)"
   ],
   "outputs": [],
   "metadata": {}
  },
  {
   "cell_type": "code",
   "execution_count": 48,
   "source": [
    "victimas['Feminicida']=0\r\n",
    "fems = victimas[victimas['descripcion_otro_tipos']=='FEMINICIDA'].index\r\n",
    "victimas.loc[fems,'Feminicida'] = 1\r\n",
    "victimas.loc[fems,'Otro'] = 0"
   ],
   "outputs": [],
   "metadata": {}
  },
  {
   "cell_type": "code",
   "execution_count": 50,
   "source": [
    "tipos = victimas.iloc[:,[i for i in range(55,62)]]\r\n",
    "tipos = pd.DataFrame(tipos.sum())\r\n",
    "tipos = tipos.sort_values(0,ascending=False)\r\n",
    "#new_row = pd.Series(data={0:sum(victimas.descripcion_otro_tipos=='FEMINICIDA')}, name='Feminicida')\r\n",
    "#append row to the dataframe\r\n",
    "#tipos = tipos.append(new_row)\r\n",
    "#tipos.loc['Otro',0] = tipos.loc['Otro',0] - tipos.loc['Feminicida',0]\r\n",
    "tipos = tipos.sort_values(0, ascending=False)\r\n",
    "y = tipos[0].values\r\n",
    "y_total = len(victimas)\r\n",
    "fig = px.bar(x=tipos.index,\r\n",
    "            y=tipos[0],\r\n",
    "            text= np.round(y/y_total*100,2),\r\n",
    "            labels = {'x': 'Tipo de violencia', \"y\":'Número de casos', 'text':'Porcentaje'},\r\n",
    "            color=px.colors.qualitative.Prism[:7],\r\n",
    "            color_discrete_map=\"identity\",\r\n",
    "            title='Gráfica 1. Tipos de violencias registradas en {}'.format('Yucatán')\r\n",
    "            )\r\n",
    "fig.update_xaxes(type='category')\r\n",
    "fig.update_layout( xaxis_title=None,  height=500)\r\n",
    "fig.update_traces(texttemplate='%{text} %')\r\n",
    "#fig.update_xaxes(visible=False, showticklabels=False)\r\n",
    "#pio.write_html(fig, file='../docs/figs/g7.html',include_plotlyjs='cdn', full_html=False)\r\n",
    "#print(fig.data[0].hovertemplate)\r\n",
    "fig.update_traces(hovertemplate='Tipo de violencia=%{x}<br>Número de casos=%{y}<br>Porcentaje=%{text} %<extra></extra>')\r\n",
    "fig.show()"
   ],
   "outputs": [
    {
     "output_type": "display_data",
     "data": {
      "application/vnd.plotly.v1+json": {
       "config": {
        "plotlyServerURL": "https://plot.ly"
       },
       "data": [
        {
         "alignmentgroup": "True",
         "hovertemplate": "Tipo de violencia=%{x}<br>Número de casos=%{y}<br>Porcentaje=%{text} %<extra></extra>",
         "legendgroup": "",
         "marker": {
          "color": "rgb(95, 70, 144)",
          "pattern": {
           "shape": ""
          }
         },
         "name": "",
         "offsetgroup": "",
         "orientation": "v",
         "showlegend": false,
         "text": [
          73.36
         ],
         "textposition": "auto",
         "texttemplate": "%{text} %",
         "type": "bar",
         "x": [
          "Psicológica"
         ],
         "xaxis": "x",
         "y": [
          21149
         ],
         "yaxis": "y"
        },
        {
         "alignmentgroup": "True",
         "hovertemplate": "Tipo de violencia=%{x}<br>Número de casos=%{y}<br>Porcentaje=%{text} %<extra></extra>",
         "legendgroup": "",
         "marker": {
          "color": "rgb(29, 105, 150)",
          "pattern": {
           "shape": ""
          }
         },
         "name": "",
         "offsetgroup": "",
         "orientation": "v",
         "showlegend": false,
         "text": [
          46.9
         ],
         "textposition": "auto",
         "texttemplate": "%{text} %",
         "type": "bar",
         "x": [
          "Física"
         ],
         "xaxis": "x",
         "y": [
          13520
         ],
         "yaxis": "y"
        },
        {
         "alignmentgroup": "True",
         "hovertemplate": "Tipo de violencia=%{x}<br>Número de casos=%{y}<br>Porcentaje=%{text} %<extra></extra>",
         "legendgroup": "",
         "marker": {
          "color": "rgb(56, 166, 165)",
          "pattern": {
           "shape": ""
          }
         },
         "name": "",
         "offsetgroup": "",
         "orientation": "v",
         "showlegend": false,
         "text": [
          43.56
         ],
         "textposition": "auto",
         "texttemplate": "%{text} %",
         "type": "bar",
         "x": [
          "Económica"
         ],
         "xaxis": "x",
         "y": [
          12559
         ],
         "yaxis": "y"
        },
        {
         "alignmentgroup": "True",
         "hovertemplate": "Tipo de violencia=%{x}<br>Número de casos=%{y}<br>Porcentaje=%{text} %<extra></extra>",
         "legendgroup": "",
         "marker": {
          "color": "rgb(15, 133, 84)",
          "pattern": {
           "shape": ""
          }
         },
         "name": "",
         "offsetgroup": "",
         "orientation": "v",
         "showlegend": false,
         "text": [
          15.9
         ],
         "textposition": "auto",
         "texttemplate": "%{text} %",
         "type": "bar",
         "x": [
          "Sexual"
         ],
         "xaxis": "x",
         "y": [
          4583
         ],
         "yaxis": "y"
        },
        {
         "alignmentgroup": "True",
         "hovertemplate": "Tipo de violencia=%{x}<br>Número de casos=%{y}<br>Porcentaje=%{text} %<extra></extra>",
         "legendgroup": "",
         "marker": {
          "color": "rgb(115, 175, 72)",
          "pattern": {
           "shape": ""
          }
         },
         "name": "",
         "offsetgroup": "",
         "orientation": "v",
         "showlegend": false,
         "text": [
          15.67
         ],
         "textposition": "auto",
         "texttemplate": "%{text} %",
         "type": "bar",
         "x": [
          "Patrimonial"
         ],
         "xaxis": "x",
         "y": [
          4518
         ],
         "yaxis": "y"
        },
        {
         "alignmentgroup": "True",
         "hovertemplate": "Tipo de violencia=%{x}<br>Número de casos=%{y}<br>Porcentaje=%{text} %<extra></extra>",
         "legendgroup": "",
         "marker": {
          "color": "rgb(237, 173, 8)",
          "pattern": {
           "shape": ""
          }
         },
         "name": "",
         "offsetgroup": "",
         "orientation": "v",
         "showlegend": false,
         "text": [
          2.28
         ],
         "textposition": "auto",
         "texttemplate": "%{text} %",
         "type": "bar",
         "x": [
          "Otro"
         ],
         "xaxis": "x",
         "y": [
          658
         ],
         "yaxis": "y"
        },
        {
         "alignmentgroup": "True",
         "hovertemplate": "Tipo de violencia=%{x}<br>Número de casos=%{y}<br>Porcentaje=%{text} %<extra></extra>",
         "legendgroup": "",
         "marker": {
          "color": "rgb(225, 124, 5)",
          "pattern": {
           "shape": ""
          }
         },
         "name": "",
         "offsetgroup": "",
         "orientation": "v",
         "showlegend": false,
         "text": [
          1.23
         ],
         "textposition": "auto",
         "texttemplate": "%{text} %",
         "type": "bar",
         "x": [
          "Feminicida"
         ],
         "xaxis": "x",
         "y": [
          354
         ],
         "yaxis": "y"
        }
       ],
       "layout": {
        "barmode": "relative",
        "height": 500,
        "legend": {
         "tracegroupgap": 0
        },
        "template": {
         "data": {
          "bar": [
           {
            "error_x": {
             "color": "#2a3f5f"
            },
            "error_y": {
             "color": "#2a3f5f"
            },
            "marker": {
             "line": {
              "color": "#E5ECF6",
              "width": 0.5
             },
             "pattern": {
              "fillmode": "overlay",
              "size": 10,
              "solidity": 0.2
             }
            },
            "type": "bar"
           }
          ],
          "barpolar": [
           {
            "marker": {
             "line": {
              "color": "#E5ECF6",
              "width": 0.5
             },
             "pattern": {
              "fillmode": "overlay",
              "size": 10,
              "solidity": 0.2
             }
            },
            "type": "barpolar"
           }
          ],
          "carpet": [
           {
            "aaxis": {
             "endlinecolor": "#2a3f5f",
             "gridcolor": "white",
             "linecolor": "white",
             "minorgridcolor": "white",
             "startlinecolor": "#2a3f5f"
            },
            "baxis": {
             "endlinecolor": "#2a3f5f",
             "gridcolor": "white",
             "linecolor": "white",
             "minorgridcolor": "white",
             "startlinecolor": "#2a3f5f"
            },
            "type": "carpet"
           }
          ],
          "choropleth": [
           {
            "colorbar": {
             "outlinewidth": 0,
             "ticks": ""
            },
            "type": "choropleth"
           }
          ],
          "contour": [
           {
            "colorbar": {
             "outlinewidth": 0,
             "ticks": ""
            },
            "colorscale": [
             [
              0,
              "#0d0887"
             ],
             [
              0.1111111111111111,
              "#46039f"
             ],
             [
              0.2222222222222222,
              "#7201a8"
             ],
             [
              0.3333333333333333,
              "#9c179e"
             ],
             [
              0.4444444444444444,
              "#bd3786"
             ],
             [
              0.5555555555555556,
              "#d8576b"
             ],
             [
              0.6666666666666666,
              "#ed7953"
             ],
             [
              0.7777777777777778,
              "#fb9f3a"
             ],
             [
              0.8888888888888888,
              "#fdca26"
             ],
             [
              1,
              "#f0f921"
             ]
            ],
            "type": "contour"
           }
          ],
          "contourcarpet": [
           {
            "colorbar": {
             "outlinewidth": 0,
             "ticks": ""
            },
            "type": "contourcarpet"
           }
          ],
          "heatmap": [
           {
            "colorbar": {
             "outlinewidth": 0,
             "ticks": ""
            },
            "colorscale": [
             [
              0,
              "#0d0887"
             ],
             [
              0.1111111111111111,
              "#46039f"
             ],
             [
              0.2222222222222222,
              "#7201a8"
             ],
             [
              0.3333333333333333,
              "#9c179e"
             ],
             [
              0.4444444444444444,
              "#bd3786"
             ],
             [
              0.5555555555555556,
              "#d8576b"
             ],
             [
              0.6666666666666666,
              "#ed7953"
             ],
             [
              0.7777777777777778,
              "#fb9f3a"
             ],
             [
              0.8888888888888888,
              "#fdca26"
             ],
             [
              1,
              "#f0f921"
             ]
            ],
            "type": "heatmap"
           }
          ],
          "heatmapgl": [
           {
            "colorbar": {
             "outlinewidth": 0,
             "ticks": ""
            },
            "colorscale": [
             [
              0,
              "#0d0887"
             ],
             [
              0.1111111111111111,
              "#46039f"
             ],
             [
              0.2222222222222222,
              "#7201a8"
             ],
             [
              0.3333333333333333,
              "#9c179e"
             ],
             [
              0.4444444444444444,
              "#bd3786"
             ],
             [
              0.5555555555555556,
              "#d8576b"
             ],
             [
              0.6666666666666666,
              "#ed7953"
             ],
             [
              0.7777777777777778,
              "#fb9f3a"
             ],
             [
              0.8888888888888888,
              "#fdca26"
             ],
             [
              1,
              "#f0f921"
             ]
            ],
            "type": "heatmapgl"
           }
          ],
          "histogram": [
           {
            "marker": {
             "pattern": {
              "fillmode": "overlay",
              "size": 10,
              "solidity": 0.2
             }
            },
            "type": "histogram"
           }
          ],
          "histogram2d": [
           {
            "colorbar": {
             "outlinewidth": 0,
             "ticks": ""
            },
            "colorscale": [
             [
              0,
              "#0d0887"
             ],
             [
              0.1111111111111111,
              "#46039f"
             ],
             [
              0.2222222222222222,
              "#7201a8"
             ],
             [
              0.3333333333333333,
              "#9c179e"
             ],
             [
              0.4444444444444444,
              "#bd3786"
             ],
             [
              0.5555555555555556,
              "#d8576b"
             ],
             [
              0.6666666666666666,
              "#ed7953"
             ],
             [
              0.7777777777777778,
              "#fb9f3a"
             ],
             [
              0.8888888888888888,
              "#fdca26"
             ],
             [
              1,
              "#f0f921"
             ]
            ],
            "type": "histogram2d"
           }
          ],
          "histogram2dcontour": [
           {
            "colorbar": {
             "outlinewidth": 0,
             "ticks": ""
            },
            "colorscale": [
             [
              0,
              "#0d0887"
             ],
             [
              0.1111111111111111,
              "#46039f"
             ],
             [
              0.2222222222222222,
              "#7201a8"
             ],
             [
              0.3333333333333333,
              "#9c179e"
             ],
             [
              0.4444444444444444,
              "#bd3786"
             ],
             [
              0.5555555555555556,
              "#d8576b"
             ],
             [
              0.6666666666666666,
              "#ed7953"
             ],
             [
              0.7777777777777778,
              "#fb9f3a"
             ],
             [
              0.8888888888888888,
              "#fdca26"
             ],
             [
              1,
              "#f0f921"
             ]
            ],
            "type": "histogram2dcontour"
           }
          ],
          "mesh3d": [
           {
            "colorbar": {
             "outlinewidth": 0,
             "ticks": ""
            },
            "type": "mesh3d"
           }
          ],
          "parcoords": [
           {
            "line": {
             "colorbar": {
              "outlinewidth": 0,
              "ticks": ""
             }
            },
            "type": "parcoords"
           }
          ],
          "pie": [
           {
            "automargin": true,
            "type": "pie"
           }
          ],
          "scatter": [
           {
            "marker": {
             "colorbar": {
              "outlinewidth": 0,
              "ticks": ""
             }
            },
            "type": "scatter"
           }
          ],
          "scatter3d": [
           {
            "line": {
             "colorbar": {
              "outlinewidth": 0,
              "ticks": ""
             }
            },
            "marker": {
             "colorbar": {
              "outlinewidth": 0,
              "ticks": ""
             }
            },
            "type": "scatter3d"
           }
          ],
          "scattercarpet": [
           {
            "marker": {
             "colorbar": {
              "outlinewidth": 0,
              "ticks": ""
             }
            },
            "type": "scattercarpet"
           }
          ],
          "scattergeo": [
           {
            "marker": {
             "colorbar": {
              "outlinewidth": 0,
              "ticks": ""
             }
            },
            "type": "scattergeo"
           }
          ],
          "scattergl": [
           {
            "marker": {
             "colorbar": {
              "outlinewidth": 0,
              "ticks": ""
             }
            },
            "type": "scattergl"
           }
          ],
          "scattermapbox": [
           {
            "marker": {
             "colorbar": {
              "outlinewidth": 0,
              "ticks": ""
             }
            },
            "type": "scattermapbox"
           }
          ],
          "scatterpolar": [
           {
            "marker": {
             "colorbar": {
              "outlinewidth": 0,
              "ticks": ""
             }
            },
            "type": "scatterpolar"
           }
          ],
          "scatterpolargl": [
           {
            "marker": {
             "colorbar": {
              "outlinewidth": 0,
              "ticks": ""
             }
            },
            "type": "scatterpolargl"
           }
          ],
          "scatterternary": [
           {
            "marker": {
             "colorbar": {
              "outlinewidth": 0,
              "ticks": ""
             }
            },
            "type": "scatterternary"
           }
          ],
          "surface": [
           {
            "colorbar": {
             "outlinewidth": 0,
             "ticks": ""
            },
            "colorscale": [
             [
              0,
              "#0d0887"
             ],
             [
              0.1111111111111111,
              "#46039f"
             ],
             [
              0.2222222222222222,
              "#7201a8"
             ],
             [
              0.3333333333333333,
              "#9c179e"
             ],
             [
              0.4444444444444444,
              "#bd3786"
             ],
             [
              0.5555555555555556,
              "#d8576b"
             ],
             [
              0.6666666666666666,
              "#ed7953"
             ],
             [
              0.7777777777777778,
              "#fb9f3a"
             ],
             [
              0.8888888888888888,
              "#fdca26"
             ],
             [
              1,
              "#f0f921"
             ]
            ],
            "type": "surface"
           }
          ],
          "table": [
           {
            "cells": {
             "fill": {
              "color": "#EBF0F8"
             },
             "line": {
              "color": "white"
             }
            },
            "header": {
             "fill": {
              "color": "#C8D4E3"
             },
             "line": {
              "color": "white"
             }
            },
            "type": "table"
           }
          ]
         },
         "layout": {
          "annotationdefaults": {
           "arrowcolor": "#2a3f5f",
           "arrowhead": 0,
           "arrowwidth": 1
          },
          "autotypenumbers": "strict",
          "coloraxis": {
           "colorbar": {
            "outlinewidth": 0,
            "ticks": ""
           }
          },
          "colorscale": {
           "diverging": [
            [
             0,
             "#8e0152"
            ],
            [
             0.1,
             "#c51b7d"
            ],
            [
             0.2,
             "#de77ae"
            ],
            [
             0.3,
             "#f1b6da"
            ],
            [
             0.4,
             "#fde0ef"
            ],
            [
             0.5,
             "#f7f7f7"
            ],
            [
             0.6,
             "#e6f5d0"
            ],
            [
             0.7,
             "#b8e186"
            ],
            [
             0.8,
             "#7fbc41"
            ],
            [
             0.9,
             "#4d9221"
            ],
            [
             1,
             "#276419"
            ]
           ],
           "sequential": [
            [
             0,
             "#0d0887"
            ],
            [
             0.1111111111111111,
             "#46039f"
            ],
            [
             0.2222222222222222,
             "#7201a8"
            ],
            [
             0.3333333333333333,
             "#9c179e"
            ],
            [
             0.4444444444444444,
             "#bd3786"
            ],
            [
             0.5555555555555556,
             "#d8576b"
            ],
            [
             0.6666666666666666,
             "#ed7953"
            ],
            [
             0.7777777777777778,
             "#fb9f3a"
            ],
            [
             0.8888888888888888,
             "#fdca26"
            ],
            [
             1,
             "#f0f921"
            ]
           ],
           "sequentialminus": [
            [
             0,
             "#0d0887"
            ],
            [
             0.1111111111111111,
             "#46039f"
            ],
            [
             0.2222222222222222,
             "#7201a8"
            ],
            [
             0.3333333333333333,
             "#9c179e"
            ],
            [
             0.4444444444444444,
             "#bd3786"
            ],
            [
             0.5555555555555556,
             "#d8576b"
            ],
            [
             0.6666666666666666,
             "#ed7953"
            ],
            [
             0.7777777777777778,
             "#fb9f3a"
            ],
            [
             0.8888888888888888,
             "#fdca26"
            ],
            [
             1,
             "#f0f921"
            ]
           ]
          },
          "colorway": [
           "#636efa",
           "#EF553B",
           "#00cc96",
           "#ab63fa",
           "#FFA15A",
           "#19d3f3",
           "#FF6692",
           "#B6E880",
           "#FF97FF",
           "#FECB52"
          ],
          "font": {
           "color": "#2a3f5f"
          },
          "geo": {
           "bgcolor": "white",
           "lakecolor": "white",
           "landcolor": "#E5ECF6",
           "showlakes": true,
           "showland": true,
           "subunitcolor": "white"
          },
          "hoverlabel": {
           "align": "left"
          },
          "hovermode": "closest",
          "mapbox": {
           "style": "light"
          },
          "paper_bgcolor": "white",
          "plot_bgcolor": "#E5ECF6",
          "polar": {
           "angularaxis": {
            "gridcolor": "white",
            "linecolor": "white",
            "ticks": ""
           },
           "bgcolor": "#E5ECF6",
           "radialaxis": {
            "gridcolor": "white",
            "linecolor": "white",
            "ticks": ""
           }
          },
          "scene": {
           "xaxis": {
            "backgroundcolor": "#E5ECF6",
            "gridcolor": "white",
            "gridwidth": 2,
            "linecolor": "white",
            "showbackground": true,
            "ticks": "",
            "zerolinecolor": "white"
           },
           "yaxis": {
            "backgroundcolor": "#E5ECF6",
            "gridcolor": "white",
            "gridwidth": 2,
            "linecolor": "white",
            "showbackground": true,
            "ticks": "",
            "zerolinecolor": "white"
           },
           "zaxis": {
            "backgroundcolor": "#E5ECF6",
            "gridcolor": "white",
            "gridwidth": 2,
            "linecolor": "white",
            "showbackground": true,
            "ticks": "",
            "zerolinecolor": "white"
           }
          },
          "shapedefaults": {
           "line": {
            "color": "#2a3f5f"
           }
          },
          "ternary": {
           "aaxis": {
            "gridcolor": "white",
            "linecolor": "white",
            "ticks": ""
           },
           "baxis": {
            "gridcolor": "white",
            "linecolor": "white",
            "ticks": ""
           },
           "bgcolor": "#E5ECF6",
           "caxis": {
            "gridcolor": "white",
            "linecolor": "white",
            "ticks": ""
           }
          },
          "title": {
           "x": 0.05
          },
          "xaxis": {
           "automargin": true,
           "gridcolor": "white",
           "linecolor": "white",
           "ticks": "",
           "title": {
            "standoff": 15
           },
           "zerolinecolor": "white",
           "zerolinewidth": 2
          },
          "yaxis": {
           "automargin": true,
           "gridcolor": "white",
           "linecolor": "white",
           "ticks": "",
           "title": {
            "standoff": 15
           },
           "zerolinecolor": "white",
           "zerolinewidth": 2
          }
         }
        },
        "title": {
         "text": "Gráfica 1. Tipos de violencias registradas en Yucatán"
        },
        "xaxis": {
         "anchor": "y",
         "domain": [
          0,
          1
         ],
         "title": {},
         "type": "category"
        },
        "yaxis": {
         "anchor": "x",
         "domain": [
          0,
          1
         ],
         "title": {
          "text": "Número de casos"
         }
        }
       }
      }
     },
     "metadata": {}
    }
   ],
   "metadata": {}
  },
  {
   "cell_type": "code",
   "execution_count": 32,
   "source": [
    "victimas.groupby('municipiohechos')"
   ],
   "outputs": [
    {
     "output_type": "execute_result",
     "data": {
      "text/plain": [
       "<pandas.core.groupby.generic.DataFrameGroupBy object at 0x000001B4E1B85B80>"
      ]
     },
     "metadata": {},
     "execution_count": 32
    }
   ],
   "metadata": {}
  },
  {
   "cell_type": "code",
   "execution_count": 33,
   "source": [
    "victimas"
   ],
   "outputs": [
    {
     "output_type": "execute_result",
     "data": {
      "text/html": [
       "<div>\n",
       "<style scoped>\n",
       "    .dataframe tbody tr th:only-of-type {\n",
       "        vertical-align: middle;\n",
       "    }\n",
       "\n",
       "    .dataframe tbody tr th {\n",
       "        vertical-align: top;\n",
       "    }\n",
       "\n",
       "    .dataframe thead th {\n",
       "        text-align: right;\n",
       "    }\n",
       "</style>\n",
       "<table border=\"1\" class=\"dataframe\">\n",
       "  <thead>\n",
       "    <tr style=\"text-align: right;\">\n",
       "      <th></th>\n",
       "      <th>fk_euv</th>\n",
       "      <th>pk_caso</th>\n",
       "      <th>Dependencia de recepcion</th>\n",
       "      <th>Usuario</th>\n",
       "      <th>nombre</th>\n",
       "      <th>paterno</th>\n",
       "      <th>materno</th>\n",
       "      <th>Nacionalidad</th>\n",
       "      <th>num_hijos</th>\n",
       "      <th>Edad</th>\n",
       "      <th>...</th>\n",
       "      <th>puntaje_trata_del</th>\n",
       "      <th>puntaje_palabras_clave</th>\n",
       "      <th>grupos_riesgo</th>\n",
       "      <th>Económica</th>\n",
       "      <th>Física</th>\n",
       "      <th>Otro</th>\n",
       "      <th>Patrimonial</th>\n",
       "      <th>Psicológica</th>\n",
       "      <th>Sexual</th>\n",
       "      <th>Feminicida</th>\n",
       "    </tr>\n",
       "  </thead>\n",
       "  <tbody>\n",
       "    <tr>\n",
       "      <th>0</th>\n",
       "      <td>3117200003</td>\n",
       "      <td>1</td>\n",
       "      <td>172 - SECRETARÍA DE LAS MUJERES</td>\n",
       "      <td>CYUCPIM03 - THALIA XIOMARA</td>\n",
       "      <td>HEYLI CONCEPCION</td>\n",
       "      <td>BASTO</td>\n",
       "      <td>PECH</td>\n",
       "      <td>Mexicana</td>\n",
       "      <td>2</td>\n",
       "      <td>25</td>\n",
       "      <td>...</td>\n",
       "      <td>2</td>\n",
       "      <td>8</td>\n",
       "      <td>MODERADO</td>\n",
       "      <td>0</td>\n",
       "      <td>0</td>\n",
       "      <td>0</td>\n",
       "      <td>0</td>\n",
       "      <td>1</td>\n",
       "      <td>0</td>\n",
       "      <td>0</td>\n",
       "    </tr>\n",
       "    <tr>\n",
       "      <th>1</th>\n",
       "      <td>3117200004</td>\n",
       "      <td>1</td>\n",
       "      <td>172 - SECRETARÍA DE LAS MUJERES</td>\n",
       "      <td>CYUCPIM03 - THALIA XIOMARA</td>\n",
       "      <td>MELISA GUADALUPE</td>\n",
       "      <td>SOSA</td>\n",
       "      <td>EUAN</td>\n",
       "      <td>Mexicana</td>\n",
       "      <td>2</td>\n",
       "      <td>31</td>\n",
       "      <td>...</td>\n",
       "      <td>2</td>\n",
       "      <td>8</td>\n",
       "      <td>MODERADO</td>\n",
       "      <td>0</td>\n",
       "      <td>0</td>\n",
       "      <td>0</td>\n",
       "      <td>0</td>\n",
       "      <td>1</td>\n",
       "      <td>0</td>\n",
       "      <td>0</td>\n",
       "    </tr>\n",
       "    <tr>\n",
       "      <th>2</th>\n",
       "      <td>3117200007</td>\n",
       "      <td>1</td>\n",
       "      <td>172 - SECRETARÍA DE LAS MUJERES</td>\n",
       "      <td>CYUCPIM03 - THALIA XIOMARA</td>\n",
       "      <td>OFELIA</td>\n",
       "      <td>IRIGOYA</td>\n",
       "      <td>SALAZAR</td>\n",
       "      <td>Mexicana</td>\n",
       "      <td>4</td>\n",
       "      <td>39</td>\n",
       "      <td>...</td>\n",
       "      <td>2</td>\n",
       "      <td>8</td>\n",
       "      <td>MODERADO</td>\n",
       "      <td>1</td>\n",
       "      <td>0</td>\n",
       "      <td>0</td>\n",
       "      <td>0</td>\n",
       "      <td>0</td>\n",
       "      <td>0</td>\n",
       "      <td>0</td>\n",
       "    </tr>\n",
       "    <tr>\n",
       "      <th>3</th>\n",
       "      <td>3117200008</td>\n",
       "      <td>1</td>\n",
       "      <td>172 - SECRETARÍA DE LAS MUJERES</td>\n",
       "      <td>CYUCPIM03 - THALIA XIOMARA</td>\n",
       "      <td>REYES CONCEPCION</td>\n",
       "      <td>CASTRO</td>\n",
       "      <td>DZUL</td>\n",
       "      <td>Mexicana</td>\n",
       "      <td>4</td>\n",
       "      <td>35</td>\n",
       "      <td>...</td>\n",
       "      <td>2</td>\n",
       "      <td>8</td>\n",
       "      <td>MODERADO</td>\n",
       "      <td>1</td>\n",
       "      <td>0</td>\n",
       "      <td>0</td>\n",
       "      <td>0</td>\n",
       "      <td>0</td>\n",
       "      <td>0</td>\n",
       "      <td>0</td>\n",
       "    </tr>\n",
       "    <tr>\n",
       "      <th>4</th>\n",
       "      <td>3117200009</td>\n",
       "      <td>1</td>\n",
       "      <td>172 - SECRETARÍA DE LAS MUJERES</td>\n",
       "      <td>CYUCPIM03 - THALIA XIOMARA</td>\n",
       "      <td>BRENDA SELENE</td>\n",
       "      <td>ORTIZ</td>\n",
       "      <td>LOPEZ</td>\n",
       "      <td>Mexicana</td>\n",
       "      <td>1</td>\n",
       "      <td>35</td>\n",
       "      <td>...</td>\n",
       "      <td>2</td>\n",
       "      <td>8</td>\n",
       "      <td>MODERADO</td>\n",
       "      <td>1</td>\n",
       "      <td>0</td>\n",
       "      <td>0</td>\n",
       "      <td>0</td>\n",
       "      <td>0</td>\n",
       "      <td>1</td>\n",
       "      <td>0</td>\n",
       "    </tr>\n",
       "    <tr>\n",
       "      <th>...</th>\n",
       "      <td>...</td>\n",
       "      <td>...</td>\n",
       "      <td>...</td>\n",
       "      <td>...</td>\n",
       "      <td>...</td>\n",
       "      <td>...</td>\n",
       "      <td>...</td>\n",
       "      <td>...</td>\n",
       "      <td>...</td>\n",
       "      <td>...</td>\n",
       "      <td>...</td>\n",
       "      <td>...</td>\n",
       "      <td>...</td>\n",
       "      <td>...</td>\n",
       "      <td>...</td>\n",
       "      <td>...</td>\n",
       "      <td>...</td>\n",
       "      <td>...</td>\n",
       "      <td>...</td>\n",
       "      <td>...</td>\n",
       "      <td>...</td>\n",
       "    </tr>\n",
       "    <tr>\n",
       "      <th>28824</th>\n",
       "      <td>3117214393</td>\n",
       "      <td>1</td>\n",
       "      <td>172 - SECRETARÍA DE LAS MUJERES</td>\n",
       "      <td>CYUCSM45 - GUADALUPE SARAI</td>\n",
       "      <td>YENI ZOHAR</td>\n",
       "      <td>MAY</td>\n",
       "      <td>TZIB</td>\n",
       "      <td>Mexicana</td>\n",
       "      <td>2</td>\n",
       "      <td>28</td>\n",
       "      <td>...</td>\n",
       "      <td>3</td>\n",
       "      <td>8</td>\n",
       "      <td>MODERADO</td>\n",
       "      <td>0</td>\n",
       "      <td>0</td>\n",
       "      <td>1</td>\n",
       "      <td>0</td>\n",
       "      <td>0</td>\n",
       "      <td>0</td>\n",
       "      <td>0</td>\n",
       "    </tr>\n",
       "    <tr>\n",
       "      <th>28825</th>\n",
       "      <td>3117210316</td>\n",
       "      <td>2</td>\n",
       "      <td>0 - SECRETARÍA DE LAS MUJERES</td>\n",
       "      <td>CYUCSM45 - GUADALUPE SARAI</td>\n",
       "      <td>FATIMA JAZMIN</td>\n",
       "      <td>PACHECO</td>\n",
       "      <td>CANCHE</td>\n",
       "      <td>Mexicana</td>\n",
       "      <td>2</td>\n",
       "      <td>29</td>\n",
       "      <td>...</td>\n",
       "      <td>3</td>\n",
       "      <td>8</td>\n",
       "      <td>MODERADO</td>\n",
       "      <td>0</td>\n",
       "      <td>0</td>\n",
       "      <td>1</td>\n",
       "      <td>0</td>\n",
       "      <td>0</td>\n",
       "      <td>0</td>\n",
       "      <td>0</td>\n",
       "    </tr>\n",
       "    <tr>\n",
       "      <th>28826</th>\n",
       "      <td>3117214394</td>\n",
       "      <td>1</td>\n",
       "      <td>172 - SECRETARÍA DE LAS MUJERES</td>\n",
       "      <td>CYUCSM43 - JESSICA IVETTE</td>\n",
       "      <td>JULIA IVETTE</td>\n",
       "      <td>ORTIZ</td>\n",
       "      <td>PEÑA</td>\n",
       "      <td>Mexicana</td>\n",
       "      <td>4</td>\n",
       "      <td>39</td>\n",
       "      <td>...</td>\n",
       "      <td>3</td>\n",
       "      <td>8</td>\n",
       "      <td>MODERADO</td>\n",
       "      <td>0</td>\n",
       "      <td>0</td>\n",
       "      <td>1</td>\n",
       "      <td>0</td>\n",
       "      <td>0</td>\n",
       "      <td>0</td>\n",
       "      <td>0</td>\n",
       "    </tr>\n",
       "    <tr>\n",
       "      <th>28827</th>\n",
       "      <td>3116905398</td>\n",
       "      <td>2</td>\n",
       "      <td>0 - PODER JUDICIAL</td>\n",
       "      <td>CYUCTSJ04 - MABEL GUADALUPE</td>\n",
       "      <td>GUADALUPE BEATRIZ</td>\n",
       "      <td>MANZANO</td>\n",
       "      <td>CABALLERO</td>\n",
       "      <td>Mexicana</td>\n",
       "      <td>1</td>\n",
       "      <td>43</td>\n",
       "      <td>...</td>\n",
       "      <td>3</td>\n",
       "      <td>8</td>\n",
       "      <td>MODERADO</td>\n",
       "      <td>0</td>\n",
       "      <td>0</td>\n",
       "      <td>1</td>\n",
       "      <td>0</td>\n",
       "      <td>0</td>\n",
       "      <td>0</td>\n",
       "      <td>0</td>\n",
       "    </tr>\n",
       "    <tr>\n",
       "      <th>28828</th>\n",
       "      <td>3116906262</td>\n",
       "      <td>1</td>\n",
       "      <td>169 - FISCALÍA GENERAL DEL ESTADO</td>\n",
       "      <td>CYUCFG27 - MARIA ISABEL</td>\n",
       "      <td>JIMENA DARLINE</td>\n",
       "      <td>DUARTE</td>\n",
       "      <td>PERAZA</td>\n",
       "      <td>Mexicana</td>\n",
       "      <td>0</td>\n",
       "      <td>17</td>\n",
       "      <td>...</td>\n",
       "      <td>3</td>\n",
       "      <td>8</td>\n",
       "      <td>MODERADO</td>\n",
       "      <td>0</td>\n",
       "      <td>0</td>\n",
       "      <td>1</td>\n",
       "      <td>0</td>\n",
       "      <td>0</td>\n",
       "      <td>0</td>\n",
       "      <td>0</td>\n",
       "    </tr>\n",
       "  </tbody>\n",
       "</table>\n",
       "<p>28829 rows × 62 columns</p>\n",
       "</div>"
      ],
      "text/plain": [
       "           fk_euv  pk_caso           Dependencia de recepcion  \\\n",
       "0      3117200003        1    172 - SECRETARÍA DE LAS MUJERES   \n",
       "1      3117200004        1    172 - SECRETARÍA DE LAS MUJERES   \n",
       "2      3117200007        1    172 - SECRETARÍA DE LAS MUJERES   \n",
       "3      3117200008        1    172 - SECRETARÍA DE LAS MUJERES   \n",
       "4      3117200009        1    172 - SECRETARÍA DE LAS MUJERES   \n",
       "...           ...      ...                                ...   \n",
       "28824  3117214393        1    172 - SECRETARÍA DE LAS MUJERES   \n",
       "28825  3117210316        2      0 - SECRETARÍA DE LAS MUJERES   \n",
       "28826  3117214394        1    172 - SECRETARÍA DE LAS MUJERES   \n",
       "28827  3116905398        2                 0 - PODER JUDICIAL   \n",
       "28828  3116906262        1  169 - FISCALÍA GENERAL DEL ESTADO   \n",
       "\n",
       "                           Usuario             nombre  paterno    materno  \\\n",
       "0       CYUCPIM03 - THALIA XIOMARA   HEYLI CONCEPCION    BASTO       PECH   \n",
       "1       CYUCPIM03 - THALIA XIOMARA   MELISA GUADALUPE     SOSA       EUAN   \n",
       "2       CYUCPIM03 - THALIA XIOMARA             OFELIA  IRIGOYA    SALAZAR   \n",
       "3       CYUCPIM03 - THALIA XIOMARA   REYES CONCEPCION   CASTRO       DZUL   \n",
       "4       CYUCPIM03 - THALIA XIOMARA      BRENDA SELENE    ORTIZ      LOPEZ   \n",
       "...                            ...                ...      ...        ...   \n",
       "28824   CYUCSM45 - GUADALUPE SARAI         YENI ZOHAR      MAY       TZIB   \n",
       "28825   CYUCSM45 - GUADALUPE SARAI      FATIMA JAZMIN  PACHECO     CANCHE   \n",
       "28826    CYUCSM43 - JESSICA IVETTE       JULIA IVETTE    ORTIZ       PEÑA   \n",
       "28827  CYUCTSJ04 - MABEL GUADALUPE  GUADALUPE BEATRIZ  MANZANO  CABALLERO   \n",
       "28828      CYUCFG27 - MARIA ISABEL     JIMENA DARLINE   DUARTE     PERAZA   \n",
       "\n",
       "      Nacionalidad  num_hijos  Edad  ... puntaje_trata_del  \\\n",
       "0         Mexicana          2    25  ...                 2   \n",
       "1         Mexicana          2    31  ...                 2   \n",
       "2         Mexicana          4    39  ...                 2   \n",
       "3         Mexicana          4    35  ...                 2   \n",
       "4         Mexicana          1    35  ...                 2   \n",
       "...            ...        ...   ...  ...               ...   \n",
       "28824     Mexicana          2    28  ...                 3   \n",
       "28825     Mexicana          2    29  ...                 3   \n",
       "28826     Mexicana          4    39  ...                 3   \n",
       "28827     Mexicana          1    43  ...                 3   \n",
       "28828     Mexicana          0    17  ...                 3   \n",
       "\n",
       "      puntaje_palabras_clave grupos_riesgo Económica Física Otro Patrimonial  \\\n",
       "0                          8      MODERADO         0      0    0           0   \n",
       "1                          8      MODERADO         0      0    0           0   \n",
       "2                          8      MODERADO         1      0    0           0   \n",
       "3                          8      MODERADO         1      0    0           0   \n",
       "4                          8      MODERADO         1      0    0           0   \n",
       "...                      ...           ...       ...    ...  ...         ...   \n",
       "28824                      8      MODERADO         0      0    1           0   \n",
       "28825                      8      MODERADO         0      0    1           0   \n",
       "28826                      8      MODERADO         0      0    1           0   \n",
       "28827                      8      MODERADO         0      0    1           0   \n",
       "28828                      8      MODERADO         0      0    1           0   \n",
       "\n",
       "      Psicológica Sexual Feminicida  \n",
       "0               1      0          0  \n",
       "1               1      0          0  \n",
       "2               0      0          0  \n",
       "3               0      0          0  \n",
       "4               0      1          0  \n",
       "...           ...    ...        ...  \n",
       "28824           0      0          0  \n",
       "28825           0      0          0  \n",
       "28826           0      0          0  \n",
       "28827           0      0          0  \n",
       "28828           0      0          0  \n",
       "\n",
       "[28829 rows x 62 columns]"
      ]
     },
     "metadata": {},
     "execution_count": 33
    }
   ],
   "metadata": {}
  },
  {
   "cell_type": "code",
   "execution_count": null,
   "source": [],
   "outputs": [],
   "metadata": {}
  }
 ],
 "metadata": {
  "orig_nbformat": 4,
  "language_info": {
   "name": "python",
   "version": "3.8.5",
   "mimetype": "text/x-python",
   "codemirror_mode": {
    "name": "ipython",
    "version": 3
   },
   "pygments_lexer": "ipython3",
   "nbconvert_exporter": "python",
   "file_extension": ".py"
  },
  "kernelspec": {
   "name": "python3",
   "display_name": "Python 3.8.5 64-bit ('base': conda)"
  },
  "interpreter": {
   "hash": "76e3749c4d8f143b85e17554ce3ae58a0fcf4212a15be7e0134aaba6048266e3"
  }
 },
 "nbformat": 4,
 "nbformat_minor": 2
}