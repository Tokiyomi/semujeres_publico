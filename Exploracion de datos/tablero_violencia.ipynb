{
 "cells": [
  {
   "cell_type": "code",
   "execution_count": null,
   "metadata": {},
   "outputs": [],
   "source": [
    "# Librerias utiles\n",
    "import pandas as pd \n",
    "import numpy as np \n",
    "import matplotlib.pyplot as plt \n",
    "import plotly\n",
    "import seaborn as sns \n",
    "import plotly.express as px\n",
    "import missingno as msno\n",
    "import plotly.io as pio\n",
    "import plotly.graph_objects as go\n",
    "from mapsmx import MapsMX\n",
    "import geopandas\n",
    "import pyproj\n",
    "import json\n",
    "sns.set_theme()"
   ]
  },
  {
   "cell_type": "code",
   "execution_count": null,
   "metadata": {},
   "outputs": [],
   "source": [
    "state = MapsMX().get_geo('state')\n",
    "muns = MapsMX().get_geo('municipality')\n",
    "yuc = muns[muns['cve_ent']=='31']"
   ]
  },
  {
   "cell_type": "code",
   "execution_count": null,
   "metadata": {},
   "outputs": [],
   "source": [
    "feminicidios = pd.read_csv('../BD-sucias/feminicidios-corregida.csv', low_memory=False)\n",
    "feminicidios.fecha_recepcion = pd.to_datetime(feminicidios.fecha_recepcion, format='%d/%m/%Y', errors='ignore')\n",
    "feminicidios['año_recepcion'] = feminicidios['fecha_recepcion'].dt.year\n",
    "nas = feminicidios[(feminicidios.TipoRelacion.isna()==True)|(feminicidios.TipoRelacion=='Seleccione')].index\n",
    "feminicidios.loc[nas,'TipoRelacion'] = 'Desconocido'\n",
    "com = feminicidios[(feminicidios.TipoRelacion=='En la comunidad')].index\n",
    "feminicidios.loc[com,'TipoRelacion'] = 'Comunidad'\n",
    "#euv_feminicidios = feminicidios.fk_euv.unique()"
   ]
  },
  {
   "cell_type": "code",
   "execution_count": null,
   "metadata": {},
   "outputs": [],
   "source": [
    "servicios = pd.read_csv('../BD-sucias/servicios_18_OCTUBRE_2021.csv', low_memory=False)"
   ]
  },
  {
   "cell_type": "code",
   "execution_count": null,
   "metadata": {},
   "outputs": [],
   "source": [
    "victimas = pd.read_csv('reportes/reporte_semujeres_18_OCTUBRE_2021.csv',low_memory=False, dtype={'pk_perfil_agresor': 'object','num_hijos':'int32'}, parse_dates=['fecha_recepcion','fecha_hechos'])"
   ]
  },
  {
   "cell_type": "code",
   "execution_count": null,
   "metadata": {},
   "outputs": [],
   "source": [
    "subtipo = pd.read_csv('../BD-sucias/subtipo_18_OCTUBRE_2021.csv', low_memory=False)\n",
    "subtipo.fecha_recepcion = pd.to_datetime(subtipo.fecha_recepcion, format='%d/%m/%Y', errors='ignore')\n",
    "subtipo.fecha_hechos = pd.to_datetime(subtipo.fecha_hechos, format='%d/%m/%Y', errors='ignore')\n",
    "subtipo = subtipo.dropna()\n",
    "selecciones = subtipo[subtipo.SubtipoOrd=='Seleccione'].index\n",
    "subtipo.loc[selecciones, 'SubtipoOrd'] = 'No especificado'"
   ]
  },
  {
   "cell_type": "markdown",
   "metadata": {},
   "source": [
    "## Casos de violencia hacia las mujeres por tipo de violencia (Estatal/Municipal)"
   ]
  },
  {
   "cell_type": "code",
   "execution_count": null,
   "metadata": {},
   "outputs": [],
   "source": [
    "victimas = pd.concat([victimas, victimas.tipos.str.get_dummies(sep=',')], axis=1)"
   ]
  },
  {
   "cell_type": "code",
   "execution_count": null,
   "metadata": {},
   "outputs": [],
   "source": [
    "victimas['Feminicida']=0\n",
    "fems = victimas[victimas['descripcion_otro_tipos']=='FEMINICIDA'].index\n",
    "victimas.loc[fems,'Feminicida'] = 1\n",
    "victimas.loc[fems,'Otro'] = 0"
   ]
  },
  {
   "cell_type": "code",
   "execution_count": null,
   "metadata": {},
   "outputs": [],
   "source": [
    "victimas.info()"
   ]
  },
  {
   "cell_type": "code",
   "execution_count": null,
   "metadata": {},
   "outputs": [],
   "source": [
    "tipos = victimas.iloc[:,[i for i in range(42,49)]]\n",
    "tipos = pd.DataFrame(tipos.sum())\n",
    "tipos = tipos.sort_values(0,ascending=False)\n",
    "#new_row = pd.Series(data={0:sum(victimas.descripcion_otro_tipos=='FEMINICIDA')}, name='Feminicida')\n",
    "#append row to the dataframe\n",
    "#tipos = tipos.append(new_row)\n",
    "#tipos.loc['Otro',0] = tipos.loc['Otro',0] - tipos.loc['Feminicida',0]\n",
    "tipos = tipos.sort_values(0, ascending=False)\n",
    "y = tipos[0].values\n",
    "y_total = len(victimas)\n",
    "fig = px.bar(x=tipos.index,\n",
    "            y=tipos[0],\n",
    "            text= np.round(y/y_total*100,2),\n",
    "            labels = {'x': 'Tipo de violencia', \"y\":'Número de casos', 'text':'Porcentaje'},\n",
    "            color=px.colors.qualitative.Prism[:7],\n",
    "            color_discrete_map=\"identity\",\n",
    "            title='Gráfica 1. Casos de violencia hacia las mujeres por tipo de violencia'\n",
    "            )\n",
    "fig.update_xaxes(type='category')\n",
    "fig.update_layout( xaxis_title=None,  height=500)\n",
    "fig.update_traces(texttemplate='%{text} %')\n",
    "#fig.update_xaxes(visible=False, showticklabels=False)\n",
    "pio.write_html(fig, file='../docs/figs/indicador_municipal_barras_violencias.html.html',include_plotlyjs='cdn', full_html=False)\n",
    "#print(fig.data[0].hovertemplate)\n",
    "fig.update_traces(hovertemplate='Tipo de violencia=%{x}<br>Número de casos=%{y}<br>Porcentaje=%{text} %<extra></extra>')\n",
    "fig.show()"
   ]
  },
  {
   "cell_type": "code",
   "execution_count": null,
   "metadata": {},
   "outputs": [],
   "source": [
    "victimas_2020 = victimas[victimas.año_recepcion==2020]"
   ]
  },
  {
   "cell_type": "code",
   "execution_count": null,
   "metadata": {},
   "outputs": [],
   "source": [
    "victimas_2019 = victimas[victimas.año_recepcion==2019]"
   ]
  },
  {
   "cell_type": "code",
   "execution_count": null,
   "metadata": {},
   "outputs": [],
   "source": [
    "# censo poblacion y vivienda 2020 inegi\n",
    "inegi_2020 = pd.read_csv('censo_yuc.csv')\n",
    "pob_fem = inegi_2020[inegi_2020.NOM_LOC=='Total del Municipio'][['MUN','NOM_MUN','POBFEM' ]].reset_index(drop=True)"
   ]
  },
  {
   "cell_type": "code",
   "execution_count": null,
   "metadata": {},
   "outputs": [],
   "source": [
    "feminicidios = feminicidios.merge(victimas[['fk_euv','Edad Agresor']], left_on='fk_euv', right_on='fk_euv', how='left')\n",
    "feminicidios = feminicidios.drop_duplicates(keep='last')\n",
    "feminicidios = feminicidios.reset_index(drop=True)"
   ]
  },
  {
   "cell_type": "code",
   "execution_count": null,
   "metadata": {},
   "outputs": [],
   "source": [
    "feminicidios_sent = feminicidios[feminicidios.Sentencia.str.contains(\"TENTATIVA\")==False]\n",
    "tentativas_sent = feminicidios[feminicidios.Sentencia.str.contains(\"TENTATIVA\")==True]"
   ]
  },
  {
   "cell_type": "code",
   "execution_count": null,
   "metadata": {},
   "outputs": [],
   "source": [
    "fem_mun = feminicidios_sent.municipioV.value_counts()\n",
    "fem_mun = yuc[['geometry_mun','nom_mun']].merge(fem_mun, right_on=fem_mun.index, left_on='nom_mun', how='left')\n",
    "fem_mun.fillna(0,inplace=True)\n",
    "fem_mun.municipioV = fem_mun.municipioV.astype(int)\n",
    "\n",
    "fem_mun_tent = tentativas_sent.municipioV.value_counts()\n",
    "fem_mun_tent = yuc[['geometry_mun','nom_mun']].merge(fem_mun_tent, right_on=fem_mun_tent.index, left_on='nom_mun', how='left')\n",
    "fem_mun_tent.fillna(0,inplace=True)\n",
    "fem_mun_tent.municipioV = fem_mun_tent.municipioV.astype(int)"
   ]
  },
  {
   "cell_type": "code",
   "execution_count": null,
   "metadata": {},
   "outputs": [],
   "source": [
    "import re\n",
    "def mayusculas(s):\n",
    "    return ' '.join([i.strip() for i in re.findall('[A-Z][^A-Z]*', s)])"
   ]
  },
  {
   "cell_type": "code",
   "execution_count": null,
   "metadata": {},
   "outputs": [],
   "source": [
    "def numeros(n):\n",
    "    return ', '.join(n.split('.0'))"
   ]
  },
  {
   "cell_type": "code",
   "execution_count": null,
   "metadata": {},
   "outputs": [],
   "source": [
    "def tokenize(s):\n",
    "    temp = s.sub(',','')\n",
    "    return ', '.join(temp)"
   ]
  },
  {
   "cell_type": "code",
   "execution_count": null,
   "metadata": {},
   "outputs": [],
   "source": [
    "def unir_unicos(s):\n",
    "    return ', '.join(set(s))"
   ]
  },
  {
   "cell_type": "code",
   "execution_count": null,
   "metadata": {},
   "outputs": [],
   "source": [
    "def unir_resto(s):\n",
    "    return ', '.join(set(s.split(' ')))"
   ]
  },
  {
   "cell_type": "code",
   "execution_count": null,
   "metadata": {},
   "outputs": [],
   "source": [
    "feminicidios.Sentencia.value_counts()"
   ]
  },
  {
   "cell_type": "code",
   "execution_count": null,
   "metadata": {},
   "outputs": [],
   "source": [
    "merged = fem_mun.merge(feminicidios_sent[['EdadVictima','Edad Agresor','tipos','año_recepcion','TipoRelacion','pk_perfil_agresor','municipioV']], left_on='nom_mun', right_on='municipioV', how='left')\n",
    "#merged.fillna(0,inplace=True)\n",
    "merged = merged.replace(np.nan, '').astype(str)\n",
    "merged[merged.notnull()] = merged[merged.notnull()].astype(object)\n",
    "#merged.pk_perfil_agresor = merged.pk_perfil_agresor.astype(object)\n",
    "merged.drop(columns='municipioV_y',inplace=True)\n",
    "merged = merged[['nom_mun','EdadVictima','Edad Agresor','tipos','año_recepcion','TipoRelacion','pk_perfil_agresor']].groupby('nom_mun').sum()\n",
    "\n",
    "merged.TipoRelacion=merged.TipoRelacion.apply(lambda x: mayusculas(x))\n",
    "merged.tipos=merged.tipos.apply(lambda x: mayusculas(x))\n",
    "merged.EdadVictima=merged.EdadVictima.apply(lambda x: numeros(x))\n",
    "merged['Edad Agresor']=merged['Edad Agresor'].apply(lambda x: numeros(x))\n",
    "merged.pk_perfil_agresor=merged.pk_perfil_agresor.apply(lambda x: numeros(x))\n",
    "merged.año_recepcion=merged.año_recepcion.apply(lambda x: numeros(x))\n",
    "merged = merged.replace(',','', regex=True)\n",
    "\n",
    "\n",
    "merged.tipos = merged.tipos.str.split()\n",
    "merged.tipos = merged.tipos.apply(lambda x: unir_unicos(x))\n",
    "merged.EdadVictima = merged.EdadVictima.apply(lambda x: unir_resto(x))\n",
    "merged['Edad Agresor'] = merged['Edad Agresor'].apply(lambda x: unir_resto(x))\n",
    "merged.TipoRelacion = merged.TipoRelacion.apply(lambda x: unir_resto(x))\n",
    "merged.pk_perfil_agresor = merged.pk_perfil_agresor.apply(lambda x: unir_resto(x))\n",
    "merged.año_recepcion = merged.año_recepcion.apply(lambda x: unir_resto(x))\n",
    "\n",
    "test = merged.EdadVictima.apply(lambda x: x.split(', '))\n",
    "merged['len'] = test.apply(lambda x: len([int(i) for i in x if i.isdigit()==True]))\n",
    "test = test.apply(lambda x: sum([int(i) for i in x if i.isdigit()==True]))\n",
    "merged['EdadVictima'] = round(test.values/merged.len)\n",
    "\n",
    "test = merged['Edad Agresor'].apply(lambda x: x.split(', '))\n",
    "merged['len'] = test.apply(lambda x: len([int(i) for i in x if i.isdigit()==True]))\n",
    "test = test.apply(lambda x: sum([int(i) for i in x if i.isdigit()==True]))\n",
    "merged['Edad Agresor'] = round(test.values/merged.len)\n",
    "\n",
    "merged = merged.replace(np.nan, '').astype(str)\n",
    "merged = merged.replace('0.0', 'Sin datos').astype(str)\n",
    "#merged['EdadVictima'].values\n",
    "#merged.to_csv('test.csv', encoding='utf-8-sig')\n",
    "\n",
    "fem_mun = fem_mun.merge(merged, left_on='nom_mun', right_on=merged.index, how='left')\n",
    "fem_mun.fillna('', inplace=True)\n",
    "\n",
    "fem_mun = fem_mun.merge(pob_fem[['NOM_MUN','POBFEM']], left_on='nom_mun', right_on='NOM_MUN', how='left')\n",
    "\n",
    "fem_mun['bins']=pd.cut(fem_mun[\"municipioV\"],\n",
    "       bins=[-1, 0.5, 1.5, 2.5,np.inf], \n",
    "       labels=['0','1','2','3 o más'])\n",
    "\n",
    "gdf = geopandas.GeoDataFrame(fem_mun, geometry='geometry_mun')\n",
    "gdf = gdf.set_index('nom_mun')\n",
    "gdf = gdf.to_crs(pyproj.CRS.from_epsg(4326))"
   ]
  },
  {
   "cell_type": "code",
   "execution_count": null,
   "metadata": {},
   "outputs": [],
   "source": [
    "merged = fem_mun_tent.merge(tentativas_sent[['EdadVictima','Edad Agresor','tipos','año_recepcion','TipoRelacion','pk_perfil_agresor','municipioV']], left_on='nom_mun', right_on='municipioV', how='left')\n",
    "#merged.fillna(0,inplace=True)\n",
    "merged = merged.replace(np.nan, '').astype(str)\n",
    "merged[merged.notnull()] = merged[merged.notnull()].astype(object)\n",
    "#merged.pk_perfil_agresor = merged.pk_perfil_agresor.astype(object)\n",
    "merged.drop(columns='municipioV_y',inplace=True)\n",
    "merged = merged[['nom_mun','EdadVictima','Edad Agresor','tipos','año_recepcion','TipoRelacion','pk_perfil_agresor']].groupby('nom_mun').sum()\n",
    "\n",
    "merged.TipoRelacion=merged.TipoRelacion.apply(lambda x: mayusculas(x))\n",
    "merged.tipos=merged.tipos.apply(lambda x: mayusculas(x))\n",
    "merged.EdadVictima=merged.EdadVictima.apply(lambda x: numeros(x))\n",
    "merged['Edad Agresor']=merged['Edad Agresor'].apply(lambda x: numeros(x))\n",
    "merged.pk_perfil_agresor=merged.pk_perfil_agresor.apply(lambda x: numeros(x))\n",
    "merged.año_recepcion=merged.año_recepcion.apply(lambda x: numeros(x))\n",
    "merged = merged.replace(',','', regex=True)\n",
    "\n",
    "\n",
    "merged.tipos = merged.tipos.str.split()\n",
    "merged.tipos = merged.tipos.apply(lambda x: unir_unicos(x))\n",
    "merged.EdadVictima = merged.EdadVictima.apply(lambda x: unir_resto(x))\n",
    "merged['Edad Agresor'] = merged['Edad Agresor'].apply(lambda x: unir_resto(x))\n",
    "merged.TipoRelacion = merged.TipoRelacion.apply(lambda x: unir_resto(x))\n",
    "merged.pk_perfil_agresor = merged.pk_perfil_agresor.apply(lambda x: unir_resto(x))\n",
    "merged.año_recepcion = merged.año_recepcion.apply(lambda x: unir_resto(x))\n",
    "\n",
    "test = merged.EdadVictima.apply(lambda x: x.split(', '))\n",
    "merged['len'] = test.apply(lambda x: len([int(i) for i in x if i.isdigit()==True]))\n",
    "test = test.apply(lambda x: sum([int(i) for i in x if i.isdigit()==True]))\n",
    "merged['EdadVictima'] = round(test.values/merged.len)\n",
    "\n",
    "test = merged['Edad Agresor'].apply(lambda x: x.split(', '))\n",
    "merged['len'] = test.apply(lambda x: len([int(i) for i in x if i.isdigit()==True]))\n",
    "test = test.apply(lambda x: sum([int(i) for i in x if i.isdigit()==True]))\n",
    "merged['Edad Agresor'] = round(test.values/merged.len)\n",
    "\n",
    "merged = merged.replace(np.nan, '').astype(str)\n",
    "merged = merged.replace('0.0', 'Sin datos').astype(str)\n",
    "#merged['EdadVictima'].values\n",
    "#merged.to_csv('test.csv', encoding='utf-8-sig')\n",
    "\n",
    "fem_mun_tent = fem_mun_tent.merge(merged, left_on='nom_mun', right_on=merged.index, how='left')\n",
    "fem_mun_tent.fillna('', inplace=True)\n",
    "\n",
    "fem_mun_tent =fem_mun_tent.merge(pob_fem[['NOM_MUN','POBFEM']], left_on='nom_mun', right_on='NOM_MUN', how='left')\n",
    "\n",
    "fem_mun_tent['bins']=pd.cut(fem_mun_tent[\"municipioV\"],\n",
    "       bins=[-1, 0.5, 1.5, 2.5,np.inf], \n",
    "       labels=['0','1','2','2 o más'])\n",
    "\n",
    "gdf_tent = geopandas.GeoDataFrame(fem_mun_tent, geometry='geometry_mun')\n",
    "gdf_tent = gdf_tent.set_index('nom_mun')\n",
    "gdf_tent = gdf_tent.to_crs(pyproj.CRS.from_epsg(4326))"
   ]
  },
  {
   "cell_type": "code",
   "execution_count": null,
   "metadata": {},
   "outputs": [],
   "source": [
    "# colores\n",
    "colors = px.colors.qualitative.Prism[4:8]"
   ]
  },
  {
   "cell_type": "code",
   "execution_count": null,
   "metadata": {},
   "outputs": [],
   "source": [
    "\"\"\"fig = px.choropleth_mapbox(gdf, geojson=gdf.geometry_mun, \n",
    "                    locations=gdf.index, color='bins',\n",
    "                    #color_continuous_scale=\"Viridis\",\n",
    "                    color_discrete_sequence=colors,\n",
    "                    labels = {'bins':'Núm. Víctimas' ,'nom_mun':'Municipio', 'municipioV':'Víctimas', 'Edad Agresor':'Edad Promedio Agresores','EdadVictima':'Edad Promedio Víctimas','tipos':'Violencias','año_recepcion':'Años','TipoRelacion':'Vínculo con agresor','pk_perfil_agresor':'pk agresor'},\n",
    "                    hover_data={ 'bins':True ,\"municipioV\":True,'EdadVictima':True, 'Edad Agresor':True , 'tipos':True,'año_recepcion':True,'TipoRelacion':True,'pk_perfil_agresor':False},\n",
    "                    title='Mapa 3. Feminicidios Registrados por Municipio',\n",
    "                    #color_continuous_midpoint=np.average(gdf['municipioV'], weights=gdf['POBFEM'].astype(int)),\n",
    "                    center={\"lat\": 20.400417, \"lon\": -89.134857},\n",
    "                    mapbox_style=\"carto-positron\", \n",
    "                    zoom=7.5,\n",
    "                    #opacity=0.5,\n",
    "                    )\n",
    "fig.update_geos(fitbounds=\"locations\", visible=False)\n",
    "\n",
    "#fig.update_layout(xaxis=dict(domain=[0, 0.5]), yaxis=dict(domain=[0.25, 0.75]))\n",
    "\n",
    "fig.add_annotation(\n",
    "    # The arrow head will be 25% along the x axis, starting from the left\n",
    "    x=0,\n",
    "    # The arrow head will be 40% along the y axis, starting from the bottom\n",
    "    y=0.98,\n",
    "    text=\"<b>Temporalidad:</b> {}-{}<br><b>Total de casos:</b> {}\".format(min(feminicidios.año_recepcion),max(feminicidios.año_recepcion),(gdf.municipioV.sum())),\n",
    "    showarrow=False,\n",
    "    bordercolor=\"black\",\n",
    "    bgcolor=\"white\",\n",
    "    borderwidth=1.5,\n",
    "    opacity=0.8\n",
    ")\n",
    "\n",
    "fig.update(layout = dict(title=dict(x=0.5)))\n",
    "fig.update_layout(\n",
    "    margin={\"r\":0,\"t\":30,\"l\":10,\"b\":10},\n",
    "    coloraxis_colorbar={\n",
    "        'title':'Log10'})\n",
    "fig.update_layout(title_y=1, title_x=0)\n",
    "fig.update_layout(coloraxis_showscale=True)\n",
    "#pio.write_html(fig, file='../docs/figs/indicador_municipal_mapa_feminicidios_escalado.html', include_plotlyjs='cdn', full_html=False)\n",
    "fig.show()\"\"\""
   ]
  },
  {
   "cell_type": "code",
   "execution_count": null,
   "metadata": {},
   "outputs": [],
   "source": [
    "# fem y tent\n",
    "cols_dd = ['Feminicidios','Tentativas']\n",
    "# we need to add this to select which trace \n",
    "# is going to be visible\n",
    "visible = np.array(cols_dd)\n",
    "\n",
    "poly_json = json.loads(gdf.geometry_mun.to_json())\n",
    "\n",
    "# define traces and buttons at once\n",
    "traces = []\n",
    "buttons = []\n",
    "\n",
    "# Agregar mapa general\n",
    "traces.append(go.Choroplethmapbox(\n",
    "        geojson=poly_json,\n",
    "        locations=gdf.index, # Spatial coordinates\n",
    "        z=gdf['municipioV'], # Data to be color-coded\n",
    "        colorscale=[[0, colors[0]],[0.25, colors[0]],\n",
    "        [0.25, colors[1]],[0.5, colors[1]],\n",
    "        [0.5, colors[2]],[0.75, colors[2]],\n",
    "        [0.75, colors[3]], [1, colors[3]],],\n",
    "        zmin=0, zmax=3,\n",
    "        colorbar=dict(\n",
    "        title=\"Núm. Víctimas<br>\",\n",
    "        titleside=\"top\",\n",
    "        tickmode=\"array\",\n",
    "        tickvals=[0.375, 1.125, 1.875, 2.625],\n",
    "        ticktext=[\"0\", \"1\", \"2\", \"3 o más\"],\n",
    "        ticks=\"outside\"\n",
    "        ),\n",
    "        #colorbar_title='Casos',\n",
    "        name='Feminicidios',\n",
    "        #hoverlabel={'Tasa 1000 Total':False},\n",
    "        #hovertemplate = \"Mun_x: %{z}<br>Ola: %{customdata[0]}<br>Fin: %{customdata[-1]}\",\n",
    "        #text = gdf['text_total'], # hover text\n",
    "        text = gdf.index, # hover text\n",
    "        customdata=np.stack([gdf['TipoRelacion'], gdf['EdadVictima'], gdf['Edad Agresor'], gdf['tipos'], gdf['año_recepcion'], gdf['TipoRelacion']], axis=-1),\n",
    "        hovertemplate='<b>%{text}</b>'+ '<br>' +'Número de Víctimas: ' + '%{z}' +  '<br>' +'Promedio Edad Víctimas: ' \n",
    "        + '%{customdata[1]}' +'<br>Promedio Edad Agresores: ' + '%{customdata[2]}'+'<br>Tipos de violencia: ' + '%{customdata[3]}'\n",
    "        +'<br>Año de recepción del caso: ' + '%{customdata[4]}' + '<br>Vínculo con el agresor: ' + '%{customdata[5]}',\n",
    "        visible= True\n",
    "        ))\n",
    "\n",
    "buttons.append(dict(label='Feminicidios',\n",
    "                    method=\"update\",\n",
    "                    args=[{\"visible\":list(visible=='Feminicidios')},\n",
    "                            {\"title\":f\"Mapa 2. Feminicidios y Tentativas Registrados por Municipio\"}]))\n",
    "\n",
    "poly_json = json.loads(gdf_tent.geometry_mun.to_json())\n",
    "# Agregar mapa general\n",
    "traces.append(go.Choroplethmapbox(\n",
    "        geojson=poly_json,\n",
    "        locations=gdf_tent.index, # Spatial coordinates\n",
    "        z=gdf_tent['municipioV'], # Data to be color-coded\n",
    "        colorscale=[[0, colors[0]],[0.25, colors[0]],\n",
    "        [0.25, colors[1]],[0.5, colors[1]],\n",
    "        [0.5, colors[2]],[0.75, colors[2]],\n",
    "        [0.75, colors[3]], [1, colors[3]],],\n",
    "        zmin=0, zmax=3,\n",
    "        colorbar=dict(\n",
    "        title=\"Núm. Víctimas<br>\",\n",
    "        titleside=\"top\",\n",
    "        tickmode=\"array\",\n",
    "        tickvals=[0.375, 1.125, 1.875, 2.625],\n",
    "        ticktext=[\"0\", \"1\", \"2\", \"3 o más\"],\n",
    "        ticks=\"outside\"\n",
    "        ),\n",
    "        #colorbar_title='Casos',\n",
    "        name='Tentativas',\n",
    "        #hoverlabel={'Tasa 1000 Total':False},\n",
    "        #hovertemplate = \"Mun_x: %{z}<br>Ola: %{customdata[0]}<br>Fin: %{customdata[-1]}\",\n",
    "        #text = gdf['text_total'], # hover text\n",
    "        text = gdf_tent.index, # hover text\n",
    "        customdata=np.stack([gdf_tent['TipoRelacion'], gdf_tent['EdadVictima'], gdf_tent['Edad Agresor'], gdf_tent['tipos'],gdf_tent['año_recepcion'], gdf_tent['TipoRelacion']], axis=-1),\n",
    "        hovertemplate='<b>%{text}</b>'+ '<br>' +'Número de Víctimas: ' + '%{z}' +  '<br>' +'Promedio Edad Víctimas: ' \n",
    "        + '%{customdata[1]}' +'<br>Promedio Edad Agresores: ' + '%{customdata[2]}'+'<br>Tipos de violencia: ' + '%{customdata[3]}'\n",
    "        +'<br>Año de recepción del caso: ' + '%{customdata[4]}' + '<br>Vínculo con el agresor: ' + '%{customdata[5]}',\n",
    "        visible= False,\n",
    "        ))\n",
    "\n",
    "buttons.append(dict(label='Tentativas',\n",
    "                    method=\"update\",\n",
    "                    args=[{\"visible\":list(visible=='Tentativas')},\n",
    "                            {\"title\":f\"Mapa 2. Feminicidios y Tentativas Registrados por Municipio\"}]))\n",
    "\n",
    "\n",
    "updatemenus = [{\"active\":0,\n",
    "                \"buttons\":buttons,\n",
    "               }]\n",
    "\n",
    "\n",
    "# Show figure\n",
    "fig = go.Figure(data=traces,\n",
    "                layout=dict(updatemenus=updatemenus))\n",
    "# This is in order to get the first title displayed correctly\n",
    "#first_title = cols_dd[0]\n",
    "fig.update_layout(title=f\"Mapa 2. Feminicidios y Tentativas Registrados por Municipio\",)\n",
    "fig.update_geos(fitbounds=\"locations\", visible=False, )\n",
    "fig.add_annotation(\n",
    "    # The arrow head will be 25% along the x axis, starting from the left\n",
    "    x=0,\n",
    "    # The arrow head will be 40% along the y axis, starting from the bottom\n",
    "    y=0.98,\n",
    "    text=\"<b>Temporalidad:</b> {}-{}<br><b>Total de casos:</b> {}\".format(min(feminicidios.año_recepcion),max(feminicidios.año_recepcion),(len(feminicidios))),\n",
    "    showarrow=False,\n",
    "    bordercolor=\"black\",\n",
    "    bgcolor=\"white\",\n",
    "    borderwidth=1.5,\n",
    "    opacity=0.8\n",
    ")\n",
    "\n",
    "fig.update_layout(mapbox_style=\"carto-positron\",\n",
    "                  mapbox_zoom=7.5, mapbox_center = {\"lat\": 20.400417, \"lon\": -89.134857})\n",
    "pio.write_html(fig, file='../docs/figs/indicador_municipal_mapa_fem_tent.html', include_plotlyjs='cdn', full_html=False)\n",
    "fig.show()"
   ]
  },
  {
   "cell_type": "code",
   "execution_count": null,
   "metadata": {},
   "outputs": [],
   "source": [
    "fig = px.treemap(gdf,\n",
    "                 path=[px.Constant(\"Yucatán\"), 'NOM_MUN'],\n",
    "                 values='municipioV',\n",
    "                 hover_data={\"municipioV\":True,'EdadVictima':True,'tipos':True,'año_recepcion':True,'TipoRelacion':True,'pk_perfil_agresor':True, 'Edad Agresor':True},\n",
    "                 labels = {'nom_mun':'Municipio', 'municipioV':'Víctimas','EdadVictima':'Edad Promedio Víctima','Edad Agresor':'Edad Promedio Agresor','tipos':'Violencias','año_recepcion':'Años','TipoRelacion':'Relación','pk_perfil_agresor':'pk agresor'},\n",
    "                 title='Gráfica 2. Feminicidios Registrados por Municipio {}-{}'.format(min(feminicidios.año_recepcion),max(feminicidios.año_recepcion)),\n",
    "                 #text='ola'\n",
    "                 )\n",
    "\n",
    "#fig.update_layout(margin = dict(t=50, l=25, r=25, b=25))\n",
    "print(\"plotly express hovertemplate:\", fig.data[0].hovertemplate)\n",
    "fig.update_traces(hovertemplate='Víctimas=%{customdata[0]}<br>Edad Promedio Víctima=%{customdata[1]}<br>Edad Promedio Agresor=%{customdata[6]}<br>Violencias=%{customdata[2]}<br>Años=%{customdata[3]}')\n",
    "fig.update_traces(textinfo=\"label+value+percent root\",)\n",
    "pio.write_html(fig, file='../docs/figs/indicador_municipal_treemap_feminicidios.html', include_plotlyjs='cdn', full_html=False)\n",
    "fig.show()"
   ]
  },
  {
   "cell_type": "code",
   "execution_count": null,
   "metadata": {},
   "outputs": [],
   "source": [
    "casos_mun = victimas_2020.groupby('municipiohechos')['fk_euv'].count()\n",
    "casos_mun = yuc[['geometry_mun','nom_mun']].merge(casos_mun, right_on=casos_mun.index, left_on='nom_mun', how='left')\n",
    "casos_mun.fillna(0,inplace=True)\n",
    "casos_mun = pd.DataFrame(casos_mun.merge(pob_fem,left_on='nom_mun',right_on='NOM_MUN',how='left'))\n",
    "casos_mun[['fk_euv','POBFEM']] = casos_mun[['fk_euv','POBFEM']].astype(int)"
   ]
  },
  {
   "cell_type": "code",
   "execution_count": null,
   "metadata": {},
   "outputs": [],
   "source": [
    "mun_violencias = victimas_2020.groupby('municipiohechos')[['Psicológica','Física','Económica','Sexual','Patrimonial','Feminicida','Otro']].sum()\n",
    "mun_violencias = yuc[['geometry_mun','nom_mun']].merge(mun_violencias, right_on=mun_violencias.index, left_on='nom_mun', how='left')\n",
    "#mun_violencias = mun_violencias.merge(yuc[['geometry_mun','nom_mun']], left_on=mun_violencias.index, right_on='nom_mun', how='right')\n",
    "#for violencia in ['Psicológica','Física','Económica','Sexual','Patrimonial','Feminicida','Otro']:\n",
    "    #total = mun_violencias[violencia].sum()\n",
    "    #mun_violencias['{}_rel'.format(violencia)] = round(mun_violencias[violencia]/total*100,2)\n",
    "mun_violencias.fillna(0, inplace=True)"
   ]
  },
  {
   "cell_type": "code",
   "execution_count": null,
   "metadata": {},
   "outputs": [],
   "source": [
    "mun_violencias = pd.DataFrame(mun_violencias.merge(pob_fem,left_on='nom_mun',right_on='NOM_MUN',how='left'))\n",
    "for violencia in ['Psicológica','Física','Económica','Sexual','Patrimonial','Feminicida','Otro']:\n",
    "    mun_violencias['{} Tasa 1000'.format(violencia)] = round(mun_violencias[violencia]/mun_violencias['POBFEM'].astype(int)*1000,2)\n",
    "    #mun_violencias['{}_text'.format(violencia)] = mun_violencias.apply(lambda row: f\"Casos: {int(row[violencia])}<br>POBFEM: {int(row['POBFEM'])}\", axis=1)\n",
    "    mun_violencias['{}_casos'.format(violencia)] = mun_violencias.apply(lambda row: int(row[violencia]), axis=1)\n",
    "\n",
    "mun_violencias = mun_violencias.merge(casos_mun[['fk_euv','nom_mun']], left_on=mun_violencias.index, right_on=casos_mun.index, how='left')\n",
    "mun_violencias[['fk_euv','POBFEM']] = mun_violencias[['fk_euv','POBFEM']].astype(int)\n",
    "mun_violencias['Tasa 1000 Total'] =round(mun_violencias.fk_euv/mun_violencias.POBFEM*1000,2)\n",
    "mun_violencias.drop(['key_0','nom_mun_y','NOM_MUN','MUN'],axis='columns', inplace=True)\n",
    "#mun_violencias['text_total'] = mun_violencias.apply(lambda row: f\"Casos Totales: {int(row['fk_euv'])}<br>POBFEM: {row['POBFEM']}\", axis=1)\n",
    "\n",
    "gdf = geopandas.GeoDataFrame(mun_violencias, geometry='geometry_mun')\n",
    "gdf = gdf.set_index('nom_mun_x')\n",
    "gdf = gdf.to_crs(pyproj.CRS.from_epsg(4326))\n"
   ]
  },
  {
   "cell_type": "code",
   "execution_count": null,
   "metadata": {},
   "outputs": [],
   "source": [
    "cols_dd = ['Tasa 1000 Total','Psicológica','Física','Económica','Sexual','Patrimonial','Feminicida','Otro',]\n",
    "# we need to add this to select which trace \n",
    "# is going to be visible\n",
    "visible = np.array(cols_dd)\n",
    "\n",
    "poly_json = json.loads(gdf.geometry_mun.to_json())\n",
    "\n",
    "# define traces and buttons at once\n",
    "traces = []\n",
    "buttons = []\n",
    "\n",
    "# Agregar mapa general\n",
    "traces.append(go.Choroplethmapbox(\n",
    "        geojson=poly_json,\n",
    "        locations=gdf.index, # Spatial coordinates\n",
    "        z=gdf['Tasa 1000 Total'], # Data to be color-coded\n",
    "        colorbar_title='Tasa',\n",
    "        name='Tasa 2020',\n",
    "        #hoverlabel={'Tasa 1000 Total':False},\n",
    "        #hovertemplate = \"Mun_x: %{z}<br>Ola: %{customdata[0]}<br>Fin: %{customdata[-1]}\",\n",
    "        #text = gdf['text_total'], # hover text\n",
    "        text = gdf.index, # hover text\n",
    "        customdata=np.stack([ gdf['POBFEM'], gdf['fk_euv']], axis=-1),\n",
    "        hovertemplate='<b>%{text}</b>'+ '<br>' +'Tasa: ' + '%{z}' +  '<br>' +'Casos Totales: ' + '%{customdata[1]}' +'<br>Población Femenina: ' + '%{customdata[0]}',\n",
    "        visible= True if 'Tasa 1000 Total'==cols_dd[0] else False,\n",
    "        ))\n",
    "\n",
    "buttons.append(dict(label='Tasa 1000 Total',\n",
    "                    method=\"update\",\n",
    "                    args=[{\"visible\":list(visible=='Tasa 1000 Total')},\n",
    "                            {\"title\":f\"Mapa 1. Tasa de casos de violencia por cada 1000 mujeres\"}]))\n",
    "\n",
    "# Mapas de tipos de violencia\n",
    "for value in cols_dd[1:]:\n",
    "    traces.append(go.Choroplethmapbox(\n",
    "        geojson=poly_json,\n",
    "        locations=gdf.index, # Spatial coordinates\n",
    "        z=gdf['{} Tasa 1000'.format(value)], # Data to be color-coded\n",
    "        colorbar_title='Tasa',\n",
    "        name='Tasa de violencia<br>'+value,\n",
    "        #hoverinfo='{}+{} Tasa 1000'.format(value,value),\n",
    "        #hovertemplate = \"Mun: %{x}\".format(gdf.index),\n",
    "        #text = gdf['{}_text'.format(value)], # hover text\n",
    "        visible= True if value==cols_dd[0] else False,\n",
    "        marker_line_width=1,\n",
    "        colorscale=\"Viridis\",\n",
    "        text = gdf.index, # hover text\n",
    "        customdata=np.stack([ gdf['POBFEM'], gdf['{}_casos'.format(value)]], axis=-1),\n",
    "        hovertemplate='<b>%{text}</b>'+ '<br>' +'Tasa: ' + '%{z}' +  '<br>' +'Casos: ' + '%{customdata[1]}' +'<br>Población Femenina: ' + '%{customdata[0]}',\n",
    "        #visible= False,\n",
    "        ))\n",
    "                                    \n",
    "\n",
    "    buttons.append(dict(label=value,\n",
    "                        method=\"update\",\n",
    "                        args=[{\"visible\":list(visible==value)},\n",
    "                              {\"title\":f\"Mapa 1. Tasa de casos de violencia {value} por cada 1000 mujeres\"}]))\n",
    "\n",
    "\n",
    "updatemenus = [{\"active\":0,\n",
    "                \"buttons\":buttons,\n",
    "               }]\n",
    "\n",
    "\n",
    "# Show figure\n",
    "fig = go.Figure(data=traces,\n",
    "                layout=dict(updatemenus=updatemenus))\n",
    "# This is in order to get the first title displayed correctly\n",
    "first_title = cols_dd[0]\n",
    "fig.update_layout(title=f\"Mapa 1. Tasa de casos de violencia por cada 1000 mujeres\",)\n",
    "fig.update_geos(fitbounds=\"locations\", visible=False, )\n",
    "fig.add_annotation(\n",
    "    # The arrow head will be 25% along the x axis, starting from the left\n",
    "    x=0,\n",
    "    # The arrow head will be 40% along the y axis, starting from the bottom\n",
    "    y=0.98,\n",
    "    text=\"<b>Temporalidad:</b> {}<br><b>Total de casos:</b> {}\".format(min(victimas_2020.año_recepcion),len(victimas_2020)),\n",
    "    showarrow=False,\n",
    "    bordercolor=\"black\",\n",
    "    bgcolor=\"white\",\n",
    "    borderwidth=1.5,\n",
    "    opacity=0.8\n",
    ")\n",
    "\n",
    "fig.update_layout(mapbox_style=\"carto-positron\",\n",
    "                  mapbox_zoom=7.5, mapbox_center = {\"lat\": 20.400417, \"lon\": -89.134857})\n",
    "pio.write_html(fig, file='../docs/figs/indicador_municipal_mapa_violencias.html', include_plotlyjs='cdn', full_html=False)\n",
    "fig.show()"
   ]
  },
  {
   "cell_type": "code",
   "execution_count": null,
   "metadata": {},
   "outputs": [],
   "source": [
    "fem_agrav = feminicidios[feminicidios.Sentencia.isin(['FEMINICIDIO AGRAVADO','FEMINICIDIO'])].index\n",
    "feminicidios.loc[fem_agrav,'Sentencia']='FEMINICIDIO'\n",
    "fem_agrav = feminicidios[feminicidios.Sentencia.isin(['FEMINICIDIO AGRAVADO EN GRADO DE TENTATIVA','FEMINICIDIO EN GRADO DE TENTATIVA'])].index\n",
    "feminicidios.loc[fem_agrav,'Sentencia']='TENTATIVA DE FEMINICIDIO'"
   ]
  },
  {
   "cell_type": "code",
   "execution_count": null,
   "metadata": {},
   "outputs": [],
   "source": [
    "sentencias = feminicidios.Sentencia.value_counts()"
   ]
  },
  {
   "cell_type": "code",
   "execution_count": null,
   "metadata": {},
   "outputs": [],
   "source": [
    "#\n",
    "desc = victimas[victimas['Portaba Arma']=='Se desconoce'].index\n",
    "victimas.loc[desc,'Portaba Arma']='No'\n",
    "armas = victimas['Portaba Arma'].value_counts()\n"
   ]
  },
  {
   "cell_type": "code",
   "execution_count": null,
   "metadata": {},
   "outputs": [],
   "source": [
    "# Use `hole` to create a donut-like pie chart\n",
    "fig = go.Figure(data=[go.Pie(labels=sentencias.index, values=sentencias.values, hole=.3 )])\n",
    "fig.update_layout(title='Gráfica 3. Porcentaje de Presuntos Feminicidios con Sentencia')\n",
    "fig.update_traces(textinfo=\"label+value+percent\",showlegend=False, textposition='outside')\n",
    "pio.write_html(fig, file='../docs/figs/indicador_municipal_donut_sentencias.html', include_plotlyjs='cdn', full_html=False)\n",
    "#fig.update_traces(hovertemplate='Servicio=%{label}<br>Número de servicios=%{value}<br>Origen=%{parent}<br><extra></extra>')\n",
    "fig.show()"
   ]
  },
  {
   "cell_type": "code",
   "execution_count": null,
   "metadata": {},
   "outputs": [],
   "source": [
    "fig = go.Figure(data=[go.Pie(labels=armas.index, values=armas.values, hole=.3 )])\n",
    "fig.update_layout(title='Gráfica 4. Porcentaje de agresores armados')\n",
    "fig.update_traces(textinfo=\"label+value+percent\",showlegend=False,)\n",
    "pio.write_html(fig, file='../docs/figs/indicador_municipal_donut_armas.html', include_plotlyjs='cdn', full_html=False)\n",
    "\n",
    "fig.show()"
   ]
  },
  {
   "cell_type": "code",
   "execution_count": null,
   "metadata": {},
   "outputs": [],
   "source": [
    "armas_mun = victimas[victimas['Portaba Arma']=='Sí']"
   ]
  },
  {
   "cell_type": "code",
   "execution_count": null,
   "metadata": {},
   "outputs": [],
   "source": [
    "armas_mun = pd.DataFrame(armas_mun.groupby('municipiohechos')['Portaba Arma'].count())\n",
    "armas_mun = armas_mun.merge(yuc[['nom_mun','geometry_mun']], left_on=armas_mun.index, right_on='nom_mun', how='right')\n",
    "armas_mun.fillna(0, inplace=True)\n",
    "armas_mun['Portaba Arma'] = armas_mun['Portaba Arma'].astype(int)"
   ]
  },
  {
   "cell_type": "code",
   "execution_count": null,
   "metadata": {},
   "outputs": [],
   "source": [
    "fig = px.treemap(armas_mun,\n",
    "                 path=[px.Constant(\"Yucatán\"), 'nom_mun'],\n",
    "                 values='Portaba Arma',\n",
    "                 #hover_data={\"municipioV\":True,'EdadVictima':True,'tipos':True,'año_recepcion':True,'TipoRelacion':True,'pk_perfil_agresor':True},\n",
    "                 #labels = {'nom_mun':'Municipio', 'municipioV':'Víctimas','EdadVictima':'Edades','tipos':'Violencias','año_recepcion':'Años','TipoRelacion':'Relación','pk_perfil_agresor':'pk agresor'},\n",
    "                 title='Gráfica 5. Municipios en los que los agresores han portado armas',\n",
    "                 )\n",
    "\n",
    "#fig.update_layout(margin = dict(t=50, l=25, r=25, b=25))\n",
    "#print(\"plotly express hovertemplate:\", fig.data[0].hovertemplate)\n",
    "fig.update_traces(hovertemplate='Municipio=%{label}<br>Portaban Arma=%{value}<br><extra></extra>')\n",
    "fig.update_traces(textinfo=\"label+value+percent root\",)\n",
    "pio.write_html(fig, file='../docs/figs/indicador_municipal_treemap_arma.html', include_plotlyjs='cdn', full_html=False)\n",
    "fig.show()"
   ]
  },
  {
   "cell_type": "code",
   "execution_count": null,
   "metadata": {},
   "outputs": [],
   "source": [
    "gdf = geopandas.GeoDataFrame(armas_mun, geometry='geometry_mun')\n",
    "gdf = gdf.set_index('nom_mun')\n",
    "gdf = gdf.to_crs(pyproj.CRS.from_epsg(4326))"
   ]
  },
  {
   "cell_type": "code",
   "execution_count": null,
   "metadata": {},
   "outputs": [],
   "source": [
    "\"\"\"gdf['log']=np.log10(gdf[\"Portaba Arma\"])\n",
    "inf = gdf[gdf.log==-np.inf].index\n",
    "gdf.loc[inf,'log'] = -1\"\"\""
   ]
  },
  {
   "cell_type": "code",
   "execution_count": null,
   "metadata": {},
   "outputs": [],
   "source": [
    "gdf['cat']=pd.cut(gdf['Portaba Arma'],\n",
    "       bins=[-1, 0.9, 10.9,20.9,35.9,np.inf], \n",
    "       labels=['0','1-10','11-20','21-35','36 o más'])"
   ]
  },
  {
   "cell_type": "code",
   "execution_count": null,
   "metadata": {},
   "outputs": [],
   "source": [
    "gdf['cat'].values.unique()"
   ]
  },
  {
   "cell_type": "code",
   "execution_count": null,
   "metadata": {},
   "outputs": [],
   "source": [
    "gdf = gdf.sort_values('Portaba Arma')"
   ]
  },
  {
   "cell_type": "code",
   "execution_count": null,
   "metadata": {},
   "outputs": [],
   "source": [
    "# colores\n",
    "colors = px.colors.qualitative.Prism[3:8]"
   ]
  },
  {
   "cell_type": "code",
   "execution_count": null,
   "metadata": {},
   "outputs": [],
   "source": [
    "fig = px.choropleth_mapbox(gdf, geojson=gdf.geometry_mun, \n",
    "                    locations=gdf.index, color='cat',\n",
    "                    color_discrete_sequence=colors,\n",
    "                    labels = {'nom_mun':'Municipio', 'Portaba Arma':'Agresores Armados','cat':'Agresores<br>Armados'},\n",
    "                    hover_data={'Portaba Arma':True},\n",
    "                    #title='Mapa 2. Feminicidios Registrados por Municipio',\n",
    "                    #color_continuous_midpoint=np.average(gdf['municipioV'], weights=gdf['POBFEM'].astype(int)),\n",
    "                    center={\"lat\": 20.400417, \"lon\": -89.134857},\n",
    "                    mapbox_style=\"carto-positron\", \n",
    "                    zoom=7.5,\n",
    "                    #opacity=0.5,\n",
    "                    title='Mapa 3. Agresores Armados por Municipio',\n",
    "                    )\n",
    "fig.update_geos(fitbounds=\"locations\", visible=False)\n",
    "\n",
    "#fig.update_layout(xaxis=dict(domain=[0, 0.5]), yaxis=dict(domain=[0.25, 0.75]))\n",
    "\n",
    "fig.add_annotation(\n",
    "    # The arrow head will be 25% along the x axis, starting from the left\n",
    "    x=0,\n",
    "    # The arrow head will be 40% along the y axis, starting from the bottom\n",
    "    y=0.98,\n",
    "    text=\"<b>Temporalidad:</b> {}-{}<br><b>Total de casos:</b> {}\".format(min(victimas.año_recepcion),max(victimas.año_recepcion),len(victimas)),\n",
    "    showarrow=False,\n",
    "    bordercolor=\"black\",\n",
    "    bgcolor=\"white\",\n",
    "    borderwidth=1.5,\n",
    "    opacity=0.8\n",
    ")\n",
    "\n",
    "fig.update(layout = dict(title=dict(x=0.5)))\n",
    "fig.update_layout(title_y=1, title_x=0)\n",
    "print(fig.data[0].hovertemplate)\n",
    "fig.update_traces(hovertemplate='Municipio=%{location}<br>Agresores Armados=%{customdata[0]}<extra></extra>')\n",
    "pio.write_html(fig, file='../docs/figs/indicador_municipal_mapa_arma.html', include_plotlyjs='cdn', full_html=False)\n",
    "fig.show()"
   ]
  },
  {
   "cell_type": "code",
   "execution_count": null,
   "metadata": {},
   "outputs": [],
   "source": [
    "edad_agresores = victimas[(victimas['Edad Agresor']>0)&(victimas['Edad Agresor']<99)]"
   ]
  },
  {
   "cell_type": "code",
   "execution_count": null,
   "metadata": {},
   "outputs": [],
   "source": [
    "fig = px.histogram(edad_agresores, x=\"Edad Agresor\", color=\"Tipo de vínculo con victima\", marginal=\"box\",opacity=0.8,nbins=20,\n",
    "            labels = {'Edad Agresor': 'Grupo Etario',},\n",
    "            title = 'Gráfica 6. Distribución de agresores por vínculo con la víctima y edad'\n",
    "            ) # can be `box`, `violin`\n",
    "pio.write_html(fig, file='../docs/figs/indicador_municipal_dist_edad_agresor.html', include_plotlyjs='cdn', full_html=False)\n",
    "fig.show()"
   ]
  },
  {
   "cell_type": "code",
   "execution_count": null,
   "metadata": {},
   "outputs": [],
   "source": [
    "fig = px.histogram(victimas, x=\"Edad\", color=\"Esta Embarazada\", marginal=\"box\",opacity=0.8,\n",
    "            labels = {'Edad': 'Grupo Etario'},\n",
    "            title = 'Gráfica 7. Distribución de casos por embarazo y edad',\n",
    "            nbins=20\n",
    "            ) # can be `box`, `violin`\n",
    "pio.write_html(fig, file='../docs/figs/indicador_municipal_dist_victimas.html', include_plotlyjs='cdn', full_html=False)\n",
    "fig.show()"
   ]
  },
  {
   "cell_type": "code",
   "execution_count": null,
   "metadata": {},
   "outputs": [],
   "source": [
    "\"\"\"fig = px.histogram(victimas, x=\"Edad\", marginal=\"box\",opacity=0.8,\n",
    "            labels = {'Edad': 'Grupo Etario'},\n",
    "            title = 'Gráfica #. Distribución de víctimas por grupo etario',\n",
    "            nbins=20\n",
    "            ) # can be `box`, `violin`\n",
    "#pio.write_html(fig, file='../docs/figs/indicador_municipal_dist_victimas_etario.html', include_plotlyjs='cdn', full_html=False)\n",
    "fig.show()\"\"\""
   ]
  },
  {
   "cell_type": "code",
   "execution_count": null,
   "metadata": {},
   "outputs": [],
   "source": [
    "mun_edad = pd.DataFrame(victimas.groupby('municipiohechos')['Edad'].mean().round().astype(int)) # ya que es una distribucion normal, se puede usar la media como agregacion\n",
    "mun_edad = mun_edad.rename(columns={'Edad':'Edad Promedio'})"
   ]
  },
  {
   "cell_type": "code",
   "execution_count": null,
   "metadata": {},
   "outputs": [],
   "source": [
    "mun_edad = mun_edad.merge(yuc[['nom_mun','geometry_mun']], left_on=mun_edad.index, right_on='nom_mun', how='right')\n",
    "mun_edad.fillna(0, inplace=True)\n",
    "gdf = geopandas.GeoDataFrame(mun_edad, geometry='geometry_mun')\n",
    "gdf = gdf.set_index('nom_mun')\n",
    "gdf = gdf.to_crs(pyproj.CRS.from_epsg(4326))"
   ]
  },
  {
   "cell_type": "code",
   "execution_count": null,
   "metadata": {},
   "outputs": [],
   "source": [
    "fig = px.choropleth_mapbox(gdf, geojson=gdf.geometry_mun, \n",
    "                    locations=gdf.index, color=\"Edad Promedio\",\n",
    "                    color_continuous_scale=\"Viridis\",\n",
    "                    labels={'nom_mun': 'Municipio'},\n",
    "                    #labels = {'nom_mun':'Municipio', 'municipioV':'Víctimas','EdadVictima':'Edades','tipos':'Violencias','año_recepcion':'Años','TipoRelacion':'Relación','pk_perfil_agresor':'pk agresor'},\n",
    "                    #hover_data={\"municipioV\":True,'EdadVictima':True,'tipos':True,'año_recepcion':True,'TipoRelacion':True,'pk_perfil_agresor':True,'Hubo Feminicidio':False },\n",
    "                    title='Mapa 4. Edad Promedio de las Víctimas por Municipio',\n",
    "                    #color_continuous_midpoint=np.average(victimas['Edad']),\n",
    "                    center={\"lat\": 20.400417, \"lon\": -89.134857},\n",
    "                    mapbox_style=\"carto-positron\", \n",
    "                    zoom=7.5,\n",
    "                    #opacity=0.5,\n",
    "                    )\n",
    "fig.update_geos(fitbounds=\"locations\", visible=False)\n",
    "\n",
    "#fig.update_layout(xaxis=dict(domain=[0, 0.5]), yaxis=dict(domain=[0.25, 0.75]))\n",
    "\n",
    "fig.add_annotation(\n",
    "    # The arrow head will be 25% along the x axis, starting from the left\n",
    "    x=0,\n",
    "    # The arrow head will be 40% along the y axis, starting from the bottom\n",
    "    y=0.98,\n",
    "    text=\"<b>Temporalidad:</b> {}-{}<br><b>Total de casos:</b> {}\".format(min(victimas.año_recepcion),max(victimas.año_recepcion),len(victimas)),\n",
    "    showarrow=False,\n",
    "    bordercolor=\"black\",\n",
    "    bgcolor=\"white\",\n",
    "    borderwidth=1.5,\n",
    "    opacity=0.8\n",
    ")\n",
    "\n",
    "fig.update(layout = dict(title=dict(x=0.5)))\n",
    "fig.update_layout(\n",
    "    margin={\"r\":0,\"t\":30,\"l\":10,\"b\":10},\n",
    "    coloraxis_colorbar={\n",
    "        'title':'Edad'})\n",
    "fig.update_layout(title_y=1, title_x=0)\n",
    "fig.update_layout(coloraxis_showscale=True)\n",
    "pio.write_html(fig, file='../docs/figs/indicador_municipal_mapa_edad_promedio.html', include_plotlyjs='cdn', full_html=False)\n",
    "fig.show()"
   ]
  },
  {
   "cell_type": "code",
   "execution_count": null,
   "metadata": {},
   "outputs": [],
   "source": [
    "servicios = pd.DataFrame(servicios[servicios.dependenciaquebrindoservicio.isna()==False])"
   ]
  },
  {
   "cell_type": "code",
   "execution_count": null,
   "metadata": {},
   "outputs": [],
   "source": [
    "semujeres = servicios[servicios.dependenciaquebrindoservicio=='SECRETARÍA DE LAS MUJERES'].index\n",
    "prodenay = servicios[servicios.dependenciaquebrindoservicio=='PROCURADURÍA DE LA DEFENSA DEL MENOR Y LA FAMILIA'].index\n",
    "ssp = servicios[servicios.dependenciaquebrindoservicio=='SECRETARÍA DE SEGURIDAD PÚBLICA'].index\n",
    "ceeav = servicios[servicios.dependenciaquebrindoservicio=='COMISIÓN EJECUTIVA ESTATAL DE ATENCIÓN A VÍCTIMAS'].index\n",
    "segey = servicios[servicios.dependenciaquebrindoservicio== 'SECRETARÍA DE EDUCACIÓN DEL GOBIERNO DEL ESTADO DE YUCATÁN'].index\n",
    "servicios.loc[semujeres, 'dependenciaquebrindoservicio'] = 'SEMUJERES'\n",
    "servicios.loc[prodenay, 'dependenciaquebrindoservicio'] = 'PRODENNAY'\n",
    "servicios.loc[ssp, 'dependenciaquebrindoservicio'] = 'SSP'\n",
    "servicios.loc[ceeav, 'dependenciaquebrindoservicio'] = 'CEEAV'\n",
    "servicios.loc[segey, 'dependenciaquebrindoservicio'] = 'SEGEY'"
   ]
  },
  {
   "cell_type": "code",
   "execution_count": null,
   "metadata": {},
   "outputs": [],
   "source": [
    "selecciones = servicios[servicios.tiposervicio=='Seleccione'].index\n",
    "servicios.loc[selecciones, 'tiposervicio'] = 'No identificado'"
   ]
  },
  {
   "cell_type": "code",
   "execution_count": null,
   "metadata": {},
   "outputs": [],
   "source": [
    "servicios_gropby = pd.DataFrame(servicios.groupby(['dependenciaquebrindoservicio','tiposervicio','serviciodetalle'])['numeroservicios'].count()).reset_index()"
   ]
  },
  {
   "cell_type": "code",
   "execution_count": null,
   "metadata": {},
   "outputs": [],
   "source": [
    "fig = px.sunburst(servicios_gropby, path=['dependenciaquebrindoservicio','tiposervicio','serviciodetalle'], values='numeroservicios', color='tiposervicio',\n",
    "                #labels={'labels':'Servicio Detalle'}, \n",
    "                #hover_data={'id':False},\n",
    "                title='Gráfica 8. Distribución de los servicios por tipo e instancia capturista'\n",
    "                )\n",
    "print(\"plotly express hovertemplate:\", fig.data[0].hovertemplate)\n",
    "fig.update_traces(hovertemplate='Servicio Detalle=%{label}<br>Número de Servicios=%{value}<br>Pertenencia=%{parent}<br><extra></extra>')\n",
    "fig.update_traces(textinfo=\"label+value+percent entry\",)\n",
    "pio.write_html(fig, file='../docs/figs/indicador_municipal_sunburst_servicios.html', include_plotlyjs='cdn', full_html=False)\n",
    "fig.show()"
   ]
  },
  {
   "cell_type": "code",
   "execution_count": null,
   "metadata": {},
   "outputs": [],
   "source": [
    "\"\"\"fig = px.treemap(servicios_gropby,\n",
    "                 #path=[, 'nom_mun'],\n",
    "                 path=[px.Constant(\"Yucatán\"), 'dependenciaquebrindoservicio','tiposervicio','serviciodetalle'],\n",
    "                 values='numeroservicios',\n",
    "                 title='Gráfica #. Distribución de los servicios por tipo e instancia capturista',\n",
    "                 )\n",
    "\n",
    "#fig.update_layout(margin = dict(t=50, l=25, r=25, b=25))\n",
    "print(\"plotly express hovertemplate:\", fig.data[0].hovertemplate)\n",
    "#fig.update_traces(hovertemplate='Servicio=%{label}<br>Número de servicios=%{value}<br>Origen=%{parent}<br><extra></extra>')\n",
    "fig.update_traces(textinfo=\"label+value+percent root\",)\n",
    "#pio.write_html(fig, file='../docs/figs/indicador_municipal_treemap_servicios.html', include_plotlyjs='cdn', full_html=False)\n",
    "fig.show()\"\"\""
   ]
  },
  {
   "cell_type": "code",
   "execution_count": null,
   "metadata": {},
   "outputs": [],
   "source": [
    "fechas_groupby = pd.DataFrame(victimas.groupby('fecha_hechos')['pk_caso'].count())\n",
    "fechas_groupby = fechas_groupby.rename(columns={'pk_caso':'Casos registrados'})"
   ]
  },
  {
   "cell_type": "code",
   "execution_count": null,
   "metadata": {},
   "outputs": [],
   "source": [
    "fechas_groupby['var'] = round(fechas_groupby['Casos registrados'].pct_change()*100,2)"
   ]
  },
  {
   "cell_type": "code",
   "execution_count": null,
   "metadata": {},
   "outputs": [],
   "source": [
    "fechas_groupby = pd.DataFrame(fechas_groupby[fechas_groupby.index >= '1990-01-01'])"
   ]
  },
  {
   "cell_type": "code",
   "execution_count": null,
   "metadata": {},
   "outputs": [],
   "source": [
    "semanas_groupby = pd.DataFrame(fechas_groupby.reset_index().groupby(pd.Grouper(freq='W', key='fecha_hechos'))['Casos registrados'].sum()).reset_index()\n",
    "semanas_groupby['var'] = round(semanas_groupby['Casos registrados'].pct_change()*100,2)\n",
    "inf = semanas_groupby[semanas_groupby['var'].isin([np.inf, -np.inf])].index\n",
    "#semanas_groupby.loc[inf,'var']=semanas_groupby.loc[inf,'Casos registrados']*100\n",
    "semanas_groupby.loc[inf,'var']=100\n",
    "semanas_groupby"
   ]
  },
  {
   "cell_type": "code",
   "execution_count": null,
   "metadata": {},
   "outputs": [],
   "source": [
    "# agregado para quitar aquellas en 0\n",
    "#semanas_groupby=semanas_groupby[~semanas_groupby['var'].isin([np.nan, np.inf, -np.inf])]\n",
    "inf = semanas_groupby[semanas_groupby['var'].isin([np.nan])].index\n",
    "#semanas_groupby.loc[inf,'var']=semanas_groupby.loc[inf,'Casos registrados']*100\n",
    "semanas_groupby.loc[inf,'var']=0\n",
    "semanas_groupby"
   ]
  },
  {
   "cell_type": "code",
   "execution_count": null,
   "metadata": {},
   "outputs": [],
   "source": [
    "fig = px.line(semanas_groupby, x=semanas_groupby.fecha_hechos, y=\"Casos registrados\", title='Grafica 9. Variación de casos de violencia hacia las mujeres',\n",
    "                hover_data={\"var\": True}, labels={'fecha_hechos':'Fecha Hechos'},markers=True,\n",
    "                range_x=['2015-01-01',max(semanas_groupby.fecha_hechos)],\n",
    "                #range_y=[0,500]\n",
    "                )\n",
    "fig.update_xaxes(\n",
    "    rangeslider_visible=True,\n",
    "    rangeselector=dict(\n",
    "        buttons=list([\n",
    "            dict(count=1, label=\"1m\", step=\"month\", stepmode=\"backward\"),\n",
    "            dict(count=6, label=\"6m\", step=\"month\", stepmode=\"backward\"),\n",
    "            dict(count=1, label=\"YTD\", step=\"year\", stepmode=\"todate\"),\n",
    "            dict(count=1, label=\"1y\", step=\"year\", stepmode=\"backward\"),\n",
    "            #dict(step=\"all\")\n",
    "        ])\n",
    "    )\n",
    ")\n",
    "\n",
    "print(\"plotly express hovertemplate:\", fig.data[0].hovertemplate)\n",
    "fig.update_traces(hovertemplate='Fecha=%{x}<br>Casos registrados=%{y}<br>Variación=%{customdata[0]}%<extra></extra>')\n",
    "#fig.update_yaxes(type=\"log\")\n",
    "pio.write_html(fig, file='../docs/figs/indicador_municipal_timeline_variaciones.html', include_plotlyjs='cdn', full_html=False)\n",
    "fig.show()"
   ]
  },
  {
   "cell_type": "code",
   "execution_count": null,
   "metadata": {},
   "outputs": [],
   "source": [
    "\"\"\"fig = px.line(fechas_groupby, x=fechas_groupby.index, y=\"Casos registrados\", title='Grafica #. Variación de casos de violencia hacia las mujeres')\n",
    "fig.update_xaxes(\n",
    "    rangeslider_visible=True,\n",
    "    rangeselector=dict(\n",
    "        buttons=list([\n",
    "            dict(count=1, label=\"1m\", step=\"month\", stepmode=\"backward\"),\n",
    "            dict(count=6, label=\"6m\", step=\"month\", stepmode=\"backward\"),\n",
    "            dict(count=1, label=\"YTD\", step=\"year\", stepmode=\"todate\"),\n",
    "            dict(count=1, label=\"1y\", step=\"year\", stepmode=\"backward\"),\n",
    "            dict(step=\"all\")\n",
    "        ])\n",
    "    )\n",
    ")\n",
    "#pio.write_html(fig, file='../docs/figs/indicador_municipal_sunburst_servicios.html', include_plotlyjs='cdn', full_html=False)\n",
    "fig.show()\"\"\""
   ]
  },
  {
   "cell_type": "code",
   "execution_count": null,
   "metadata": {},
   "outputs": [],
   "source": [
    "\"\"\"fig = px.line(semanas_groupby, x=semanas_groupby.fecha_recepcion, y=\"var\", title='Grafica #. Variación porcentual de casos de violencia hacia las mujeres')\n",
    "fig.update_xaxes(\n",
    "    rangeslider_visible=True,\n",
    "    rangeselector=dict(\n",
    "        buttons=list([\n",
    "            dict(count=1, label=\"1m\", step=\"month\", stepmode=\"backward\"),\n",
    "            dict(count=6, label=\"6m\", step=\"month\", stepmode=\"backward\"),\n",
    "            dict(count=1, label=\"YTD\", step=\"year\", stepmode=\"todate\"),\n",
    "            dict(count=1, label=\"1y\", step=\"year\", stepmode=\"backward\"),\n",
    "            dict(step=\"all\")\n",
    "        ])\n",
    "    )\n",
    ")\n",
    "fig.update_layout(yaxis_ticksuffix = '%')\n",
    "#pio.write_html(fig, file='../docs/figs/indicador_municipal_sunburst_servicios.html', include_plotlyjs='cdn', full_html=False)\n",
    "fig.show()\"\"\""
   ]
  },
  {
   "cell_type": "code",
   "execution_count": null,
   "metadata": {},
   "outputs": [],
   "source": [
    "\"\"\"fig = px.line(fechas_groupby, x=fechas_groupby.index, y=\"var\", title='Grafica #. Variación porcentual de casos de violencia hacia las mujeres')\n",
    "fig.update_xaxes(\n",
    "    rangeslider_visible=True,\n",
    "    rangeselector=dict(\n",
    "        buttons=list([\n",
    "            dict(count=1, label=\"1m\", step=\"month\", stepmode=\"backward\"),\n",
    "            dict(count=6, label=\"6m\", step=\"month\", stepmode=\"backward\"),\n",
    "            dict(count=1, label=\"YTD\", step=\"year\", stepmode=\"todate\"),\n",
    "            dict(count=1, label=\"1y\", step=\"year\", stepmode=\"backward\"),\n",
    "            dict(step=\"all\")\n",
    "        ])\n",
    "    )\n",
    ")\n",
    "fig.update_layout(yaxis_ticksuffix = '%')\n",
    "#pio.write_html(fig, file='../docs/figs/indicador_municipal_sunburst_servicios.html', include_plotlyjs='cdn', full_html=False)\n",
    "fig.show()\"\"\""
   ]
  },
  {
   "cell_type": "code",
   "execution_count": null,
   "metadata": {},
   "outputs": [],
   "source": [
    "#fechas_groupby[\"Color\"] = np.where(fechas_groupby[\"var\"]<0, 'Disminución', 'Aumento')\n",
    "#semanas_groupby[\"Color\"] = np.where(semanas_groupby[\"var\"]<0, 'Disminución', 'Aumento')"
   ]
  },
  {
   "cell_type": "code",
   "execution_count": null,
   "metadata": {},
   "outputs": [],
   "source": [
    "\"\"\"fig = px.bar(fechas_groupby, x=fechas_groupby.index, y=\"var\", title='Grafica #. Variación porcentual de casos de violencia hacia las mujeres', color='Color')\n",
    "fig.update_xaxes(\n",
    "    rangeslider_visible=True,\n",
    "    rangeselector=dict(\n",
    "        buttons=list([\n",
    "            dict(count=1, label=\"1m\", step=\"month\", stepmode=\"backward\"),\n",
    "            dict(count=6, label=\"6m\", step=\"month\", stepmode=\"backward\"),\n",
    "            dict(count=1, label=\"YTD\", step=\"year\", stepmode=\"todate\"),\n",
    "            dict(count=1, label=\"1y\", step=\"year\", stepmode=\"backward\"),\n",
    "            dict(step=\"all\")\n",
    "        ])\n",
    "    )\n",
    ")\n",
    "fig.update_layout(yaxis_ticksuffix = '%')\n",
    "#fig.update_xaxes(showgrid=True, ticklabelmode=\"period\", dtick=\"M1\", tickformat=\"%b\\n%Y\")\n",
    "#pio.write_html(fig, file='../docs/figs/indicador_municipal_timeline_variaciones.html', include_plotlyjs='cdn', full_html=False)\n",
    "fig.show()\"\"\""
   ]
  },
  {
   "cell_type": "code",
   "execution_count": null,
   "metadata": {},
   "outputs": [],
   "source": [
    "\"\"\"# semanal group\n",
    "fig = px.histogram(semanas_groupby, x=semanas_groupby.fecha_recepcion, y=\"var\", title='Grafica #. Variación porcentual de casos de violencia hacia las mujeres', color='Color', )\n",
    "fig.update_traces(xbins_size=\"W\")\n",
    "\n",
    "fig.update_layout(bargap=0.1)\n",
    "#fig.add_trace(go.Scatter(mode=\"markers\", x=fechas_groupby.index, y=fechas_groupby.var, name=\"daily\"))\n",
    "\n",
    "fig.update_xaxes(\n",
    "    rangeslider_visible=True,\n",
    "    rangeselector=dict(\n",
    "        buttons=list([\n",
    "            dict(count=1, label=\"1m\", step=\"month\", stepmode=\"backward\"),\n",
    "            dict(count=6, label=\"6m\", step=\"month\", stepmode=\"backward\"),\n",
    "            dict(count=1, label=\"YTD\", step=\"year\", stepmode=\"todate\"),\n",
    "            dict(count=1, label=\"1y\", step=\"year\", stepmode=\"backward\"),\n",
    "            dict(step=\"all\")\n",
    "        ])\n",
    "    )\n",
    ")\n",
    "\n",
    "#fig.update_xaxes(showgrid=True, ticklabelmode=\"period\", dtick=\"M1\", tickformat=\"%b\\n%Y\")\n",
    "fig.update_xaxes(showgrid=True)\n",
    "fig.update_layout(yaxis_ticksuffix = '%')\n",
    "#pio.write_html(fig, file='../docs/figs/indicador_municipal_timeline_histograma_semanal.html', include_plotlyjs='cdn', full_html=False)\n",
    "fig.show() \"\"\""
   ]
  },
  {
   "cell_type": "code",
   "execution_count": null,
   "metadata": {},
   "outputs": [],
   "source": [
    "\"\"\"# DIARIO\n",
    "fig = px.histogram(fechas_groupby, x=fechas_groupby.index, y=\"var\", title='Grafica #. Variación porcentual de casos de violencia hacia las mujeres', color='Color', )\n",
    "fig.update_traces(xbins_size=\"D\")\n",
    "\n",
    "fig.update_layout(bargap=0.1)\n",
    "#fig.add_trace(go.Scatter(mode=\"markers\", x=fechas_groupby.index, y=fechas_groupby.var, name=\"daily\"))\n",
    "\n",
    "fig.update_xaxes(\n",
    "    rangeslider_visible=True,\n",
    "    rangeselector=dict(\n",
    "        buttons=list([\n",
    "            dict(count=1, label=\"1m\", step=\"month\", stepmode=\"backward\"),\n",
    "            dict(count=6, label=\"6m\", step=\"month\", stepmode=\"backward\"),\n",
    "            dict(count=1, label=\"YTD\", step=\"year\", stepmode=\"todate\"),\n",
    "            dict(count=1, label=\"1y\", step=\"year\", stepmode=\"backward\"),\n",
    "            dict(step=\"all\")\n",
    "        ])\n",
    "    )\n",
    ")\n",
    "\n",
    "#fig.update_xaxes(showgrid=True, ticklabelmode=\"period\", dtick=\"M1\", tickformat=\"%b\\n%Y\")\n",
    "fig.update_xaxes(showgrid=True)\n",
    "fig.update_layout(yaxis_ticksuffix = '%')\n",
    "#pio.write_html(fig, file='../docs/figs/indicador_municipal_timeline_histograma.html', include_plotlyjs='cdn', full_html=False)\n",
    "fig.show()  \"\"\""
   ]
  },
  {
   "cell_type": "code",
   "execution_count": null,
   "metadata": {},
   "outputs": [],
   "source": [
    "casos_2020 = victimas_2020.groupby('municipiohechos')['fk_euv'].count()\n",
    "casos_2020 = yuc[['geometry_mun','nom_mun']].merge(casos_2020, right_on=casos_2020.index, left_on='nom_mun', how='left')\n",
    "casos_2020.fillna(0,inplace=True)\n",
    "casos_2020['fk_euv']=casos_2020['fk_euv'].astype(int)\n",
    "casos_2020 = casos_2020.rename(columns={'fk_euv':'casos_2020'})"
   ]
  },
  {
   "cell_type": "code",
   "execution_count": null,
   "metadata": {},
   "outputs": [],
   "source": [
    "casos_2019 = victimas_2019.groupby('municipiohechos')['fk_euv'].count()\n",
    "casos_2019 = yuc[['geometry_mun','nom_mun']].merge(casos_2019, right_on=casos_2019.index, left_on='nom_mun', how='left')\n",
    "casos_2019.fillna(0,inplace=True)\n",
    "casos_2019['fk_euv']=casos_2019['fk_euv'].astype(int)\n",
    "casos_2019 = casos_2019.rename(columns={'fk_euv':'casos_2019'})"
   ]
  },
  {
   "cell_type": "code",
   "execution_count": null,
   "metadata": {},
   "outputs": [],
   "source": [
    "dif_casos = casos_2020.merge(casos_2019[['nom_mun','casos_2019']], left_on='nom_mun', right_on='nom_mun', how='left')"
   ]
  },
  {
   "cell_type": "code",
   "execution_count": null,
   "metadata": {},
   "outputs": [],
   "source": [
    "dif_casos"
   ]
  },
  {
   "cell_type": "code",
   "execution_count": null,
   "metadata": {},
   "outputs": [],
   "source": [
    "var = round(dif_casos[['casos_2019','casos_2020']].pct_change(axis='columns')*100,2)\n",
    "dif_casos = dif_casos.merge(var['casos_2020'], left_on=dif_casos.index, right_on=var.index, how='left')\n",
    "dif_casos.drop(columns=['key_0'], inplace=True)"
   ]
  },
  {
   "cell_type": "code",
   "execution_count": null,
   "metadata": {},
   "outputs": [],
   "source": [
    "dif_casos = dif_casos.rename(columns={'casos_2020_y':'Variación'})"
   ]
  },
  {
   "cell_type": "code",
   "execution_count": null,
   "metadata": {},
   "outputs": [],
   "source": [
    "dif_casos"
   ]
  },
  {
   "cell_type": "code",
   "execution_count": null,
   "metadata": {},
   "outputs": [],
   "source": [
    "total_casos=dif_casos.casos_2020_x.sum()+dif_casos.casos_2019.sum()\n",
    "total_casos"
   ]
  },
  {
   "cell_type": "code",
   "execution_count": null,
   "metadata": {},
   "outputs": [],
   "source": [
    "gdf = geopandas.GeoDataFrame(dif_casos, geometry='geometry_mun')\n",
    "gdf = gdf.set_index('nom_mun')\n",
    "gdf = gdf.to_crs(pyproj.CRS.from_epsg(4326))"
   ]
  },
  {
   "cell_type": "code",
   "execution_count": null,
   "metadata": {},
   "outputs": [],
   "source": [
    "inf = gdf[gdf.Variación.isin([np.inf])].index\n",
    "gdf.loc[inf,'Variación']=gdf.loc[inf,'casos_2020_x']*100"
   ]
  },
  {
   "cell_type": "code",
   "execution_count": null,
   "metadata": {},
   "outputs": [],
   "source": [
    "gdf['total'] = gdf['casos_2020_x'] + gdf['casos_2019']"
   ]
  },
  {
   "cell_type": "code",
   "execution_count": null,
   "metadata": {},
   "outputs": [],
   "source": [
    "gdf"
   ]
  },
  {
   "cell_type": "code",
   "execution_count": null,
   "metadata": {},
   "outputs": [],
   "source": [
    "fig = px.choropleth_mapbox(gdf, geojson=gdf.geometry_mun, \n",
    "                    locations=gdf.index, color=\"Variación\",\n",
    "                    color_continuous_scale=\"RdBu_r\",\n",
    "                    labels={'nom_mun': 'Municipio',\"casos_2020_x\":'Casos 2020','casos_2019':'Casos 2019' },\n",
    "                    #color_continuous_midpoint=np.average(gdf['Variación']),\n",
    "                    #color_continuous_midpoint=0,\n",
    "                    #labels = {'nom_mun':'Municipio', 'municipioV':'Víctimas','EdadVictima':'Edades','tipos':'Violencias','año_recepcion':'Años','TipoRelacion':'Relación','pk_perfil_agresor':'pk agresor'},\n",
    "                    hover_data={\"casos_2020_x\":True,'casos_2019':True },\n",
    "                    title='Mapa 5. Variación porcentual de casos registrados',\n",
    "                    #color_continuous_midpoint=np.average(victimas['Edad']),\n",
    "                    center={\"lat\": 20.400417, \"lon\": -89.134857},\n",
    "                    mapbox_style=\"carto-positron\", \n",
    "                    zoom=7.5,\n",
    "                    #opacity=0.8,\n",
    "                    )\n",
    "fig.update_geos(fitbounds=\"locations\", visible=False)\n",
    "\n",
    "#fig.update_layout(xaxis=dict(domain=[0, 0.5]), yaxis=dict(domain=[0.25, 0.75]))\n",
    "\n",
    "fig.add_annotation(\n",
    "    # The arrow head will be 25% along the x axis, starting from the left\n",
    "    x=0,\n",
    "    # The arrow head will be 40% along the y axis, starting from the bottom\n",
    "    y=0.98,\n",
    "    text=\"<b>Temporalidad:</b> {}-{}<br><b>Total de casos:</b> {}\".format(2019,2020,total_casos),\n",
    "    showarrow=False,\n",
    "    bordercolor=\"black\",\n",
    "    bgcolor=\"white\",\n",
    "    borderwidth=1.5,\n",
    "    opacity=0.8\n",
    ")\n",
    "\n",
    "fig.update(layout = dict(title=dict(x=0.5)))\n",
    "fig.update_layout(\n",
    "    margin={\"r\":0,\"t\":30,\"l\":10,\"b\":10},\n",
    "    coloraxis_colorbar={\n",
    "        'title':'Variación',}, \n",
    "    coloraxis_colorbar_ticksuffix='%'),\n",
    "fig.update_layout(title_y=1, title_x=0)\n",
    "fig.update_layout(coloraxis_showscale=True)\n",
    "fig.update_coloraxes(cmax=100, cmin=-100)\n",
    "\n",
    "#print(\"plotly express hovertemplate:\", fig.data[0].hovertemplate)\n",
    "fig.update_traces(hovertemplate='Municipio=%{location}<br>Casos 2020=%{customdata[0]}<br>Casos 2019=%{customdata[1]}<br>Variación=%{z}%<extra></extra>')\n",
    " \n",
    "pio.write_html(fig, file='../docs/figs/indicador_municipal_mapa_variacion_casos.html', include_plotlyjs='cdn', full_html=False)\n",
    "fig.show()"
   ]
  },
  {
   "cell_type": "code",
   "execution_count": null,
   "metadata": {},
   "outputs": [],
   "source": [
    "fechas_groupby = subtipo.groupby(['fecha_hechos','SubtipoOrd'])['fk_euv'].count()\n",
    "fechas_groupby=pd.DataFrame(fechas_groupby.reset_index())\n",
    "fechas_groupby_emer = fechas_groupby[fechas_groupby.SubtipoOrd=='Emergencia']\n",
    "fechas_groupby_na = fechas_groupby[fechas_groupby.SubtipoOrd=='No especificado']\n",
    "fechas_groupby_prev = fechas_groupby[fechas_groupby.SubtipoOrd=='Preventiva']"
   ]
  },
  {
   "cell_type": "code",
   "execution_count": null,
   "metadata": {},
   "outputs": [],
   "source": [
    "fechas_groupby_total = subtipo.groupby(['fecha_hechos'])['fk_euv'].count()\n",
    "fechas_groupby_total=pd.DataFrame(fechas_groupby_total.reset_index())\n",
    "total = pd.DataFrame(fechas_groupby_total.reset_index().groupby([pd.Grouper(freq='W', key='fecha_hechos')])['fk_euv'].sum()).reset_index()\n",
    "total['var'] = round(total['fk_euv'].pct_change()*100,2)\n",
    "inf = total[total['var'].isin([np.inf, -np.inf])].index\n",
    "total.loc[inf,'var']=100\n",
    "nan = total[total['var'].isin([np.nan])].index\n",
    "total.loc[nan,'var']=0\n",
    "total\n",
    "total"
   ]
  },
  {
   "cell_type": "code",
   "execution_count": null,
   "metadata": {},
   "outputs": [],
   "source": [
    "emer = pd.DataFrame(fechas_groupby_emer.reset_index().groupby([pd.Grouper(freq='W', key='fecha_hechos')])['fk_euv'].sum()).reset_index()\n",
    "emer['var'] = round(emer['fk_euv'].pct_change()*100,2)\n",
    "inf = emer[emer['var'].isin([np.inf, -np.inf])].index\n",
    "emer.loc[inf,'var']=100\n",
    "nan = emer[emer['var'].isin([np.nan])].index\n",
    "emer.loc[nan,'var']=0\n",
    "emer"
   ]
  },
  {
   "cell_type": "code",
   "execution_count": null,
   "metadata": {},
   "outputs": [],
   "source": [
    "prev = pd.DataFrame(fechas_groupby_prev.reset_index().groupby([pd.Grouper(freq='W', key='fecha_hechos')])['fk_euv'].sum()).reset_index()\n",
    "prev['var'] = round(prev['fk_euv'].pct_change()*100,2)\n",
    "inf = prev[prev['var'].isin([np.inf, -np.inf])].index\n",
    "prev.loc[inf,'var']=100\n",
    "nan = prev[prev['var'].isin([np.nan])].index\n",
    "prev.loc[nan,'var']=0\n",
    "prev"
   ]
  },
  {
   "cell_type": "code",
   "execution_count": null,
   "metadata": {},
   "outputs": [],
   "source": [
    "na = pd.DataFrame(fechas_groupby_na.reset_index().groupby([pd.Grouper(freq='W', key='fecha_hechos')])['fk_euv'].sum()).reset_index()\n",
    "na['var'] = round(na['fk_euv'].pct_change()*100,2)\n",
    "inf = na[na['var'].isin([np.inf, -np.inf])].index\n",
    "na.loc[inf,'var']=100\n",
    "nan = na[na['var'].isin([np.nan])].index\n",
    "na.loc[nan,'var']=0\n",
    "na"
   ]
  },
  {
   "cell_type": "code",
   "execution_count": null,
   "metadata": {},
   "outputs": [],
   "source": [
    "\"\"\"fig = px.line(prev, x=prev.fecha_hechos, y=\"fk_euv\", title='Grafica #. Variación de órdenes de proteccion por tipo', \n",
    "                markers=True,hover_data={\"var\": True}, labels={'fecha_hechos':'Fecha Hechos','SubtipoOrd':'Subtipo Orden','fk_euv':'Órdenes de protección'}, \n",
    "                range_x=['2015-01-01',max(semanas_groupby.fecha_hechos)], ) \"\"\"\n",
    "\n",
    "               \n",
    "fig = go.Figure()\n",
    "\n",
    "#fig.add_scatter(x=na.fecha_hechos, y=na.fk_euv, mode='lines+markers', name= 'No especificado')\n",
    "#fig.add_scatter(x=emer.fecha_hechos, y=emer.fk_euv, mode='lines+markers', name='Emergencia')\n",
    "#fig.add_scatter(x=prev.fecha_hechos, y=prev.fk_euv, mode='lines+markers', name='Preventiva')\n",
    "\n",
    "fig.add_trace(go.Scatter(\n",
    "        x=na.fecha_hechos,\n",
    "        y=na.fk_euv,\n",
    "        name='No especificado',\n",
    "        text=na['var'],\n",
    "        #hovertemplate=\n",
    "        #\"<b>%{text}</b><br><br>\" +\n",
    "        #\"GDP per Capita: %{x:$,.0f}<br>\" +\n",
    "        #\"Life Expectation: %{y:.0%}<br>\" +\n",
    "        #\"Population: %{marker.size:,}\" +\n",
    "        #\"<extra></extra>\",\n",
    "        #marker_size=continent['size'],\n",
    "        mode='markers+lines'\n",
    "        ))\n",
    "fig.add_trace(go.Scatter(\n",
    "        x=emer.fecha_hechos,\n",
    "        y=emer.fk_euv,\n",
    "        name='Emergencia',\n",
    "        text=emer['var'],\n",
    "        #hovertemplate=\n",
    "        #\"<b>%{text}</b><br><br>\" +\n",
    "        #\"GDP per Capita: %{x:$,.0f}<br>\" +\n",
    "        #\"Life Expectation: %{y:.0%}<br>\" +\n",
    "        #\"Population: %{marker.size:,}\" +\n",
    "        #\"<extra></extra>\",\n",
    "        #marker_size=continent['size'],\n",
    "        mode='markers+lines'\n",
    "        ))\n",
    "fig.add_trace(go.Scatter(\n",
    "        x=prev.fecha_hechos,\n",
    "        y=prev.fk_euv,\n",
    "        name='Preventiva',\n",
    "        text=prev['var'],\n",
    "        #hovertemplate=\n",
    "        #\"<b>%{text}</b><br><br>\" +\n",
    "        #\"GDP per Capita: %{x:$,.0f}<br>\" +\n",
    "        #\"Life Expectation: %{y:.0%}<br>\" +\n",
    "        #\"Population: %{marker.size:,}\" +\n",
    "        #\"<extra></extra>\",\n",
    "        #marker_size=continent['size'],\n",
    "        mode='markers+lines'\n",
    "        ))\n",
    "\n",
    "fig.add_trace(go.Scatter(\n",
    "        x=total.fecha_hechos,\n",
    "        y=total.fk_euv,\n",
    "        name='Total',\n",
    "        text=total['var'],\n",
    "        #hovertemplate=\n",
    "        #\"<b>%{text}</b><br><br>\" +\n",
    "        #\"GDP per Capita: %{x:$,.0f}<br>\" +\n",
    "        #\"Life Expectation: %{y:.0%}<br>\" +\n",
    "        #\"Population: %{marker.size:,}\" +\n",
    "        #\"<extra></extra>\",\n",
    "        #marker_size=continent['size'],\n",
    "        mode='markers+lines'\n",
    "        ))\n",
    "\n",
    "\n",
    "fig.update_xaxes(\n",
    "    rangeslider_visible=True,\n",
    "    rangeselector=dict(\n",
    "        buttons=list([\n",
    "            dict(count=1, label=\"1m\", step=\"month\", stepmode=\"backward\"),\n",
    "            dict(count=6, label=\"6m\", step=\"month\", stepmode=\"backward\"),\n",
    "            dict(count=1, label=\"YTD\", step=\"year\", stepmode=\"todate\"),\n",
    "            dict(count=1, label=\"1y\", step=\"year\", stepmode=\"backward\"),\n",
    "            #dict(step=\"all\")\n",
    "        ])\n",
    "    )\n",
    ")\n",
    "\n",
    "#print(\"plotly express hovertemplate:\", fig.data[0].hovertemplate)\n",
    "fig.update_traces(hovertemplate='Fecha hecho=%{x}<br>Órdenes registradas=%{y}<br>Variación=%{text}%<extra></extra>',)\n",
    "fig.update_xaxes(range=['2015-01-01',max(semanas_groupby.fecha_hechos)])\n",
    "fig.update_layout(\n",
    "    title=\"Grafica 10. Variación de órdenes de proteccion por tipo\",xaxis_title=\"Fecha Hechos\", yaxis_title=\"Órdenes de Protección\")\n",
    "#fig.update_xaxes(type=\"log\")\n",
    "pio.write_html(fig, file='../docs/figs/indicador_municipal_timeline_subtipo.html', include_plotlyjs='cdn', full_html=False)\n",
    "fig.show()"
   ]
  },
  {
   "cell_type": "code",
   "execution_count": null,
   "metadata": {},
   "outputs": [],
   "source": []
  }
 ],
 "metadata": {
  "interpreter": {
   "hash": "76e3749c4d8f143b85e17554ce3ae58a0fcf4212a15be7e0134aaba6048266e3"
  },
  "kernelspec": {
   "display_name": "Python 3.8.12 64-bit ('base': conda)",
   "name": "python3"
  },
  "language_info": {
   "codemirror_mode": {
    "name": "ipython",
    "version": 3
   },
   "file_extension": ".py",
   "mimetype": "text/x-python",
   "name": "python",
   "nbconvert_exporter": "python",
   "pygments_lexer": "ipython3",
   "version": "3.8.12"
  },
  "orig_nbformat": 4
 },
 "nbformat": 4,
 "nbformat_minor": 2
}
