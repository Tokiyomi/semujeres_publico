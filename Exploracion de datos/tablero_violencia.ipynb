{
 "cells": [
  {
   "cell_type": "code",
   "execution_count": null,
   "source": [
    "# Librerias utiles\r\n",
    "import pandas as pd \r\n",
    "import numpy as np \r\n",
    "import matplotlib.pyplot as plt \r\n",
    "import plotly\r\n",
    "import seaborn as sns \r\n",
    "import plotly.express as px\r\n",
    "import missingno as msno\r\n",
    "import plotly.io as pio\r\n",
    "import plotly.graph_objects as go\r\n",
    "from mapsmx import MapsMX\r\n",
    "import geopandas\r\n",
    "import pyproj\r\n",
    "import json\r\n",
    "sns.set_theme()"
   ],
   "outputs": [],
   "metadata": {}
  },
  {
   "cell_type": "code",
   "execution_count": null,
   "source": [
    "state = MapsMX().get_geo('state')\r\n",
    "muns = MapsMX().get_geo('municipality')\r\n",
    "yuc = muns[muns['cve_ent']=='31']"
   ],
   "outputs": [],
   "metadata": {}
  },
  {
   "cell_type": "code",
   "execution_count": null,
   "source": [
    "feminicidios = pd.read_csv('../BD-sucias/feminicidios-corregida.csv', low_memory=False)\r\n",
    "feminicidios.fecha_recepcion = pd.to_datetime(feminicidios.fecha_recepcion, format='%d/%m/%Y', errors='ignore')\r\n",
    "feminicidios['año_recepcion'] = feminicidios['fecha_recepcion'].dt.year\r\n",
    "nas = feminicidios[(feminicidios.TipoRelacion.isna()==True)|(feminicidios.TipoRelacion=='Seleccione')].index\r\n",
    "feminicidios.loc[nas,'TipoRelacion'] = 'Desconocido'\r\n",
    "com = feminicidios[(feminicidios.TipoRelacion=='En la comunidad')].index\r\n",
    "feminicidios.loc[com,'TipoRelacion'] = 'Comunidad'\r\n",
    "#euv_feminicidios = feminicidios.fk_euv.unique()"
   ],
   "outputs": [],
   "metadata": {}
  },
  {
   "cell_type": "code",
   "execution_count": null,
   "source": [
    "servicios = pd.read_csv('../BD-sucias/servicios_01_OCTUBRE_2021.csv', low_memory=False)"
   ],
   "outputs": [],
   "metadata": {}
  },
  {
   "cell_type": "code",
   "execution_count": null,
   "source": [
    "victimas = pd.read_csv('reportes/reporte_semujeres_01_OCTUBRE_2021.csv',low_memory=False, dtype={'pk_perfil_agresor': 'object','num_hijos':'int32'}, parse_dates=['fecha_recepcion','fecha_hechos'])"
   ],
   "outputs": [],
   "metadata": {}
  },
  {
   "cell_type": "code",
   "execution_count": null,
   "source": [
    "subtipo = pd.read_csv('../BD-sucias/subtipo_01_OCTUBRE_2021.csv', low_memory=False)\r\n",
    "subtipo.fecha_recepcion = pd.to_datetime(subtipo.fecha_recepcion, format='%d/%m/%Y', errors='ignore')\r\n",
    "subtipo.fecha_hechos = pd.to_datetime(subtipo.fecha_hechos, format='%d/%m/%Y', errors='ignore')\r\n",
    "subtipo = subtipo.dropna()\r\n",
    "selecciones = subtipo[subtipo.SubtipoOrd=='Seleccione'].index\r\n",
    "subtipo.loc[selecciones, 'SubtipoOrd'] = 'No especificado'"
   ],
   "outputs": [],
   "metadata": {}
  },
  {
   "cell_type": "markdown",
   "source": [
    "## Casos de violencia hacia las mujeres por tipo de violencia (Estatal/Municipal)"
   ],
   "metadata": {}
  },
  {
   "cell_type": "code",
   "execution_count": null,
   "source": [
    "victimas = pd.concat([victimas, victimas.tipos.str.get_dummies(sep=',')], axis=1)"
   ],
   "outputs": [],
   "metadata": {}
  },
  {
   "cell_type": "code",
   "execution_count": null,
   "source": [
    "victimas['Feminicida']=0\r\n",
    "fems = victimas[victimas['descripcion_otro_tipos']=='FEMINICIDA'].index\r\n",
    "victimas.loc[fems,'Feminicida'] = 1\r\n",
    "victimas.loc[fems,'Otro'] = 0"
   ],
   "outputs": [],
   "metadata": {}
  },
  {
   "cell_type": "code",
   "execution_count": null,
   "source": [
    "victimas.info()"
   ],
   "outputs": [],
   "metadata": {}
  },
  {
   "cell_type": "code",
   "execution_count": null,
   "source": [
    "tipos = victimas.iloc[:,[i for i in range(42,49)]]\r\n",
    "tipos = pd.DataFrame(tipos.sum())\r\n",
    "tipos = tipos.sort_values(0,ascending=False)\r\n",
    "#new_row = pd.Series(data={0:sum(victimas.descripcion_otro_tipos=='FEMINICIDA')}, name='Feminicida')\r\n",
    "#append row to the dataframe\r\n",
    "#tipos = tipos.append(new_row)\r\n",
    "#tipos.loc['Otro',0] = tipos.loc['Otro',0] - tipos.loc['Feminicida',0]\r\n",
    "tipos = tipos.sort_values(0, ascending=False)\r\n",
    "y = tipos[0].values\r\n",
    "y_total = len(victimas)\r\n",
    "fig = px.bar(x=tipos.index,\r\n",
    "            y=tipos[0],\r\n",
    "            text= np.round(y/y_total*100,2),\r\n",
    "            labels = {'x': 'Tipo de violencia', \"y\":'Número de casos', 'text':'Porcentaje'},\r\n",
    "            color=px.colors.qualitative.Prism[:7],\r\n",
    "            color_discrete_map=\"identity\",\r\n",
    "            title='Gráfica 1. Casos de violencia hacia las mujeres por tipo de violencia'\r\n",
    "            )\r\n",
    "fig.update_xaxes(type='category')\r\n",
    "fig.update_layout( xaxis_title=None,  height=500)\r\n",
    "fig.update_traces(texttemplate='%{text} %')\r\n",
    "#fig.update_xaxes(visible=False, showticklabels=False)\r\n",
    "#pio.write_html(fig, file='../docs/figs/indicador_municipal_barras_violencias.html.html',include_plotlyjs='cdn', full_html=False)\r\n",
    "#print(fig.data[0].hovertemplate)\r\n",
    "fig.update_traces(hovertemplate='Tipo de violencia=%{x}<br>Número de casos=%{y}<br>Porcentaje=%{text} %<extra></extra>')\r\n",
    "fig.show()"
   ],
   "outputs": [],
   "metadata": {}
  },
  {
   "cell_type": "code",
   "execution_count": null,
   "source": [
    "victimas_2020 = victimas[victimas.año_recepcion==2020]"
   ],
   "outputs": [],
   "metadata": {}
  },
  {
   "cell_type": "code",
   "execution_count": null,
   "source": [
    "victimas_2019 = victimas[victimas.año_recepcion==2019]"
   ],
   "outputs": [],
   "metadata": {}
  },
  {
   "cell_type": "code",
   "execution_count": null,
   "source": [
    "# censo poblacion y vivienda 2020 inegi\r\n",
    "inegi_2020 = pd.read_csv('censo_yuc.csv')\r\n",
    "pob_fem = inegi_2020[inegi_2020.NOM_LOC=='Total del Municipio'][['MUN','NOM_MUN','POBFEM' ]].reset_index(drop=True)"
   ],
   "outputs": [],
   "metadata": {}
  },
  {
   "cell_type": "code",
   "execution_count": null,
   "source": [
    "feminicidios = feminicidios.merge(victimas[['fk_euv','Edad Agresor']], left_on='fk_euv', right_on='fk_euv', how='left')\r\n",
    "feminicidios = feminicidios.drop_duplicates(keep='last')\r\n",
    "feminicidios = feminicidios.reset_index(drop=True)"
   ],
   "outputs": [],
   "metadata": {}
  },
  {
   "cell_type": "code",
   "execution_count": null,
   "source": [
    "feminicidios_sent = feminicidios[feminicidios.Sentencia.str.contains(\"TENTATIVA\")==False]\r\n",
    "tentativas_sent = feminicidios[feminicidios.Sentencia.str.contains(\"TENTATIVA\")==True]"
   ],
   "outputs": [],
   "metadata": {}
  },
  {
   "cell_type": "code",
   "execution_count": null,
   "source": [
    "fem_mun = feminicidios_sent.municipioV.value_counts()\r\n",
    "fem_mun = yuc[['geometry_mun','nom_mun']].merge(fem_mun, right_on=fem_mun.index, left_on='nom_mun', how='left')\r\n",
    "fem_mun.fillna(0,inplace=True)\r\n",
    "fem_mun.municipioV = fem_mun.municipioV.astype(int)\r\n",
    "\r\n",
    "fem_mun_tent = tentativas_sent.municipioV.value_counts()\r\n",
    "fem_mun_tent = yuc[['geometry_mun','nom_mun']].merge(fem_mun_tent, right_on=fem_mun_tent.index, left_on='nom_mun', how='left')\r\n",
    "fem_mun_tent.fillna(0,inplace=True)\r\n",
    "fem_mun_tent.municipioV = fem_mun_tent.municipioV.astype(int)"
   ],
   "outputs": [],
   "metadata": {}
  },
  {
   "cell_type": "code",
   "execution_count": null,
   "source": [
    "import re\r\n",
    "def mayusculas(s):\r\n",
    "    return ' '.join([i.strip() for i in re.findall('[A-Z][^A-Z]*', s)])"
   ],
   "outputs": [],
   "metadata": {}
  },
  {
   "cell_type": "code",
   "execution_count": null,
   "source": [
    "def numeros(n):\r\n",
    "    return ', '.join(n.split('.0'))"
   ],
   "outputs": [],
   "metadata": {}
  },
  {
   "cell_type": "code",
   "execution_count": null,
   "source": [
    "def tokenize(s):\r\n",
    "    temp = s.sub(',','')\r\n",
    "    return ', '.join(temp)"
   ],
   "outputs": [],
   "metadata": {}
  },
  {
   "cell_type": "code",
   "execution_count": null,
   "source": [
    "def unir_unicos(s):\r\n",
    "    return ', '.join(set(s))"
   ],
   "outputs": [],
   "metadata": {}
  },
  {
   "cell_type": "code",
   "execution_count": null,
   "source": [
    "def unir_resto(s):\r\n",
    "    return ', '.join(set(s.split(' ')))"
   ],
   "outputs": [],
   "metadata": {}
  },
  {
   "cell_type": "code",
   "execution_count": null,
   "source": [
    "feminicidios.Sentencia.value_counts()"
   ],
   "outputs": [],
   "metadata": {}
  },
  {
   "cell_type": "code",
   "execution_count": null,
   "source": [
    "merged = fem_mun.merge(feminicidios_sent[['EdadVictima','Edad Agresor','tipos','año_recepcion','TipoRelacion','pk_perfil_agresor','municipioV']], left_on='nom_mun', right_on='municipioV', how='left')\r\n",
    "#merged.fillna(0,inplace=True)\r\n",
    "merged = merged.replace(np.nan, '').astype(str)\r\n",
    "merged[merged.notnull()] = merged[merged.notnull()].astype(object)\r\n",
    "#merged.pk_perfil_agresor = merged.pk_perfil_agresor.astype(object)\r\n",
    "merged.drop(columns='municipioV_y',inplace=True)\r\n",
    "merged = merged[['nom_mun','EdadVictima','Edad Agresor','tipos','año_recepcion','TipoRelacion','pk_perfil_agresor']].groupby('nom_mun').sum()\r\n",
    "\r\n",
    "merged.TipoRelacion=merged.TipoRelacion.apply(lambda x: mayusculas(x))\r\n",
    "merged.tipos=merged.tipos.apply(lambda x: mayusculas(x))\r\n",
    "merged.EdadVictima=merged.EdadVictima.apply(lambda x: numeros(x))\r\n",
    "merged['Edad Agresor']=merged['Edad Agresor'].apply(lambda x: numeros(x))\r\n",
    "merged.pk_perfil_agresor=merged.pk_perfil_agresor.apply(lambda x: numeros(x))\r\n",
    "merged.año_recepcion=merged.año_recepcion.apply(lambda x: numeros(x))\r\n",
    "merged = merged.replace(',','', regex=True)\r\n",
    "\r\n",
    "\r\n",
    "merged.tipos = merged.tipos.str.split()\r\n",
    "merged.tipos = merged.tipos.apply(lambda x: unir_unicos(x))\r\n",
    "merged.EdadVictima = merged.EdadVictima.apply(lambda x: unir_resto(x))\r\n",
    "merged['Edad Agresor'] = merged['Edad Agresor'].apply(lambda x: unir_resto(x))\r\n",
    "merged.TipoRelacion = merged.TipoRelacion.apply(lambda x: unir_resto(x))\r\n",
    "merged.pk_perfil_agresor = merged.pk_perfil_agresor.apply(lambda x: unir_resto(x))\r\n",
    "merged.año_recepcion = merged.año_recepcion.apply(lambda x: unir_resto(x))\r\n",
    "\r\n",
    "test = merged.EdadVictima.apply(lambda x: x.split(', '))\r\n",
    "merged['len'] = test.apply(lambda x: len([int(i) for i in x if i.isdigit()==True]))\r\n",
    "test = test.apply(lambda x: sum([int(i) for i in x if i.isdigit()==True]))\r\n",
    "merged['EdadVictima'] = round(test.values/merged.len)\r\n",
    "\r\n",
    "test = merged['Edad Agresor'].apply(lambda x: x.split(', '))\r\n",
    "merged['len'] = test.apply(lambda x: len([int(i) for i in x if i.isdigit()==True]))\r\n",
    "test = test.apply(lambda x: sum([int(i) for i in x if i.isdigit()==True]))\r\n",
    "merged['Edad Agresor'] = round(test.values/merged.len)\r\n",
    "\r\n",
    "merged = merged.replace(np.nan, '').astype(str)\r\n",
    "merged = merged.replace('0.0', 'Sin datos').astype(str)\r\n",
    "#merged['EdadVictima'].values\r\n",
    "#merged.to_csv('test.csv', encoding='utf-8-sig')\r\n",
    "\r\n",
    "fem_mun = fem_mun.merge(merged, left_on='nom_mun', right_on=merged.index, how='left')\r\n",
    "fem_mun.fillna('', inplace=True)\r\n",
    "\r\n",
    "fem_mun = fem_mun.merge(pob_fem[['NOM_MUN','POBFEM']], left_on='nom_mun', right_on='NOM_MUN', how='left')\r\n",
    "\r\n",
    "fem_mun['bins']=pd.cut(fem_mun[\"municipioV\"],\r\n",
    "       bins=[-1, 0.5, 1.5, 2.5,np.inf], \r\n",
    "       labels=['0','1','2','3 o más'])\r\n",
    "\r\n",
    "gdf = geopandas.GeoDataFrame(fem_mun, geometry='geometry_mun')\r\n",
    "gdf = gdf.set_index('nom_mun')\r\n",
    "gdf = gdf.to_crs(pyproj.CRS.from_epsg(4326))"
   ],
   "outputs": [],
   "metadata": {}
  },
  {
   "cell_type": "code",
   "execution_count": null,
   "source": [
    "merged = fem_mun_tent.merge(feminicidios_sent[['EdadVictima','Edad Agresor','tipos','año_recepcion','TipoRelacion','pk_perfil_agresor','municipioV']], left_on='nom_mun', right_on='municipioV', how='left')\r\n",
    "#merged.fillna(0,inplace=True)\r\n",
    "merged = merged.replace(np.nan, '').astype(str)\r\n",
    "merged[merged.notnull()] = merged[merged.notnull()].astype(object)\r\n",
    "#merged.pk_perfil_agresor = merged.pk_perfil_agresor.astype(object)\r\n",
    "merged.drop(columns='municipioV_y',inplace=True)\r\n",
    "merged = merged[['nom_mun','EdadVictima','Edad Agresor','tipos','año_recepcion','TipoRelacion','pk_perfil_agresor']].groupby('nom_mun').sum()\r\n",
    "\r\n",
    "merged.TipoRelacion=merged.TipoRelacion.apply(lambda x: mayusculas(x))\r\n",
    "merged.tipos=merged.tipos.apply(lambda x: mayusculas(x))\r\n",
    "merged.EdadVictima=merged.EdadVictima.apply(lambda x: numeros(x))\r\n",
    "merged['Edad Agresor']=merged['Edad Agresor'].apply(lambda x: numeros(x))\r\n",
    "merged.pk_perfil_agresor=merged.pk_perfil_agresor.apply(lambda x: numeros(x))\r\n",
    "merged.año_recepcion=merged.año_recepcion.apply(lambda x: numeros(x))\r\n",
    "merged = merged.replace(',','', regex=True)\r\n",
    "\r\n",
    "\r\n",
    "merged.tipos = merged.tipos.str.split()\r\n",
    "merged.tipos = merged.tipos.apply(lambda x: unir_unicos(x))\r\n",
    "merged.EdadVictima = merged.EdadVictima.apply(lambda x: unir_resto(x))\r\n",
    "merged['Edad Agresor'] = merged['Edad Agresor'].apply(lambda x: unir_resto(x))\r\n",
    "merged.TipoRelacion = merged.TipoRelacion.apply(lambda x: unir_resto(x))\r\n",
    "merged.pk_perfil_agresor = merged.pk_perfil_agresor.apply(lambda x: unir_resto(x))\r\n",
    "merged.año_recepcion = merged.año_recepcion.apply(lambda x: unir_resto(x))\r\n",
    "\r\n",
    "test = merged.EdadVictima.apply(lambda x: x.split(', '))\r\n",
    "merged['len'] = test.apply(lambda x: len([int(i) for i in x if i.isdigit()==True]))\r\n",
    "test = test.apply(lambda x: sum([int(i) for i in x if i.isdigit()==True]))\r\n",
    "merged['EdadVictima'] = round(test.values/merged.len)\r\n",
    "\r\n",
    "test = merged['Edad Agresor'].apply(lambda x: x.split(', '))\r\n",
    "merged['len'] = test.apply(lambda x: len([int(i) for i in x if i.isdigit()==True]))\r\n",
    "test = test.apply(lambda x: sum([int(i) for i in x if i.isdigit()==True]))\r\n",
    "merged['Edad Agresor'] = round(test.values/merged.len)\r\n",
    "\r\n",
    "merged = merged.replace(np.nan, '').astype(str)\r\n",
    "merged = merged.replace('0.0', 'Sin datos').astype(str)\r\n",
    "#merged['EdadVictima'].values\r\n",
    "#merged.to_csv('test.csv', encoding='utf-8-sig')\r\n",
    "\r\n",
    "fem_mun_tent = fem_mun_tent.merge(merged, left_on='nom_mun', right_on=merged.index, how='left')\r\n",
    "fem_mun_tent.fillna('', inplace=True)\r\n",
    "\r\n",
    "fem_mun_tent =fem_mun_tent.merge(pob_fem[['NOM_MUN','POBFEM']], left_on='nom_mun', right_on='NOM_MUN', how='left')\r\n",
    "\r\n",
    "fem_mun_tent['bins']=pd.cut(fem_mun_tent[\"municipioV\"],\r\n",
    "       bins=[-1, 0.5, 1.5, 2.5,np.inf], \r\n",
    "       labels=['0','1','2','2 o más'])\r\n",
    "\r\n",
    "gdf_tent = geopandas.GeoDataFrame(fem_mun_tent, geometry='geometry_mun')\r\n",
    "gdf_tent = gdf_tent.set_index('nom_mun')\r\n",
    "gdf_tent = gdf_tent.to_crs(pyproj.CRS.from_epsg(4326))"
   ],
   "outputs": [],
   "metadata": {}
  },
  {
   "cell_type": "code",
   "execution_count": null,
   "source": [
    "# colores\r\n",
    "colors = px.colors.qualitative.Prism[4:8]"
   ],
   "outputs": [],
   "metadata": {}
  },
  {
   "cell_type": "code",
   "execution_count": null,
   "source": [
    "fig = px.choropleth_mapbox(gdf_tent, geojson=gdf_tent.geometry_mun, \r\n",
    "                    locations=gdf_tent.index, color='bins',\r\n",
    "                    #color_continuous_scale=\"Viridis\",\r\n",
    "                    color_discrete_sequence=colors,\r\n",
    "                    labels = {'bins':'Núm. Víctimas' ,'nom_mun':'Municipio', 'municipioV':'Víctimas', 'Edad Agresor':'Edad Promedio Agresores','EdadVictima':'Edad Promedio Víctimas','tipos':'Violencias','año_recepcion':'Años','TipoRelacion':'Vínculo con agresor','pk_perfil_agresor':'pk agresor'},\r\n",
    "                    hover_data={ 'bins':True ,\"municipioV\":True,'EdadVictima':True, 'Edad Agresor':True , 'tipos':True,'año_recepcion':True,'TipoRelacion':True,'pk_perfil_agresor':False},\r\n",
    "                    title='Mapa 2. Tentativas de Feminicidios Registradas por Municipio',\r\n",
    "                    #color_continuous_midpoint=np.average(gdf['municipioV'], weights=gdf['POBFEM'].astype(int)),\r\n",
    "                    center={\"lat\": 20.400417, \"lon\": -89.134857},\r\n",
    "                    mapbox_style=\"carto-positron\", \r\n",
    "                    zoom=7.5,\r\n",
    "                    #opacity=0.5,\r\n",
    "                    )\r\n",
    "fig.update_geos(fitbounds=\"locations\", visible=False)\r\n",
    "\r\n",
    "#fig.update_layout(xaxis=dict(domain=[0, 0.5]), yaxis=dict(domain=[0.25, 0.75]))\r\n",
    "\r\n",
    "fig.add_annotation(\r\n",
    "    # The arrow head will be 25% along the x axis, starting from the left\r\n",
    "    x=0,\r\n",
    "    # The arrow head will be 40% along the y axis, starting from the bottom\r\n",
    "    y=0.98,\r\n",
    "    text=\"<b>Temporalidad:</b> {}-{}<br><b>Total de casos:</b> {}\".format(min(feminicidios.año_recepcion),max(feminicidios.año_recepcion),(gdf_tent.municipioV.sum())),\r\n",
    "    showarrow=False,\r\n",
    "    bordercolor=\"black\",\r\n",
    "    bgcolor=\"white\",\r\n",
    "    borderwidth=1.5,\r\n",
    "    opacity=0.8\r\n",
    ")\r\n",
    "\r\n",
    "fig.update(layout = dict(title=dict(x=0.5)))\r\n",
    "fig.update_layout(\r\n",
    "    margin={\"r\":0,\"t\":30,\"l\":10,\"b\":10},\r\n",
    "    coloraxis_colorbar={\r\n",
    "        'title':'Log10'})\r\n",
    "fig.update_layout(title_y=1, title_x=0)\r\n",
    "fig.update_layout(coloraxis_showscale=True)\r\n",
    "pio.write_html(fig, file='../docs/figs/indicador_municipal_mapa_tentativas_escalado.html', include_plotlyjs='cdn', full_html=False)\r\n",
    "fig.show()"
   ],
   "outputs": [],
   "metadata": {}
  },
  {
   "cell_type": "code",
   "execution_count": null,
   "source": [
    "fig = px.choropleth_mapbox(gdf, geojson=gdf.geometry_mun, \r\n",
    "                    locations=gdf.index, color='bins',\r\n",
    "                    #color_continuous_scale=\"Viridis\",\r\n",
    "                    color_discrete_sequence=colors,\r\n",
    "                    labels = {'bins':'Núm. Víctimas' ,'nom_mun':'Municipio', 'municipioV':'Víctimas', 'Edad Agresor':'Edad Promedio Agresores','EdadVictima':'Edad Promedio Víctimas','tipos':'Violencias','año_recepcion':'Años','TipoRelacion':'Vínculo con agresor','pk_perfil_agresor':'pk agresor'},\r\n",
    "                    hover_data={ 'bins':True ,\"municipioV\":True,'EdadVictima':True, 'Edad Agresor':True , 'tipos':True,'año_recepcion':True,'TipoRelacion':True,'pk_perfil_agresor':False},\r\n",
    "                    title='Mapa 3. Feminicidios Registrados por Municipio',\r\n",
    "                    #color_continuous_midpoint=np.average(gdf['municipioV'], weights=gdf['POBFEM'].astype(int)),\r\n",
    "                    center={\"lat\": 20.400417, \"lon\": -89.134857},\r\n",
    "                    mapbox_style=\"carto-positron\", \r\n",
    "                    zoom=7.5,\r\n",
    "                    #opacity=0.5,\r\n",
    "                    )\r\n",
    "fig.update_geos(fitbounds=\"locations\", visible=False)\r\n",
    "\r\n",
    "#fig.update_layout(xaxis=dict(domain=[0, 0.5]), yaxis=dict(domain=[0.25, 0.75]))\r\n",
    "\r\n",
    "fig.add_annotation(\r\n",
    "    # The arrow head will be 25% along the x axis, starting from the left\r\n",
    "    x=0,\r\n",
    "    # The arrow head will be 40% along the y axis, starting from the bottom\r\n",
    "    y=0.98,\r\n",
    "    text=\"<b>Temporalidad:</b> {}-{}<br><b>Total de casos:</b> {}\".format(min(feminicidios.año_recepcion),max(feminicidios.año_recepcion),(gdf.municipioV.sum())),\r\n",
    "    showarrow=False,\r\n",
    "    bordercolor=\"black\",\r\n",
    "    bgcolor=\"white\",\r\n",
    "    borderwidth=1.5,\r\n",
    "    opacity=0.8\r\n",
    ")\r\n",
    "\r\n",
    "fig.update(layout = dict(title=dict(x=0.5)))\r\n",
    "fig.update_layout(\r\n",
    "    margin={\"r\":0,\"t\":30,\"l\":10,\"b\":10},\r\n",
    "    coloraxis_colorbar={\r\n",
    "        'title':'Log10'})\r\n",
    "fig.update_layout(title_y=1, title_x=0)\r\n",
    "fig.update_layout(coloraxis_showscale=True)\r\n",
    "pio.write_html(fig, file='../docs/figs/indicador_municipal_mapa_feminicidios_escalado.html', include_plotlyjs='cdn', full_html=False)\r\n",
    "fig.show()"
   ],
   "outputs": [],
   "metadata": {}
  },
  {
   "cell_type": "code",
   "execution_count": null,
   "source": [
    "fig = px.treemap(gdf,\r\n",
    "                 path=[px.Constant(\"Yucatán\"), 'NOM_MUN'],\r\n",
    "                 values='municipioV',\r\n",
    "                 hover_data={\"municipioV\":True,'EdadVictima':True,'tipos':True,'año_recepcion':True,'TipoRelacion':True,'pk_perfil_agresor':True},\r\n",
    "                 labels = {'nom_mun':'Municipio', 'municipioV':'Víctimas','EdadVictima':'Edades','tipos':'Violencias','año_recepcion':'Años','TipoRelacion':'Relación','pk_perfil_agresor':'pk agresor'},\r\n",
    "                 title='Gráfica 2. Feminicidios y Tentativas Registrados por Municipio {}-{}'.format(min(feminicidios.año_recepcion),max(feminicidios.año_recepcion)),\r\n",
    "                 #text='ola'\r\n",
    "                 )\r\n",
    "\r\n",
    "#fig.update_layout(margin = dict(t=50, l=25, r=25, b=25))\r\n",
    "#print(\"plotly express hovertemplate:\", fig.data[0].hovertemplate)\r\n",
    "fig.update_traces(hovertemplate='Víctimas=%{customdata[0]}<br>Edades=%{customdata[1]}<br>Violencias=%{customdata[2]}<br>Años=%{customdata[3]}')\r\n",
    "fig.update_traces(textinfo=\"label+value+percent root\",)\r\n",
    "pio.write_html(fig, file='../docs/figs/indicador_municipal_treemap_feminicidios.html', include_plotlyjs='cdn', full_html=False)\r\n",
    "fig.show()"
   ],
   "outputs": [],
   "metadata": {}
  },
  {
   "cell_type": "code",
   "execution_count": null,
   "source": [
    "casos_mun = victimas_2020.groupby('municipiohechos')['fk_euv'].count()\r\n",
    "casos_mun = yuc[['geometry_mun','nom_mun']].merge(casos_mun, right_on=casos_mun.index, left_on='nom_mun', how='left')\r\n",
    "casos_mun.fillna(0,inplace=True)\r\n",
    "casos_mun = pd.DataFrame(casos_mun.merge(pob_fem,left_on='nom_mun',right_on='NOM_MUN',how='left'))\r\n",
    "casos_mun[['fk_euv','POBFEM']] = casos_mun[['fk_euv','POBFEM']].astype(int)"
   ],
   "outputs": [],
   "metadata": {}
  },
  {
   "cell_type": "code",
   "execution_count": null,
   "source": [
    "mun_violencias = victimas_2020.groupby('municipiohechos')[['Psicológica','Física','Económica','Sexual','Patrimonial','Feminicida','Otro']].sum()\r\n",
    "mun_violencias = yuc[['geometry_mun','nom_mun']].merge(mun_violencias, right_on=mun_violencias.index, left_on='nom_mun', how='left')\r\n",
    "#mun_violencias = mun_violencias.merge(yuc[['geometry_mun','nom_mun']], left_on=mun_violencias.index, right_on='nom_mun', how='right')\r\n",
    "#for violencia in ['Psicológica','Física','Económica','Sexual','Patrimonial','Feminicida','Otro']:\r\n",
    "    #total = mun_violencias[violencia].sum()\r\n",
    "    #mun_violencias['{}_rel'.format(violencia)] = round(mun_violencias[violencia]/total*100,2)\r\n",
    "mun_violencias.fillna(0, inplace=True)"
   ],
   "outputs": [],
   "metadata": {}
  },
  {
   "cell_type": "code",
   "execution_count": null,
   "source": [
    "mun_violencias = pd.DataFrame(mun_violencias.merge(pob_fem,left_on='nom_mun',right_on='NOM_MUN',how='left'))\r\n",
    "for violencia in ['Psicológica','Física','Económica','Sexual','Patrimonial','Feminicida','Otro']:\r\n",
    "    mun_violencias['{} Tasa 1000'.format(violencia)] = round(mun_violencias[violencia]/mun_violencias['POBFEM'].astype(int)*1000,2)\r\n",
    "    #mun_violencias['{}_text'.format(violencia)] = mun_violencias.apply(lambda row: f\"Casos: {int(row[violencia])}<br>POBFEM: {int(row['POBFEM'])}\", axis=1)\r\n",
    "    mun_violencias['{}_casos'.format(violencia)] = mun_violencias.apply(lambda row: int(row[violencia]), axis=1)\r\n",
    "\r\n",
    "mun_violencias = mun_violencias.merge(casos_mun[['fk_euv','nom_mun']], left_on=mun_violencias.index, right_on=casos_mun.index, how='left')\r\n",
    "mun_violencias[['fk_euv','POBFEM']] = mun_violencias[['fk_euv','POBFEM']].astype(int)\r\n",
    "mun_violencias['Tasa 1000 Total'] =round(mun_violencias.fk_euv/mun_violencias.POBFEM*1000,2)\r\n",
    "mun_violencias.drop(['key_0','nom_mun_y','NOM_MUN','MUN'],axis='columns', inplace=True)\r\n",
    "#mun_violencias['text_total'] = mun_violencias.apply(lambda row: f\"Casos Totales: {int(row['fk_euv'])}<br>POBFEM: {row['POBFEM']}\", axis=1)\r\n",
    "\r\n",
    "gdf = geopandas.GeoDataFrame(mun_violencias, geometry='geometry_mun')\r\n",
    "gdf = gdf.set_index('nom_mun_x')\r\n",
    "gdf = gdf.to_crs(pyproj.CRS.from_epsg(4326))\r\n"
   ],
   "outputs": [],
   "metadata": {}
  },
  {
   "cell_type": "code",
   "execution_count": null,
   "source": [
    "cols_dd = ['Tasa 1000 Total','Psicológica','Física','Económica','Sexual','Patrimonial','Feminicida','Otro',]\r\n",
    "# we need to add this to select which trace \r\n",
    "# is going to be visible\r\n",
    "visible = np.array(cols_dd)\r\n",
    "\r\n",
    "poly_json = json.loads(gdf.geometry_mun.to_json())\r\n",
    "\r\n",
    "# define traces and buttons at once\r\n",
    "traces = []\r\n",
    "buttons = []\r\n",
    "\r\n",
    "# Agregar mapa general\r\n",
    "traces.append(go.Choroplethmapbox(\r\n",
    "        geojson=poly_json,\r\n",
    "        locations=gdf.index, # Spatial coordinates\r\n",
    "        z=gdf['Tasa 1000 Total'], # Data to be color-coded\r\n",
    "        colorbar_title='Tasa',\r\n",
    "        name='Tasa 2020',\r\n",
    "        #hoverlabel={'Tasa 1000 Total':False},\r\n",
    "        #hovertemplate = \"Mun_x: %{z}<br>Ola: %{customdata[0]}<br>Fin: %{customdata[-1]}\",\r\n",
    "        #text = gdf['text_total'], # hover text\r\n",
    "        text = gdf.index, # hover text\r\n",
    "        customdata=np.stack([ gdf['POBFEM'], gdf['fk_euv']], axis=-1),\r\n",
    "        hovertemplate='<b>%{text}</b>'+ '<br>' +'Tasa: ' + '%{z}' +  '<br>' +'Casos Totales: ' + '%{customdata[1]}' +'<br>Población Femenina: ' + '%{customdata[0]}',\r\n",
    "        visible= True if 'Tasa 1000 Total'==cols_dd[0] else False,\r\n",
    "        ))\r\n",
    "\r\n",
    "buttons.append(dict(label='Tasa 1000 Total',\r\n",
    "                    method=\"update\",\r\n",
    "                    args=[{\"visible\":list(visible=='Tasa 1000 Total')},\r\n",
    "                            {\"title\":f\"Mapa 1. Tasa de casos de violencia por cada 1000 mujeres\"}]))\r\n",
    "\r\n",
    "# Mapas de tipos de violencia\r\n",
    "for value in cols_dd[1:]:\r\n",
    "    traces.append(go.Choroplethmapbox(\r\n",
    "        geojson=poly_json,\r\n",
    "        locations=gdf.index, # Spatial coordinates\r\n",
    "        z=gdf['{} Tasa 1000'.format(value)], # Data to be color-coded\r\n",
    "        colorbar_title='Tasa',\r\n",
    "        name='Tasa de violencia<br>'+value,\r\n",
    "        #hoverinfo='{}+{} Tasa 1000'.format(value,value),\r\n",
    "        #hovertemplate = \"Mun: %{x}\".format(gdf.index),\r\n",
    "        #text = gdf['{}_text'.format(value)], # hover text\r\n",
    "        visible= True if value==cols_dd[0] else False,\r\n",
    "        marker_line_width=1,\r\n",
    "        colorscale=\"Viridis\",\r\n",
    "        text = gdf.index, # hover text\r\n",
    "        customdata=np.stack([ gdf['POBFEM'], gdf['{}_casos'.format(value)]], axis=-1),\r\n",
    "        hovertemplate='<b>%{text}</b>'+ '<br>' +'Tasa: ' + '%{z}' +  '<br>' +'Casos: ' + '%{customdata[1]}' +'<br>Población Femenina: ' + '%{customdata[0]}',\r\n",
    "        #visible= False,\r\n",
    "        ))\r\n",
    "                                    \r\n",
    "\r\n",
    "    buttons.append(dict(label=value,\r\n",
    "                        method=\"update\",\r\n",
    "                        args=[{\"visible\":list(visible==value)},\r\n",
    "                              {\"title\":f\"Mapa 1. Tasa de casos de violencia {value} por cada 1000 mujeres\"}]))\r\n",
    "\r\n",
    "\r\n",
    "updatemenus = [{\"active\":0,\r\n",
    "                \"buttons\":buttons,\r\n",
    "               }]\r\n",
    "\r\n",
    "\r\n",
    "# Show figure\r\n",
    "fig = go.Figure(data=traces,\r\n",
    "                layout=dict(updatemenus=updatemenus))\r\n",
    "# This is in order to get the first title displayed correctly\r\n",
    "first_title = cols_dd[0]\r\n",
    "fig.update_layout(title=f\"Mapa 1. Tasa de casos de violencia por cada 1000 mujeres\",)\r\n",
    "fig.update_geos(fitbounds=\"locations\", visible=False, )\r\n",
    "fig.add_annotation(\r\n",
    "    # The arrow head will be 25% along the x axis, starting from the left\r\n",
    "    x=0,\r\n",
    "    # The arrow head will be 40% along the y axis, starting from the bottom\r\n",
    "    y=0.98,\r\n",
    "    text=\"<b>Temporalidad:</b> {}<br><b>Total de casos:</b> {}\".format(min(victimas_2020.año_recepcion),len(victimas_2020)),\r\n",
    "    showarrow=False,\r\n",
    "    bordercolor=\"black\",\r\n",
    "    bgcolor=\"white\",\r\n",
    "    borderwidth=1.5,\r\n",
    "    opacity=0.8\r\n",
    ")\r\n",
    "\r\n",
    "fig.update_layout(mapbox_style=\"carto-positron\",\r\n",
    "                  mapbox_zoom=7.5, mapbox_center = {\"lat\": 20.400417, \"lon\": -89.134857})\r\n",
    "pio.write_html(fig, file='../docs/figs/indicador_municipal_mapa_violencias.html', include_plotlyjs='cdn', full_html=False)\r\n",
    "fig.show()"
   ],
   "outputs": [],
   "metadata": {}
  },
  {
   "cell_type": "code",
   "execution_count": null,
   "source": [
    "sentencias = feminicidios.Sentencia.value_counts()\r\n",
    "desc = victimas[victimas['Portaba Arma']=='Se desconoce'].index\r\n",
    "victimas.loc[desc,'Portaba Arma']='No'\r\n",
    "armas = victimas['Portaba Arma'].value_counts()\r\n"
   ],
   "outputs": [],
   "metadata": {}
  },
  {
   "cell_type": "code",
   "execution_count": null,
   "source": [
    "# Use `hole` to create a donut-like pie chart\r\n",
    "fig = go.Figure(data=[go.Pie(labels=sentencias.index, values=sentencias.values, hole=.3 )])\r\n",
    "fig.update_layout(title='Gráfica 3. Porcentaje de presuntos feminicidios con sentencia')\r\n",
    "fig.update_traces(textinfo=\"label+value+percent\",showlegend=False, textposition='outside')\r\n",
    "#pio.write_html(fig, file='../docs/figs/indicador_municipal_donut_sentencias.html', include_plotlyjs='cdn', full_html=False)\r\n",
    "fig.show()"
   ],
   "outputs": [],
   "metadata": {}
  },
  {
   "cell_type": "code",
   "execution_count": null,
   "source": [
    "fig = go.Figure(data=[go.Pie(labels=armas.index, values=armas.values, hole=.3 )])\r\n",
    "fig.update_layout(title='Gráfica #. Porcentaje de agresores armados')\r\n",
    "fig.update_traces(textinfo=\"label+value+percent\",showlegend=False,)\r\n",
    "#pio.write_html(fig, file='../docs/figs/indicador_municipal_donut_armas.html', include_plotlyjs='cdn', full_html=False)\r\n",
    "\r\n",
    "fig.show()"
   ],
   "outputs": [],
   "metadata": {}
  },
  {
   "cell_type": "code",
   "execution_count": null,
   "source": [
    "armas_mun = victimas[victimas['Portaba Arma']=='Sí']"
   ],
   "outputs": [],
   "metadata": {}
  },
  {
   "cell_type": "code",
   "execution_count": null,
   "source": [
    "armas_mun = pd.DataFrame(armas_mun.groupby('municipiohechos')['Portaba Arma'].count())\r\n",
    "armas_mun = armas_mun.merge(yuc[['nom_mun','geometry_mun']], left_on=armas_mun.index, right_on='nom_mun', how='right')\r\n",
    "armas_mun.fillna(0, inplace=True)\r\n",
    "armas_mun['Portaba Arma'] = armas_mun['Portaba Arma'].astype(int)"
   ],
   "outputs": [],
   "metadata": {}
  },
  {
   "cell_type": "code",
   "execution_count": null,
   "source": [
    "fig = px.treemap(armas_mun,\r\n",
    "                 path=[px.Constant(\"Yucatán\"), 'nom_mun'],\r\n",
    "                 values='Portaba Arma',\r\n",
    "                 #hover_data={\"municipioV\":True,'EdadVictima':True,'tipos':True,'año_recepcion':True,'TipoRelacion':True,'pk_perfil_agresor':True},\r\n",
    "                 #labels = {'nom_mun':'Municipio', 'municipioV':'Víctimas','EdadVictima':'Edades','tipos':'Violencias','año_recepcion':'Años','TipoRelacion':'Relación','pk_perfil_agresor':'pk agresor'},\r\n",
    "                 title='Gráfica #. Municipios en los que los agresores han portado armas',\r\n",
    "                 )\r\n",
    "\r\n",
    "#fig.update_layout(margin = dict(t=50, l=25, r=25, b=25))\r\n",
    "#print(\"plotly express hovertemplate:\", fig.data[0].hovertemplate)\r\n",
    "fig.update_traces(hovertemplate='Municipio=%{label}<br>Portaban Arma=%{value}<br><extra></extra>')\r\n",
    "fig.update_traces(textinfo=\"label+value+percent root\",)\r\n",
    "#pio.write_html(fig, file='../docs/figs/indicador_municipal_treemap_arma.html', include_plotlyjs='cdn', full_html=False)\r\n",
    "fig.show()"
   ],
   "outputs": [],
   "metadata": {}
  },
  {
   "cell_type": "code",
   "execution_count": null,
   "source": [
    "gdf = geopandas.GeoDataFrame(armas_mun, geometry='geometry_mun')\r\n",
    "gdf = gdf.set_index('nom_mun')\r\n",
    "gdf = gdf.to_crs(pyproj.CRS.from_epsg(4326))"
   ],
   "outputs": [],
   "metadata": {}
  },
  {
   "cell_type": "code",
   "execution_count": null,
   "source": [
    "gdf['log']=np.log10(gdf[\"Portaba Arma\"])\r\n",
    "inf = gdf[gdf.log==-np.inf].index\r\n",
    "gdf.loc[inf,'log'] = -1"
   ],
   "outputs": [],
   "metadata": {}
  },
  {
   "cell_type": "code",
   "execution_count": null,
   "source": [
    "fig = px.choropleth_mapbox(gdf, geojson=gdf.geometry_mun, \r\n",
    "                    locations=gdf.index, color='log',\r\n",
    "                    color_continuous_scale=\"Viridis\",\r\n",
    "                    labels = {'nom_mun':'Municipio', 'Portaba Arma':'Agresores Armados'},\r\n",
    "                    hover_data={\"log\":False, 'Portaba Arma':True},\r\n",
    "                    #title='Mapa 2. Feminicidios Registrados por Municipio',\r\n",
    "                    #color_continuous_midpoint=np.average(gdf['municipioV'], weights=gdf['POBFEM'].astype(int)),\r\n",
    "                    center={\"lat\": 20.400417, \"lon\": -89.134857},\r\n",
    "                    mapbox_style=\"carto-positron\", \r\n",
    "                    zoom=7.5,\r\n",
    "                    #opacity=0.5,\r\n",
    "                    title='Mapa 3. Agresores Armados por Municipio',\r\n",
    "                    )\r\n",
    "fig.update_geos(fitbounds=\"locations\", visible=False)\r\n",
    "\r\n",
    "#fig.update_layout(xaxis=dict(domain=[0, 0.5]), yaxis=dict(domain=[0.25, 0.75]))\r\n",
    "\r\n",
    "fig.add_annotation(\r\n",
    "    # The arrow head will be 25% along the x axis, starting from the left\r\n",
    "    x=0,\r\n",
    "    # The arrow head will be 40% along the y axis, starting from the bottom\r\n",
    "    y=0.98,\r\n",
    "    text=\"<b>Temporalidad:</b> {}-{}<br><b>Total de casos:</b> {}\".format(min(victimas.año_recepcion),max(victimas.año_recepcion),len(victimas)),\r\n",
    "    showarrow=False,\r\n",
    "    bordercolor=\"black\",\r\n",
    "    bgcolor=\"white\",\r\n",
    "    borderwidth=1.5,\r\n",
    "    opacity=0.8\r\n",
    ")\r\n",
    "\r\n",
    "fig.update(layout = dict(title=dict(x=0.5)))\r\n",
    "fig.update_layout(\r\n",
    "    margin={\"r\":0,\"t\":30,\"l\":10,\"b\":10},\r\n",
    "    coloraxis_colorbar={\r\n",
    "        'title':'Log10'})\r\n",
    "fig.update_layout(title_y=1, title_x=0)\r\n",
    "fig.update_layout(coloraxis_showscale=True)\r\n",
    "#fig.update_layout(title=f\"Mapa #. Tasa de casos de violencia por cada 1000 mujeres\",)\r\n",
    "#pio.write_html(fig, file='../docs/figs/indicador_municipal_mapa_arma.html', include_plotlyjs='cdn', full_html=False)\r\n",
    "fig.show()"
   ],
   "outputs": [],
   "metadata": {}
  },
  {
   "cell_type": "code",
   "execution_count": null,
   "source": [
    "gdf['Agresor Armado']='No'\r\n",
    "si = gdf[gdf['Portaba Arma']!=0].index\r\n",
    "gdf.loc[si,'Agresor Armado']='Sí'"
   ],
   "outputs": [],
   "metadata": {}
  },
  {
   "cell_type": "code",
   "execution_count": null,
   "source": [
    "fig = px.choropleth_mapbox(\r\n",
    "                           gdf, geojson=gdf.geometry_mun, \r\n",
    "                           locations=gdf.index, color=\"Agresor Armado\",\r\n",
    "                           labels={'nom_mun':'Municipio', 'Portaba Arma':'Número de agresores'},\r\n",
    "                           hover_data={'Portaba Arma':True, 'Agresor Armado':False},\r\n",
    "                           #color_continuous_scale=\"Viridis\",\r\n",
    "                           #locations=\"district\", \r\n",
    "                           #featureidkey=\"properties.Portaba Arma\",\r\n",
    "                           center={\"lat\": 20.400417, \"lon\": -89.134857},\r\n",
    "                           mapbox_style=\"carto-positron\",\r\n",
    "                           title='Mapa 3. Agresores Armados por Municipio (categorico)', \r\n",
    "                           zoom=7.5)\r\n",
    "#fig.update_layout(margin={\"r\":0,\"t\":0,\"l\":0,\"b\":0})\r\n",
    "#fig.update_geos(fitbounds=\"locations\", visible=False)\r\n",
    "\r\n",
    "fig.add_annotation(\r\n",
    "    # The arrow head will be 25% along the x axis, starting from the left\r\n",
    "    x=0,\r\n",
    "    # The arrow head will be 40% along the y axis, starting from the bottom\r\n",
    "    y=0.98,\r\n",
    "    text=\"<b>Temporalidad:</b> {}-{}<br><b>Total de casos:</b> {}\".format(min(victimas.año_recepcion),max(victimas.año_recepcion),len(victimas)),\r\n",
    "    showarrow=False,\r\n",
    "    bordercolor=\"black\",\r\n",
    "    bgcolor=\"white\",\r\n",
    "    borderwidth=1.5,\r\n",
    "    opacity=0.8\r\n",
    ")\r\n",
    "#pio.write_html(fig, file='../docs/figs/indicador_municipal_mapa_arma_categorico.html', include_plotlyjs='cdn', full_html=False)\r\n",
    "\r\n",
    "fig.show()"
   ],
   "outputs": [],
   "metadata": {}
  },
  {
   "cell_type": "code",
   "execution_count": null,
   "source": [
    "# Este es con GOCHLOROPETH MAP\r\n",
    "\"\"\"poly_json = json.loads(gdf.geometry_mun.to_json())\r\n",
    "fig = go.Figure(go.Choroplethmapbox(geojson=poly_json, locations=gdf.index, z=gdf['cat'],\r\n",
    "                                    colorscale=\"Viridis\", \r\n",
    "                                    #marker_opacity=0.5, \r\n",
    "                                    marker_line_width=1))\r\n",
    "fig.update_layout(mapbox_style=\"carto-positron\",\r\n",
    "                  mapbox_zoom=7.5, mapbox_center = {\"lat\": 20.400417, \"lon\": -89.134857})\r\n",
    "\r\n",
    "fig.add_annotation(\r\n",
    "    # The arrow head will be 25% along the x axis, starting from the left\r\n",
    "    x=0,\r\n",
    "    # The arrow head will be 40% along the y axis, starting from the bottom\r\n",
    "    y=0.98,\r\n",
    "    text=\"<b>Temporalidad:</b> {}-{}<br><b>Total de casos:</b> {}\".format(min(victimas.año_recepcion),max(victimas.año_recepcion),len(victimas)),\r\n",
    "    showarrow=False,\r\n",
    "    bordercolor=\"black\",\r\n",
    "    bgcolor=\"white\",\r\n",
    "    borderwidth=1.5,\r\n",
    "    opacity=0.8\r\n",
    ")\r\n",
    "pio.write_html(fig, file='../docs/figs/indicador_municipal_mapa_arma_test.html', include_plotlyjs='cdn', full_html=False)\r\n",
    "fig.show()\"\"\""
   ],
   "outputs": [],
   "metadata": {}
  },
  {
   "cell_type": "code",
   "execution_count": null,
   "source": [
    "edad_agresores = victimas[(victimas['Edad Agresor']>0)&(victimas['Edad Agresor']<99)]"
   ],
   "outputs": [],
   "metadata": {}
  },
  {
   "cell_type": "code",
   "execution_count": null,
   "source": [
    "fig = px.histogram(edad_agresores, x=\"Edad Agresor\", color=\"Tipo de vínculo con victima\", marginal=\"box\",opacity=0.8,\r\n",
    "            #labels = {'Edad Hecho': 'Edad Agresor'},\r\n",
    "            title = 'Gráfica #. Distribución de agresores por vínculo con la víctima y edad'\r\n",
    "            ) # can be `box`, `violin`\r\n",
    "#pio.write_html(fig, file='../docs/figs/indicador_municipal_dist_edad_agresor.html', include_plotlyjs='cdn', full_html=False)\r\n",
    "fig.show()"
   ],
   "outputs": [],
   "metadata": {}
  },
  {
   "cell_type": "code",
   "execution_count": null,
   "source": [
    "fig = px.histogram(victimas, x=\"Edad\", color=\"Esta Embarazada\", marginal=\"box\",opacity=0.8,\r\n",
    "            labels = {'Edad': 'Grupo Etario'},\r\n",
    "            title = 'Gráfica #. Distribución de víctimas por embarazo y edad',\r\n",
    "            nbins=20\r\n",
    "            ) # can be `box`, `violin`\r\n",
    "#pio.write_html(fig, file='../docs/figs/indicador_municipal_dist_victimas.html', include_plotlyjs='cdn', full_html=False)\r\n",
    "fig.show()"
   ],
   "outputs": [],
   "metadata": {}
  },
  {
   "cell_type": "code",
   "execution_count": null,
   "source": [
    "fig = px.histogram(victimas, x=\"Edad\", marginal=\"box\",opacity=0.8,\r\n",
    "            labels = {'Edad': 'Grupo Etario'},\r\n",
    "            title = 'Gráfica #. Distribución de víctimas por grupo etario',\r\n",
    "            nbins=20\r\n",
    "            ) # can be `box`, `violin`\r\n",
    "#pio.write_html(fig, file='../docs/figs/indicador_municipal_dist_victimas_etario.html', include_plotlyjs='cdn', full_html=False)\r\n",
    "fig.show()"
   ],
   "outputs": [],
   "metadata": {}
  },
  {
   "cell_type": "code",
   "execution_count": null,
   "source": [
    "mun_edad = pd.DataFrame(victimas.groupby('municipiohechos')['Edad'].mean().round().astype(int)) # ya que es una distribucion normal, se puede usar la media como agregacion\r\n",
    "mun_edad = mun_edad.rename(columns={'Edad':'Edad Promedio'})"
   ],
   "outputs": [],
   "metadata": {}
  },
  {
   "cell_type": "code",
   "execution_count": null,
   "source": [
    "mun_edad = mun_edad.merge(yuc[['nom_mun','geometry_mun']], left_on=mun_edad.index, right_on='nom_mun', how='right')\r\n",
    "mun_edad.fillna(0, inplace=True)\r\n",
    "gdf = geopandas.GeoDataFrame(mun_edad, geometry='geometry_mun')\r\n",
    "gdf = gdf.set_index('nom_mun')\r\n",
    "gdf = gdf.to_crs(pyproj.CRS.from_epsg(4326))"
   ],
   "outputs": [],
   "metadata": {}
  },
  {
   "cell_type": "code",
   "execution_count": null,
   "source": [
    "fig = px.choropleth_mapbox(gdf, geojson=gdf.geometry_mun, \r\n",
    "                    locations=gdf.index, color=\"Edad Promedio\",\r\n",
    "                    color_continuous_scale=\"Viridis\",\r\n",
    "                    labels={'nom_mun': 'Municipio'},\r\n",
    "                    #labels = {'nom_mun':'Municipio', 'municipioV':'Víctimas','EdadVictima':'Edades','tipos':'Violencias','año_recepcion':'Años','TipoRelacion':'Relación','pk_perfil_agresor':'pk agresor'},\r\n",
    "                    #hover_data={\"municipioV\":True,'EdadVictima':True,'tipos':True,'año_recepcion':True,'TipoRelacion':True,'pk_perfil_agresor':True,'Hubo Feminicidio':False },\r\n",
    "                    title='Mapa #. Edad Promedio por Municipio',\r\n",
    "                    #color_continuous_midpoint=np.average(victimas['Edad']),\r\n",
    "                    center={\"lat\": 20.400417, \"lon\": -89.134857},\r\n",
    "                    mapbox_style=\"carto-positron\", \r\n",
    "                    zoom=7.5,\r\n",
    "                    #opacity=0.5,\r\n",
    "                    )\r\n",
    "fig.update_geos(fitbounds=\"locations\", visible=False)\r\n",
    "\r\n",
    "#fig.update_layout(xaxis=dict(domain=[0, 0.5]), yaxis=dict(domain=[0.25, 0.75]))\r\n",
    "\r\n",
    "fig.add_annotation(\r\n",
    "    # The arrow head will be 25% along the x axis, starting from the left\r\n",
    "    x=0,\r\n",
    "    # The arrow head will be 40% along the y axis, starting from the bottom\r\n",
    "    y=0.98,\r\n",
    "    text=\"<b>Temporalidad:</b> {}-{}<br><b>Total de casos:</b> {}\".format(min(victimas.año_recepcion),max(victimas.año_recepcion),len(victimas)),\r\n",
    "    showarrow=False,\r\n",
    "    bordercolor=\"black\",\r\n",
    "    bgcolor=\"white\",\r\n",
    "    borderwidth=1.5,\r\n",
    "    opacity=0.8\r\n",
    ")\r\n",
    "\r\n",
    "fig.update(layout = dict(title=dict(x=0.5)))\r\n",
    "fig.update_layout(\r\n",
    "    margin={\"r\":0,\"t\":30,\"l\":10,\"b\":10},\r\n",
    "    coloraxis_colorbar={\r\n",
    "        'title':'Edad'})\r\n",
    "fig.update_layout(title_y=1, title_x=0)\r\n",
    "fig.update_layout(coloraxis_showscale=True)\r\n",
    "#pio.write_html(fig, file='../docs/figs/indicador_municipal_mapa_edad_promedio.html', include_plotlyjs='cdn', full_html=False)\r\n",
    "fig.show()"
   ],
   "outputs": [],
   "metadata": {}
  },
  {
   "cell_type": "code",
   "execution_count": null,
   "source": [
    "servicios = pd.DataFrame(servicios[servicios.dependenciaquebrindoservicio.isna()==False])"
   ],
   "outputs": [],
   "metadata": {}
  },
  {
   "cell_type": "code",
   "execution_count": null,
   "source": [
    "semujeres = servicios[servicios.dependenciaquebrindoservicio=='SECRETARÍA DE LAS MUJERES'].index\r\n",
    "prodenay = servicios[servicios.dependenciaquebrindoservicio=='PROCURADURÍA DE LA DEFENSA DEL MENOR Y LA FAMILIA'].index\r\n",
    "ssp = servicios[servicios.dependenciaquebrindoservicio=='SECRETARÍA DE SEGURIDAD PÚBLICA'].index\r\n",
    "ceeav = servicios[servicios.dependenciaquebrindoservicio=='COMISIÓN EJECUTIVA ESTATAL DE ATENCIÓN A VÍCTIMAS'].index\r\n",
    "segey = servicios[servicios.dependenciaquebrindoservicio== 'SECRETARÍA DE EDUCACIÓN DEL GOBIERNO DEL ESTADO DE YUCATÁN'].index\r\n",
    "servicios.loc[semujeres, 'dependenciaquebrindoservicio'] = 'SEMUJERES'\r\n",
    "servicios.loc[prodenay, 'dependenciaquebrindoservicio'] = 'PRODENNAY'\r\n",
    "servicios.loc[ssp, 'dependenciaquebrindoservicio'] = 'SSP'\r\n",
    "servicios.loc[ceeav, 'dependenciaquebrindoservicio'] = 'CEEAV'\r\n",
    "servicios.loc[segey, 'dependenciaquebrindoservicio'] = 'SEGEY'"
   ],
   "outputs": [],
   "metadata": {}
  },
  {
   "cell_type": "code",
   "execution_count": null,
   "source": [
    "selecciones = servicios[servicios.tiposervicio=='Seleccione'].index\r\n",
    "servicios.loc[selecciones, 'tiposervicio'] = 'No identificado'"
   ],
   "outputs": [],
   "metadata": {}
  },
  {
   "cell_type": "code",
   "execution_count": null,
   "source": [
    "servicios_gropby = pd.DataFrame(servicios.groupby(['dependenciaquebrindoservicio','tiposervicio','serviciodetalle'])['numeroservicios'].count()).reset_index()"
   ],
   "outputs": [],
   "metadata": {}
  },
  {
   "cell_type": "code",
   "execution_count": null,
   "source": [
    "fig = px.sunburst(servicios_gropby, path=['dependenciaquebrindoservicio','tiposervicio','serviciodetalle'], values='numeroservicios', color='tiposervicio',\r\n",
    "                #labels={'labels':'Servicio Detalle'}, \r\n",
    "                #hover_data={'id':False},\r\n",
    "                title='Gráfica #. Distribución de los servicios por tipo e instancia capturista'\r\n",
    "                )\r\n",
    "print(\"plotly express hovertemplate:\", fig.data[0].hovertemplate)\r\n",
    "#fig.update_traces(hovertemplate='Servicio Detalle=%{label}<br>Número de Servicios=%{value}<br>Tipo Servicio=%{parent}<br><extra></extra>')\r\n",
    "fig.update_traces(textinfo=\"label+value+percent root\",)\r\n",
    "#pio.write_html(fig, file='../docs/figs/indicador_municipal_sunburst_servicios.html', include_plotlyjs='cdn', full_html=False)\r\n",
    "fig.show()"
   ],
   "outputs": [],
   "metadata": {}
  },
  {
   "cell_type": "code",
   "execution_count": null,
   "source": [
    "fig = px.treemap(servicios_gropby,\r\n",
    "                 #path=[, 'nom_mun'],\r\n",
    "                 path=[px.Constant(\"Yucatán\"), 'dependenciaquebrindoservicio','tiposervicio','serviciodetalle'],\r\n",
    "                 values='numeroservicios',\r\n",
    "                 title='Gráfica #. Distribución de los servicios por tipo e instancia capturista',\r\n",
    "                 )\r\n",
    "\r\n",
    "#fig.update_layout(margin = dict(t=50, l=25, r=25, b=25))\r\n",
    "print(\"plotly express hovertemplate:\", fig.data[0].hovertemplate)\r\n",
    "#fig.update_traces(hovertemplate='Servicio=%{label}<br>Número de servicios=%{value}<br>Origen=%{parent}<br><extra></extra>')\r\n",
    "fig.update_traces(textinfo=\"label+value+percent root\",)\r\n",
    "#pio.write_html(fig, file='../docs/figs/indicador_municipal_treemap_servicios.html', include_plotlyjs='cdn', full_html=False)\r\n",
    "fig.show()"
   ],
   "outputs": [],
   "metadata": {}
  },
  {
   "cell_type": "code",
   "execution_count": null,
   "source": [
    "fechas_groupby = pd.DataFrame(victimas.groupby('fecha_hechos')['pk_caso'].count())\r\n",
    "fechas_groupby = fechas_groupby.rename(columns={'pk_caso':'Casos registrados'})"
   ],
   "outputs": [],
   "metadata": {}
  },
  {
   "cell_type": "code",
   "execution_count": null,
   "source": [
    "fechas_groupby['var'] = round(fechas_groupby['Casos registrados'].pct_change()*100,2)"
   ],
   "outputs": [],
   "metadata": {}
  },
  {
   "cell_type": "code",
   "execution_count": null,
   "source": [
    "fechas_groupby = pd.DataFrame(fechas_groupby[fechas_groupby.index >= '1990-01-01'])"
   ],
   "outputs": [],
   "metadata": {}
  },
  {
   "cell_type": "code",
   "execution_count": null,
   "source": [
    "semanas_groupby = pd.DataFrame(fechas_groupby.reset_index().groupby(pd.Grouper(freq='W', key='fecha_hechos'))['Casos registrados'].sum()).reset_index()\r\n",
    "semanas_groupby['var'] = round(semanas_groupby['Casos registrados'].pct_change()*100,2)\r\n",
    "inf = semanas_groupby[semanas_groupby['var'].isin([np.inf, -np.inf])].index\r\n",
    "#semanas_groupby.loc[inf,'var']=semanas_groupby.loc[inf,'Casos registrados']*100\r\n",
    "semanas_groupby.loc[inf,'var']=100\r\n",
    "semanas_groupby"
   ],
   "outputs": [],
   "metadata": {}
  },
  {
   "cell_type": "code",
   "execution_count": null,
   "source": [
    "# agregado para quitar aquellas en 0\r\n",
    "#semanas_groupby=semanas_groupby[~semanas_groupby['var'].isin([np.nan, np.inf, -np.inf])]\r\n",
    "inf = semanas_groupby[semanas_groupby['var'].isin([np.nan])].index\r\n",
    "#semanas_groupby.loc[inf,'var']=semanas_groupby.loc[inf,'Casos registrados']*100\r\n",
    "semanas_groupby.loc[inf,'var']=0\r\n",
    "semanas_groupby"
   ],
   "outputs": [],
   "metadata": {}
  },
  {
   "cell_type": "code",
   "execution_count": null,
   "source": [
    "fig = px.line(semanas_groupby, x=semanas_groupby.fecha_hechos, y=\"Casos registrados\", title='Grafica #. Variación de casos de violencia hacia las mujeres',\r\n",
    "                markers=True,hover_data={\"var\": True}, labels={'fecha_hechos':'Fecha Hechos'},\r\n",
    "                range_x=['2015-01-01',max(semanas_groupby.fecha_hechos)],\r\n",
    "                #range_y=[0,500]\r\n",
    "                )\r\n",
    "fig.update_xaxes(\r\n",
    "    rangeslider_visible=True,\r\n",
    "    rangeselector=dict(\r\n",
    "        buttons=list([\r\n",
    "            dict(count=1, label=\"1m\", step=\"month\", stepmode=\"backward\"),\r\n",
    "            dict(count=6, label=\"6m\", step=\"month\", stepmode=\"backward\"),\r\n",
    "            dict(count=1, label=\"YTD\", step=\"year\", stepmode=\"todate\"),\r\n",
    "            dict(count=1, label=\"1y\", step=\"year\", stepmode=\"backward\"),\r\n",
    "            #dict(step=\"all\")\r\n",
    "        ])\r\n",
    "    )\r\n",
    ")\r\n",
    "\r\n",
    "print(\"plotly express hovertemplate:\", fig.data[0].hovertemplate)\r\n",
    "fig.update_traces(hovertemplate='Fecha=%{x}<br>Casos registrados=%{y}<br>Variación=%{customdata[0]}%<extra></extra>')\r\n",
    "#fig.update_yaxes(type=\"log\")\r\n",
    "#pio.write_html(fig, file='../docs/figs/indicador_municipal_timeline_variaciones.html', include_plotlyjs='cdn', full_html=False)\r\n",
    "fig.show()"
   ],
   "outputs": [],
   "metadata": {}
  },
  {
   "cell_type": "code",
   "execution_count": null,
   "source": [
    "\"\"\"fig = px.line(fechas_groupby, x=fechas_groupby.index, y=\"Casos registrados\", title='Grafica #. Variación de casos de violencia hacia las mujeres')\r\n",
    "fig.update_xaxes(\r\n",
    "    rangeslider_visible=True,\r\n",
    "    rangeselector=dict(\r\n",
    "        buttons=list([\r\n",
    "            dict(count=1, label=\"1m\", step=\"month\", stepmode=\"backward\"),\r\n",
    "            dict(count=6, label=\"6m\", step=\"month\", stepmode=\"backward\"),\r\n",
    "            dict(count=1, label=\"YTD\", step=\"year\", stepmode=\"todate\"),\r\n",
    "            dict(count=1, label=\"1y\", step=\"year\", stepmode=\"backward\"),\r\n",
    "            dict(step=\"all\")\r\n",
    "        ])\r\n",
    "    )\r\n",
    ")\r\n",
    "#pio.write_html(fig, file='../docs/figs/indicador_municipal_sunburst_servicios.html', include_plotlyjs='cdn', full_html=False)\r\n",
    "fig.show()\"\"\""
   ],
   "outputs": [],
   "metadata": {}
  },
  {
   "cell_type": "code",
   "execution_count": null,
   "source": [
    "\"\"\"fig = px.line(semanas_groupby, x=semanas_groupby.fecha_recepcion, y=\"var\", title='Grafica #. Variación porcentual de casos de violencia hacia las mujeres')\r\n",
    "fig.update_xaxes(\r\n",
    "    rangeslider_visible=True,\r\n",
    "    rangeselector=dict(\r\n",
    "        buttons=list([\r\n",
    "            dict(count=1, label=\"1m\", step=\"month\", stepmode=\"backward\"),\r\n",
    "            dict(count=6, label=\"6m\", step=\"month\", stepmode=\"backward\"),\r\n",
    "            dict(count=1, label=\"YTD\", step=\"year\", stepmode=\"todate\"),\r\n",
    "            dict(count=1, label=\"1y\", step=\"year\", stepmode=\"backward\"),\r\n",
    "            dict(step=\"all\")\r\n",
    "        ])\r\n",
    "    )\r\n",
    ")\r\n",
    "fig.update_layout(yaxis_ticksuffix = '%')\r\n",
    "#pio.write_html(fig, file='../docs/figs/indicador_municipal_sunburst_servicios.html', include_plotlyjs='cdn', full_html=False)\r\n",
    "fig.show()\"\"\""
   ],
   "outputs": [],
   "metadata": {}
  },
  {
   "cell_type": "code",
   "execution_count": null,
   "source": [
    "\"\"\"fig = px.line(fechas_groupby, x=fechas_groupby.index, y=\"var\", title='Grafica #. Variación porcentual de casos de violencia hacia las mujeres')\r\n",
    "fig.update_xaxes(\r\n",
    "    rangeslider_visible=True,\r\n",
    "    rangeselector=dict(\r\n",
    "        buttons=list([\r\n",
    "            dict(count=1, label=\"1m\", step=\"month\", stepmode=\"backward\"),\r\n",
    "            dict(count=6, label=\"6m\", step=\"month\", stepmode=\"backward\"),\r\n",
    "            dict(count=1, label=\"YTD\", step=\"year\", stepmode=\"todate\"),\r\n",
    "            dict(count=1, label=\"1y\", step=\"year\", stepmode=\"backward\"),\r\n",
    "            dict(step=\"all\")\r\n",
    "        ])\r\n",
    "    )\r\n",
    ")\r\n",
    "fig.update_layout(yaxis_ticksuffix = '%')\r\n",
    "#pio.write_html(fig, file='../docs/figs/indicador_municipal_sunburst_servicios.html', include_plotlyjs='cdn', full_html=False)\r\n",
    "fig.show()\"\"\""
   ],
   "outputs": [],
   "metadata": {}
  },
  {
   "cell_type": "code",
   "execution_count": null,
   "source": [
    "#fechas_groupby[\"Color\"] = np.where(fechas_groupby[\"var\"]<0, 'Disminución', 'Aumento')\r\n",
    "#semanas_groupby[\"Color\"] = np.where(semanas_groupby[\"var\"]<0, 'Disminución', 'Aumento')"
   ],
   "outputs": [],
   "metadata": {}
  },
  {
   "cell_type": "code",
   "execution_count": null,
   "source": [
    "\"\"\"fig = px.bar(fechas_groupby, x=fechas_groupby.index, y=\"var\", title='Grafica #. Variación porcentual de casos de violencia hacia las mujeres', color='Color')\r\n",
    "fig.update_xaxes(\r\n",
    "    rangeslider_visible=True,\r\n",
    "    rangeselector=dict(\r\n",
    "        buttons=list([\r\n",
    "            dict(count=1, label=\"1m\", step=\"month\", stepmode=\"backward\"),\r\n",
    "            dict(count=6, label=\"6m\", step=\"month\", stepmode=\"backward\"),\r\n",
    "            dict(count=1, label=\"YTD\", step=\"year\", stepmode=\"todate\"),\r\n",
    "            dict(count=1, label=\"1y\", step=\"year\", stepmode=\"backward\"),\r\n",
    "            dict(step=\"all\")\r\n",
    "        ])\r\n",
    "    )\r\n",
    ")\r\n",
    "fig.update_layout(yaxis_ticksuffix = '%')\r\n",
    "#fig.update_xaxes(showgrid=True, ticklabelmode=\"period\", dtick=\"M1\", tickformat=\"%b\\n%Y\")\r\n",
    "#pio.write_html(fig, file='../docs/figs/indicador_municipal_timeline_variaciones.html', include_plotlyjs='cdn', full_html=False)\r\n",
    "fig.show()\"\"\""
   ],
   "outputs": [],
   "metadata": {}
  },
  {
   "cell_type": "code",
   "execution_count": null,
   "source": [
    "\"\"\"# semanal group\r\n",
    "fig = px.histogram(semanas_groupby, x=semanas_groupby.fecha_recepcion, y=\"var\", title='Grafica #. Variación porcentual de casos de violencia hacia las mujeres', color='Color', )\r\n",
    "fig.update_traces(xbins_size=\"W\")\r\n",
    "\r\n",
    "fig.update_layout(bargap=0.1)\r\n",
    "#fig.add_trace(go.Scatter(mode=\"markers\", x=fechas_groupby.index, y=fechas_groupby.var, name=\"daily\"))\r\n",
    "\r\n",
    "fig.update_xaxes(\r\n",
    "    rangeslider_visible=True,\r\n",
    "    rangeselector=dict(\r\n",
    "        buttons=list([\r\n",
    "            dict(count=1, label=\"1m\", step=\"month\", stepmode=\"backward\"),\r\n",
    "            dict(count=6, label=\"6m\", step=\"month\", stepmode=\"backward\"),\r\n",
    "            dict(count=1, label=\"YTD\", step=\"year\", stepmode=\"todate\"),\r\n",
    "            dict(count=1, label=\"1y\", step=\"year\", stepmode=\"backward\"),\r\n",
    "            dict(step=\"all\")\r\n",
    "        ])\r\n",
    "    )\r\n",
    ")\r\n",
    "\r\n",
    "#fig.update_xaxes(showgrid=True, ticklabelmode=\"period\", dtick=\"M1\", tickformat=\"%b\\n%Y\")\r\n",
    "fig.update_xaxes(showgrid=True)\r\n",
    "fig.update_layout(yaxis_ticksuffix = '%')\r\n",
    "#pio.write_html(fig, file='../docs/figs/indicador_municipal_timeline_histograma_semanal.html', include_plotlyjs='cdn', full_html=False)\r\n",
    "fig.show() \"\"\""
   ],
   "outputs": [],
   "metadata": {}
  },
  {
   "cell_type": "code",
   "execution_count": null,
   "source": [
    "\"\"\"# DIARIO\r\n",
    "fig = px.histogram(fechas_groupby, x=fechas_groupby.index, y=\"var\", title='Grafica #. Variación porcentual de casos de violencia hacia las mujeres', color='Color', )\r\n",
    "fig.update_traces(xbins_size=\"D\")\r\n",
    "\r\n",
    "fig.update_layout(bargap=0.1)\r\n",
    "#fig.add_trace(go.Scatter(mode=\"markers\", x=fechas_groupby.index, y=fechas_groupby.var, name=\"daily\"))\r\n",
    "\r\n",
    "fig.update_xaxes(\r\n",
    "    rangeslider_visible=True,\r\n",
    "    rangeselector=dict(\r\n",
    "        buttons=list([\r\n",
    "            dict(count=1, label=\"1m\", step=\"month\", stepmode=\"backward\"),\r\n",
    "            dict(count=6, label=\"6m\", step=\"month\", stepmode=\"backward\"),\r\n",
    "            dict(count=1, label=\"YTD\", step=\"year\", stepmode=\"todate\"),\r\n",
    "            dict(count=1, label=\"1y\", step=\"year\", stepmode=\"backward\"),\r\n",
    "            dict(step=\"all\")\r\n",
    "        ])\r\n",
    "    )\r\n",
    ")\r\n",
    "\r\n",
    "#fig.update_xaxes(showgrid=True, ticklabelmode=\"period\", dtick=\"M1\", tickformat=\"%b\\n%Y\")\r\n",
    "fig.update_xaxes(showgrid=True)\r\n",
    "fig.update_layout(yaxis_ticksuffix = '%')\r\n",
    "#pio.write_html(fig, file='../docs/figs/indicador_municipal_timeline_histograma.html', include_plotlyjs='cdn', full_html=False)\r\n",
    "fig.show()  \"\"\""
   ],
   "outputs": [],
   "metadata": {}
  },
  {
   "cell_type": "code",
   "execution_count": null,
   "source": [
    "casos_2020 = victimas_2020.groupby('municipiohechos')['fk_euv'].count()\r\n",
    "casos_2020 = yuc[['geometry_mun','nom_mun']].merge(casos_2020, right_on=casos_2020.index, left_on='nom_mun', how='left')\r\n",
    "casos_2020.fillna(0,inplace=True)\r\n",
    "casos_2020['fk_euv']=casos_2020['fk_euv'].astype(int)\r\n",
    "casos_2020 = casos_2020.rename(columns={'fk_euv':'casos_2020'})"
   ],
   "outputs": [],
   "metadata": {}
  },
  {
   "cell_type": "code",
   "execution_count": null,
   "source": [
    "casos_2019 = victimas_2019.groupby('municipiohechos')['fk_euv'].count()\r\n",
    "casos_2019 = yuc[['geometry_mun','nom_mun']].merge(casos_2019, right_on=casos_2019.index, left_on='nom_mun', how='left')\r\n",
    "casos_2019.fillna(0,inplace=True)\r\n",
    "casos_2019['fk_euv']=casos_2019['fk_euv'].astype(int)\r\n",
    "casos_2019 = casos_2019.rename(columns={'fk_euv':'casos_2019'})"
   ],
   "outputs": [],
   "metadata": {}
  },
  {
   "cell_type": "code",
   "execution_count": null,
   "source": [
    "dif_casos = casos_2020.merge(casos_2019[['nom_mun','casos_2019']], left_on='nom_mun', right_on='nom_mun', how='left')"
   ],
   "outputs": [],
   "metadata": {}
  },
  {
   "cell_type": "code",
   "execution_count": null,
   "source": [
    "dif_casos"
   ],
   "outputs": [],
   "metadata": {}
  },
  {
   "cell_type": "code",
   "execution_count": null,
   "source": [
    "var = round(dif_casos[['casos_2019','casos_2020']].pct_change(axis='columns')*100,2)\r\n",
    "dif_casos = dif_casos.merge(var['casos_2020'], left_on=dif_casos.index, right_on=var.index, how='left')\r\n",
    "dif_casos.drop(columns=['key_0'], inplace=True)"
   ],
   "outputs": [],
   "metadata": {}
  },
  {
   "cell_type": "code",
   "execution_count": null,
   "source": [
    "dif_casos = dif_casos.rename(columns={'casos_2020_y':'Variación'})"
   ],
   "outputs": [],
   "metadata": {}
  },
  {
   "cell_type": "code",
   "execution_count": null,
   "source": [
    "dif_casos"
   ],
   "outputs": [],
   "metadata": {}
  },
  {
   "cell_type": "code",
   "execution_count": null,
   "source": [
    "total_casos=dif_casos.casos_2020_x.sum()+dif_casos.casos_2019.sum()\r\n",
    "total_casos"
   ],
   "outputs": [],
   "metadata": {}
  },
  {
   "cell_type": "code",
   "execution_count": null,
   "source": [
    "gdf = geopandas.GeoDataFrame(dif_casos, geometry='geometry_mun')\r\n",
    "gdf = gdf.set_index('nom_mun')\r\n",
    "gdf = gdf.to_crs(pyproj.CRS.from_epsg(4326))"
   ],
   "outputs": [],
   "metadata": {}
  },
  {
   "cell_type": "code",
   "execution_count": null,
   "source": [
    "inf = gdf[gdf.Variación.isin([np.inf])].index\r\n",
    "gdf.loc[inf,'Variación']=gdf.loc[inf,'casos_2020_x']*100"
   ],
   "outputs": [],
   "metadata": {}
  },
  {
   "cell_type": "code",
   "execution_count": null,
   "source": [
    "gdf['total'] = gdf['casos_2020_x'] + gdf['casos_2019']"
   ],
   "outputs": [],
   "metadata": {}
  },
  {
   "cell_type": "code",
   "execution_count": null,
   "source": [
    "gdf"
   ],
   "outputs": [],
   "metadata": {}
  },
  {
   "cell_type": "code",
   "execution_count": null,
   "source": [
    "fig = px.choropleth_mapbox(gdf, geojson=gdf.geometry_mun, \r\n",
    "                    locations=gdf.index, color=\"Variación\",\r\n",
    "                    color_continuous_scale=\"RdBu_r\",\r\n",
    "                    labels={'nom_mun': 'Municipio',\"casos_2020_x\":'Casos 2020','casos_2019':'Casos 2019' },\r\n",
    "                    #color_continuous_midpoint=np.average(gdf['Variación']),\r\n",
    "                    #color_continuous_midpoint=0,\r\n",
    "                    #labels = {'nom_mun':'Municipio', 'municipioV':'Víctimas','EdadVictima':'Edades','tipos':'Violencias','año_recepcion':'Años','TipoRelacion':'Relación','pk_perfil_agresor':'pk agresor'},\r\n",
    "                    hover_data={\"casos_2020_x\":True,'casos_2019':True },\r\n",
    "                    title='Mapa #. Variación porcentual de casos registrados',\r\n",
    "                    #color_continuous_midpoint=np.average(victimas['Edad']),\r\n",
    "                    center={\"lat\": 20.400417, \"lon\": -89.134857},\r\n",
    "                    mapbox_style=\"carto-positron\", \r\n",
    "                    zoom=7.5,\r\n",
    "                    #opacity=0.5,\r\n",
    "                    )\r\n",
    "fig.update_geos(fitbounds=\"locations\", visible=False)\r\n",
    "\r\n",
    "#fig.update_layout(xaxis=dict(domain=[0, 0.5]), yaxis=dict(domain=[0.25, 0.75]))\r\n",
    "\r\n",
    "fig.add_annotation(\r\n",
    "    # The arrow head will be 25% along the x axis, starting from the left\r\n",
    "    x=0,\r\n",
    "    # The arrow head will be 40% along the y axis, starting from the bottom\r\n",
    "    y=0.98,\r\n",
    "    text=\"<b>Temporalidad:</b> {}-{}<br><b>Total de casos:</b> {}\".format(2019,2020,total_casos),\r\n",
    "    showarrow=False,\r\n",
    "    bordercolor=\"black\",\r\n",
    "    bgcolor=\"white\",\r\n",
    "    borderwidth=1.5,\r\n",
    "    opacity=0.8\r\n",
    ")\r\n",
    "\r\n",
    "fig.update(layout = dict(title=dict(x=0.5)))\r\n",
    "fig.update_layout(\r\n",
    "    margin={\"r\":0,\"t\":30,\"l\":10,\"b\":10},\r\n",
    "    coloraxis_colorbar={\r\n",
    "        'title':'Variación',}, \r\n",
    "    coloraxis_colorbar_ticksuffix='%'),\r\n",
    "fig.update_layout(title_y=1, title_x=0)\r\n",
    "fig.update_layout(coloraxis_showscale=True)\r\n",
    "fig.update_coloraxes(cmax=100, cmin=-100)\r\n",
    "\r\n",
    "#print(\"plotly express hovertemplate:\", fig.data[0].hovertemplate)\r\n",
    "fig.update_traces(hovertemplate='Municipio=%{location}<br>Casos 2020=%{customdata[0]}<br>Casos 2019=%{customdata[1]}<br>Variación=%{z}%<extra></extra>')\r\n",
    " \r\n",
    "#pio.write_html(fig, file='../docs/figs/indicador_municipal_mapa_variacion_casos.html', include_plotlyjs='cdn', full_html=False)\r\n",
    "fig.show()"
   ],
   "outputs": [],
   "metadata": {}
  },
  {
   "cell_type": "code",
   "execution_count": null,
   "source": [
    "fechas_groupby = subtipo.groupby(['fecha_hechos','SubtipoOrd'])['fk_euv'].count()\r\n",
    "fechas_groupby=pd.DataFrame(fechas_groupby.reset_index())\r\n",
    "fechas_groupby_emer = fechas_groupby[fechas_groupby.SubtipoOrd=='Emergencia']\r\n",
    "fechas_groupby_na = fechas_groupby[fechas_groupby.SubtipoOrd=='No especificado']\r\n",
    "fechas_groupby_prev = fechas_groupby[fechas_groupby.SubtipoOrd=='Preventiva']"
   ],
   "outputs": [],
   "metadata": {}
  },
  {
   "cell_type": "code",
   "execution_count": null,
   "source": [
    "fechas_groupby_total = subtipo.groupby(['fecha_hechos'])['fk_euv'].count()\r\n",
    "fechas_groupby_total=pd.DataFrame(fechas_groupby_total.reset_index())\r\n",
    "total = pd.DataFrame(fechas_groupby_total.reset_index().groupby([pd.Grouper(freq='W', key='fecha_hechos')])['fk_euv'].sum()).reset_index()\r\n",
    "total['var'] = round(total['fk_euv'].pct_change()*100,2)\r\n",
    "inf = total[total['var'].isin([np.inf, -np.inf])].index\r\n",
    "total.loc[inf,'var']=100\r\n",
    "nan = total[total['var'].isin([np.nan])].index\r\n",
    "total.loc[nan,'var']=0\r\n",
    "total\r\n",
    "total"
   ],
   "outputs": [],
   "metadata": {}
  },
  {
   "cell_type": "code",
   "execution_count": null,
   "source": [
    "emer = pd.DataFrame(fechas_groupby_emer.reset_index().groupby([pd.Grouper(freq='W', key='fecha_hechos')])['fk_euv'].sum()).reset_index()\r\n",
    "emer['var'] = round(emer['fk_euv'].pct_change()*100,2)\r\n",
    "inf = emer[emer['var'].isin([np.inf, -np.inf])].index\r\n",
    "emer.loc[inf,'var']=100\r\n",
    "nan = emer[emer['var'].isin([np.nan])].index\r\n",
    "emer.loc[nan,'var']=0\r\n",
    "emer"
   ],
   "outputs": [],
   "metadata": {}
  },
  {
   "cell_type": "code",
   "execution_count": null,
   "source": [
    "prev = pd.DataFrame(fechas_groupby_prev.reset_index().groupby([pd.Grouper(freq='W', key='fecha_hechos')])['fk_euv'].sum()).reset_index()\r\n",
    "prev['var'] = round(prev['fk_euv'].pct_change()*100,2)\r\n",
    "inf = prev[prev['var'].isin([np.inf, -np.inf])].index\r\n",
    "prev.loc[inf,'var']=100\r\n",
    "nan = prev[prev['var'].isin([np.nan])].index\r\n",
    "prev.loc[nan,'var']=0\r\n",
    "prev"
   ],
   "outputs": [],
   "metadata": {}
  },
  {
   "cell_type": "code",
   "execution_count": null,
   "source": [
    "na = pd.DataFrame(fechas_groupby_na.reset_index().groupby([pd.Grouper(freq='W', key='fecha_hechos')])['fk_euv'].sum()).reset_index()\r\n",
    "na['var'] = round(na['fk_euv'].pct_change()*100,2)\r\n",
    "inf = na[na['var'].isin([np.inf, -np.inf])].index\r\n",
    "na.loc[inf,'var']=100\r\n",
    "nan = na[na['var'].isin([np.nan])].index\r\n",
    "na.loc[nan,'var']=0\r\n",
    "na"
   ],
   "outputs": [],
   "metadata": {}
  },
  {
   "cell_type": "code",
   "execution_count": null,
   "source": [
    "\"\"\"fig = px.line(prev, x=prev.fecha_hechos, y=\"fk_euv\", title='Grafica #. Variación de órdenes de proteccion por tipo', \r\n",
    "                markers=True,hover_data={\"var\": True}, labels={'fecha_hechos':'Fecha Hechos','SubtipoOrd':'Subtipo Orden','fk_euv':'Órdenes de protección'}, \r\n",
    "                range_x=['2015-01-01',max(semanas_groupby.fecha_hechos)], ) \"\"\"\r\n",
    "\r\n",
    "               \r\n",
    "fig = go.Figure()\r\n",
    "\r\n",
    "#fig.add_scatter(x=na.fecha_hechos, y=na.fk_euv, mode='lines+markers', name= 'No especificado')\r\n",
    "#fig.add_scatter(x=emer.fecha_hechos, y=emer.fk_euv, mode='lines+markers', name='Emergencia')\r\n",
    "#fig.add_scatter(x=prev.fecha_hechos, y=prev.fk_euv, mode='lines+markers', name='Preventiva')\r\n",
    "\r\n",
    "fig.add_trace(go.Scatter(\r\n",
    "        x=na.fecha_hechos,\r\n",
    "        y=na.fk_euv,\r\n",
    "        name='No especificado',\r\n",
    "        text=na['var'],\r\n",
    "        #hovertemplate=\r\n",
    "        #\"<b>%{text}</b><br><br>\" +\r\n",
    "        #\"GDP per Capita: %{x:$,.0f}<br>\" +\r\n",
    "        #\"Life Expectation: %{y:.0%}<br>\" +\r\n",
    "        #\"Population: %{marker.size:,}\" +\r\n",
    "        #\"<extra></extra>\",\r\n",
    "        #marker_size=continent['size'],\r\n",
    "        mode='markers+lines'\r\n",
    "        ))\r\n",
    "fig.add_trace(go.Scatter(\r\n",
    "        x=emer.fecha_hechos,\r\n",
    "        y=emer.fk_euv,\r\n",
    "        name='Emergencia',\r\n",
    "        text=emer['var'],\r\n",
    "        #hovertemplate=\r\n",
    "        #\"<b>%{text}</b><br><br>\" +\r\n",
    "        #\"GDP per Capita: %{x:$,.0f}<br>\" +\r\n",
    "        #\"Life Expectation: %{y:.0%}<br>\" +\r\n",
    "        #\"Population: %{marker.size:,}\" +\r\n",
    "        #\"<extra></extra>\",\r\n",
    "        #marker_size=continent['size'],\r\n",
    "        mode='markers+lines'\r\n",
    "        ))\r\n",
    "fig.add_trace(go.Scatter(\r\n",
    "        x=prev.fecha_hechos,\r\n",
    "        y=prev.fk_euv,\r\n",
    "        name='Preventiva',\r\n",
    "        text=prev['var'],\r\n",
    "        #hovertemplate=\r\n",
    "        #\"<b>%{text}</b><br><br>\" +\r\n",
    "        #\"GDP per Capita: %{x:$,.0f}<br>\" +\r\n",
    "        #\"Life Expectation: %{y:.0%}<br>\" +\r\n",
    "        #\"Population: %{marker.size:,}\" +\r\n",
    "        #\"<extra></extra>\",\r\n",
    "        #marker_size=continent['size'],\r\n",
    "        mode='markers+lines'\r\n",
    "        ))\r\n",
    "\r\n",
    "fig.add_trace(go.Scatter(\r\n",
    "        x=total.fecha_hechos,\r\n",
    "        y=total.fk_euv,\r\n",
    "        name='Total',\r\n",
    "        text=total['var'],\r\n",
    "        #hovertemplate=\r\n",
    "        #\"<b>%{text}</b><br><br>\" +\r\n",
    "        #\"GDP per Capita: %{x:$,.0f}<br>\" +\r\n",
    "        #\"Life Expectation: %{y:.0%}<br>\" +\r\n",
    "        #\"Population: %{marker.size:,}\" +\r\n",
    "        #\"<extra></extra>\",\r\n",
    "        #marker_size=continent['size'],\r\n",
    "        mode='markers+lines'\r\n",
    "        ))\r\n",
    "\r\n",
    "\r\n",
    "fig.update_xaxes(\r\n",
    "    rangeslider_visible=True,\r\n",
    "    rangeselector=dict(\r\n",
    "        buttons=list([\r\n",
    "            dict(count=1, label=\"1m\", step=\"month\", stepmode=\"backward\"),\r\n",
    "            dict(count=6, label=\"6m\", step=\"month\", stepmode=\"backward\"),\r\n",
    "            dict(count=1, label=\"YTD\", step=\"year\", stepmode=\"todate\"),\r\n",
    "            dict(count=1, label=\"1y\", step=\"year\", stepmode=\"backward\"),\r\n",
    "            #dict(step=\"all\")\r\n",
    "        ])\r\n",
    "    )\r\n",
    ")\r\n",
    "\r\n",
    "#print(\"plotly express hovertemplate:\", fig.data[0].hovertemplate)\r\n",
    "fig.update_traces(hovertemplate='Fecha hecho=%{x}<br>Órdenes registradas=%{y}<br>Variación=%{text}%<extra></extra>',)\r\n",
    "fig.update_xaxes(range=['2015-01-01',max(semanas_groupby.fecha_hechos)])\r\n",
    "fig.update_layout(\r\n",
    "    title=\"Grafica #. Variación de órdenes de proteccion por tipo\",xaxis_title=\"Fecha Hechos\", yaxis_title=\"Órdenes de Protección\")\r\n",
    "#fig.update_xaxes(type=\"log\")\r\n",
    "#pio.write_html(fig, file='../docs/figs/indicador_municipal_timeline_subtipo.html', include_plotlyjs='cdn', full_html=False)\r\n",
    "fig.show()"
   ],
   "outputs": [],
   "metadata": {}
  },
  {
   "cell_type": "code",
   "execution_count": null,
   "source": [],
   "outputs": [],
   "metadata": {}
  }
 ],
 "metadata": {
  "orig_nbformat": 4,
  "language_info": {
   "name": "python",
   "version": "3.8.5",
   "mimetype": "text/x-python",
   "codemirror_mode": {
    "name": "ipython",
    "version": 3
   },
   "pygments_lexer": "ipython3",
   "nbconvert_exporter": "python",
   "file_extension": ".py"
  },
  "kernelspec": {
   "name": "python3",
   "display_name": "Python 3.8.5 64-bit ('base': conda)"
  },
  "interpreter": {
   "hash": "76e3749c4d8f143b85e17554ce3ae58a0fcf4212a15be7e0134aaba6048266e3"
  }
 },
 "nbformat": 4,
 "nbformat_minor": 2
}